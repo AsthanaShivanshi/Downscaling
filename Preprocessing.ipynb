{
 "cells": [
  {
   "cell_type": "code",
   "execution_count": null,
   "metadata": {},
   "outputs": [],
   "source": [
    "#Regridding files to 12 kms resolution (not conservatively remapped for now)\n",
    "import os\n",
    "import subprocess\n",
    "\n",
    "#Loading the data and specifying the directories\n",
    "input_dir = 'data/Targets_RhiresD_TabsD/Averages_targets/TabsD_61_2000.ch01r.swiss.lv95'\n",
    "output_dir = '/Users/sasthana/Documents/Downscaling/data/Inputs_regridded_RhiresD_TabsD'\n",
    "\n",
    "#Defining the grid resolution file in .txt format\n",
    "resolution_spec_file= '/Users/sasthana/Documents/Downscaling/data/grid_12_kms_file.txt'\n",
    "\n",
    "for filename in os.listdir(input_dir):\n",
    "    #Regridding loop after confirming files exist and are accessible\n",
    "    if filename.endswith(\".nc\"):\n",
    "        in_file = os.path.join(input_dir, filename)\n",
    "        out_file= os.path.join(output_dir, f\"remapped_{filename}\")\n",
    "\n",
    "    #Using cdo for remapping using bilinear interpolation\n",
    "        cdo_command = [\n",
    "                'cdo', \n",
    "                'remapbil,' + resolution_spec_file, \n",
    "                in_file, \n",
    "                out_file\n",
    "            ]\n",
    "        try:\n",
    "            subprocess.run(cdo_command, check=True)\n",
    "            print(f'regridding successfor {filename}')\n",
    "            #Exception Handling\n",
    "        except subprocess.CalledProcessError as e:\n",
    "            print(f'Error regridding {filename}: {e}')"
   ]
  },
  {
   "cell_type": "code",
   "execution_count": null,
   "metadata": {},
   "outputs": [],
   "source": []
  }
 ],
 "metadata": {
  "kernelspec": {
   "display_name": "Python 3",
   "language": "python",
   "name": "python3"
  },
  "language_info": {
   "codemirror_mode": {
    "name": "ipython",
    "version": 3
   },
   "file_extension": ".py",
   "mimetype": "text/x-python",
   "name": "python",
   "nbconvert_exporter": "python",
   "pygments_lexer": "ipython3",
   "version": "3.9.6"
  }
 },
 "nbformat": 4,
 "nbformat_minor": 2
}
