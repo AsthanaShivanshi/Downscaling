{
 "cells": [
  {
   "cell_type": "markdown",
   "id": "79039f7f",
   "metadata": {},
   "source": [
    "•\tNeed for checking what the KS test for gaussian renders for each grid point for every season (two colours gridded, rejected vs accepted nul hypothesis)"
   ]
  },
  {
   "cell_type": "code",
   "execution_count": 1,
   "id": "aa8b246f",
   "metadata": {},
   "outputs": [],
   "source": [
    "import sys\n",
    "sys.path.append(\"/work/FAC/FGSE/IDYST/tbeucler/downscaling/sasthana/Downscaling/Downscaling/Scripts/Functions\")\n",
    "from dependencies import *"
   ]
  },
  {
   "cell_type": "code",
   "execution_count": 2,
   "id": "402f355a",
   "metadata": {},
   "outputs": [],
   "source": [
    "ds1 = xr.open_dataset(\"/work/FAC/FGSE/IDYST/tbeucler/downscaling/sasthana/Downscaling/Downscaling/data/processed/Bicubic/Train/targets_tas_masked_train.nc\", chunks={\"time\": 100})\n",
    "ds2=xr.open_dataset(\"/work/FAC/FGSE/IDYST/tbeucler/downscaling/sasthana/Downscaling/Downscaling/data/processed/Bicubic/Train/targets_precip_masked_train.nc\", chunks={\"time\": 100})"
   ]
  },
  {
   "cell_type": "code",
   "execution_count": 3,
   "id": "bdc2c4ff",
   "metadata": {},
   "outputs": [],
   "source": [
    "TabsD = ds1['TabsD']\n",
    "RhiresD= ds2[\"RhiresD\"]"
   ]
  },
  {
   "cell_type": "markdown",
   "id": "4e61382b",
   "metadata": {},
   "source": [
    "#Masking NaNs for latitudes and longitudes"
   ]
  },
  {
   "cell_type": "code",
   "execution_count": 4,
   "id": "3fc2b1a4",
   "metadata": {},
   "outputs": [],
   "source": [
    "lon = TabsD.lon\n",
    "lat = TabsD.lat\n",
    "mask = np.isnan(lon) | np.isnan(lat)\n",
    "TabsD_gridded = TabsD.where(~mask)\n",
    "RhiresD_gridded = RhiresD.where(~mask)"
   ]
  },
  {
   "cell_type": "markdown",
   "id": "a406998c",
   "metadata": {},
   "source": [
    "Masking for only wet days TabsD and RhiresD\n"
   ]
  },
  {
   "cell_type": "code",
   "execution_count": 5,
   "id": "fc9213d5",
   "metadata": {},
   "outputs": [],
   "source": [
    "TabsD_wet= TabsD_gridded.where(RhiresD_gridded>=0.1)\n",
    "RhiresD_wet=RhiresD_gridded.where(RhiresD_gridded>=0.1)"
   ]
  },
  {
   "cell_type": "code",
   "execution_count": 6,
   "id": "3f52d29d",
   "metadata": {},
   "outputs": [],
   "source": [
    "# Select only JJA wet days\n",
    "TabsD_wet_JJA = TabsD_wet.sel(time=TabsD_wet['time'].dt.month.isin([6, 7, 8]))\n",
    "RhiresD_wet_JJA = RhiresD_wet.sel(time=RhiresD_wet['time'].dt.month.isin([6, 7, 8]))"
   ]
  },
  {
   "cell_type": "markdown",
   "id": "6d1739df",
   "metadata": {},
   "source": [
    "Above two time series render 18993 datapoints for every grid cell for gridded TabsD and RhiresD"
   ]
  },
  {
   "cell_type": "markdown",
   "id": "f53b3396",
   "metadata": {},
   "source": [
    "MLE parameters for Precipitation "
   ]
  },
  {
   "cell_type": "code",
   "execution_count": null,
   "id": "f440743a",
   "metadata": {},
   "outputs": [],
   "source": []
  }
 ],
 "metadata": {
  "kernelspec": {
   "display_name": "MyPythonEnvironment",
   "language": "python",
   "name": "python3"
  },
  "language_info": {
   "codemirror_mode": {
    "name": "ipython",
    "version": 3
   },
   "file_extension": ".py",
   "mimetype": "text/x-python",
   "name": "python",
   "nbconvert_exporter": "python",
   "pygments_lexer": "ipython3",
   "version": "3.12.1"
  }
 },
 "nbformat": 4,
 "nbformat_minor": 5
}
