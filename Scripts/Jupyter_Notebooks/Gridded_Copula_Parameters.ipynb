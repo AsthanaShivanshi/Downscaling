{
 "cells": [
  {
   "cell_type": "markdown",
   "id": "79039f7f",
   "metadata": {},
   "source": [
    "•\tNeed for checking what the KS test for gaussian renders for each grid point for every season (two colours gridded, rejected vs accepted nul hypothesis)"
   ]
  },
  {
   "cell_type": "code",
   "execution_count": 1,
   "id": "aa8b246f",
   "metadata": {},
   "outputs": [],
   "source": [
    "import sys\n",
    "sys.path.append(\"/work/FAC/FGSE/IDYST/tbeucler/downscaling/sasthana/Downscaling/Downscaling/Scripts/Functions\")\n",
    "from dependencies import *"
   ]
  },
  {
   "cell_type": "code",
   "execution_count": 2,
   "id": "402f355a",
   "metadata": {},
   "outputs": [],
   "source": [
    "ds1 = xr.open_dataset(\"/work/FAC/FGSE/IDYST/tbeucler/downscaling/sasthana/Downscaling/Downscaling/data/processed/Bicubic/Train/targets_tas_masked_train.nc\", chunks={\"time\": 100})\n",
    "ds2=xr.open_dataset(\"/work/FAC/FGSE/IDYST/tbeucler/downscaling/sasthana/Downscaling/Downscaling/data/processed/Bicubic/Train/targets_precip_masked_train.nc\", chunks={\"time\": 100})"
   ]
  },
  {
   "cell_type": "code",
   "execution_count": 3,
   "id": "bdc2c4ff",
   "metadata": {},
   "outputs": [],
   "source": [
    "TabsD = ds1['TabsD']\n",
    "RhiresD= ds2[\"RhiresD\"]"
   ]
  },
  {
   "cell_type": "markdown",
   "id": "4e61382b",
   "metadata": {},
   "source": [
    "#Masking NaNs for latitudes and longitudes"
   ]
  },
  {
   "cell_type": "code",
   "execution_count": 4,
   "id": "3fc2b1a4",
   "metadata": {},
   "outputs": [],
   "source": [
    "lon = TabsD.lon\n",
    "lat = TabsD.lat\n",
    "mask = np.isnan(lon) | np.isnan(lat)\n",
    "TabsD_gridded = TabsD.where(~mask)\n",
    "RhiresD_gridded = RhiresD.where(~mask)"
   ]
  },
  {
   "cell_type": "markdown",
   "id": "a406998c",
   "metadata": {},
   "source": [
    "Masking for only wet days TabsD and RhiresD\n"
   ]
  },
  {
   "cell_type": "code",
   "execution_count": 5,
   "id": "fc9213d5",
   "metadata": {},
   "outputs": [],
   "source": [
    "TabsD_wet= TabsD_gridded.where(RhiresD_gridded>=0.1)\n",
    "RhiresD_wet=RhiresD_gridded.where(RhiresD_gridded>=0.1)"
   ]
  },
  {
   "cell_type": "code",
   "execution_count": 6,
   "id": "3f52d29d",
   "metadata": {},
   "outputs": [],
   "source": [
    "# Select only JJA wet days\n",
    "TabsD_wet_JJA = TabsD_wet.sel(time=TabsD_wet['time'].dt.month.isin([6, 7, 8]))\n",
    "RhiresD_wet_JJA = RhiresD_wet.sel(time=RhiresD_wet['time'].dt.month.isin([6, 7, 8]))"
   ]
  },
  {
   "cell_type": "markdown",
   "id": "6d1739df",
   "metadata": {},
   "source": [
    "Above two time series render 18993 datapoints for every grid cell for gridded TabsD and RhiresD"
   ]
  },
  {
   "cell_type": "markdown",
   "id": "f53b3396",
   "metadata": {},
   "source": [
    "MLE parameters for temperature "
   ]
  },
  {
   "cell_type": "code",
   "execution_count": null,
   "id": "94b52bda",
   "metadata": {},
   "outputs": [],
   "source": [
    "#Mean\n",
    "Mu_TabsD_JJA= TabsD_wet_JJA.mean(dim=\"time\", skipna=True) \n",
    "Sigma_TabsD_JJA=TabsD_wet_JJA.std(dim=\"time\", ddof=0, skipna=True) "
   ]
  },
  {
   "cell_type": "markdown",
   "id": "2e672400",
   "metadata": {},
   "source": [
    "Both arrays of size 265x370"
   ]
  },
  {
   "cell_type": "markdown",
   "id": "fe8872c6",
   "metadata": {},
   "source": [
    "Calculating KS statistic for each grid point, along with p value for plotting the grid cells where the hypothesis is accepted/rejected"
   ]
  },
  {
   "cell_type": "code",
   "execution_count": 8,
   "id": "d56674bc",
   "metadata": {},
   "outputs": [],
   "source": [
    "from KS_Test import Kalmogorov_Smirnov_gridded"
   ]
  },
  {
   "cell_type": "code",
   "execution_count": 9,
   "id": "964a1396",
   "metadata": {},
   "outputs": [
    {
     "name": "stdout",
     "output_type": "stream",
     "text": [
      "[########################################] | 100% Completed | 15.75 s\n",
      "[########################################] | 100% Completed | 14.22 s\n",
      "[########################################] | 100% Completed | 14.73 s\n",
      "[                                        ] | 0% Completed | 171.69 us"
     ]
    },
    {
     "name": "stderr",
     "output_type": "stream",
     "text": [
      "/work/FAC/FGSE/IDYST/tbeucler/downscaling/sasthana/MyPythonEnvironment/lib/python3.12/site-packages/dask/array/numpy_compat.py:57: RuntimeWarning: invalid value encountered in divide\n",
      "  x = np.divide(x1, x2, out)\n"
     ]
    },
    {
     "name": "stdout",
     "output_type": "stream",
     "text": [
      "[########################################] | 100% Completed | 15.13 s\n",
      "[########################################] | 100% Completed | 14.62 s\n",
      "[########################################] | 100% Completed | 14.83 s\n",
      "[########################################] | 100% Completed | 15.22 s\n",
      "[########################################] | 100% Completed | 14.52 s\n",
      "[########################################] | 100% Completed | 14.73 s\n",
      "[########################################] | 100% Completed | 14.82 s\n",
      "[########################################] | 100% Completed | 14.62 s\n",
      "[########################################] | 100% Completed | 14.72 s\n",
      "[########################################] | 100% Completed | 15.17 s\n",
      "[########################################] | 100% Completed | 14.51 s\n",
      "[########################################] | 100% Completed | 14.52 s\n",
      "[########################################] | 100% Completed | 15.03 s\n",
      "[########################################] | 100% Completed | 14.32 s\n",
      "[########################################] | 100% Completed | 14.63 s\n",
      "[########################################] | 100% Completed | 15.02 s\n",
      "[########################################] | 100% Completed | 14.32 s\n",
      "[########################################] | 100% Completed | 14.73 s\n",
      "[########################################] | 100% Completed | 14.83 s\n",
      "[########################################] | 100% Completed | 14.33 s\n",
      "[########################################] | 100% Completed | 14.42 s\n",
      "[########################################] | 100% Completed | 14.93 s\n",
      "[########################################] | 100% Completed | 14.32 s\n",
      "[########################################] | 100% Completed | 14.73 s\n",
      "[########################################] | 100% Completed | 15.13 s\n",
      "[########################################] | 100% Completed | 14.73 s\n",
      "[########################################] | 100% Completed | 14.64 s\n",
      "[########################################] | 100% Completed | 15.22 s\n",
      "[########################################] | 100% Completed | 14.63 s\n",
      "[########################################] | 100% Completed | 14.44 s\n",
      "[########################################] | 100% Completed | 15.23 s\n",
      "[########################################] | 100% Completed | 14.53 s\n",
      "[########################################] | 100% Completed | 14.67 s\n",
      "[########################################] | 100% Completed | 14.94 s\n",
      "[########################################] | 100% Completed | 14.53 s\n",
      "[########################################] | 100% Completed | 14.64 s\n",
      "[########################################] | 100% Completed | 15.23 s\n",
      "[########################################] | 100% Completed | 14.32 s\n",
      "[########################################] | 100% Completed | 14.63 s\n",
      "[########################################] | 100% Completed | 15.12 s\n",
      "[########################################] | 100% Completed | 14.44 s\n",
      "[########################################] | 100% Completed | 14.64 s\n",
      "[########################################] | 100% Completed | 15.04 s\n",
      "[########################################] | 100% Completed | 14.54 s\n",
      "[########################################] | 100% Completed | 14.61 s\n",
      "[########################################] | 100% Completed | 14.93 s\n",
      "[########################################] | 100% Completed | 14.24 s\n",
      "[########################################] | 100% Completed | 14.44 s\n",
      "[########################################] | 100% Completed | 14.94 s\n",
      "[########################################] | 100% Completed | 14.53 s\n",
      "[########################################] | 100% Completed | 14.74 s\n",
      "[########################################] | 100% Completed | 15.03 s\n",
      "[########################################] | 100% Completed | 14.43 s\n",
      "[########################################] | 100% Completed | 14.14 s\n",
      "[########################################] | 100% Completed | 14.83 s\n",
      "[########################################] | 100% Completed | 14.53 s\n",
      "[########################################] | 100% Completed | 14.47 s\n",
      "[########################################] | 100% Completed | 15.04 s\n",
      "[########################################] | 100% Completed | 14.63 s\n",
      "[########################################] | 100% Completed | 14.93 s\n",
      "[########################################] | 100% Completed | 15.14 s\n",
      "[########################################] | 100% Completed | 14.44 s\n",
      "[########################################] | 100% Completed | 14.94 s\n",
      "[####################################### ] | 99% Completed | 15.03 ss"
     ]
    },
    {
     "ename": "",
     "evalue": "",
     "output_type": "error",
     "traceback": [
      "\u001b[1;31mThe Kernel crashed while executing code in the current cell or a previous cell. \n",
      "\u001b[1;31mPlease review the code in the cell(s) to identify a possible cause of the failure. \n",
      "\u001b[1;31mClick <a href='https://aka.ms/vscodeJupyterKernelCrash'>here</a> for more info. \n",
      "\u001b[1;31mView Jupyter <a href='command:jupyter.viewOutput'>log</a> for further details."
     ]
    }
   ],
   "source": [
    "KS_Stat, p_val_ks_stat = Kalmogorov_Smirnov_gridded(TabsD_wet_JJA, Mu_TabsD_JJA, Sigma_TabsD_JJA, data_path=ds1,block_size=20)"
   ]
  },
  {
   "cell_type": "markdown",
   "id": "3e29ad07",
   "metadata": {},
   "source": [
    "Runtime of above cell for Swiss domain for 1 km files : "
   ]
  },
  {
   "cell_type": "code",
   "execution_count": null,
   "id": "df8bbd25",
   "metadata": {},
   "outputs": [],
   "source": []
  },
  {
   "cell_type": "markdown",
   "id": "438764b9",
   "metadata": {},
   "source": [
    "KS test gridded : Gamma (no seasonal separation)"
   ]
  },
  {
   "cell_type": "code",
   "execution_count": null,
   "id": "d10f0d3e",
   "metadata": {},
   "outputs": [],
   "source": []
  },
  {
   "cell_type": "code",
   "execution_count": null,
   "id": "dd4cd0e3",
   "metadata": {},
   "outputs": [],
   "source": []
  },
  {
   "cell_type": "code",
   "execution_count": null,
   "id": "e0d41e84",
   "metadata": {},
   "outputs": [],
   "source": []
  },
  {
   "cell_type": "code",
   "execution_count": null,
   "id": "b0b20f2c",
   "metadata": {},
   "outputs": [],
   "source": []
  },
  {
   "cell_type": "code",
   "execution_count": null,
   "id": "118f11e0",
   "metadata": {},
   "outputs": [],
   "source": []
  },
  {
   "cell_type": "code",
   "execution_count": null,
   "id": "9403d4d4",
   "metadata": {},
   "outputs": [],
   "source": []
  },
  {
   "cell_type": "markdown",
   "id": "35a39a32",
   "metadata": {},
   "source": [
    "Kendall`s Tau : gridded (no seasonal separation)"
   ]
  },
  {
   "cell_type": "code",
   "execution_count": null,
   "id": "346f071b",
   "metadata": {},
   "outputs": [],
   "source": []
  },
  {
   "cell_type": "code",
   "execution_count": null,
   "id": "8541afaf",
   "metadata": {},
   "outputs": [],
   "source": []
  },
  {
   "cell_type": "code",
   "execution_count": null,
   "id": "56a0c0ed",
   "metadata": {},
   "outputs": [],
   "source": []
  },
  {
   "cell_type": "code",
   "execution_count": null,
   "id": "96f190d9",
   "metadata": {},
   "outputs": [],
   "source": []
  },
  {
   "cell_type": "code",
   "execution_count": null,
   "id": "8216f8d2",
   "metadata": {},
   "outputs": [],
   "source": []
  },
  {
   "cell_type": "markdown",
   "id": "d7100684",
   "metadata": {},
   "source": []
  },
  {
   "cell_type": "markdown",
   "id": "4382ea90",
   "metadata": {},
   "source": [
    "Spearman`s rho : gridded (no seasonal separation)"
   ]
  },
  {
   "cell_type": "markdown",
   "id": "768b59cd",
   "metadata": {},
   "source": []
  }
 ],
 "metadata": {
  "kernelspec": {
   "display_name": "MyPythonEnvironment",
   "language": "python",
   "name": "python3"
  },
  "language_info": {
   "codemirror_mode": {
    "name": "ipython",
    "version": 3
   },
   "file_extension": ".py",
   "mimetype": "text/x-python",
   "name": "python",
   "nbconvert_exporter": "python",
   "pygments_lexer": "ipython3",
   "version": "3.12.1"
  }
 },
 "nbformat": 4,
 "nbformat_minor": 5
}
