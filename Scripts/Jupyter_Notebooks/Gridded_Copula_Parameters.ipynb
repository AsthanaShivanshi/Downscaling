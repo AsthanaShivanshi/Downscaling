{
 "cells": [
  {
   "cell_type": "markdown",
   "id": "79039f7f",
   "metadata": {},
   "source": [
    "•\tNeed for checking what the KS test for gaussian renders for each grid point for every season (two colours gridded, rejected vs accepted nul hypothesis)"
   ]
  },
  {
   "cell_type": "code",
   "execution_count": 14,
   "id": "aa8b246f",
   "metadata": {},
   "outputs": [],
   "source": [
    "import sys\n",
    "sys.path.append(\"/work/FAC/FGSE/IDYST/tbeucler/downscaling/sasthana/Downscaling/Downscaling/Scripts/Functions\")\n",
    "from dependencies import *"
   ]
  },
  {
   "cell_type": "code",
   "execution_count": 2,
   "id": "bdc2c4ff",
   "metadata": {},
   "outputs": [],
   "source": [
    "ds1=xr.open_dataset(\"/work/FAC/FGSE/IDYST/tbeucler/downscaling/sasthana/Downscaling/Downscaling/data/raw/TabsD_1971_2022.nc\")\n",
    "ds2=xr.open_dataset(\"/work/FAC/FGSE/IDYST/tbeucler/downscaling/sasthana/Downscaling/Downscaling/data/raw/RhiresD_1971_2022.nc\")\n",
    "TabsD = ds1['TabsD']\n",
    "RhiresD= ds2[\"RhiresD\"]"
   ]
  },
  {
   "cell_type": "code",
   "execution_count": 3,
   "id": "4e61382b",
   "metadata": {},
   "outputs": [],
   "source": [
    "#Masking NaNs for latitudes and longitudes"
   ]
  },
  {
   "cell_type": "code",
   "execution_count": 4,
   "id": "3fc2b1a4",
   "metadata": {},
   "outputs": [],
   "source": [
    "lon = TabsD.lon\n",
    "lat = TabsD.lat\n",
    "mask = np.isnan(lon) | np.isnan(lat)\n",
    "TabsD_gridded = TabsD.where(~mask)\n",
    "RhiresD_gridded = RhiresD.where(~mask)"
   ]
  },
  {
   "cell_type": "markdown",
   "id": "a406998c",
   "metadata": {},
   "source": [
    "Masking for only wet days TabsD and RhiresD\n"
   ]
  },
  {
   "cell_type": "code",
   "execution_count": 5,
   "id": "ace6ac86",
   "metadata": {},
   "outputs": [],
   "source": [
    "TabsD_gridded= TabsD_gridded.chunk({\"time\":100})\n",
    "RhiresD_gridded=RhiresD_gridded.chunk({\"time\":100})"
   ]
  },
  {
   "cell_type": "code",
   "execution_count": 6,
   "id": "fc9213d5",
   "metadata": {},
   "outputs": [],
   "source": [
    "TabsD_wet= TabsD_gridded.where(RhiresD_gridded>=0.1)\n",
    "RhiresD_wet=RhiresD_gridded.where(RhiresD_gridded>=0.1)"
   ]
  },
  {
   "cell_type": "markdown",
   "id": "6d1739df",
   "metadata": {},
   "source": [
    "Above two time series render 18993 datapoints for every grid cell for gridded TabsD and RhiresD"
   ]
  },
  {
   "cell_type": "markdown",
   "id": "f53b3396",
   "metadata": {},
   "source": [
    "MLE parameters for temperature "
   ]
  },
  {
   "cell_type": "code",
   "execution_count": 10,
   "id": "94b52bda",
   "metadata": {},
   "outputs": [],
   "source": [
    "#Mean\n",
    "Mu_TabsD= TabsD_wet.mean(dim=\"time\", skipna=True) \n",
    "Sigma_TabsD=TabsD_wet.std(dim=\"time\", ddof=0, skipna=True) #Degrees of freedom =0 to have the MLE estimator"
   ]
  },
  {
   "cell_type": "markdown",
   "id": "2e672400",
   "metadata": {},
   "source": [
    "Both arrays of size 265x370"
   ]
  },
  {
   "cell_type": "markdown",
   "id": "fe8872c6",
   "metadata": {},
   "source": [
    "Calculating KS statistic for each grid point, along with p value for plotting the grid cells where the hypothesis is accepted/rejected"
   ]
  },
  {
   "cell_type": "code",
   "execution_count": null,
   "id": "d56674bc",
   "metadata": {},
   "outputs": [],
   "source": []
  },
  {
   "cell_type": "code",
   "execution_count": null,
   "id": "964a1396",
   "metadata": {},
   "outputs": [],
   "source": []
  }
 ],
 "metadata": {
  "kernelspec": {
   "display_name": "MyPythonEnvironment",
   "language": "python",
   "name": "python3"
  },
  "language_info": {
   "codemirror_mode": {
    "name": "ipython",
    "version": 3
   },
   "file_extension": ".py",
   "mimetype": "text/x-python",
   "name": "python",
   "nbconvert_exporter": "python",
   "pygments_lexer": "ipython3",
   "version": "3.12.1"
  }
 },
 "nbformat": 4,
 "nbformat_minor": 5
}
