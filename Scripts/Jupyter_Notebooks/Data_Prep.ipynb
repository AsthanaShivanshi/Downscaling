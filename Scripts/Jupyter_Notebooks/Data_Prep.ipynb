{
 "cells": [
  {
   "cell_type": "markdown",
   "id": "59cbadfd",
   "metadata": {},
   "source": [
    "!!!!!!!!!!!!!!!!!!!!!!!!!!!!!!!!!This script contains maskign code before standardisation. however standardisation of inputs and targets was performed before the interpoléated baselines were generated via CDO for bilinear and bicubic and then masked so that they only retain the Swiss Domain"
   ]
  },
  {
   "cell_type": "markdown",
   "id": "3f882966",
   "metadata": {},
   "source": [
    "Workflow : Bilinear interpolation, bicubic interpolation, Masking to retain only the swiss domain, splitting into train, test val, gridded RMSE R2, pooled RMSE, R2"
   ]
  },
  {
   "cell_type": "code",
   "execution_count": 1,
   "id": "a0cc5ad9",
   "metadata": {},
   "outputs": [],
   "source": [
    "from dependencies import *\n",
    "import sys\n",
    "sys.path.append(\"/work/FAC/FGSE/IDYST/tbeucler/downscaling/sasthana/Downscaling/Downscaling/Scripts/Functions\")"
   ]
  },
  {
   "cell_type": "code",
   "execution_count": null,
   "id": "974f0555",
   "metadata": {},
   "outputs": [
    {
     "name": "stdout",
     "output_type": "stream",
     "text": [
      "<Client: 'tcp://127.0.0.1:34705' processes=4 threads=4, memory=503.49 GiB>\n"
     ]
    },
    {
     "name": "stderr",
     "output_type": "stream",
     "text": [
      "2025-05-09 11:49:01,793 - distributed.scheduler - WARNING - Removing worker 'tcp://127.0.0.1:41593' caused the cluster to lose already computed task(s), which will be recomputed elsewhere: {('shuffle-split-13d6dd49173a41f76cbc315063e30090', 6054), ('shuffle-split-13d6dd49173a41f76cbc315063e30090', 9172), ('shuffle-split-13d6dd49173a41f76cbc315063e30090', 541), ('shuffle-split-13d6dd49173a41f76cbc315063e30090', 7860), ('shuffle-split-13d6dd49173a41f76cbc315063e30090', 5645), ('shuffle-split-13d6dd49173a41f76cbc315063e30090', 6548), ('shuffle-split-13d6dd49173a41f76cbc315063e30090', 4104), ('shuffle-split-13d6dd49173a41f76cbc315063e30090', 2383), ('shuffle-split-13d6dd49173a41f76cbc315063e30090', 5501), ('shuffle-split-13d6dd49173a41f76cbc315063e30090', 1071), ('shuffle-split-13d6dd49173a41f76cbc315063e30090', 3057), ('shuffle-split-13d6dd49173a41f76cbc315063e30090', 3960), ('shuffle-split-13d6dd49173a41f76cbc315063e30090', 662), ('shuffle-split-13d6dd49173a41f76cbc315063e30090', 7752), ('shuffle-split-13d6dd49173a41f76cbc315063e30090', 4225), ('open_dataset-tas-dd3a1b3e56343af6cbf01a3769b8fe71', 48, 0, 0), ('shuffle-split-13d6dd49173a41f76cbc315063e30090', 2913), ('shuffle-split-13d6dd49173a41f76cbc315063e30090', 6934), ('shuffle-split-13d6dd49173a41f76cbc315063e30090', 1601), ('shuffle-split-13d6dd49173a41f76cbc315063e30090', 5622), ('shuffle-split-13d6dd49173a41f76cbc315063e30090', 9185), ('shuffle-split-13d6dd49173a41f76cbc315063e30090', 819), ('shuffle-split-13d6dd49173a41f76cbc315063e30090', 4611), ('open_dataset-tas-dd3a1b3e56343af6cbf01a3769b8fe71', 31, 0, 0), ('shuffle-split-13d6dd49173a41f76cbc315063e30090', 1313), ('shuffle-split-13d6dd49173a41f76cbc315063e30090', 3299), ('shuffle-split-13d6dd49173a41f76cbc315063e30090', 6417), ('shuffle-split-13d6dd49173a41f76cbc315063e30090', 8403), ('shuffle-split-13d6dd49173a41f76cbc315063e30090', 6008), ('shuffle-split-13d6dd49173a41f76cbc315063e30090', 6682), ('shuffle-split-13d6dd49173a41f76cbc315063e30090', 5370), ('shuffle-split-13d6dd49173a41f76cbc315063e30090', 6044), ('shuffle-split-13d6dd49173a41f76cbc315063e30090', 2517), ('shuffle-split-13d6dd49173a41f76cbc315063e30090', 4323), ('shuffle-split-13d6dd49173a41f76cbc315063e30090', 8789), ('shuffle-split-13d6dd49173a41f76cbc315063e30090', 2602), ('shuffle-split-13d6dd49173a41f76cbc315063e30090', 5491), ('shuffle-split-13d6dd49173a41f76cbc315063e30090', 1290), ('shuffle-split-13d6dd49173a41f76cbc315063e30090', 6394), ('shuffle-split-13d6dd49173a41f76cbc315063e30090', 6165), ('shuffle-split-13d6dd49173a41f76cbc315063e30090', 1555), ('shuffle-split-13d6dd49173a41f76cbc315063e30090', 6659), ('shuffle-split-13d6dd49173a41f76cbc315063e30090', 3132), ('shuffle-split-13d6dd49173a41f76cbc315063e30090', 2903), ('shuffle-split-13d6dd49173a41f76cbc315063e30090', 6695), ('shuffle-split-13d6dd49173a41f76cbc315063e30090', 7827), ('shuffle-split-13d6dd49173a41f76cbc315063e30090', 5383), ('shuffle-split-13d6dd49173a41f76cbc315063e30090', 2988), ('shuffle-split-13d6dd49173a41f76cbc315063e30090', 1676), ('shuffle-split-13d6dd49173a41f76cbc315063e30090', 6551), ('shuffle-split-13d6dd49173a41f76cbc315063e30090', 1038), ('shuffle-split-13d6dd49173a41f76cbc315063e30090', 3927), ('shuffle-split-13d6dd49173a41f76cbc315063e30090', 629), ('shuffle-split-13d6dd49173a41f76cbc315063e30090', 2615), ('shuffle-split-13d6dd49173a41f76cbc315063e30090', 400), ('shuffle-split-13d6dd49173a41f76cbc315063e30090', 8213), ('shuffle-split-13d6dd49173a41f76cbc315063e30090', 2880), ('shuffle-split-13d6dd49173a41f76cbc315063e30090', 665), ('shuffle-split-13d6dd49173a41f76cbc315063e30090', 7984), ('shuffle-split-13d6dd49173a41f76cbc315063e30090', 6901), ('shuffle-split-13d6dd49173a41f76cbc315063e30090', 4686), ('shuffle-split-13d6dd49173a41f76cbc315063e30090', 2471), ('shuffle-split-13d6dd49173a41f76cbc315063e30090', 4457), ('shuffle-split-13d6dd49173a41f76cbc315063e30090', 3374), ('shuffle-split-13d6dd49173a41f76cbc315063e30090', 1159), ('shuffle-split-13d6dd49173a41f76cbc315063e30090', 2736), ('shuffle-split-13d6dd49173a41f76cbc315063e30090', 5625), ('shuffle-split-13d6dd49173a41f76cbc315063e30090', 2327), ('shuffle-split-13d6dd49173a41f76cbc315063e30090', 4313), ('shuffle-split-13d6dd49173a41f76cbc315063e30090', 9008), ('shuffle-split-13d6dd49173a41f76cbc315063e30090', 4578), ('shuffle-split-13d6dd49173a41f76cbc315063e30090', 2363), ('shuffle-split-13d6dd49173a41f76cbc315063e30090', 5481), ('shuffle-split-13d6dd49173a41f76cbc315063e30090', 1280), ('shuffle-split-13d6dd49173a41f76cbc315063e30090', 8599), ('shuffle-split-13d6dd49173a41f76cbc315063e30090', 4169), ('shuffle-split-13d6dd49173a41f76cbc315063e30090', 7058), ('shuffle-split-13d6dd49173a41f76cbc315063e30090', 1136), ('shuffle-split-13d6dd49173a41f76cbc315063e30090', 8226), ('shuffle-split-13d6dd49173a41f76cbc315063e30090', 4928), ('shuffle-split-13d6dd49173a41f76cbc315063e30090', 7817), ('shuffle-split-13d6dd49173a41f76cbc315063e30090', 7588), ('shuffle-split-13d6dd49173a41f76cbc315063e30090', 1401), ('shuffle-split-13d6dd49173a41f76cbc315063e30090', 89), ('shuffle-split-13d6dd49173a41f76cbc315063e30090', 2978), ('shuffle-split-13d6dd49173a41f76cbc315063e30090', 8082), ('shuffle-split-13d6dd49173a41f76cbc315063e30090', 8347), ('shuffle-split-13d6dd49173a41f76cbc315063e30090', 2834), ('shuffle-split-13d6dd49173a41f76cbc315063e30090', 6626), ('shuffle-split-13d6dd49173a41f76cbc315063e30090', 8612), ('shuffle-split-13d6dd49173a41f76cbc315063e30090', 2196), ('shuffle-split-13d6dd49173a41f76cbc315063e30090', 3099), ('shuffle-split-13d6dd49173a41f76cbc315063e30090', 5085), ('shuffle-split-13d6dd49173a41f76cbc315063e30090', 884), ('shuffle-split-13d6dd49173a41f76cbc315063e30090', 5988), ('shuffle-split-13d6dd49173a41f76cbc315063e30090', 7974), ('shuffle-split-13d6dd49173a41f76cbc315063e30090', 3773), ('shuffle-split-13d6dd49173a41f76cbc315063e30090', 8877), ('shuffle-split-13d6dd49173a41f76cbc315063e30090', 4676), ('shuffle-split-13d6dd49173a41f76cbc315063e30090', 475), ('shuffle-split-13d6dd49173a41f76cbc315063e30090', 1149), ('shuffle-split-13d6dd49173a41f76cbc315063e30090', 2955), ('shuffle-split-13d6dd49173a41f76cbc315063e30090', 4941), ('shuffle-split-13d6dd49173a41f76cbc315063e30090', 4532), ('shuffle-split-13d6dd49173a41f76cbc315063e30090', 7012), ('shuffle-split-13d6dd49173a41f76cbc315063e30090', 1679), ('shuffle-split-13d6dd49173a41f76cbc315063e30090', 596), ('shuffle-split-13d6dd49173a41f76cbc315063e30090', 5471), ('shuffle-split-13d6dd49173a41f76cbc315063e30090', 4388), ('shuffle-split-13d6dd49173a41f76cbc315063e30090', 8854), ('shuffle-split-13d6dd49173a41f76cbc315063e30090', 2438), ('shuffle-split-13d6dd49173a41f76cbc315063e30090', 223), ('shuffle-split-13d6dd49173a41f76cbc315063e30090', 8216), ('shuffle-split-13d6dd49173a41f76cbc315063e30090', 2703), ('shuffle-split-13d6dd49173a41f76cbc315063e30090', 4689), ('shuffle-split-13d6dd49173a41f76cbc315063e30090', 488), ('shuffle-split-13d6dd49173a41f76cbc315063e30090', 5592), ('shuffle-split-13d6dd49173a41f76cbc315063e30090', 8710), ('shuffle-split-13d6dd49173a41f76cbc315063e30090', 79), ('shuffle-split-13d6dd49173a41f76cbc315063e30090', 982), ('shuffle-split-13d6dd49173a41f76cbc315063e30090', 1247), ('shuffle-split-13d6dd49173a41f76cbc315063e30090', 6351), ('shuffle-split-13d6dd49173a41f76cbc315063e30090', 4136), ('shuffle-split-13d6dd49173a41f76cbc315063e30090', 7928), ('shuffle-split-13d6dd49173a41f76cbc315063e30090', 3498), ('shuffle-split-13d6dd49173a41f76cbc315063e30090', 200), ('shuffle-split-13d6dd49173a41f76cbc315063e30090', 5304), ('shuffle-split-13d6dd49173a41f76cbc315063e30090', 5075), ('shuffle-split-13d6dd49173a41f76cbc315063e30090', 465), ('shuffle-split-13d6dd49173a41f76cbc315063e30090', 2451), ('shuffle-split-13d6dd49173a41f76cbc315063e30090', 1368), ('shuffle-split-13d6dd49173a41f76cbc315063e30090', 2945), ('shuffle-split-13d6dd49173a41f76cbc315063e30090', 4931), ('shuffle-split-13d6dd49173a41f76cbc315063e30090', 730), ('shuffle-split-13d6dd49173a41f76cbc315063e30090', 5834), ('shuffle-split-13d6dd49173a41f76cbc315063e30090', 5196), ('shuffle-split-13d6dd49173a41f76cbc315063e30090', 4113), ('shuffle-split-13d6dd49173a41f76cbc315063e30090', 9217), ('shuffle-split-13d6dd49173a41f76cbc315063e30090', 3884), ('shuffle-split-13d6dd49173a41f76cbc315063e30090', 1669), ('shuffle-split-13d6dd49173a41f76cbc315063e30090', 3475), ('shuffle-split-13d6dd49173a41f76cbc315063e30090', 8579), ('shuffle-split-13d6dd49173a41f76cbc315063e30090', 4378), ('shuffle-split-13d6dd49173a41f76cbc315063e30090', 6364), ('shuffle-split-13d6dd49173a41f76cbc315063e30090', 4149), ('shuffle-split-13d6dd49173a41f76cbc315063e30090', 2837), ('shuffle-split-13d6dd49173a41f76cbc315063e30090', 5955), ('shuffle-split-13d6dd49173a41f76cbc315063e30090', 442), ('shuffle-split-13d6dd49173a41f76cbc315063e30090', 7532), ('shuffle-split-13d6dd49173a41f76cbc315063e30090', 1116), ('shuffle-split-13d6dd49173a41f76cbc315063e30090', 3102), ('shuffle-split-13d6dd49173a41f76cbc315063e30090', 2019), ('shuffle-split-13d6dd49173a41f76cbc315063e30090', 7123), ('shuffle-split-13d6dd49173a41f76cbc315063e30090', 707), ('shuffle-split-13d6dd49173a41f76cbc315063e30090', 5811), ('shuffle-split-13d6dd49173a41f76cbc315063e30090', 4499), ('store-map-5fd2c8da484a50ea33113aaa77544919', 156, 0, 0), ('shuffle-split-13d6dd49173a41f76cbc315063e30090', 972), ('shuffle-split-13d6dd49173a41f76cbc315063e30090', 743), ('shuffle-split-13d6dd49173a41f76cbc315063e30090', 8965), ('shuffle-split-13d6dd49173a41f76cbc315063e30090', 2549), ('shuffle-split-13d6dd49173a41f76cbc315063e30090', 3223), ('shuffle-split-13d6dd49173a41f76cbc315063e30090', 6341), ('shuffle-split-13d6dd49173a41f76cbc315063e30090', 599), ('shuffle-split-13d6dd49173a41f76cbc315063e30090', 864), ('shuffle-split-13d6dd49173a41f76cbc315063e30090', 2670), ('shuffle-split-13d6dd49173a41f76cbc315063e30090', 5559), ('shuffle-split-13d6dd49173a41f76cbc315063e30090', 8677), ('shuffle-split-13d6dd49173a41f76cbc315063e30090', 8448), ('shuffle-split-13d6dd49173a41f76cbc315063e30090', 2261), ('shuffle-split-13d6dd49173a41f76cbc315063e30090', 2526), ('shuffle-split-13d6dd49173a41f76cbc315063e30090', 4103), ('shuffle-split-13d6dd49173a41f76cbc315063e30090', 9207), ('shuffle-split-13d6dd49173a41f76cbc315063e30090', 167), ('shuffle-split-13d6dd49173a41f76cbc315063e30090', 7486), ('shuffle-split-13d6dd49173a41f76cbc315063e30090', 5271), ('shuffle-split-13d6dd49173a41f76cbc315063e30090', 7257), ('shuffle-split-13d6dd49173a41f76cbc315063e30090', 1744), ('shuffle-split-13d6dd49173a41f76cbc315063e30090', 9063), ('shuffle-split-13d6dd49173a41f76cbc315063e30090', 2418), ('shuffle-split-13d6dd49173a41f76cbc315063e30090', 5536), ('shuffle-split-13d6dd49173a41f76cbc315063e30090', 7522), ('shuffle-split-13d6dd49173a41f76cbc315063e30090', 6210), ('shuffle-split-13d6dd49173a41f76cbc315063e30090', 5127), ('shuffle-split-13d6dd49173a41f76cbc315063e30090', 2912), ('shuffle-split-13d6dd49173a41f76cbc315063e30090', 7787), ('shuffle-split-13d6dd49173a41f76cbc315063e30090', 8919), ('shuffle-split-13d6dd49173a41f76cbc315063e30090', 4489), ('shuffle-split-13d6dd49173a41f76cbc315063e30090', 6475), ('shuffle-split-13d6dd49173a41f76cbc315063e30090', 6066), ('shuffle-split-13d6dd49173a41f76cbc315063e30090', 3851), ('shuffle-split-13d6dd49173a41f76cbc315063e30090', 8955), ('shuffle-split-13d6dd49173a41f76cbc315063e30090', 6740), ('shuffle-split-13d6dd49173a41f76cbc315063e30090', 324), ('shuffle-split-13d6dd49173a41f76cbc315063e30090', 5657), ('shuffle-split-13d6dd49173a41f76cbc315063e30090', 4345), ('shuffle-split-13d6dd49173a41f76cbc315063e30090', 8811), ('shuffle-split-13d6dd49173a41f76cbc315063e30090', 3298), ('shuffle-split-13d6dd49173a41f76cbc315063e30090', 1083), ('shuffle-split-13d6dd49173a41f76cbc315063e30090', 1757), ('shuffle-split-13d6dd49173a41f76cbc315063e30090', 3828), ('shuffle-split-13d6dd49173a41f76cbc315063e30090', 8932), ('shuffle-split-13d6dd49173a41f76cbc315063e30090', 8294), ('shuffle-split-13d6dd49173a41f76cbc315063e30090', 7211), ('shuffle-split-13d6dd49173a41f76cbc315063e30090', 9197), ('shuffle-split-13d6dd49173a41f76cbc315063e30090', 6982), ('shuffle-split-13d6dd49173a41f76cbc315063e30090', 2781), ('shuffle-split-13d6dd49173a41f76cbc315063e30090', 7885), ('shuffle-split-13d6dd49173a41f76cbc315063e30090', 3455), ('shuffle-split-13d6dd49173a41f76cbc315063e30090', 8150), ('shuffle-split-13d6dd49173a41f76cbc315063e30090', 8644), ('shuffle-split-13d6dd49173a41f76cbc315063e30090', 1999), ('shuffle-split-13d6dd49173a41f76cbc315063e30090', 2493), ('shuffle-split-13d6dd49173a41f76cbc315063e30090', 7597), ('shuffle-split-13d6dd49173a41f76cbc315063e30090', 5382), ('shuffle-split-13d6dd49173a41f76cbc315063e30090', 952), ('shuffle-split-13d6dd49173a41f76cbc315063e30090', 5647), ('shuffle-split-13d6dd49173a41f76cbc315063e30090', 808), ('shuffle-split-13d6dd49173a41f76cbc315063e30090', 3926), ('shuffle-split-13d6dd49173a41f76cbc315063e30090', 5912), ('shuffle-split-13d6dd49173a41f76cbc315063e30090', 4600), ('open_dataset-tas-dd3a1b3e56343af6cbf01a3769b8fe71', 185, 0, 0), ('open_dataset-tas-dd3a1b3e56343af6cbf01a3769b8fe71', 249, 0, 0), ('shuffle-split-13d6dd49173a41f76cbc315063e30090', 2879), ('shuffle-split-13d6dd49173a41f76cbc315063e30090', 2650), ('shuffle-split-13d6dd49173a41f76cbc315063e30090', 7754), ('shuffle-split-13d6dd49173a41f76cbc315063e30090', 6671), ('shuffle-split-13d6dd49173a41f76cbc315063e30090', 6442), ('shuffle-split-13d6dd49173a41f76cbc315063e30090', 4227), ('shuffle-split-13d6dd49173a41f76cbc315063e30090', 26), ('shuffle-split-13d6dd49173a41f76cbc315063e30090', 8248), ('shuffle-split-13d6dd49173a41f76cbc315063e30090', 6033), ('shuffle-split-13d6dd49173a41f76cbc315063e30090', 3409), ('shuffle-split-13d6dd49173a41f76cbc315063e30090', 7201), ('shuffle-split-13d6dd49173a41f76cbc315063e30090', 785), ('shuffle-split-13d6dd49173a41f76cbc315063e30090', 556), ('shuffle-split-13d6dd49173a41f76cbc315063e30090', 6154), ('shuffle-split-13d6dd49173a41f76cbc315063e30090', 2627), 'shuffle-taker-037ef81f2ba6ab6c1589292c0dbbba78', ('shuffle-split-13d6dd49173a41f76cbc315063e30090', 1989), ('shuffle-split-13d6dd49173a41f76cbc315063e30090', 7996), ('shuffle-split-13d6dd49173a41f76cbc315063e30090', 2254), ('shuffle-split-13d6dd49173a41f76cbc315063e30090', 8261), ('shuffle-split-13d6dd49173a41f76cbc315063e30090', 6949), ('shuffle-split-13d6dd49173a41f76cbc315063e30090', 2748), ('shuffle-split-13d6dd49173a41f76cbc315063e30090', 5866), ('shuffle-split-13d6dd49173a41f76cbc315063e30090', 7852), ('shuffle-split-13d6dd49173a41f76cbc315063e30090', 3422), ('shuffle-split-13d6dd49173a41f76cbc315063e30090', 124), ('shuffle-split-13d6dd49173a41f76cbc315063e30090', 6131), ('shuffle-split-13d6dd49173a41f76cbc315063e30090', 3916), ('shuffle-split-13d6dd49173a41f76cbc315063e30090', 2869), ('shuffle-split-13d6dd49173a41f76cbc315063e30090', 2460), ('shuffle-split-13d6dd49173a41f76cbc315063e30090', 7564), ('shuffle-split-13d6dd49173a41f76cbc315063e30090', 6023), ('shuffle-split-13d6dd49173a41f76cbc315063e30090', 3808), ('shuffle-split-13d6dd49173a41f76cbc315063e30090', 2725), ('shuffle-split-13d6dd49173a41f76cbc315063e30090', 510), ('shuffle-split-13d6dd49173a41f76cbc315063e30090', 6517), ('shuffle-split-13d6dd49173a41f76cbc315063e30090', 4302), ('store-map-5fd2c8da484a50ea33113aaa77544919', 201, 0, 0), ('shuffle-split-13d6dd49173a41f76cbc315063e30090', 4976), ('shuffle-split-13d6dd49173a41f76cbc315063e30090', 775), ('shuffle-split-13d6dd49173a41f76cbc315063e30090', 8094), ('shuffle-split-13d6dd49173a41f76cbc315063e30090', 1678), ('shuffle-split-13d6dd49173a41f76cbc315063e30090', 6553), ('shuffle-split-13d6dd49173a41f76cbc315063e30090', 366), ('shuffle-split-13d6dd49173a41f76cbc315063e30090', 7456), ('shuffle-split-13d6dd49173a41f76cbc315063e30090', 3255), ('shuffle-split-13d6dd49173a41f76cbc315063e30090', 8359), ('shuffle-split-13d6dd49173a41f76cbc315063e30090', 2846), ('shuffle-split-13d6dd49173a41f76cbc315063e30090', 5506), ('shuffle-split-13d6dd49173a41f76cbc315063e30090', 1305), ('shuffle-split-13d6dd49173a41f76cbc315063e30090', 2208), ('shuffle-split-13d6dd49173a41f76cbc315063e30090', 5097), ('shuffle-split-13d6dd49173a41f76cbc315063e30090', 7986), ('shuffle-split-13d6dd49173a41f76cbc315063e30090', 5362), ('shuffle-split-13d6dd49173a41f76cbc315063e30090', 1161), ('shuffle-split-13d6dd49173a41f76cbc315063e30090', 7842), ('shuffle-split-13d6dd49173a41f76cbc315063e30090', 5627), ('shuffle-split-13d6dd49173a41f76cbc315063e30090', 1426), ('shuffle-split-13d6dd49173a41f76cbc315063e30090', 2329), ('shuffle-split-13d6dd49173a41f76cbc315063e30090', 788), ('shuffle-split-13d6dd49173a41f76cbc315063e30090', 8107), ('shuffle-split-13d6dd49173a41f76cbc315063e30090', 1920), ('shuffle-split-13d6dd49173a41f76cbc315063e30090', 2594), ('shuffle-split-13d6dd49173a41f76cbc315063e30090', 5483), ('shuffle-split-13d6dd49173a41f76cbc315063e30090', 3268), ('shuffle-split-13d6dd49173a41f76cbc315063e30090', 2185), ('shuffle-split-13d6dd49173a41f76cbc315063e30090', 4171), ('shuffle-split-13d6dd49173a41f76cbc315063e30090', 5074), ('shuffle-split-13d6dd49173a41f76cbc315063e30090', 5977), ('shuffle-split-13d6dd49173a41f76cbc315063e30090', 1547), ('shuffle-split-13d6dd49173a41f76cbc315063e30090', 4436), ('shuffle-split-13d6dd49173a41f76cbc315063e30090', 235), ('shuffle-split-13d6dd49173a41f76cbc315063e30090', 2221), ('shuffle-split-13d6dd49173a41f76cbc315063e30090', 8228), ('shuffle-split-13d6dd49173a41f76cbc315063e30090', 8722), ('shuffle-split-13d6dd49173a41f76cbc315063e30090', 3389), ('shuffle-split-13d6dd49173a41f76cbc315063e30090', 4966), ('shuffle-split-13d6dd49173a41f76cbc315063e30090', 3883), ('shuffle-split-13d6dd49173a41f76cbc315063e30090', 4557), ('open_dataset-tas-dd3a1b3e56343af6cbf01a3769b8fe71', 196, 0, 0), ('shuffle-split-13d6dd49173a41f76cbc315063e30090', 1933), ('shuffle-split-13d6dd49173a41f76cbc315063e30090', 2836), ('shuffle-split-13d6dd49173a41f76cbc315063e30090', 621), ('shuffle-split-13d6dd49173a41f76cbc315063e30090', 2607), ('shuffle-split-13d6dd49173a41f76cbc315063e30090', 8843), ('shuffle-split-13d6dd49173a41f76cbc315063e30090', 6628), ('shuffle-split-13d6dd49173a41f76cbc315063e30090', 4413), ('rechunk-split-debcddb6bcd428a4931b4a5e73fefd64', 116), ('shuffle-split-13d6dd49173a41f76cbc315063e30090', 8205), ('shuffle-split-13d6dd49173a41f76cbc315063e30090', 1151), ('shuffle-split-13d6dd49173a41f76cbc315063e30090', 2054), ('shuffle-split-13d6dd49173a41f76cbc315063e30090', 742), ('shuffle-split-13d6dd49173a41f76cbc315063e30090', 5846), ('shuffle-split-13d6dd49173a41f76cbc315063e30090', 4534), ('shuffle-split-13d6dd49173a41f76cbc315063e30090', 2319), ('shuffle-split-13d6dd49173a41f76cbc315063e30090', 3222), ('shuffle-split-13d6dd49173a41f76cbc315063e30090', 1007), ('shuffle-split-13d6dd49173a41f76cbc315063e30090', 2993), ('shuffle-split-13d6dd49173a41f76cbc315063e30090', 1681), ('shuffle-split-13d6dd49173a41f76cbc315063e30090', 6785), ('shuffle-split-13d6dd49173a41f76cbc315063e30090', 598), ('shuffle-split-13d6dd49173a41f76cbc315063e30090', 3487), ('shuffle-split-13d6dd49173a41f76cbc315063e30090', 5473), ('shuffle-split-13d6dd49173a41f76cbc315063e30090', 1272), ('shuffle-split-13d6dd49173a41f76cbc315063e30090', 6376), ('shuffle-split-13d6dd49173a41f76cbc315063e30090', 3078), ('shuffle-split-13d6dd49173a41f76cbc315063e30090', 5064), ('shuffle-split-13d6dd49173a41f76cbc315063e30090', 7953), ('shuffle-split-13d6dd49173a41f76cbc315063e30090', 3343), ('shuffle-split-13d6dd49173a41f76cbc315063e30090', 5329), ('shuffle-split-13d6dd49173a41f76cbc315063e30090', 4920), ('shuffle-split-13d6dd49173a41f76cbc315063e30090', 719), ('shuffle-split-13d6dd49173a41f76cbc315063e30090', 1393), ('shuffle-split-13d6dd49173a41f76cbc315063e30090', 4511), ('shuffle-split-13d6dd49173a41f76cbc315063e30090', 81), ('shuffle-split-13d6dd49173a41f76cbc315063e30090', 6088), ('shuffle-split-13d6dd49173a41f76cbc315063e30090', 5859), ('shuffle-split-13d6dd49173a41f76cbc315063e30090', 6353), ('open_dataset-tas-dd3a1b3e56343af6cbf01a3769b8fe71', 46, 0, 0), ('shuffle-split-13d6dd49173a41f76cbc315063e30090', 2417), ('shuffle-split-13d6dd49173a41f76cbc315063e30090', 7521), ('shuffle-split-13d6dd49173a41f76cbc315063e30090', 5306), ('shuffle-split-13d6dd49173a41f76cbc315063e30090', 1105), ('shuffle-split-13d6dd49173a41f76cbc315063e30090', 8424), ('shuffle-split-13d6dd49173a41f76cbc315063e30090', 5980), ('shuffle-split-13d6dd49173a41f76cbc315063e30090', 8689), ('shuffle-split-13d6dd49173a41f76cbc315063e30090', 8460), ('shuffle-split-13d6dd49173a41f76cbc315063e30090', 58), ('shuffle-split-13d6dd49173a41f76cbc315063e30090', 4933), ('shuffle-split-13d6dd49173a41f76cbc315063e30090', 732), ('shuffle-split-13d6dd49173a41f76cbc315063e30090', 1635), ('shuffle-split-13d6dd49173a41f76cbc315063e30090', 6595), ('shuffle-split-13d6dd49173a41f76cbc315063e30090', 8581), ('shuffle-split-13d6dd49173a41f76cbc315063e30090', 1262), ('shuffle-split-13d6dd49173a41f76cbc315063e30090', 3068), ('shuffle-split-13d6dd49173a41f76cbc315063e30090', 1756), ('shuffle-split-13d6dd49173a41f76cbc315063e30090', 215), ('shuffle-split-13d6dd49173a41f76cbc315063e30090', 8437), ('shuffle-split-13d6dd49173a41f76cbc315063e30090', 6222), ('shuffle-split-13d6dd49173a41f76cbc315063e30090', 709), ('shuffle-split-13d6dd49173a41f76cbc315063e30090', 8028), ('shuffle-split-13d6dd49173a41f76cbc315063e30090', 8702), ('shuffle-split-13d6dd49173a41f76cbc315063e30090', 6487), ('shuffle-split-13d6dd49173a41f76cbc315063e30090', 2286), ('shuffle-split-13d6dd49173a41f76cbc315063e30090', 6078), ('shuffle-split-13d6dd49173a41f76cbc315063e30090', 9196), ('shuffle-split-13d6dd49173a41f76cbc315063e30090', 5669), ('shuffle-split-13d6dd49173a41f76cbc315063e30090', 830), ('shuffle-split-13d6dd49173a41f76cbc315063e30090', 8149), ('shuffle-split-13d6dd49173a41f76cbc315063e30090', 2816), ('shuffle-split-13d6dd49173a41f76cbc315063e30090', 1504), ('shuffle-split-13d6dd49173a41f76cbc315063e30090', 192), ('shuffle-split-13d6dd49173a41f76cbc315063e30090', 7511), ('shuffle-split-13d6dd49173a41f76cbc315063e30090', 8414), ('shuffle-split-13d6dd49173a41f76cbc315063e30090', 8185), ('shuffle-split-13d6dd49173a41f76cbc315063e30090', 7102), ('shuffle-split-13d6dd49173a41f76cbc315063e30090', 9088), ('shuffle-split-13d6dd49173a41f76cbc315063e30090', 6873), ('shuffle-split-13d6dd49173a41f76cbc315063e30090', 1360), ('shuffle-split-13d6dd49173a41f76cbc315063e30090', 8679), ('shuffle-split-13d6dd49173a41f76cbc315063e30090', 722), ('shuffle-split-13d6dd49173a41f76cbc315063e30090', 5826), ('rechunk-split-debcddb6bcd428a4931b4a5e73fefd64', 217), ('shuffle-split-13d6dd49173a41f76cbc315063e30090', 987), ('shuffle-split-13d6dd49173a41f76cbc315063e30090', 4105), ('shuffle-split-13d6dd49173a41f76cbc315063e30090', 6585), ('shuffle-split-13d6dd49173a41f76cbc315063e30090', 843), ('shuffle-split-13d6dd49173a41f76cbc315063e30090', 2420), ('shuffle-split-13d6dd49173a41f76cbc315063e30090', 1337), ('shuffle-split-13d6dd49173a41f76cbc315063e30090', 6441), ('shuffle-split-13d6dd49173a41f76cbc315063e30090', 1108), ('shuffle-split-13d6dd49173a41f76cbc315063e30090', 4226), ('shuffle-split-13d6dd49173a41f76cbc315063e30090', 25), ('shuffle-split-13d6dd49173a41f76cbc315063e30090', 5129), ('shuffle-split-13d6dd49173a41f76cbc315063e30090', 7115), ('shuffle-split-13d6dd49173a41f76cbc315063e30090', 2914), ('shuffle-split-13d6dd49173a41f76cbc315063e30090', 8018), ('shuffle-split-13d6dd49173a41f76cbc315063e30090', 3817), ('shuffle-split-13d6dd49173a41f76cbc315063e30090', 8921), ('shuffle-split-13d6dd49173a41f76cbc315063e30090', 964), ('shuffle-split-13d6dd49173a41f76cbc315063e30090', 3853), ('shuffle-split-13d6dd49173a41f76cbc315063e30090', 8957), ('shuffle-split-13d6dd49173a41f76cbc315063e30090', 1458), ('shuffle-split-13d6dd49173a41f76cbc315063e30090', 146), ('shuffle-split-13d6dd49173a41f76cbc315063e30090', 5250), ('shuffle-split-13d6dd49173a41f76cbc315063e30090', 9042), ('shuffle-split-13d6dd49173a41f76cbc315063e30090', 1494), ('shuffle-split-13d6dd49173a41f76cbc315063e30090', 8813), ('shuffle-split-13d6dd49173a41f76cbc315063e30090', 5515), ('shuffle-split-13d6dd49173a41f76cbc315063e30090', 1988), ('shuffle-split-13d6dd49173a41f76cbc315063e30090', 5551), ('shuffle-split-13d6dd49173a41f76cbc315063e30090', 6454), ('shuffle-split-13d6dd49173a41f76cbc315063e30090', 8260), ('shuffle-split-13d6dd49173a41f76cbc315063e30090', 6948), ('shuffle-split-13d6dd49173a41f76cbc315063e30090', 4733), ('shuffle-split-13d6dd49173a41f76cbc315063e30090', 797), ('shuffle-split-13d6dd49173a41f76cbc315063e30090', 7887), ('shuffle-split-13d6dd49173a41f76cbc315063e30090', 1471), ('shuffle-split-13d6dd49173a41f76cbc315063e30090', 4589), ('shuffle-split-13d6dd49173a41f76cbc315063e30090', 6575), ('shuffle-split-13d6dd49173a41f76cbc315063e30090', 8381), ('shuffle-split-13d6dd49173a41f76cbc315063e30090', 3048), ('shuffle-split-13d6dd49173a41f76cbc315063e30090', 6166), ('shuffle-split-13d6dd49173a41f76cbc315063e30090', 3951), ('shuffle-split-13d6dd49173a41f76cbc315063e30090', 5528), ('shuffle-split-13d6dd49173a41f76cbc315063e30090', 8646), ('shuffle-split-13d6dd49173a41f76cbc315063e30090', 8417), ('shuffle-split-13d6dd49173a41f76cbc315063e30090', 4710), ('shuffle-split-13d6dd49173a41f76cbc315063e30090', 6058), ('shuffle-split-13d6dd49173a41f76cbc315063e30090', 9176), ('shuffle-split-13d6dd49173a41f76cbc315063e30090', 545), ('shuffle-split-13d6dd49173a41f76cbc315063e30090', 8538), ('store-map-5fd2c8da484a50ea33113aaa77544919', 208, 0, 0), ('shuffle-split-13d6dd49173a41f76cbc315063e30090', 810), ('shuffle-split-13d6dd49173a41f76cbc315063e30090', 5914), ('shuffle-split-13d6dd49173a41f76cbc315063e30090', 401), ('shuffle-split-13d6dd49173a41f76cbc315063e30090', 7491), ('shuffle-split-13d6dd49173a41f76cbc315063e30090', 6179), ('shuffle-split-13d6dd49173a41f76cbc315063e30090', 5096), ('shuffle-split-13d6dd49173a41f76cbc315063e30090', 2881), ('shuffle-split-13d6dd49173a41f76cbc315063e30090', 1340), ('shuffle-split-13d6dd49173a41f76cbc315063e30090', 2243), ('shuffle-split-13d6dd49173a41f76cbc315063e30090', 931), ('shuffle-split-13d6dd49173a41f76cbc315063e30090', 8250), ('shuffle-split-13d6dd49173a41f76cbc315063e30090', 4723), ('shuffle-split-13d6dd49173a41f76cbc315063e30090', 4314), ('shuffle-split-13d6dd49173a41f76cbc315063e30090', 6300), ('shuffle-split-13d6dd49173a41f76cbc315063e30090', 7203), ('shuffle-split-13d6dd49173a41f76cbc315063e30090', 8106), ('shuffle-split-13d6dd49173a41f76cbc315063e30090', 7877), ('shuffle-split-13d6dd49173a41f76cbc315063e30090', 1461), ('shuffle-split-13d6dd49173a41f76cbc315063e30090', 8780), ('shuffle-split-13d6dd49173a41f76cbc315063e30090', 2364), ('shuffle-split-13d6dd49173a41f76cbc315063e30090', 1726), ('shuffle-split-13d6dd49173a41f76cbc315063e30090', 643), ('shuffle-split-13d6dd49173a41f76cbc315063e30090', 8636), ('shuffle-split-13d6dd49173a41f76cbc315063e30090', 4435), ('shuffle-split-13d6dd49173a41f76cbc315063e30090', 4206), ('shuffle-split-13d6dd49173a41f76cbc315063e30090', 8227), ('shuffle-split-13d6dd49173a41f76cbc315063e30090', 5374), ('shuffle-split-13d6dd49173a41f76cbc315063e30090', 8492), ('shuffle-split-13d6dd49173a41f76cbc315063e30090', 6277), ('shuffle-split-13d6dd49173a41f76cbc315063e30090', 8263), ('shuffle-split-13d6dd49173a41f76cbc315063e30090', 4965), ('shuffle-split-13d6dd49173a41f76cbc315063e30090', 2341), ('shuffle-split-13d6dd49173a41f76cbc315063e30090', 5495), ('shuffle-split-13d6dd49173a41f76cbc315063e30090', 2197), ('shuffle-split-13d6dd49173a41f76cbc315063e30090', 7072), ('shuffle-split-13d6dd49173a41f76cbc315063e30090', 5989), ('shuffle-split-13d6dd49173a41f76cbc315063e30090', 2233), ('shuffle-split-13d6dd49173a41f76cbc315063e30090', 8469), ('shuffle-split-13d6dd49173a41f76cbc315063e30090', 6254), ('shuffle-split-13d6dd49173a41f76cbc315063e30090', 4713), ('shuffle-split-13d6dd49173a41f76cbc315063e30090', 1415), ('shuffle-split-13d6dd49173a41f76cbc315063e30090', 6519), ('shuffle-split-13d6dd49173a41f76cbc315063e30090', 6290), ('shuffle-split-13d6dd49173a41f76cbc315063e30090', 2992), ('shuffle-split-13d6dd49173a41f76cbc315063e30090', 8096), ('shuffle-split-13d6dd49173a41f76cbc315063e30090', 8999), ('shuffle-split-13d6dd49173a41f76cbc315063e30090', 4569), ('shuffle-split-13d6dd49173a41f76cbc315063e30090', 2354), ('shuffle-split-13d6dd49173a41f76cbc315063e30090', 5063), ('open_dataset-tas-dd3a1b3e56343af6cbf01a3769b8fe71', 227, 0, 0), ('shuffle-split-13d6dd49173a41f76cbc315063e30090', 3113), ('shuffle-split-13d6dd49173a41f76cbc315063e30090', 8217), ('shuffle-split-13d6dd49173a41f76cbc315063e30090', 1572), ('shuffle-split-13d6dd49173a41f76cbc315063e30090', 4690), ('shuffle-split-13d6dd49173a41f76cbc315063e30090', 489), ('shuffle-split-13d6dd49173a41f76cbc315063e30090', 7579), ('shuffle-split-13d6dd49173a41f76cbc315063e30090', 4281), ('shuffle-split-13d6dd49173a41f76cbc315063e30090', 4955), ('shuffle-split-13d6dd49173a41f76cbc315063e30090', 8073), 'shuffle-sorter-27409673d24a79dd07064021ef807ce1', ('shuffle-split-13d6dd49173a41f76cbc315063e30090', 1428), ('shuffle-split-13d6dd49173a41f76cbc315063e30090', 2331), ('shuffle-split-13d6dd49173a41f76cbc315063e30090', 3234), ('shuffle-split-13d6dd49173a41f76cbc315063e30090', 3005), ('shuffle-split-13d6dd49173a41f76cbc315063e30090', 1693), ('shuffle-split-13d6dd49173a41f76cbc315063e30090', 610), ('shuffle-split-13d6dd49173a41f76cbc315063e30090', 3499), ('shuffle-split-13d6dd49173a41f76cbc315063e30090', 875), ('shuffle-split-13d6dd49173a41f76cbc315063e30090', 2861), ('open_dataset-tas-dd3a1b3e56343af6cbf01a3769b8fe71', 173, 0, 0), ('shuffle-split-13d6dd49173a41f76cbc315063e30090', 3764), ('shuffle-split-13d6dd49173a41f76cbc315063e30090', 1549), ('shuffle-split-13d6dd49173a41f76cbc315063e30090', 237), ('shuffle-split-13d6dd49173a41f76cbc315063e30090', 7556), ('shuffle-split-13d6dd49173a41f76cbc315063e30090', 1140), ('shuffle-split-13d6dd49173a41f76cbc315063e30090', 4932), ('shuffle-split-13d6dd49173a41f76cbc315063e30090', 3391), ('shuffle-split-13d6dd49173a41f76cbc315063e30090', 4523), ('shuffle-split-13d6dd49173a41f76cbc315063e30090', 93), ('shuffle-split-13d6dd49173a41f76cbc315063e30090', 5197), ('shuffle-split-13d6dd49173a41f76cbc315063e30090', 767), ('shuffle-split-13d6dd49173a41f76cbc315063e30090', 8086), ('shuffle-split-13d6dd49173a41f76cbc315063e30090', 1261), ('shuffle-split-13d6dd49173a41f76cbc315063e30090', 1032), ('shuffle-split-13d6dd49173a41f76cbc315063e30090', 8351), ('shuffle-split-13d6dd49173a41f76cbc315063e30090', 2838), ('shuffle-split-13d6dd49173a41f76cbc315063e30090', 623), ('shuffle-split-13d6dd49173a41f76cbc315063e30090', 3741), ('shuffle-split-13d6dd49173a41f76cbc315063e30090', 5318), ('shuffle-split-13d6dd49173a41f76cbc315063e30090', 1117), ('shuffle-split-13d6dd49173a41f76cbc315063e30090', 3103), ('shuffle-split-13d6dd49173a41f76cbc315063e30090', 1382), ('shuffle-split-13d6dd49173a41f76cbc315063e30090', 6486), ('shuffle-split-13d6dd49173a41f76cbc315063e30090', 70), ('shuffle-split-13d6dd49173a41f76cbc315063e30090', 2550), ('shuffle-split-13d6dd49173a41f76cbc315063e30090', 3224), ('shuffle-split-13d6dd49173a41f76cbc315063e30090', 8328), ('shuffle-split-13d6dd49173a41f76cbc315063e30090', 6113), ('shuffle-split-13d6dd49173a41f76cbc315063e30090', 3898), ('shuffle-split-13d6dd49173a41f76cbc315063e30090', 7016), ('shuffle-split-13d6dd49173a41f76cbc315063e30090', 2586), ('shuffle-split-13d6dd49173a41f76cbc315063e30090', 5704), ('shuffle-split-13d6dd49173a41f76cbc315063e30090', 1503), ('shuffle-split-13d6dd49173a41f76cbc315063e30090', 8593), ('shuffle-split-13d6dd49173a41f76cbc315063e30090', 3080), ('shuffle-split-13d6dd49173a41f76cbc315063e30090', 1539), ('shuffle-split-13d6dd49173a41f76cbc315063e30090', 5331), ('shuffle-split-13d6dd49173a41f76cbc315063e30090', 4248), ('shuffle-split-13d6dd49173a41f76cbc315063e30090', 6234), ('shuffle-split-13d6dd49173a41f76cbc315063e30090', 9123), ('shuffle-split-13d6dd49173a41f76cbc315063e30090', 492), ('open_dataset-tas-dd3a1b3e56343af6cbf01a3769b8fe71', 349, 0, 0), ('shuffle-split-13d6dd49173a41f76cbc315063e30090', 5187), ('shuffle-split-13d6dd49173a41f76cbc315063e30090', 986), ('shuffle-split-13d6dd49173a41f76cbc315063e30090', 6090), ('shuffle-split-13d6dd49173a41f76cbc315063e30090', 8076), ('shuffle-split-13d6dd49173a41f76cbc315063e30090', 3875), ('shuffle-split-13d6dd49173a41f76cbc315063e30090', 8979), ('shuffle-split-13d6dd49173a41f76cbc315063e30090', 3466), ('shuffle-split-13d6dd49173a41f76cbc315063e30090', 1251), ('shuffle-split-13d6dd49173a41f76cbc315063e30090', 8570), ('shuffle-split-13d6dd49173a41f76cbc315063e30090', 1925), ('shuffle-split-13d6dd49173a41f76cbc315063e30090', 5717), ('store-map-5fd2c8da484a50ea33113aaa77544919', 209, 0, 0), ('open_dataset-tas-dd3a1b3e56343af6cbf01a3769b8fe71', 212, 0, 0), ('shuffle-split-13d6dd49173a41f76cbc315063e30090', 2419), ('shuffle-split-13d6dd49173a41f76cbc315063e30090', 204), ('shuffle-split-13d6dd49173a41f76cbc315063e30090', 7523), ('shuffle-split-13d6dd49173a41f76cbc315063e30090', 5308), ('shuffle-split-13d6dd49173a41f76cbc315063e30090', 1107), ('shuffle-split-13d6dd49173a41f76cbc315063e30090', 6211), ('shuffle-split-13d6dd49173a41f76cbc315063e30090', 4670), ('shuffle-split-13d6dd49173a41f76cbc315063e30090', 1372), ('shuffle-split-13d6dd49173a41f76cbc315063e30090', 8462), ('shuffle-split-13d6dd49173a41f76cbc315063e30090', 60), ('shuffle-split-13d6dd49173a41f76cbc315063e30090', 1637), ('shuffle-split-13d6dd49173a41f76cbc315063e30090', 325), ('shuffle-split-13d6dd49173a41f76cbc315063e30090', 8547), ('shuffle-split-13d6dd49173a41f76cbc315063e30090', 6332), ('shuffle-split-13d6dd49173a41f76cbc315063e30090', 8318), ('shuffle-split-13d6dd49173a41f76cbc315063e30090', 2805), ('shuffle-split-13d6dd49173a41f76cbc315063e30090', 3708), ('shuffle-split-13d6dd49173a41f76cbc315063e30090', 1493), ('rechunk-split-debcddb6bcd428a4931b4a5e73fefd64', 314), ('shuffle-split-13d6dd49173a41f76cbc315063e30090', 4382), ('shuffle-split-13d6dd49173a41f76cbc315063e30090', 2167), ('open_dataset-tas-dd3a1b3e56343af6cbf01a3769b8fe71', 236, 0, 0), ('shuffle-split-13d6dd49173a41f76cbc315063e30090', 5550), ('shuffle-split-13d6dd49173a41f76cbc315063e30090', 711), ('shuffle-split-13d6dd49173a41f76cbc315063e30090', 8030), ('shuffle-split-13d6dd49173a41f76cbc315063e30090', 2697), ('shuffle-split-13d6dd49173a41f76cbc315063e30090', 8933), ('shuffle-split-13d6dd49173a41f76cbc315063e30090', 8704), ('open_dataset-tas-dd3a1b3e56343af6cbf01a3769b8fe71', 79, 0, 0), ('shuffle-split-13d6dd49173a41f76cbc315063e30090', 2288), ('shuffle-split-13d6dd49173a41f76cbc315063e30090', 338), ('shuffle-split-13d6dd49173a41f76cbc315063e30090', 3456), ('shuffle-split-13d6dd49173a41f76cbc315063e30090', 832), ('shuffle-split-13d6dd49173a41f76cbc315063e30090', 8825), ('shuffle-split-13d6dd49173a41f76cbc315063e30090', 3083), ('shuffle-split-13d6dd49173a41f76cbc315063e30090', 688), ('shuffle-split-13d6dd49173a41f76cbc315063e30090', 1362), ('shuffle-split-13d6dd49173a41f76cbc315063e30090', 50), ('shuffle-split-13d6dd49173a41f76cbc315063e30090', 953), ('shuffle-split-13d6dd49173a41f76cbc315063e30090', 6960), ('shuffle-split-13d6dd49173a41f76cbc315063e30090', 8308), ('shuffle-split-13d6dd49173a41f76cbc315063e30090', 1892), ('shuffle-split-13d6dd49173a41f76cbc315063e30090', 5913), ('shuffle-split-13d6dd49173a41f76cbc315063e30090', 3698), ('shuffle-split-13d6dd49173a41f76cbc315063e30090', 1483), ('shuffle-split-13d6dd49173a41f76cbc315063e30090', 4372), ('shuffle-split-13d6dd49173a41f76cbc315063e30090', 7490), ('shuffle-split-13d6dd49173a41f76cbc315063e30090', 8393), ('shuffle-split-13d6dd49173a41f76cbc315063e30090', 7081), ('shuffle-split-13d6dd49173a41f76cbc315063e30090', 2651), ('shuffle-split-13d6dd49173a41f76cbc315063e30090', 6443), ('shuffle-split-13d6dd49173a41f76cbc315063e30090', 2242), ('shuffle-split-13d6dd49173a41f76cbc315063e30090', 2916), ('shuffle-split-13d6dd49173a41f76cbc315063e30090', 701), ('shuffle-split-13d6dd49173a41f76cbc315063e30090', 5805), ('shuffle-split-13d6dd49173a41f76cbc315063e30090', 3590), ('shuffle-split-13d6dd49173a41f76cbc315063e30090', 3037), ('shuffle-split-13d6dd49173a41f76cbc315063e30090', 822), ('shuffle-split-13d6dd49173a41f76cbc315063e30090', 1725), ('shuffle-split-13d6dd49173a41f76cbc315063e30090', 413), ('shuffle-split-13d6dd49173a41f76cbc315063e30090', 2399), ('shuffle-split-13d6dd49173a41f76cbc315063e30090', 6420), ('shuffle-split-13d6dd49173a41f76cbc315063e30090', 4470), ('shuffle-split-13d6dd49173a41f76cbc315063e30090', 1617), ('shuffle-split-13d6dd49173a41f76cbc315063e30090', 2749), ('shuffle-split-13d6dd49173a41f76cbc315063e30090', 6541), ('shuffle-split-13d6dd49173a41f76cbc315063e30090', 4326), ('shuffle-split-13d6dd49173a41f76cbc315063e30090', 3014), ('shuffle-split-13d6dd49173a41f76cbc315063e30090', 2785), ('shuffle-split-13d6dd49173a41f76cbc315063e30090', 6577), ('shuffle-split-13d6dd49173a41f76cbc315063e30090', 8383), ('shuffle-split-13d6dd49173a41f76cbc315063e30090', 1967), ('shuffle-split-13d6dd49173a41f76cbc315063e30090', 1329), ('shuffle-split-13d6dd49173a41f76cbc315063e30090', 6433), ('shuffle-split-13d6dd49173a41f76cbc315063e30090', 17), ('shuffle-split-13d6dd49173a41f76cbc315063e30090', 2906), ('shuffle-split-13d6dd49173a41f76cbc315063e30090', 6024), ('shuffle-split-13d6dd49173a41f76cbc315063e30090', 1594), ('shuffle-split-13d6dd49173a41f76cbc315063e30090', 8913), ('shuffle-split-13d6dd49173a41f76cbc315063e30090', 4712), ('shuffle-split-13d6dd49173a41f76cbc315063e30090', 4483), ('shuffle-split-13d6dd49173a41f76cbc315063e30090', 8275), ('shuffle-split-13d6dd49173a41f76cbc315063e30090', 9178), ('shuffle-split-13d6dd49173a41f76cbc315063e30090', 5880), ('shuffle-split-13d6dd49173a41f76cbc315063e30090', 6554), ('shuffle-split-13d6dd49173a41f76cbc315063e30090', 812), ('shuffle-split-13d6dd49173a41f76cbc315063e30090', 9034), ('shuffle-split-13d6dd49173a41f76cbc315063e30090', 1980), ('shuffle-split-13d6dd49173a41f76cbc315063e30090', 6001), ('shuffle-split-13d6dd49173a41f76cbc315063e30090', 7987), ('shuffle-split-13d6dd49173a41f76cbc315063e30090', 668), ('store-map-5fd2c8da484a50ea33113aaa77544919', 186, 0, 0), ('shuffle-split-13d6dd49173a41f76cbc315063e30090', 4460), ('shuffle-split-13d6dd49173a41f76cbc315063e30090', 2739), ('open_dataset-tas-dd3a1b3e56343af6cbf01a3769b8fe71', 88, 0, 0), ('open_dataset-tas-dd3a1b3e56343af6cbf01a3769b8fe71', 337, 0, 0), ('shuffle-split-13d6dd49173a41f76cbc315063e30090', 789), ('shuffle-split-13d6dd49173a41f76cbc315063e30090', 5893), ('shuffle-split-13d6dd49173a41f76cbc315063e30090', 9011), ('shuffle-split-13d6dd49173a41f76cbc315063e30090', 380), ('shuffle-split-13d6dd49173a41f76cbc315063e30090', 2366), ('shuffle-split-13d6dd49173a41f76cbc315063e30090', 7470), ('shuffle-split-13d6dd49173a41f76cbc315063e30090', 4172), ('shuffle-split-13d6dd49173a41f76cbc315063e30090', 7061), ('shuffle-split-13d6dd49173a41f76cbc315063e30090', 645), ('shuffle-split-13d6dd49173a41f76cbc315063e30090', 7964), ('shuffle-split-13d6dd49173a41f76cbc315063e30090', 2631), ('shuffle-split-13d6dd49173a41f76cbc315063e30090', 6652), ('shuffle-split-13d6dd49173a41f76cbc315063e30090', 4437), ('shuffle-split-13d6dd49173a41f76cbc315063e30090', 7), ('shuffle-split-13d6dd49173a41f76cbc315063e30090', 5111), ('shuffle-split-13d6dd49173a41f76cbc315063e30090', 2896), ('shuffle-split-13d6dd49173a41f76cbc315063e30090', 8903), ('shuffle-split-13d6dd49173a41f76cbc315063e30090', 4702), ('shuffle-split-13d6dd49173a41f76cbc315063e30090', 501), ('shuffle-split-13d6dd49173a41f76cbc315063e30090', 2487), ('shuffle-split-13d6dd49173a41f76cbc315063e30090', 3390), ('shuffle-split-13d6dd49173a41f76cbc315063e30090', 8494), ('shuffle-split-13d6dd49173a41f76cbc315063e30090', 1440), ('shuffle-split-13d6dd49173a41f76cbc315063e30090', 8759), ('rechunk-split-debcddb6bcd428a4931b4a5e73fefd64', 261), ('shuffle-split-13d6dd49173a41f76cbc315063e30090', 3246), ('shuffle-split-13d6dd49173a41f76cbc315063e30090', 1296), ('shuffle-split-13d6dd49173a41f76cbc315063e30090', 3282), ('shuffle-split-13d6dd49173a41f76cbc315063e30090', 4414), ('shuffle-split-13d6dd49173a41f76cbc315063e30090', 2199), ('shuffle-split-13d6dd49173a41f76cbc315063e30090', 4185), ('shuffle-split-13d6dd49173a41f76cbc315063e30090', 5088), ('shuffle-split-13d6dd49173a41f76cbc315063e30090', 8206), ('shuffle-split-13d6dd49173a41f76cbc315063e30090', 1561), ('shuffle-split-13d6dd49173a41f76cbc315063e30090', 8880), ('shuffle-split-13d6dd49173a41f76cbc315063e30090', 2464), ('shuffle-split-13d6dd49173a41f76cbc315063e30090', 3138), ('shuffle-split-13d6dd49173a41f76cbc315063e30090', 923), ('shuffle-split-13d6dd49173a41f76cbc315063e30090', 7159), ('shuffle-split-13d6dd49173a41f76cbc315063e30090', 3403), ('open_dataset-tas-dd3a1b3e56343af6cbf01a3769b8fe71', 80, 0, 0), ('shuffle-split-13d6dd49173a41f76cbc315063e30090', 5883), ('shuffle-split-13d6dd49173a41f76cbc315063e30090', 9001), ('shuffle-split-13d6dd49173a41f76cbc315063e30090', 2356), ('shuffle-split-13d6dd49173a41f76cbc315063e30090', 3488), ('shuffle-split-13d6dd49173a41f76cbc315063e30090', 6148), ('shuffle-split-13d6dd49173a41f76cbc315063e30090', 1947), ('shuffle-split-13d6dd49173a41f76cbc315063e30090', 7954), ('shuffle-split-13d6dd49173a41f76cbc315063e30090', 226), ('shuffle-split-13d6dd49173a41f76cbc315063e30090', 3115), ('shuffle-split-13d6dd49173a41f76cbc315063e30090', 8219), ('shuffle-split-13d6dd49173a41f76cbc315063e30090', 2706), ('open_dataset-tas-dd3a1b3e56343af6cbf01a3769b8fe71', 63, 0, 0), ('shuffle-split-13d6dd49173a41f76cbc315063e30090', 6498), ('shuffle-split-13d6dd49173a41f76cbc315063e30090', 82), ('shuffle-split-13d6dd49173a41f76cbc315063e30090', 6269), ('shuffle-split-13d6dd49173a41f76cbc315063e30090', 5186), ('shuffle-split-13d6dd49173a41f76cbc315063e30090', 2742), ('shuffle-split-13d6dd49173a41f76cbc315063e30090', 5860), ('shuffle-split-13d6dd49173a41f76cbc315063e30090', 5222), ('shuffle-split-13d6dd49173a41f76cbc315063e30090', 1515), ('shuffle-split-13d6dd49173a41f76cbc315063e30090', 6619), ('shuffle-split-13d6dd49173a41f76cbc315063e30090', 4404), ('shuffle-split-13d6dd49173a41f76cbc315063e30090', 4175), ('shuffle-split-13d6dd49173a41f76cbc315063e30090', 2863), ('shuffle-split-13d6dd49173a41f76cbc315063e30090', 5981), ('shuffle-split-13d6dd49173a41f76cbc315063e30090', 6884), ('shuffle-split-13d6dd49173a41f76cbc315063e30090', 1551), ('shuffle-split-13d6dd49173a41f76cbc315063e30090', 4669), ('shuffle-split-13d6dd49173a41f76cbc315063e30090', 2454), ('shuffle-split-13d6dd49173a41f76cbc315063e30090', 5572), ('shuffle-split-13d6dd49173a41f76cbc315063e30090', 8461), ('shuffle-split-13d6dd49173a41f76cbc315063e30090', 2045), ('shuffle-split-13d6dd49173a41f76cbc315063e30090', 8052), ('shuffle-split-13d6dd49173a41f76cbc315063e30090', 5608), ('shuffle-split-13d6dd49173a41f76cbc315063e30090', 8317), ('shuffle-split-13d6dd49173a41f76cbc315063e30090', 8991), ('shuffle-split-13d6dd49173a41f76cbc315063e30090', 6776), ('shuffle-split-13d6dd49173a41f76cbc315063e30090', 1263), ('shuffle-split-13d6dd49173a41f76cbc315063e30090', 7944), ('shuffle-split-13d6dd49173a41f76cbc315063e30090', 216), ('shuffle-split-13d6dd49173a41f76cbc315063e30090', 8703), ('shuffle-split-13d6dd49173a41f76cbc315063e30090', 2287), ('shuffle-split-13d6dd49173a41f76cbc315063e30090', 7162), ('shuffle-split-13d6dd49173a41f76cbc315063e30090', 2961), ('shuffle-split-13d6dd49173a41f76cbc315063e30090', 5850), ('shuffle-split-13d6dd49173a41f76cbc315063e30090', 8330), ('shuffle-split-13d6dd49173a41f76cbc315063e30090', 4129), ('shuffle-split-13d6dd49173a41f76cbc315063e30090', 602), ('shuffle-split-13d6dd49173a41f76cbc315063e30090', 7921), ('shuffle-split-13d6dd49173a41f76cbc315063e30090', 2588), ('shuffle-split-13d6dd49173a41f76cbc315063e30090', 3082), ('shuffle-split-13d6dd49173a41f76cbc315063e30090', 867), ('shuffle-split-13d6dd49173a41f76cbc315063e30090', 8186), ('shuffle-split-13d6dd49173a41f76cbc315063e30090', 5971), ('shuffle-split-13d6dd49173a41f76cbc315063e30090', 458), ('shuffle-split-13d6dd49173a41f76cbc315063e30090', 1361), ('shuffle-split-13d6dd49173a41f76cbc315063e30090', 1132), ('shuffle-split-13d6dd49173a41f76cbc315063e30090', 8451), ('shuffle-split-13d6dd49173a41f76cbc315063e30090', 7813), ('shuffle-split-13d6dd49173a41f76cbc315063e30090', 1397), ('shuffle-split-13d6dd49173a41f76cbc315063e30090', 6092), ('shuffle-split-13d6dd49173a41f76cbc315063e30090', 1891), ('shuffle-split-13d6dd49173a41f76cbc315063e30090', 9210), ('shuffle-split-13d6dd49173a41f76cbc315063e30090', 579), ('shuffle-split-13d6dd49173a41f76cbc315063e30090', 8572), ('shuffle-split-13d6dd49173a41f76cbc315063e30090', 5948), ('shuffle-split-13d6dd49173a41f76cbc315063e30090', 1518), ('shuffle-split-13d6dd49173a41f76cbc315063e30090', 3095), ('shuffle-split-13d6dd49173a41f76cbc315063e30090', 7116), ('shuffle-split-13d6dd49173a41f76cbc315063e30090', 965), ('shuffle-split-13d6dd49173a41f76cbc315063e30090', 8055), ('shuffle-split-13d6dd49173a41f76cbc315063e30090', 5840), ('shuffle-split-13d6dd49173a41f76cbc315063e30090', 6743), ('shuffle-split-13d6dd49173a41f76cbc315063e30090', 2542), ('shuffle-split-13d6dd49173a41f76cbc315063e30090', 8320), ('shuffle-split-13d6dd49173a41f76cbc315063e30090', 1495), ('shuffle-split-13d6dd49173a41f76cbc315063e30090', 8814), ('shuffle-split-13d6dd49173a41f76cbc315063e30090', 2398), ('shuffle-split-13d6dd49173a41f76cbc315063e30090', 8176), ('shuffle-split-13d6dd49173a41f76cbc315063e30090', 1760), ('shuffle-split-13d6dd49173a41f76cbc315063e30090', 6864), ('shuffle-split-13d6dd49173a41f76cbc315063e30090', 4649), ('shuffle-split-13d6dd49173a41f76cbc315063e30090', 7767), ('shuffle-split-13d6dd49173a41f76cbc315063e30090', 8670), ('shuffle-split-13d6dd49173a41f76cbc315063e30090', 3337), ('shuffle-split-13d6dd49173a41f76cbc315063e30090', 1122), ('shuffle-split-13d6dd49173a41f76cbc315063e30090', 8935), ('shuffle-split-13d6dd49173a41f76cbc315063e30090', 8706), ('shuffle-split-13d6dd49173a41f76cbc315063e30090', 6082), ('shuffle-split-13d6dd49173a41f76cbc315063e30090', 7888), ('shuffle-split-13d6dd49173a41f76cbc315063e30090', 1472), ('shuffle-split-13d6dd49173a41f76cbc315063e30090', 8791), ('shuffle-split-13d6dd49173a41f76cbc315063e30090', 3458), ('shuffle-split-13d6dd49173a41f76cbc315063e30090', 2146), ('shuffle-split-13d6dd49173a41f76cbc315063e30090', 5264), ('shuffle-split-13d6dd49173a41f76cbc315063e30090', 8153), ('shuffle-split-13d6dd49173a41f76cbc315063e30090', 5938), ('shuffle-split-13d6dd49173a41f76cbc315063e30090', 7515), ('shuffle-split-13d6dd49173a41f76cbc315063e30090', 4217), ('shuffle-split-13d6dd49173a41f76cbc315063e30090', 7106), ('shuffle-split-13d6dd49173a41f76cbc315063e30090', 2267), ('shuffle-split-13d6dd49173a41f76cbc315063e30090', 2941), ('shuffle-split-13d6dd49173a41f76cbc315063e30090', 6059), ('shuffle-split-13d6dd49173a41f76cbc315063e30090', 3844), ('shuffle-split-13d6dd49173a41f76cbc315063e30090', 546), ('shuffle-split-13d6dd49173a41f76cbc315063e30090', 8539), ('shuffle-split-13d6dd49173a41f76cbc315063e30090', 4109), ('shuffle-split-13d6dd49173a41f76cbc315063e30090', 8130), ('shuffle-split-13d6dd49173a41f76cbc315063e30090', 1485), ('shuffle-split-13d6dd49173a41f76cbc315063e30090', 173), ('shuffle-split-13d6dd49173a41f76cbc315063e30090', 7492), ('shuffle-split-13d6dd49173a41f76cbc315063e30090', 3062), ('shuffle-split-13d6dd49173a41f76cbc315063e30090', 9069), ('shuffle-split-13d6dd49173a41f76cbc315063e30090', 438), ('shuffle-split-13d6dd49173a41f76cbc315063e30090', 8660), ('shuffle-split-13d6dd49173a41f76cbc315063e30090', 4459), ('shuffle-split-13d6dd49173a41f76cbc315063e30090', 2918), ('shuffle-split-13d6dd49173a41f76cbc315063e30090', 1606), ('shuffle-split-13d6dd49173a41f76cbc315063e30090', 7204), ('shuffle-split-13d6dd49173a41f76cbc315063e30090', 2774), ('shuffle-split-13d6dd49173a41f76cbc315063e30090', 559), ('shuffle-split-13d6dd49173a41f76cbc315063e30090', 8781), ('shuffle-split-13d6dd49173a41f76cbc315063e30090', 3448), ('shuffle-split-13d6dd49173a41f76cbc315063e30090', 824), ('shuffle-split-13d6dd49173a41f76cbc315063e30090', 1318), ('shuffle-split-13d6dd49173a41f76cbc315063e30090', 3304), ('shuffle-split-13d6dd49173a41f76cbc315063e30090', 1089), ('shuffle-split-13d6dd49173a41f76cbc315063e30090', 5110), ('shuffle-split-13d6dd49173a41f76cbc315063e30090', 8673), ('shuffle-split-13d6dd49173a41f76cbc315063e30090', 4472), ('rechunk-split-debcddb6bcd428a4931b4a5e73fefd64', 404), ('shuffle-split-13d6dd49173a41f76cbc315063e30090', 7590), ('shuffle-split-13d6dd49173a41f76cbc315063e30090', 2486), ('shuffle-split-13d6dd49173a41f76cbc315063e30090', 6952), ('shuffle-split-13d6dd49173a41f76cbc315063e30090', 536), ('shuffle-split-13d6dd49173a41f76cbc315063e30090', 801), ('shuffle-split-13d6dd49173a41f76cbc315063e30090', 3690), ('shuffle-split-13d6dd49173a41f76cbc315063e30090', 5496), ('shuffle-split-13d6dd49173a41f76cbc315063e30090', 6170), ('open_dataset-tas-dd3a1b3e56343af6cbf01a3769b8fe71', 19, 0, 0), ('shuffle-split-13d6dd49173a41f76cbc315063e30090', 657), ('shuffle-split-13d6dd49173a41f76cbc315063e30090', 1331), ('shuffle-split-13d6dd49173a41f76cbc315063e30090', 2234), ('shuffle-split-13d6dd49173a41f76cbc315063e30090', 922), ('shuffle-split-13d6dd49173a41f76cbc315063e30090', 6026), ('shuffle-split-13d6dd49173a41f76cbc315063e30090', 9144), ('shuffle-split-13d6dd49173a41f76cbc315063e30090', 7194), ('shuffle-split-13d6dd49173a41f76cbc315063e30090', 8771), ('shuffle-split-13d6dd49173a41f76cbc315063e30090', 2355), ('shuffle-split-13d6dd49173a41f76cbc315063e30090', 140), ('shuffle-split-13d6dd49173a41f76cbc315063e30090', 1043), ('shuffle-split-13d6dd49173a41f76cbc315063e30090', 3029), ('shuffle-split-13d6dd49173a41f76cbc315063e30090', 2620), ('shuffle-split-13d6dd49173a41f76cbc315063e30090', 6412), ('shuffle-split-13d6dd49173a41f76cbc315063e30090', 6003), ('shuffle-split-13d6dd49173a41f76cbc315063e30090', 8892), ('shuffle-split-13d6dd49173a41f76cbc315063e30090', 6268), ('shuffle-split-13d6dd49173a41f76cbc315063e30090', 8254), ('shuffle-split-13d6dd49173a41f76cbc315063e30090', 935), ('shuffle-split-13d6dd49173a41f76cbc315063e30090', 7171), ('shuffle-split-13d6dd49173a41f76cbc315063e30090', 5630), ('shuffle-split-13d6dd49173a41f76cbc315063e30090', 8748), ('shuffle-split-13d6dd49173a41f76cbc315063e30090', 5221), ('shuffle-split-13d6dd49173a41f76cbc315063e30090', 3006), ('shuffle-split-13d6dd49173a41f76cbc315063e30090', 4583), ('shuffle-split-13d6dd49173a41f76cbc315063e30090', 5486), ('shuffle-split-13d6dd49173a41f76cbc315063e30090', 1285), ('shuffle-split-13d6dd49173a41f76cbc315063e30090', 8869), ('shuffle-split-13d6dd49173a41f76cbc315063e30090', 8640), ('shuffle-split-13d6dd49173a41f76cbc315063e30090', 5113), ('shuffle-split-13d6dd49173a41f76cbc315063e30090', 6016), ('shuffle-split-13d6dd49173a41f76cbc315063e30090', 3801), ('shuffle-split-13d6dd49173a41f76cbc315063e30090', 2489), ('shuffle-split-13d6dd49173a41f76cbc315063e30090', 4969), ('shuffle-split-13d6dd49173a41f76cbc315063e30090', 768), ('shuffle-split-13d6dd49173a41f76cbc315063e30090', 1671), ('shuffle-split-13d6dd49173a41f76cbc315063e30090', 8990), ('shuffle-split-13d6dd49173a41f76cbc315063e30090', 2345), ('shuffle-split-13d6dd49173a41f76cbc315063e30090', 1033), ('shuffle-split-13d6dd49173a41f76cbc315063e30090', 1707), ('shuffle-split-13d6dd49173a41f76cbc315063e30090', 9026), ('open_dataset-tas-dd3a1b3e56343af6cbf01a3769b8fe71', 243, 0, 0), ('shuffle-split-13d6dd49173a41f76cbc315063e30090', 395), ('shuffle-split-13d6dd49173a41f76cbc315063e30090', 4681), ('shuffle-split-13d6dd49173a41f76cbc315063e30090', 6667), ('shuffle-split-13d6dd49173a41f76cbc315063e30090', 2466), ('shuffle-split-13d6dd49173a41f76cbc315063e30090', 7570), ('shuffle-split-13d6dd49173a41f76cbc315063e30090', 5355), ('shuffle-split-13d6dd49173a41f76cbc315063e30090', 6258), ('shuffle-split-13d6dd49173a41f76cbc315063e30090', 5849), ('shuffle-split-13d6dd49173a41f76cbc315063e30090', 107), ('shuffle-split-13d6dd49173a41f76cbc315063e30090', 5211), ('shuffle-split-13d6dd49173a41f76cbc315063e30090', 1010), ('shuffle-split-13d6dd49173a41f76cbc315063e30090', 5885), ('shuffle-split-13d6dd49173a41f76cbc315063e30090', 9003), ('shuffle-split-13d6dd49173a41f76cbc315063e30090', 3261), ('shuffle-split-13d6dd49173a41f76cbc315063e30090', 2852), ('shuffle-split-13d6dd49173a41f76cbc315063e30090', 5970), ('shuffle-split-13d6dd49173a41f76cbc315063e30090', 637), 'shuffle-taker-ffe04ba4dd7d4f6eee77a2037f2e20a2', ('shuffle-split-13d6dd49173a41f76cbc315063e30090', 228), ('shuffle-split-13d6dd49173a41f76cbc315063e30090', 2214), ('shuffle-split-13d6dd49173a41f76cbc315063e30090', 493), ('shuffle-split-13d6dd49173a41f76cbc315063e30090', 8751), ('shuffle-split-13d6dd49173a41f76cbc315063e30090', 4550), ('shuffle-split-13d6dd49173a41f76cbc315063e30090', 6127), ('shuffle-split-13d6dd49173a41f76cbc315063e30090', 614), ('shuffle-split-13d6dd49173a41f76cbc315063e30090', 205), ('shuffle-split-13d6dd49173a41f76cbc315063e30090', 3094), ('shuffle-split-13d6dd49173a41f76cbc315063e30090', 5080), ('shuffle-split-13d6dd49173a41f76cbc315063e30090', 879), ('shuffle-split-13d6dd49173a41f76cbc315063e30090', 470), ('shuffle-split-13d6dd49173a41f76cbc315063e30090', 7789), ('rechunk-split-debcddb6bcd428a4931b4a5e73fefd64', 374), ('shuffle-split-13d6dd49173a41f76cbc315063e30090', 5345), ('shuffle-split-13d6dd49173a41f76cbc315063e30090', 6477), ('shuffle-split-13d6dd49173a41f76cbc315063e30090', 1144), ('shuffle-split-13d6dd49173a41f76cbc315063e30090', 4262), ('shuffle-split-13d6dd49173a41f76cbc315063e30090', 7151), ('shuffle-split-13d6dd49173a41f76cbc315063e30090', 1000), ('shuffle-split-13d6dd49173a41f76cbc315063e30090', 591), ('shuffle-split-13d6dd49173a41f76cbc315063e30090', 362), ('shuffle-split-13d6dd49173a41f76cbc315063e30090', 5466), ('shuffle-split-13d6dd49173a41f76cbc315063e30090', 5960), ('shuffle-split-13d6dd49173a41f76cbc315063e30090', 627), ('shuffle-split-13d6dd49173a41f76cbc315063e30090', 6634), ('shuffle-split-13d6dd49173a41f76cbc315063e30090', 2024), ('shuffle-split-13d6dd49173a41f76cbc315063e30090', 8705), ('shuffle-split-13d6dd49173a41f76cbc315063e30090', 6490), ('shuffle-split-13d6dd49173a41f76cbc315063e30090', 74), ('shuffle-split-13d6dd49173a41f76cbc315063e30090', 5178), ('shuffle-split-13d6dd49173a41f76cbc315063e30090', 977), ('shuffle-split-13d6dd49173a41f76cbc315063e30090', 5852), ('shuffle-split-13d6dd49173a41f76cbc315063e30090', 3457), ('shuffle-split-13d6dd49173a41f76cbc315063e30090', 3228), ('shuffle-split-13d6dd49173a41f76cbc315063e30090', 2819), ('shuffle-split-13d6dd49173a41f76cbc315063e30090', 7923), ('shuffle-split-13d6dd49173a41f76cbc315063e30090', 195), ('shuffle-split-13d6dd49173a41f76cbc315063e30090', 5299), ('shuffle-split-13d6dd49173a41f76cbc315063e30090', 6202), ('shuffle-split-13d6dd49173a41f76cbc315063e30090', 4926), ('shuffle-split-13d6dd49173a41f76cbc315063e30090', 3843), ('shuffle-split-13d6dd49173a41f76cbc315063e30090', 1399), ('shuffle-split-13d6dd49173a41f76cbc315063e30090', 8718), ('shuffle-split-13d6dd49173a41f76cbc315063e30090', 2302), ('shuffle-split-13d6dd49173a41f76cbc315063e30090', 87), ('shuffle-split-13d6dd49173a41f76cbc315063e30090', 6094), ('shuffle-split-13d6dd49173a41f76cbc315063e30090', 7900), ('shuffle-split-13d6dd49173a41f76cbc315063e30090', 172), ('shuffle-split-13d6dd49173a41f76cbc315063e30090', 5276), ('shuffle-split-13d6dd49173a41f76cbc315063e30090', 3061), ('shuffle-split-13d6dd49173a41f76cbc315063e30090', 846), ('shuffle-split-13d6dd49173a41f76cbc315063e30090', 3964), ('shuffle-split-13d6dd49173a41f76cbc315063e30090', 8839), ('shuffle-split-13d6dd49173a41f76cbc315063e30090', 6624), ('shuffle-split-13d6dd49173a41f76cbc315063e30090', 7756), ('shuffle-split-13d6dd49173a41f76cbc315063e30090', 437), ('shuffle-split-13d6dd49173a41f76cbc315063e30090', 7527), ('shuffle-split-13d6dd49173a41f76cbc315063e30090', 3326), ('shuffle-split-13d6dd49173a41f76cbc315063e30090', 473), ('shuffle-split-13d6dd49173a41f76cbc315063e30090', 4494), ('shuffle-split-13d6dd49173a41f76cbc315063e30090', 6480), ('shuffle-split-13d6dd49173a41f76cbc315063e30090', 64), ('shuffle-split-13d6dd49173a41f76cbc315063e30090', 6071), ('shuffle-split-13d6dd49173a41f76cbc315063e30090', 8057), ('shuffle-split-13d6dd49173a41f76cbc315063e30090', 5662), ('shuffle-split-13d6dd49173a41f76cbc315063e30090', 4350), ('shuffle-split-13d6dd49173a41f76cbc315063e30090', 1906), ('shuffle-split-13d6dd49173a41f76cbc315063e30090', 3712), ('shuffle-split-13d6dd49173a41f76cbc315063e30090', 5289), ('shuffle-split-13d6dd49173a41f76cbc315063e30090', 859), ('shuffle-split-13d6dd49173a41f76cbc315063e30090', 4651), ('shuffle-split-13d6dd49173a41f76cbc315063e30090', 450), ('shuffle-split-13d6dd49173a41f76cbc315063e30090', 1353), ('shuffle-split-13d6dd49173a41f76cbc315063e30090', 41), ('shuffle-split-13d6dd49173a41f76cbc315063e30090', 8034), ('shuffle-split-13d6dd49173a41f76cbc315063e30090', 3833), ('shuffle-split-13d6dd49173a41f76cbc315063e30090', 5819), ('shuffle-split-13d6dd49173a41f76cbc315063e30090', 980), ('shuffle-split-13d6dd49173a41f76cbc315063e30090', 6084), ('shuffle-split-13d6dd49173a41f76cbc315063e30090', 6987), ('shuffle-split-13d6dd49173a41f76cbc315063e30090', 2148), ('shuffle-split-13d6dd49173a41f76cbc315063e30090', 5940), ('shuffle-split-13d6dd49173a41f76cbc315063e30090', 4628), ('shuffle-split-13d6dd49173a41f76cbc315063e30090', 5531), ('shuffle-split-13d6dd49173a41f76cbc315063e30090', 7517), ('shuffle-split-13d6dd49173a41f76cbc315063e30090', 8649), ('shuffle-split-13d6dd49173a41f76cbc315063e30090', 3316), ('shuffle-split-13d6dd49173a41f76cbc315063e30090', 1101), ('shuffle-split-13d6dd49173a41f76cbc315063e30090', 6205), ('shuffle-split-13d6dd49173a41f76cbc315063e30090', 5122), ('shuffle-split-13d6dd49173a41f76cbc315063e30090', 7108), ('shuffle-split-13d6dd49173a41f76cbc315063e30090', 692), ('shuffle-split-13d6dd49173a41f76cbc315063e30090', 3810), ('shuffle-split-13d6dd49173a41f76cbc315063e30090', 54), ('shuffle-split-13d6dd49173a41f76cbc315063e30090', 5158), ('shuffle-split-13d6dd49173a41f76cbc315063e30090', 8950), ('shuffle-split-13d6dd49173a41f76cbc315063e30090', 548), ('shuffle-split-13d6dd49173a41f76cbc315063e30090', 5652), ('shuffle-split-13d6dd49173a41f76cbc315063e30090', 1451), ('shuffle-split-13d6dd49173a41f76cbc315063e30090', 8541), ('shuffle-split-13d6dd49173a41f76cbc315063e30090', 6326), ('shuffle-split-13d6dd49173a41f76cbc315063e30090', 5243), ('shuffle-split-13d6dd49173a41f76cbc315063e30090', 813), ('shuffle-split-13d6dd49173a41f76cbc315063e30090', 5917), ('shuffle-split-13d6dd49173a41f76cbc315063e30090', 4605), ('shuffle-split-13d6dd49173a41f76cbc315063e30090', 404), ('shuffle-split-13d6dd49173a41f76cbc315063e30090', 1981), ('shuffle-split-13d6dd49173a41f76cbc315063e30090', 669), ('shuffle-split-13d6dd49173a41f76cbc315063e30090', 7759), ('shuffle-split-13d6dd49173a41f76cbc315063e30090', 6676), ('shuffle-split-13d6dd49173a41f76cbc315063e30090', 4232), ('shuffle-split-13d6dd49173a41f76cbc315063e30090', 5135), ('shuffle-split-13d6dd49173a41f76cbc315063e30090', 8253), ('shuffle-split-13d6dd49173a41f76cbc315063e30090', 705), ('shuffle-split-13d6dd49173a41f76cbc315063e30090', 6941), ('shuffle-split-13d6dd49173a41f76cbc315063e30090', 1608), ('shuffle-split-13d6dd49173a41f76cbc315063e30090', 8927), ('shuffle-split-13d6dd49173a41f76cbc315063e30090', 3414), ('shuffle-split-13d6dd49173a41f76cbc315063e30090', 8518), ('shuffle-split-13d6dd49173a41f76cbc315063e30090', 4088), ('shuffle-split-13d6dd49173a41f76cbc315063e30090', 7880), ('shuffle-split-13d6dd49173a41f76cbc315063e30090', 5665), ('shuffle-split-13d6dd49173a41f76cbc315063e30090', 8783), ('shuffle-split-13d6dd49173a41f76cbc315063e30090', 4353), ('shuffle-split-13d6dd49173a41f76cbc315063e30090', 152), ('shuffle-split-13d6dd49173a41f76cbc315063e30090', 3270), ('shuffle-split-13d6dd49173a41f76cbc315063e30090', 5256), ('shuffle-split-13d6dd49173a41f76cbc315063e30090', 8145), ('shuffle-split-13d6dd49173a41f76cbc315063e30090', 1729), ('shuffle-split-13d6dd49173a41f76cbc315063e30090', 9048), ('shuffle-split-13d6dd49173a41f76cbc315063e30090', 2632), ('shuffle-split-13d6dd49173a41f76cbc315063e30090', 5521), ('shuffle-split-13d6dd49173a41f76cbc315063e30090', 3306), ('shuffle-split-13d6dd49173a41f76cbc315063e30090', 2223), ('shuffle-split-13d6dd49173a41f76cbc315063e30090', 8), ('shuffle-split-13d6dd49173a41f76cbc315063e30090', 2897), ('shuffle-split-13d6dd49173a41f76cbc315063e30090', 6015), ('shuffle-split-13d6dd49173a41f76cbc315063e30090', 682), ('shuffle-split-13d6dd49173a41f76cbc315063e30090', 2488), ('shuffle-split-13d6dd49173a41f76cbc315063e30090', 4474), ('shuffle-split-13d6dd49173a41f76cbc315063e30090', 7592), ('shuffle-split-13d6dd49173a41f76cbc315063e30090', 2753), ('shuffle-split-13d6dd49173a41f76cbc315063e30090', 8531), ('shuffle-split-13d6dd49173a41f76cbc315063e30090', 4330), ('shuffle-split-13d6dd49173a41f76cbc315063e30090', 3921), ('shuffle-split-13d6dd49173a41f76cbc315063e30090', 5907), ('shuffle-split-13d6dd49173a41f76cbc315063e30090', 8796), ('shuffle-split-13d6dd49173a41f76cbc315063e30090', 394), ('shuffle-split-13d6dd49173a41f76cbc315063e30090', 5498), ('shuffle-split-13d6dd49173a41f76cbc315063e30090', 7484), ('shuffle-split-13d6dd49173a41f76cbc315063e30090', 1068), ('open_dataset-tas-dd3a1b3e56343af6cbf01a3769b8fe71', 326, 0, 0), ('shuffle-split-13d6dd49173a41f76cbc315063e30090', 1971), ('shuffle-split-13d6dd49173a41f76cbc315063e30090', 3957), ('shuffle-split-13d6dd49173a41f76cbc315063e30090', 8881), ('shuffle-split-13d6dd49173a41f76cbc315063e30090', 4451), ('shuffle-split-13d6dd49173a41f76cbc315063e30090', 3139), ('shuffle-split-13d6dd49173a41f76cbc315063e30090', 5125), ('shuffle-split-13d6dd49173a41f76cbc315063e30090', 8243), ('shuffle-split-13d6dd49173a41f76cbc315063e30090', 3813), ('shuffle-split-13d6dd49173a41f76cbc315063e30090', 2501), ('shuffle-split-13d6dd49173a41f76cbc315063e30090', 8099), ('shuffle-split-13d6dd49173a41f76cbc315063e30090', 2766), ('shuffle-split-13d6dd49173a41f76cbc315063e30090', 6558), ('shuffle-split-13d6dd49173a41f76cbc315063e30090', 371), ('shuffle-split-13d6dd49173a41f76cbc315063e30090', 7461), ('shuffle-split-13d6dd49173a41f76cbc315063e30090', 8364), ('shuffle-split-13d6dd49173a41f76cbc315063e30090', 4163), ('shuffle-split-13d6dd49173a41f76cbc315063e30090', 3031), ('shuffle-split-13d6dd49173a41f76cbc315063e30090', 3934), ('shuffle-split-13d6dd49173a41f76cbc315063e30090', 2622), ('shuffle-split-13d6dd49173a41f76cbc315063e30090', 407), ('shuffle-split-13d6dd49173a41f76cbc315063e30090', 5511), ('shuffle-split-13d6dd49173a41f76cbc315063e30090', 5102), ('shuffle-split-13d6dd49173a41f76cbc315063e30090', 2478), 'shuffle-taker-44057b6931edd50215fa95db64c5b8ed', ('shuffle-split-13d6dd49173a41f76cbc315063e30090', 7582), ('shuffle-split-13d6dd49173a41f76cbc315063e30090', 3381), ('shuffle-split-13d6dd49173a41f76cbc315063e30090', 8485), ('shuffle-split-13d6dd49173a41f76cbc315063e30090', 4320), ('shuffle-split-13d6dd49173a41f76cbc315063e30090', 5223), ('shuffle-split-13d6dd49173a41f76cbc315063e30090', 793), ('shuffle-split-13d6dd49173a41f76cbc315063e30090', 9015), ('shuffle-split-13d6dd49173a41f76cbc315063e30090', 384), ('shuffle-split-13d6dd49173a41f76cbc315063e30090', 4176), ('shuffle-split-13d6dd49173a41f76cbc315063e30090', 1961), ('shuffle-split-13d6dd49173a41f76cbc315063e30090', 5079), ('shuffle-split-13d6dd49173a41f76cbc315063e30090', 5982), ('shuffle-split-13d6dd49173a41f76cbc315063e30090', 8642), ('shuffle-split-13d6dd49173a41f76cbc315063e30090', 7559), ('shuffle-split-13d6dd49173a41f76cbc315063e30090', 3129), ('shuffle-split-13d6dd49173a41f76cbc315063e30090', 914), ('shuffle-split-13d6dd49173a41f76cbc315063e30090', 6247), ('shuffle-split-13d6dd49173a41f76cbc315063e30090', 3394), ('shuffle-split-13d6dd49173a41f76cbc315063e30090', 5200), ('shuffle-split-13d6dd49173a41f76cbc315063e30090', 2985), ('shuffle-split-13d6dd49173a41f76cbc315063e30090', 361), ('shuffle-split-13d6dd49173a41f76cbc315063e30090', 2347), ('shuffle-split-13d6dd49173a41f76cbc315063e30090', 132), ('shuffle-split-13d6dd49173a41f76cbc315063e30090', 3250), ('shuffle-split-13d6dd49173a41f76cbc315063e30090', 1938), ('shuffle-split-13d6dd49173a41f76cbc315063e30090', 7042), ('shuffle-split-13d6dd49173a41f76cbc315063e30090', 9028), ('shuffle-split-13d6dd49173a41f76cbc315063e30090', 2841), ('shuffle-split-13d6dd49173a41f76cbc315063e30090', 891), ('shuffle-split-13d6dd49173a41f76cbc315063e30090', 8210), ('shuffle-split-13d6dd49173a41f76cbc315063e30090', 5995), ('shuffle-split-13d6dd49173a41f76cbc315063e30090', 6898), ('shuffle-split-13d6dd49173a41f76cbc315063e30090', 482), ('shuffle-split-13d6dd49173a41f76cbc315063e30090', 7572), ('shuffle-split-13d6dd49173a41f76cbc315063e30090', 8475), ('shuffle-split-13d6dd49173a41f76cbc315063e30090', 9149), ('shuffle-split-13d6dd49173a41f76cbc315063e30090', 2733), ('shuffle-split-13d6dd49173a41f76cbc315063e30090', 518), ('shuffle-split-13d6dd49173a41f76cbc315063e30090', 2324), ('shuffle-split-13d6dd49173a41f76cbc315063e30090', 2998), ('shuffle-split-13d6dd49173a41f76cbc315063e30090', 8102), ('shuffle-split-13d6dd49173a41f76cbc315063e30090', 9005), ('shuffle-split-13d6dd49173a41f76cbc315063e30090', 5478), ('shuffle-split-13d6dd49173a41f76cbc315063e30090', 8187), ('shuffle-split-13d6dd49173a41f76cbc315063e30090', 5972), ('shuffle-split-13d6dd49173a41f76cbc315063e30090', 3757), ('shuffle-split-13d6dd49173a41f76cbc315063e30090', 4660), ('shuffle-split-13d6dd49173a41f76cbc315063e30090', 6646), ('shuffle-split-13d6dd49173a41f76cbc315063e30090', 6237), ('shuffle-split-13d6dd49173a41f76cbc315063e30090', 3384), ('shuffle-split-13d6dd49173a41f76cbc315063e30090', 1663), ('shuffle-split-13d6dd49173a41f76cbc315063e30090', 6767), ('shuffle-split-13d6dd49173a41f76cbc315063e30090', 6129), ('shuffle-split-13d6dd49173a41f76cbc315063e30090', 207), ('open_dataset-tas-dd3a1b3e56343af6cbf01a3769b8fe71', 10, 0, 0), ('shuffle-split-13d6dd49173a41f76cbc315063e30090', 3770), ('shuffle-split-13d6dd49173a41f76cbc315063e30090', 9103), ('shuffle-split-13d6dd49173a41f76cbc315063e30090', 1146), ('shuffle-split-13d6dd49173a41f76cbc315063e30090', 6250), ('shuffle-split-13d6dd49173a41f76cbc315063e30090', 4938), ('shuffle-split-13d6dd49173a41f76cbc315063e30090', 737), ('shuffle-split-13d6dd49173a41f76cbc315063e30090', 8959), ('shuffle-split-13d6dd49173a41f76cbc315063e30090', 328), ('shuffle-split-13d6dd49173a41f76cbc315063e30090', 6106), ('shuffle-split-13d6dd49173a41f76cbc315063e30090', 1905), ('shuffle-split-13d6dd49173a41f76cbc315063e30090', 8995), ('shuffle-split-13d6dd49173a41f76cbc315063e30090', 2808), ('shuffle-split-13d6dd49173a41f76cbc315063e30090', 593), ('shuffle-split-13d6dd49173a41f76cbc315063e30090', 2579), ('shuffle-split-13d6dd49173a41f76cbc315063e30090', 5962), ('shuffle-split-13d6dd49173a41f76cbc315063e30090', 2026), ('shuffle-split-13d6dd49173a41f76cbc315063e30090', 7130), ('shuffle-split-13d6dd49173a41f76cbc315063e30090', 9116), ('shuffle-split-13d6dd49173a41f76cbc315063e30090', 485), ('shuffle-split-13d6dd49173a41f76cbc315063e30090', 7804), ('shuffle-split-13d6dd49173a41f76cbc315063e30090', 3603), ('shuffle-split-13d6dd49173a41f76cbc315063e30090', 5589), ('shuffle-split-13d6dd49173a41f76cbc315063e30090', 1388), ('shuffle-split-13d6dd49173a41f76cbc315063e30090', 4277), ('shuffle-split-13d6dd49173a41f76cbc315063e30090', 2965), ('shuffle-split-13d6dd49173a41f76cbc315063e30090', 341), ('shuffle-split-13d6dd49173a41f76cbc315063e30090', 1244), ('shuffle-split-13d6dd49173a41f76cbc315063e30090', 7022), ('shuffle-split-13d6dd49173a41f76cbc315063e30090', 2821), ('shuffle-split-13d6dd49173a41f76cbc315063e30090', 3724), ('shuffle-split-13d6dd49173a41f76cbc315063e30090', 1509), ('shuffle-split-13d6dd49173a41f76cbc315063e30090', 4627), ('shuffle-split-13d6dd49173a41f76cbc315063e30090', 6613), ('shuffle-split-13d6dd49173a41f76cbc315063e30090', 197), ('shuffle-split-13d6dd49173a41f76cbc315063e30090', 3315), ('shuffle-split-13d6dd49173a41f76cbc315063e30090', 1100), ('shuffle-split-13d6dd49173a41f76cbc315063e30090', 8419), ('shuffle-split-13d6dd49173a41f76cbc315063e30090', 8190), ('shuffle-split-13d6dd49173a41f76cbc315063e30090', 8684), ('shuffle-split-13d6dd49173a41f76cbc315063e30090', 53), ('shuffle-split-13d6dd49173a41f76cbc315063e30090', 4748), ('shuffle-split-13d6dd49173a41f76cbc315063e30090', 6734), ('shuffle-split-13d6dd49173a41f76cbc315063e30090', 318), ('shuffle-split-13d6dd49173a41f76cbc315063e30090', 8540), ('shuffle-split-13d6dd49173a41f76cbc315063e30090', 2798), ('shuffle-split-13d6dd49173a41f76cbc315063e30090', 583), ('open_dataset-tas-dd3a1b3e56343af6cbf01a3769b8fe71', 29, 0, 0), ('shuffle-split-13d6dd49173a41f76cbc315063e30090', 3063), ('shuffle-split-13d6dd49173a41f76cbc315063e30090', 3966), ('shuffle-split-13d6dd49173a41f76cbc315063e30090', 439), ('shuffle-split-13d6dd49173a41f76cbc315063e30090', 7758), ('shuffle-split-13d6dd49173a41f76cbc315063e30090', 5543), ('shuffle-split-13d6dd49173a41f76cbc315063e30090', 210), ('shuffle-split-13d6dd49173a41f76cbc315063e30090', 6217), ('shuffle-split-13d6dd49173a41f76cbc315063e30090', 2016), ('store-map-5fd2c8da484a50ea33113aaa77544919', 109, 0, 0), ('shuffle-split-13d6dd49173a41f76cbc315063e30090', 7120), ('shuffle-split-13d6dd49173a41f76cbc315063e30090', 7794), ('shuffle-split-13d6dd49173a41f76cbc315063e30090', 969), ('open_dataset-tas-dd3a1b3e56343af6cbf01a3769b8fe71', 12, 0, 0), ('shuffle-split-13d6dd49173a41f76cbc315063e30090', 3858), ('shuffle-split-13d6dd49173a41f76cbc315063e30090', 9191), ('shuffle-split-13d6dd49173a41f76cbc315063e30090', 2775), ('shuffle-split-13d6dd49173a41f76cbc315063e30090', 560), ('shuffle-split-13d6dd49173a41f76cbc315063e30090', 5664), ('shuffle-split-13d6dd49173a41f76cbc315063e30090', 6338), ('shuffle-split-13d6dd49173a41f76cbc315063e30090', 7915), ('open_dataset-tas-dd3a1b3e56343af6cbf01a3769b8fe71', 302, 0, 0), ('shuffle-split-13d6dd49173a41f76cbc315063e30090', 187), ('shuffle-split-13d6dd49173a41f76cbc315063e30090', 1090), ('shuffle-split-13d6dd49173a41f76cbc315063e30090', 1993), ('shuffle-split-13d6dd49173a41f76cbc315063e30090', 1764), ('shuffle-split-13d6dd49173a41f76cbc315063e30090', 681), ('shuffle-split-13d6dd49173a41f76cbc315063e30090', 8000), ('shuffle-split-13d6dd49173a41f76cbc315063e30090', 452), ('shuffle-split-13d6dd49173a41f76cbc315063e30090', 2258), ('shuffle-split-13d6dd49173a41f76cbc315063e30090', 2029), ('shuffle-split-13d6dd49173a41f76cbc315063e30090', 573), ('shuffle-split-13d6dd49173a41f76cbc315063e30090', 7892), ('shuffle-split-13d6dd49173a41f76cbc315063e30090', 4365), ('rechunk-split-debcddb6bcd428a4931b4a5e73fefd64', 68), ('shuffle-split-13d6dd49173a41f76cbc315063e30090', 5268), ('shuffle-split-13d6dd49173a41f76cbc315063e30090', 5942), ('shuffle-split-13d6dd49173a41f76cbc315063e30090', 9060), ('open_dataset-tas-dd3a1b3e56343af6cbf01a3769b8fe71', 84, 0, 0), ('shuffle-split-13d6dd49173a41f76cbc315063e30090', 694), ('shuffle-split-13d6dd49173a41f76cbc315063e30090', 9181), ('shuffle-split-13d6dd49173a41f76cbc315063e30090', 2765), ('shuffle-split-13d6dd49173a41f76cbc315063e30090', 550), ('shuffle-split-13d6dd49173a41f76cbc315063e30090', 7869), ('shuffle-split-13d6dd49173a41f76cbc315063e30090', 7460), ('shuffle-split-13d6dd49173a41f76cbc315063e30090', 8134), ('shuffle-split-13d6dd49173a41f76cbc315063e30090', 8808), ('shuffle-split-13d6dd49173a41f76cbc315063e30090', 177), ('shuffle-split-13d6dd49173a41f76cbc315063e30090', 1080), ('shuffle-split-13d6dd49173a41f76cbc315063e30090', 7087), ('shuffle-split-13d6dd49173a41f76cbc315063e30090', 671), ('shuffle-split-13d6dd49173a41f76cbc315063e30090', 7990), ('shuffle-split-13d6dd49173a41f76cbc315063e30090', 1574), ('shuffle-split-13d6dd49173a41f76cbc315063e30090', 6449), ('shuffle-split-13d6dd49173a41f76cbc315063e30090', 2922), ('shuffle-split-13d6dd49173a41f76cbc315063e30090', 6040), ('shuffle-split-13d6dd49173a41f76cbc315063e30090', 9158), ('shuffle-split-13d6dd49173a41f76cbc315063e30090', 1610), ('shuffle-split-13d6dd49173a41f76cbc315063e30090', 8929), ('shuffle-split-13d6dd49173a41f76cbc315063e30090', 527), ('shuffle-split-13d6dd49173a41f76cbc315063e30090', 8520), ('shuffle-split-13d6dd49173a41f76cbc315063e30090', 4090), ('shuffle-split-13d6dd49173a41f76cbc315063e30090', 9194), ('shuffle-split-13d6dd49173a41f76cbc315063e30090', 8111), ('shuffle-split-13d6dd49173a41f76cbc315063e30090', 2778), ('shuffle-split-13d6dd49173a41f76cbc315063e30090', 5896), ('shuffle-split-13d6dd49173a41f76cbc315063e30090', 7882), ('shuffle-split-13d6dd49173a41f76cbc315063e30090', 563), ('open_dataset-tas-dd3a1b3e56343af6cbf01a3769b8fe71', 135, 0, 0), ('shuffle-split-13d6dd49173a41f76cbc315063e30090', 8785), ('shuffle-split-13d6dd49173a41f76cbc315063e30090', 154), ('shuffle-split-13d6dd49173a41f76cbc315063e30090', 7473), ('shuffle-split-13d6dd49173a41f76cbc315063e30090', 1057), ('shuffle-split-13d6dd49173a41f76cbc315063e30090', 8147), ('shuffle-split-13d6dd49173a41f76cbc315063e30090', 9050), ('shuffle-split-13d6dd49173a41f76cbc315063e30090', 419), ('shuffle-split-13d6dd49173a41f76cbc315063e30090', 3308), ('shuffle-split-13d6dd49173a41f76cbc315063e30090', 5114), ('shuffle-split-13d6dd49173a41f76cbc315063e30090', 913), ('shuffle-split-13d6dd49173a41f76cbc315063e30090', 4476), ('shuffle-split-13d6dd49173a41f76cbc315063e30090', 949), ('shuffle-split-13d6dd49173a41f76cbc315063e30090', 4741), ('shuffle-split-13d6dd49173a41f76cbc315063e30090', 5873), ('shuffle-split-13d6dd49173a41f76cbc315063e30090', 805), ('shuffle-split-13d6dd49173a41f76cbc315063e30090', 8124), ('shuffle-split-13d6dd49173a41f76cbc315063e30090', 1708), ('shuffle-split-13d6dd49173a41f76cbc315063e30090', 6174), ('shuffle-split-13d6dd49173a41f76cbc315063e30090', 661), ('shuffle-split-13d6dd49173a41f76cbc315063e30090', 7980), ('shuffle-split-13d6dd49173a41f76cbc315063e30090', 3779), ('shuffle-split-13d6dd49173a41f76cbc315063e30090', 23), ('shuffle-split-13d6dd49173a41f76cbc315063e30090', 1155), ('shuffle-split-13d6dd49173a41f76cbc315063e30090', 6933), ('shuffle-split-13d6dd49173a41f76cbc315063e30090', 2732), ('shuffle-split-13d6dd49173a41f76cbc315063e30090', 517), ('shuffle-split-13d6dd49173a41f76cbc315063e30090', 7198), ('open_dataset-tas-dd3a1b3e56343af6cbf01a3769b8fe71', 127, 0, 0), ('shuffle-split-13d6dd49173a41f76cbc315063e30090', 9040), ('shuffle-split-13d6dd49173a41f76cbc315063e30090', 409), ('shuffle-split-13d6dd49173a41f76cbc315063e30090', 1541), ('shuffle-split-13d6dd49173a41f76cbc315063e30090', 1312), ('shuffle-split-13d6dd49173a41f76cbc315063e30090', 8631), ('shuffle-split-13d6dd49173a41f76cbc315063e30090', 6416), ('shuffle-split-13d6dd49173a41f76cbc315063e30090', 903), ('shuffle-split-13d6dd49173a41f76cbc315063e30090', 1577), ('shuffle-split-13d6dd49173a41f76cbc315063e30090', 8896), ('shuffle-split-13d6dd49173a41f76cbc315063e30090', 6681), ('shuffle-split-13d6dd49173a41f76cbc315063e30090', 3383), ('shuffle-split-13d6dd49173a41f76cbc315063e30090', 6272), ('shuffle-split-13d6dd49173a41f76cbc315063e30090', 7175), ('shuffle-split-13d6dd49173a41f76cbc315063e30090', 2974), ('open_dataset-tas-dd3a1b3e56343af6cbf01a3769b8fe71', 110, 0, 0), ('shuffle-split-13d6dd49173a41f76cbc315063e30090', 1433), ('shuffle-split-13d6dd49173a41f76cbc315063e30090', 8752), ('shuffle-split-13d6dd49173a41f76cbc315063e30090', 3239), ('shuffle-split-13d6dd49173a41f76cbc315063e30090', 1024), ('shuffle-split-13d6dd49173a41f76cbc315063e30090', 8343), ('shuffle-split-13d6dd49173a41f76cbc315063e30090', 8114), ('shuffle-split-13d6dd49173a41f76cbc315063e30090', 3913), ('shuffle-split-13d6dd49173a41f76cbc315063e30090', 1927), ('shuffle-split-13d6dd49173a41f76cbc315063e30090', 7031), ('shuffle-split-13d6dd49173a41f76cbc315063e30090', 1698), ('shuffle-split-13d6dd49173a41f76cbc315063e30090', 1289), ('shuffle-split-13d6dd49173a41f76cbc315063e30090', 651), ('shuffle-split-13d6dd49173a41f76cbc315063e30090', 2457), ('shuffle-split-13d6dd49173a41f76cbc315063e30090', 7561), ('shuffle-split-13d6dd49173a41f76cbc315063e30090', 3360), ('open_dataset-tas-dd3a1b3e56343af6cbf01a3769b8fe71', 157, 0, 0), ('shuffle-split-13d6dd49173a41f76cbc315063e30090', 4937), ('shuffle-split-13d6dd49173a41f76cbc315063e30090', 5611), ('shuffle-split-13d6dd49173a41f76cbc315063e30090', 6514), ('shuffle-split-13d6dd49173a41f76cbc315063e30090', 8500), ('shuffle-split-13d6dd49173a41f76cbc315063e30090', 4299), ('shuffle-split-13d6dd49173a41f76cbc315063e30090', 98), ('shuffle-split-13d6dd49173a41f76cbc315063e30090', 1001), ('shuffle-split-13d6dd49173a41f76cbc315063e30090', 8091), ('shuffle-split-13d6dd49173a41f76cbc315063e30090', 5467), ('shuffle-split-13d6dd49173a41f76cbc315063e30090', 7044), ('shuffle-split-13d6dd49173a41f76cbc315063e30090', 3746), ('shuffle-split-13d6dd49173a41f76cbc315063e30090', 1531), ('shuffle-split-13d6dd49173a41f76cbc315063e30090', 1302), ('shuffle-split-13d6dd49173a41f76cbc315063e30090', 219), ('shuffle-split-13d6dd49173a41f76cbc315063e30090', 2205), ('shuffle-split-13d6dd49173a41f76cbc315063e30090', 6226), ('shuffle-split-13d6dd49173a41f76cbc315063e30090', 893), ('shuffle-split-13d6dd49173a41f76cbc315063e30090', 6900), ('shuffle-split-13d6dd49173a41f76cbc315063e30090', 2470), ('shuffle-split-13d6dd49173a41f76cbc315063e30090', 3373), ('shuffle-split-13d6dd49173a41f76cbc315063e30090', 6262), ('shuffle-split-13d6dd49173a41f76cbc315063e30090', 2061), ('shuffle-split-13d6dd49173a41f76cbc315063e30090', 7165), ('shuffle-split-13d6dd49173a41f76cbc315063e30090', 4950), ('shuffle-split-13d6dd49173a41f76cbc315063e30090', 2735), ('shuffle-split-13d6dd49173a41f76cbc315063e30090', 1014), ('shuffle-split-13d6dd49173a41f76cbc315063e30090', 8333), ('shuffle-split-13d6dd49173a41f76cbc315063e30090', 6118), ('shuffle-split-13d6dd49173a41f76cbc315063e30090', 3903), ('shuffle-split-13d6dd49173a41f76cbc315063e30090', 1688), ('shuffle-split-13d6dd49173a41f76cbc315063e30090', 376), ('shuffle-split-13d6dd49173a41f76cbc315063e30090', 5480), ('shuffle-split-13d6dd49173a41f76cbc315063e30090', 1279), ('shuffle-split-13d6dd49173a41f76cbc315063e30090', 2182), ('shuffle-split-13d6dd49173a41f76cbc315063e30090', 3759), ('shuffle-split-13d6dd49173a41f76cbc315063e30090', 6877), ('shuffle-split-13d6dd49173a41f76cbc315063e30090', 8863), ('shuffle-split-13d6dd49173a41f76cbc315063e30090', 2447), ('shuffle-split-13d6dd49173a41f76cbc315063e30090', 5565), ('shuffle-split-13d6dd49173a41f76cbc315063e30090', 7551), ('shuffle-split-13d6dd49173a41f76cbc315063e30090', 232), ('shuffle-split-13d6dd49173a41f76cbc315063e30090', 3350), ('shuffle-split-13d6dd49173a41f76cbc315063e30090', 3121), ('shuffle-split-13d6dd49173a41f76cbc315063e30090', 4927), ('shuffle-split-13d6dd49173a41f76cbc315063e30090', 7816), ('shuffle-split-13d6dd49173a41f76cbc315063e30090', 991), ('shuffle-split-13d6dd49173a41f76cbc315063e30090', 6998), ('shuffle-split-13d6dd49173a41f76cbc315063e30090', 1256), ('shuffle-split-13d6dd49173a41f76cbc315063e30090', 8346), ('shuffle-split-13d6dd49173a41f76cbc315063e30090', 4145), ('shuffle-split-13d6dd49173a41f76cbc315063e30090', 847), ('open_dataset-tas-dd3a1b3e56343af6cbf01a3769b8fe71', 112, 0, 0), ('shuffle-split-13d6dd49173a41f76cbc315063e30090', 3736), ('shuffle-split-13d6dd49173a41f76cbc315063e30090', 6625), ('store-map-5fd2c8da484a50ea33113aaa77544919', 33, 0, 0), ('shuffle-split-13d6dd49173a41f76cbc315063e30090', 7528), ('shuffle-split-13d6dd49173a41f76cbc315063e30090', 5987), ('shuffle-split-13d6dd49173a41f76cbc315063e30090', 9105), ('shuffle-split-13d6dd49173a41f76cbc315063e30090', 2689), ('shuffle-split-13d6dd49173a41f76cbc315063e30090', 1377), ('shuffle-split-13d6dd49173a41f76cbc315063e30090', 2280), ('shuffle-split-13d6dd49173a41f76cbc315063e30090', 5169), ('shuffle-split-13d6dd49173a41f76cbc315063e30090', 2954), ('shuffle-split-13d6dd49173a41f76cbc315063e30090', 8058), ('shuffle-split-13d6dd49173a41f76cbc315063e30090', 2316), ('shuffle-split-13d6dd49173a41f76cbc315063e30090', 1004), ('shuffle-split-13d6dd49173a41f76cbc315063e30090', 1907), ('shuffle-split-13d6dd49173a41f76cbc315063e30090', 2581), ('shuffle-split-13d6dd49173a41f76cbc315063e30090', 5699), ('shuffle-split-13d6dd49173a41f76cbc315063e30090', 1498), ('shuffle-split-13d6dd49173a41f76cbc315063e30090', 8817), ('shuffle-split-13d6dd49173a41f76cbc315063e30090', 1269), ('shuffle-split-13d6dd49173a41f76cbc315063e30090', 5290), ('shuffle-split-13d6dd49173a41f76cbc315063e30090', 8853), ('shuffle-split-13d6dd49173a41f76cbc315063e30090', 7770), ('shuffle-split-13d6dd49173a41f76cbc315063e30090', 7541), ('shuffle-split-13d6dd49173a41f76cbc315063e30090', 6229), ('shuffle-split-13d6dd49173a41f76cbc315063e30090', 7132), ('shuffle-split-13d6dd49173a41f76cbc315063e30090', 9118), ('shuffle-split-13d6dd49173a41f76cbc315063e30090', 8035), ('shuffle-split-13d6dd49173a41f76cbc315063e30090', 2702), ('shuffle-split-13d6dd49173a41f76cbc315063e30090', 3605), ('shuffle-split-13d6dd49173a41f76cbc315063e30090', 4508), ('shuffle-split-13d6dd49173a41f76cbc315063e30090', 6494), ('shuffle-split-13d6dd49173a41f76cbc315063e30090', 1884), ('shuffle-split-13d6dd49173a41f76cbc315063e30090', 3870), ('shuffle-split-13d6dd49173a41f76cbc315063e30090', 8974), ('shuffle-split-13d6dd49173a41f76cbc315063e30090', 6759), ('shuffle-split-13d6dd49173a41f76cbc315063e30090', 2558), ('shuffle-split-13d6dd49173a41f76cbc315063e30090', 3461), ('shuffle-split-13d6dd49173a41f76cbc315063e30090', 7253), ('open_dataset-tas-dd3a1b3e56343af6cbf01a3769b8fe71', 292, 0, 0), ('shuffle-split-13d6dd49173a41f76cbc315063e30090', 1740), ('shuffle-split-13d6dd49173a41f76cbc315063e30090', 199), ('shuffle-split-13d6dd49173a41f76cbc315063e30090', 5303), ('shuffle-split-13d6dd49173a41f76cbc315063e30090', 1102), ('shuffle-split-13d6dd49173a41f76cbc315063e30090', 8421), ('shuffle-split-13d6dd49173a41f76cbc315063e30090', 5797), ('shuffle-split-13d6dd49173a41f76cbc315063e30090', 1367), ('shuffle-split-13d6dd49173a41f76cbc315063e30090', 2270), ('shuffle-split-13d6dd49173a41f76cbc315063e30090', 8277), ('shuffle-split-13d6dd49173a41f76cbc315063e30090', 3438), ('shuffle-split-13d6dd49173a41f76cbc315063e30090', 8313), ('shuffle-split-13d6dd49173a41f76cbc315063e30090', 2800), ('shuffle-split-13d6dd49173a41f76cbc315063e30090', 3703), ('shuffle-split-13d6dd49173a41f76cbc315063e30090', 5689), ('shuffle-split-13d6dd49173a41f76cbc315063e30090', 3474), ('shuffle-split-13d6dd49173a41f76cbc315063e30090', 6592), ('shuffle-split-13d6dd49173a41f76cbc315063e30090', 8578), ('shuffle-split-13d6dd49173a41f76cbc315063e30090', 2391), ('shuffle-split-13d6dd49173a41f76cbc315063e30090', 2162), ('shuffle-split-13d6dd49173a41f76cbc315063e30090', 1344), ('shuffle-split-13d6dd49173a41f76cbc315063e30090', 8663), ('shuffle-split-13d6dd49173a41f76cbc315063e30090', 6448), ('shuffle-split-13d6dd49173a41f76cbc315063e30090', 6219), ('shuffle-split-13d6dd49173a41f76cbc315063e30090', 8928), ('shuffle-split-13d6dd49173a41f76cbc315063e30090', 6304), ('shuffle-split-13d6dd49173a41f76cbc315063e30090', 8290), ('shuffle-split-13d6dd49173a41f76cbc315063e30090', 971), ('shuffle-split-13d6dd49173a41f76cbc315063e30090', 3451), ('shuffle-split-13d6dd49173a41f76cbc315063e30090', 7243), ('shuffle-split-13d6dd49173a41f76cbc315063e30090', 9049), ('shuffle-split-13d6dd49173a41f76cbc315063e30090', 6605), ('shuffle-split-13d6dd49173a41f76cbc315063e30090', 418), ('shuffle-split-13d6dd49173a41f76cbc315063e30090', 5522), ('shuffle-split-13d6dd49173a41f76cbc315063e30090', 3307), ('shuffle-split-13d6dd49173a41f76cbc315063e30090', 5293), ('shuffle-split-13d6dd49173a41f76cbc315063e30090', 9085), ('shuffle-split-13d6dd49173a41f76cbc315063e30090', 8002), ('shuffle-split-13d6dd49173a41f76cbc315063e30090', 2669), ('shuffle-split-13d6dd49173a41f76cbc315063e30090', 8676), ('shuffle-split-13d6dd49173a41f76cbc315063e30090', 5378), ('shuffle-split-13d6dd49173a41f76cbc315063e30090', 3837), ('shuffle-split-13d6dd49173a41f76cbc315063e30090', 8941), ('shuffle-split-13d6dd49173a41f76cbc315063e30090', 4740), ('shuffle-split-13d6dd49173a41f76cbc315063e30090', 575), ('shuffle-split-13d6dd49173a41f76cbc315063e30090', 7894), ('shuffle-split-13d6dd49173a41f76cbc315063e30090', 4596), ('shuffle-split-13d6dd49173a41f76cbc315063e30090', 2381), ('shuffle-split-13d6dd49173a41f76cbc315063e30090', 4367), ('shuffle-split-13d6dd49173a41f76cbc315063e30090', 5270), ('shuffle-split-13d6dd49173a41f76cbc315063e30090', 9062), ('shuffle-split-13d6dd49173a41f76cbc315063e30090', 2237), ('shuffle-split-13d6dd49173a41f76cbc315063e30090', 22), ('rechunk-split-debcddb6bcd428a4931b4a5e73fefd64', 420), ('shuffle-split-13d6dd49173a41f76cbc315063e30090', 4488), ('shuffle-split-13d6dd49173a41f76cbc315063e30090', 8509), ('shuffle-split-13d6dd49173a41f76cbc315063e30090', 9183), ('shuffle-split-13d6dd49173a41f76cbc315063e30090', 3441), ('shuffle-split-13d6dd49173a41f76cbc315063e30090', 8545), ('shuffle-split-13d6dd49173a41f76cbc315063e30090', 3935), ('shuffle-split-13d6dd49173a41f76cbc315063e30090', 1720), ('shuffle-split-13d6dd49173a41f76cbc315063e30090', 2623), ('shuffle-split-13d6dd49173a41f76cbc315063e30090', 7498), ('shuffle-split-13d6dd49173a41f76cbc315063e30090', 1082), ('shuffle-split-13d6dd49173a41f76cbc315063e30090', 6186), ('shuffle-split-13d6dd49173a41f76cbc315063e30090', 3791), ('shuffle-split-13d6dd49173a41f76cbc315063e30090', 938), ('shuffle-split-13d6dd49173a41f76cbc315063e30090', 6042), ('shuffle-split-13d6dd49173a41f76cbc315063e30090', 8931), ('shuffle-split-13d6dd49173a41f76cbc315063e30090', 529), ('shuffle-split-13d6dd49173a41f76cbc315063e30090', 5224), ('shuffle-split-13d6dd49173a41f76cbc315063e30090', 7210), ('shuffle-split-13d6dd49173a41f76cbc315063e30090', 3009), ('shuffle-split-13d6dd49173a41f76cbc315063e30090', 8787), ('shuffle-split-13d6dd49173a41f76cbc315063e30090', 7475), ('shuffle-split-13d6dd49173a41f76cbc315063e30090', 6163), ('shuffle-split-13d6dd49173a41f76cbc315063e30090', 2865), ('shuffle-split-13d6dd49173a41f76cbc315063e30090', 650), ('shuffle-split-13d6dd49173a41f76cbc315063e30090', 2636), ('shuffle-split-13d6dd49173a41f76cbc315063e30090', 421), ('shuffle-split-13d6dd49173a41f76cbc315063e30090', 1324), ('shuffle-split-13d6dd49173a41f76cbc315063e30090', 6428), ('shuffle-split-13d6dd49173a41f76cbc315063e30090', 6019), ('shuffle-split-13d6dd49173a41f76cbc315063e30090', 8005), ('shuffle-split-13d6dd49173a41f76cbc315063e30090', 6922), ('shuffle-split-13d6dd49173a41f76cbc315063e30090', 5610), ('shuffle-split-13d6dd49173a41f76cbc315063e30090', 3395), ('shuffle-split-13d6dd49173a41f76cbc315063e30090', 8764), ('shuffle-split-13d6dd49173a41f76cbc315063e30090', 4334), ('shuffle-split-13d6dd49173a41f76cbc315063e30090', 133), ('shuffle-split-13d6dd49173a41f76cbc315063e30090', 3251), ('shuffle-split-13d6dd49173a41f76cbc315063e30090', 3022), ('shuffle-split-13d6dd49173a41f76cbc315063e30090', 3925), ('shuffle-split-13d6dd49173a41f76cbc315063e30090', 1710), ('shuffle-split-13d6dd49173a41f76cbc315063e30090', 1975), ('shuffle-split-13d6dd49173a41f76cbc315063e30090', 892), ('shuffle-split-13d6dd49173a41f76cbc315063e30090', 2878), ('shuffle-split-13d6dd49173a41f76cbc315063e30090', 1566), ('shuffle-split-13d6dd49173a41f76cbc315063e30090', 6670), ('shuffle-split-13d6dd49173a41f76cbc315063e30090', 4455), ('shuffle-split-13d6dd49173a41f76cbc315063e30090', 2240), ('shuffle-split-13d6dd49173a41f76cbc315063e30090', 5358), ('shuffle-split-13d6dd49173a41f76cbc315063e30090', 4949), ('shuffle-split-13d6dd49173a41f76cbc315063e30090', 7838), ('shuffle-split-13d6dd49173a41f76cbc315063e30090', 4311), ('shuffle-split-13d6dd49173a41f76cbc315063e30090', 3902), ('shuffle-split-13d6dd49173a41f76cbc315063e30090', 9006), ('shuffle-split-13d6dd49173a41f76cbc315063e30090', 8777), ('shuffle-split-13d6dd49173a41f76cbc315063e30090', 2590), ('shuffle-split-13d6dd49173a41f76cbc315063e30090', 3264), ('shuffle-split-13d6dd49173a41f76cbc315063e30090', 8368), ('shuffle-split-13d6dd49173a41f76cbc315063e30090', 6153), ('shuffle-split-13d6dd49173a41f76cbc315063e30090', 1952), ('shuffle-split-13d6dd49173a41f76cbc315063e30090', 1543), ('shuffle-split-13d6dd49173a41f76cbc315063e30090', 6647), ('shuffle-split-13d6dd49173a41f76cbc315063e30090', 1314), ('shuffle-split-13d6dd49173a41f76cbc315063e30090', 231), ('shuffle-split-13d6dd49173a41f76cbc315063e30090', 7550), ('shuffle-split-13d6dd49173a41f76cbc315063e30090', 3120), ('shuffle-split-13d6dd49173a41f76cbc315063e30090', 905), ('shuffle-split-13d6dd49173a41f76cbc315063e30090', 6912), ('shuffle-split-13d6dd49173a41f76cbc315063e30090', 1579), ('shuffle-split-13d6dd49173a41f76cbc315063e30090', 2711), ('shuffle-split-13d6dd49173a41f76cbc315063e30090', 4288), ('shuffle-split-13d6dd49173a41f76cbc315063e30090', 9163), ('open_dataset-tas-dd3a1b3e56343af6cbf01a3769b8fe71', 92, 0, 0), ('shuffle-split-13d6dd49173a41f76cbc315063e30090', 1664), ('shuffle-split-13d6dd49173a41f76cbc315063e30090', 6768), ('shuffle-split-13d6dd49173a41f76cbc315063e30090', 352), ('shuffle-split-13d6dd49173a41f76cbc315063e30090', 5227), ('shuffle-split-13d6dd49173a41f76cbc315063e30090', 8345), ('shuffle-split-13d6dd49173a41f76cbc315063e30090', 3012), ('shuffle-split-13d6dd49173a41f76cbc315063e30090', 6130), ('shuffle-split-13d6dd49173a41f76cbc315063e30090', 1929), ('shuffle-split-13d6dd49173a41f76cbc315063e30090', 388), ('shuffle-split-13d6dd49173a41f76cbc315063e30090', 5492), ('shuffle-split-13d6dd49173a41f76cbc315063e30090', 6395), ('shuffle-split-13d6dd49173a41f76cbc315063e30090', 2194), ('shuffle-split-13d6dd49173a41f76cbc315063e30090', 2868), ('shuffle-split-13d6dd49173a41f76cbc315063e30090', 6889), ('shuffle-split-13d6dd49173a41f76cbc315063e30090', 1556), ('shuffle-split-13d6dd49173a41f76cbc315063e30090', 8237), ('shuffle-split-13d6dd49173a41f76cbc315063e30090', 9140), ('shuffle-split-13d6dd49173a41f76cbc315063e30090', 2724), ('shuffle-split-13d6dd49173a41f76cbc315063e30090', 5842), ('shuffle-split-13d6dd49173a41f76cbc315063e30090', 8731), ('shuffle-split-13d6dd49173a41f76cbc315063e30090', 2315), ('shuffle-split-13d6dd49173a41f76cbc315063e30090', 1003), ('shuffle-split-13d6dd49173a41f76cbc315063e30090', 8093), ('open_dataset-tas-dd3a1b3e56343af6cbf01a3769b8fe71', 344, 0, 0), ('shuffle-split-13d6dd49173a41f76cbc315063e30090', 1942), ('shuffle-split-13d6dd49173a41f76cbc315063e30090', 630), ('shuffle-split-13d6dd49173a41f76cbc315063e30090', 3748), ('shuffle-split-13d6dd49173a41f76cbc315063e30090', 4422), ('shuffle-split-13d6dd49173a41f76cbc315063e30090', 221), ('shuffle-split-13d6dd49173a41f76cbc315063e30090', 1124), ('shuffle-split-13d6dd49173a41f76cbc315063e30090', 8214), ('shuffle-split-13d6dd49173a41f76cbc315063e30090', 9117), ('shuffle-split-13d6dd49173a41f76cbc315063e30090', 3604), ('shuffle-split-13d6dd49173a41f76cbc315063e30090', 1389), ('shuffle-split-13d6dd49173a41f76cbc315063e30090', 1654), ('shuffle-split-13d6dd49173a41f76cbc315063e30090', 8973), ('shuffle-split-13d6dd49173a41f76cbc315063e30090', 342), ('shuffle-split-13d6dd49173a41f76cbc315063e30090', 1245), ('shuffle-split-13d6dd49173a41f76cbc315063e30090', 1016), ('shuffle-split-13d6dd49173a41f76cbc315063e30090', 6120), ('shuffle-split-13d6dd49173a41f76cbc315063e30090', 2593), ('shuffle-split-13d6dd49173a41f76cbc315063e30090', 1281), ('shuffle-split-13d6dd49173a41f76cbc315063e30090', 8191), ('shuffle-split-13d6dd49173a41f76cbc315063e30090', 1546), ('shuffle-split-13d6dd49173a41f76cbc315063e30090', 8865), ('shuffle-split-13d6dd49173a41f76cbc315063e30090', 5567), ('shuffle-split-13d6dd49173a41f76cbc315063e30090', 7553), ('shuffle-split-13d6dd49173a41f76cbc315063e30090', 234), ('shuffle-split-13d6dd49173a41f76cbc315063e30090', 3352), ('open_dataset-tas-dd3a1b3e56343af6cbf01a3769b8fe71', 111, 0, 0), ('shuffle-split-13d6dd49173a41f76cbc315063e30090', 8456), ('shuffle-split-13d6dd49173a41f76cbc315063e30090', 6506), ('shuffle-split-13d6dd49173a41f76cbc315063e30090', 5194), ('shuffle-split-13d6dd49173a41f76cbc315063e30090', 9215), ('shuffle-split-13d6dd49173a41f76cbc315063e30090', 1667), ('shuffle-split-13d6dd49173a41f76cbc315063e30090', 584), ('shuffle-split-13d6dd49173a41f76cbc315063e30090', 1258), ('shuffle-split-13d6dd49173a41f76cbc315063e30090', 2161), ('shuffle-split-13d6dd49173a41f76cbc315063e30090', 4147), ('shuffle-split-13d6dd49173a41f76cbc315063e30090', 2426), ('shuffle-split-13d6dd49173a41f76cbc315063e30090', 7530), ('shuffle-split-13d6dd49173a41f76cbc315063e30090', 3329), ('shuffle-split-13d6dd49173a41f76cbc315063e30090', 885), ('shuffle-split-13d6dd49173a41f76cbc315063e30090', 2017), ('shuffle-split-13d6dd49173a41f76cbc315063e30090', 6483), ('shuffle-split-13d6dd49173a41f76cbc315063e30090', 4268), ('shuffle-split-13d6dd49173a41f76cbc315063e30090', 5171), ('shuffle-split-13d6dd49173a41f76cbc315063e30090', 8060), ('shuffle-split-13d6dd49173a41f76cbc315063e30090', 3859), ('shuffle-split-13d6dd49173a41f76cbc315063e30090', 1644), ('shuffle-split-13d6dd49173a41f76cbc315063e30090', 8963), ('shuffle-split-13d6dd49173a41f76cbc315063e30090', 8325), ('shuffle-split-13d6dd49173a41f76cbc315063e30090', 8590), ('shuffle-split-13d6dd49173a41f76cbc315063e30090', 6195), ('shuffle-split-13d6dd49173a41f76cbc315063e30090', 9084), ('shuffle-split-13d6dd49173a41f76cbc315063e30090', 6869), ('shuffle-split-13d6dd49173a41f76cbc315063e30090', 5557), ('shuffle-split-13d6dd49173a41f76cbc315063e30090', 7543), ('shuffle-split-13d6dd49173a41f76cbc315063e30090', 6460), ('shuffle-split-13d6dd49173a41f76cbc315063e30090', 5148), ('shuffle-split-13d6dd49173a41f76cbc315063e30090', 7134), ('shuffle-split-13d6dd49173a41f76cbc315063e30090', 574), ('shuffle-split-13d6dd49173a41f76cbc315063e30090', 2560), ('shuffle-split-13d6dd49173a41f76cbc315063e30090', 345), ('shuffle-split-13d6dd49173a41f76cbc315063e30090', 8567), ('shuffle-split-13d6dd49173a41f76cbc315063e30090', 2151), ('shuffle-split-13d6dd49173a41f76cbc315063e30090', 8158), ('shuffle-split-13d6dd49173a41f76cbc315063e30090', 4631), ('shuffle-split-13d6dd49173a41f76cbc315063e30090', 695), ('shuffle-split-13d6dd49173a41f76cbc315063e30090', 7785), ('shuffle-split-13d6dd49173a41f76cbc315063e30090', 6473), ('shuffle-split-13d6dd49173a41f76cbc315063e30090', 5161), ('shuffle-split-13d6dd49173a41f76cbc315063e30090', 8279), ('shuffle-split-13d6dd49173a41f76cbc315063e30090', 3849), ('shuffle-split-13d6dd49173a41f76cbc315063e30090', 8953), ('shuffle-split-13d6dd49173a41f76cbc315063e30090', 5655), ('shuffle-split-13d6dd49173a41f76cbc315063e30090', 3440), ('shuffle-split-13d6dd49173a41f76cbc315063e30090', 1899), ('shuffle-split-13d6dd49173a41f76cbc315063e30090', 9218), ('shuffle-split-13d6dd49173a41f76cbc315063e30090', 5920), ('shuffle-split-13d6dd49173a41f76cbc315063e30090', 5691), ('shuffle-split-13d6dd49173a41f76cbc315063e30090', 8809), ('shuffle-split-13d6dd49173a41f76cbc315063e30090', 6594), ('rechunk-split-debcddb6bcd428a4931b4a5e73fefd64', 311), ('shuffle-split-13d6dd49173a41f76cbc315063e30090', 8400), ('shuffle-split-13d6dd49173a41f76cbc315063e30090', 8665), ('shuffle-split-13d6dd49173a41f76cbc315063e30090', 5138), ('shuffle-split-13d6dd49173a41f76cbc315063e30090', 7124), ('shuffle-split-13d6dd49173a41f76cbc315063e30090', 937), ('shuffle-split-13d6dd49173a41f76cbc315063e30090', 6041), ('shuffle-split-13d6dd49173a41f76cbc315063e30090', 3826), ('shuffle-split-13d6dd49173a41f76cbc315063e30090', 3597), ('shuffle-split-13d6dd49173a41f76cbc315063e30090', 4729), ('shuffle-split-13d6dd49173a41f76cbc315063e30090', 6715), ('shuffle-split-13d6dd49173a41f76cbc315063e30090', 2514), ('shuffle-split-13d6dd49173a41f76cbc315063e30090', 9195), ('shuffle-split-13d6dd49173a41f76cbc315063e30090', 6980), ('shuffle-split-13d6dd49173a41f76cbc315063e30090', 564), ('shuffle-split-13d6dd49173a41f76cbc315063e30090', 1467), ('shuffle-split-13d6dd49173a41f76cbc315063e30090', 5933), ('shuffle-split-13d6dd49173a41f76cbc315063e30090', 8822), ('shuffle-split-13d6dd49173a41f76cbc315063e30090', 2406), ('shuffle-split-13d6dd49173a41f76cbc315063e30090', 7510), ('shuffle-split-13d6dd49173a41f76cbc315063e30090', 4212), ('shuffle-split-13d6dd49173a41f76cbc315063e30090', 685), ('open_dataset-tas-dd3a1b3e56343af6cbf01a3769b8fe71', 56, 0, 0)} (stimulus_id='handle-worker-cleanup-1746784141.7887783')\n",
      "2025-05-09 11:49:02,060 - distributed.nanny - WARNING - Restarting worker\n",
      "2025-05-09 11:49:07,449 - distributed.scheduler - WARNING - Removing worker 'tcp://127.0.0.1:35323' caused the cluster to lose already computed task(s), which will be recomputed elsewhere: {('shuffle-split-13d6dd49173a41f76cbc315063e30090', 3839), ('shuffle-split-13d6dd49173a41f76cbc315063e30090', 6957), ('rechunk-split-debcddb6bcd428a4931b4a5e73fefd64', 445), ('shuffle-split-13d6dd49173a41f76cbc315063e30090', 5645), ('shuffle-split-13d6dd49173a41f76cbc315063e30090', 8534), ('shuffle-split-13d6dd49173a41f76cbc315063e30090', 4104), ('shuffle-split-13d6dd49173a41f76cbc315063e30090', 3021), ('shuffle-split-13d6dd49173a41f76cbc315063e30090', 7896), ('shuffle-split-13d6dd49173a41f76cbc315063e30090', 4598), ('shuffle-split-13d6dd49173a41f76cbc315063e30090', 2383), ('shuffle-split-13d6dd49173a41f76cbc315063e30090', 168), ('shuffle-split-13d6dd49173a41f76cbc315063e30090', 5501), ('shuffle-split-13d6dd49173a41f76cbc315063e30090', 3057), ('shuffle-split-13d6dd49173a41f76cbc315063e30090', 4189), ('shuffle-split-13d6dd49173a41f76cbc315063e30090', 6175), ('shuffle-split-13d6dd49173a41f76cbc315063e30090', 3960), ('shuffle-split-13d6dd49173a41f76cbc315063e30090', 662), ('shuffle-split-13d6dd49173a41f76cbc315063e30090', 7752), ('shuffle-split-13d6dd49173a41f76cbc315063e30090', 5537), ('shuffle-split-13d6dd49173a41f76cbc315063e30090', 1336), ('shuffle-split-13d6dd49173a41f76cbc315063e30090', 6440), ('shuffle-split-13d6dd49173a41f76cbc315063e30090', 2239), ('shuffle-split-13d6dd49173a41f76cbc315063e30090', 6031), ('shuffle-split-13d6dd49173a41f76cbc315063e30090', 698), ('shuffle-split-13d6dd49173a41f76cbc315063e30090', 4719), ('open_dataset-tas-dd3a1b3e56343af6cbf01a3769b8fe71', 144, 0, 0), ('rechunk-split-debcddb6bcd428a4931b4a5e73fefd64', 13), ('shuffle-split-13d6dd49173a41f76cbc315063e30090', 6970), ('shuffle-split-13d6dd49173a41f76cbc315063e30090', 7873), ('shuffle-split-13d6dd49173a41f76cbc315063e30090', 4575), ('shuffle-split-13d6dd49173a41f76cbc315063e30090', 2360), ('shuffle-split-13d6dd49173a41f76cbc315063e30090', 7464), ('shuffle-split-13d6dd49173a41f76cbc315063e30090', 8367), ('shuffle-split-13d6dd49173a41f76cbc315063e30090', 3034), ('shuffle-split-13d6dd49173a41f76cbc315063e30090', 6152), ('shuffle-split-13d6dd49173a41f76cbc315063e30090', 3299), ('shuffle-split-13d6dd49173a41f76cbc315063e30090', 2216), ('shuffle-split-13d6dd49173a41f76cbc315063e30090', 8403), ('shuffle-split-13d6dd49173a41f76cbc315063e30090', 1), ('shuffle-split-13d6dd49173a41f76cbc315063e30090', 1987), ('shuffle-split-13d6dd49173a41f76cbc315063e30090', 5105), ('shuffle-split-13d6dd49173a41f76cbc315063e30090', 6682), ('shuffle-split-13d6dd49173a41f76cbc315063e30090', 4467), ('shuffle-split-13d6dd49173a41f76cbc315063e30090', 8259), ('shuffle-split-13d6dd49173a41f76cbc315063e30090', 4961), ('shuffle-split-13d6dd49173a41f76cbc315063e30090', 4732), ('shuffle-split-13d6dd49173a41f76cbc315063e30090', 2517), ('shuffle-split-13d6dd49173a41f76cbc315063e30090', 8524), ('shuffle-split-13d6dd49173a41f76cbc315063e30090', 4323), ('shuffle-split-13d6dd49173a41f76cbc315063e30090', 6309), ('shuffle-split-13d6dd49173a41f76cbc315063e30090', 8115), ('shuffle-split-13d6dd49173a41f76cbc315063e30090', 2602), ('shuffle-split-13d6dd49173a41f76cbc315063e30090', 158), ('shuffle-split-13d6dd49173a41f76cbc315063e30090', 6394), ('shuffle-split-13d6dd49173a41f76cbc315063e30090', 4179), ('shuffle-split-13d6dd49173a41f76cbc315063e30090', 6165), ('shuffle-split-13d6dd49173a41f76cbc315063e30090', 1964), ('shuffle-split-13d6dd49173a41f76cbc315063e30090', 3950), ('shuffle-split-13d6dd49173a41f76cbc315063e30090', 2867), ('shuffle-split-13d6dd49173a41f76cbc315063e30090', 2638), ('shuffle-split-13d6dd49173a41f76cbc315063e30090', 8645), ('shuffle-split-13d6dd49173a41f76cbc315063e30090', 2229), ('shuffle-split-13d6dd49173a41f76cbc315063e30090', 8236), ('shuffle-split-13d6dd49173a41f76cbc315063e30090', 9139), ('shuffle-split-13d6dd49173a41f76cbc315063e30090', 6924), ('shuffle-split-13d6dd49173a41f76cbc315063e30090', 8910), ('shuffle-split-13d6dd49173a41f76cbc315063e30090', 6695), ('shuffle-split-13d6dd49173a41f76cbc315063e30090', 3397), ('shuffle-split-13d6dd49173a41f76cbc315063e30090', 5383), ('shuffle-split-13d6dd49173a41f76cbc315063e30090', 7863), ('shuffle-split-13d6dd49173a41f76cbc315063e30090', 6780), ('shuffle-split-13d6dd49173a41f76cbc315063e30090', 8766), ('shuffle-split-13d6dd49173a41f76cbc315063e30090', 6551), ('rechunk-split-debcddb6bcd428a4931b4a5e73fefd64', 268), ('shuffle-split-13d6dd49173a41f76cbc315063e30090', 7454), ('shuffle-split-13d6dd49173a41f76cbc315063e30090', 3927), ('shuffle-split-13d6dd49173a41f76cbc315063e30090', 5504), ('shuffle-split-13d6dd49173a41f76cbc315063e30090', 5095), ('shuffle-split-13d6dd49173a41f76cbc315063e30090', 665), ('shuffle-split-13d6dd49173a41f76cbc315063e30090', 1568), ('shuffle-split-13d6dd49173a41f76cbc315063e30090', 6901), ('shuffle-split-13d6dd49173a41f76cbc315063e30090', 4457), ('open_dataset-tas-dd3a1b3e56343af6cbf01a3769b8fe71', 41, 0, 0), ('shuffle-split-13d6dd49173a41f76cbc315063e30090', 9152), ('shuffle-split-13d6dd49173a41f76cbc315063e30090', 2327), ('shuffle-split-13d6dd49173a41f76cbc315063e30090', 4313), ('shuffle-split-13d6dd49173a41f76cbc315063e30090', 5216), ('shuffle-split-13d6dd49173a41f76cbc315063e30090', 7202), ('shuffle-split-13d6dd49173a41f76cbc315063e30090', 8334), ('shuffle-split-13d6dd49173a41f76cbc315063e30090', 8105), ('shuffle-split-13d6dd49173a41f76cbc315063e30090', 4578), ('shuffle-split-13d6dd49173a41f76cbc315063e30090', 2363), ('shuffle-split-13d6dd49173a41f76cbc315063e30090', 8370), ('shuffle-split-13d6dd49173a41f76cbc315063e30090', 5072), ('shuffle-split-13d6dd49173a41f76cbc315063e30090', 1545), ('shuffle-split-13d6dd49173a41f76cbc315063e30090', 8635), ('shuffle-split-13d6dd49173a41f76cbc315063e30090', 2448), ('shuffle-split-13d6dd49173a41f76cbc315063e30090', 2219), ('shuffle-split-13d6dd49173a41f76cbc315063e30090', 8226), ('shuffle-split-13d6dd49173a41f76cbc315063e30090', 9129), ('shuffle-split-13d6dd49173a41f76cbc315063e30090', 4699), ('shuffle-split-13d6dd49173a41f76cbc315063e30090', 3387), ('shuffle-split-13d6dd49173a41f76cbc315063e30090', 8491), ('shuffle-split-13d6dd49173a41f76cbc315063e30090', 4290), ('shuffle-split-13d6dd49173a41f76cbc315063e30090', 89), ('shuffle-split-13d6dd49173a41f76cbc315063e30090', 5193), ('shuffle-split-13d6dd49173a41f76cbc315063e30090', 4964), ('shuffle-split-13d6dd49173a41f76cbc315063e30090', 763), ('shuffle-split-13d6dd49173a41f76cbc315063e30090', 5867), ('shuffle-split-13d6dd49173a41f76cbc315063e30090', 1437), ('shuffle-split-13d6dd49173a41f76cbc315063e30090', 4555), ('shuffle-split-13d6dd49173a41f76cbc315063e30090', 354), ('shuffle-split-13d6dd49173a41f76cbc315063e30090', 6132), ('shuffle-split-13d6dd49173a41f76cbc315063e30090', 2834), ('shuffle-split-13d6dd49173a41f76cbc315063e30090', 7938), ('shuffle-split-13d6dd49173a41f76cbc315063e30090', 2605), ('shuffle-split-13d6dd49173a41f76cbc315063e30090', 390), ('shuffle-split-13d6dd49173a41f76cbc315063e30090', 1522), ('shuffle-split-13d6dd49173a41f76cbc315063e30090', 6626), ('shuffle-split-13d6dd49173a41f76cbc315063e30090', 5314), ('shuffle-split-13d6dd49173a41f76cbc315063e30090', 5085), ('shuffle-split-13d6dd49173a41f76cbc315063e30090', 3773), ('shuffle-split-13d6dd49173a41f76cbc315063e30090', 5579), ('shuffle-split-13d6dd49173a41f76cbc315063e30090', 3364), ('shuffle-split-13d6dd49173a41f76cbc315063e30090', 8468), ('shuffle-split-13d6dd49173a41f76cbc315063e30090', 4267), ('shuffle-split-13d6dd49173a41f76cbc315063e30090', 9142), ('shuffle-split-13d6dd49173a41f76cbc315063e30090', 2726), ('shuffle-split-13d6dd49173a41f76cbc315063e30090', 511), ('shuffle-split-13d6dd49173a41f76cbc315063e30090', 1414), ('shuffle-split-13d6dd49173a41f76cbc315063e30090', 8733), ('shuffle-split-13d6dd49173a41f76cbc315063e30090', 4532), ('shuffle-split-13d6dd49173a41f76cbc315063e30090', 3220), ('shuffle-split-13d6dd49173a41f76cbc315063e30090', 8324), ('shuffle-split-13d6dd49173a41f76cbc315063e30090', 8095), ('shuffle-split-13d6dd49173a41f76cbc315063e30090', 6783), ('shuffle-split-13d6dd49173a41f76cbc315063e30090', 2582), ('shuffle-split-13d6dd49173a41f76cbc315063e30090', 3485), ('shuffle-split-13d6dd49173a41f76cbc315063e30090', 1270), ('shuffle-split-13d6dd49173a41f76cbc315063e30090', 4388), ('shuffle-split-13d6dd49173a41f76cbc315063e30090', 2173), ('shuffle-split-13d6dd49173a41f76cbc315063e30090', 5062), ('shuffle-split-13d6dd49173a41f76cbc315063e30090', 861), ('shuffle-split-13d6dd49173a41f76cbc315063e30090', 2847), ('shuffle-split-13d6dd49173a41f76cbc315063e30090', 632), ('shuffle-split-13d6dd49173a41f76cbc315063e30090', 1535), ('shuffle-split-13d6dd49173a41f76cbc315063e30090', 6639), ('shuffle-split-13d6dd49173a41f76cbc315063e30090', 2438), ('shuffle-split-13d6dd49173a41f76cbc315063e30090', 4424), ('shuffle-split-13d6dd49173a41f76cbc315063e30090', 223), ('shuffle-split-13d6dd49173a41f76cbc315063e30090', 3341), ('shuffle-split-13d6dd49173a41f76cbc315063e30090', 5327), ('shuffle-split-13d6dd49173a41f76cbc315063e30090', 1126), ('shuffle-split-13d6dd49173a41f76cbc315063e30090', 8445), ('shuffle-split-13d6dd49173a41f76cbc315063e30090', 3606), ('shuffle-split-13d6dd49173a41f76cbc315063e30090', 5592), ('shuffle-split-13d6dd49173a41f76cbc315063e30090', 3377), ('open_dataset-tas-dd3a1b3e56343af6cbf01a3769b8fe71', 210, 0, 0), ('shuffle-split-13d6dd49173a41f76cbc315063e30090', 2968), ('shuffle-split-13d6dd49173a41f76cbc315063e30090', 2824), ('shuffle-split-13d6dd49173a41f76cbc315063e30090', 7928), ('shuffle-split-13d6dd49173a41f76cbc315063e30090', 8831), ('shuffle-split-13d6dd49173a41f76cbc315063e30090', 8602), ('shuffle-split-13d6dd49173a41f76cbc315063e30090', 2415), ('shuffle-split-13d6dd49173a41f76cbc315063e30090', 200), ('shuffle-split-13d6dd49173a41f76cbc315063e30090', 2186), ('shuffle-split-13d6dd49173a41f76cbc315063e30090', 5075), ('shuffle-split-13d6dd49173a41f76cbc315063e30090', 6207), ('shuffle-split-13d6dd49173a41f76cbc315063e30090', 4666), ('shuffle-split-13d6dd49173a41f76cbc315063e30090', 7784), ('shuffle-split-13d6dd49173a41f76cbc315063e30090', 2451), ('shuffle-split-13d6dd49173a41f76cbc315063e30090', 7555), ('shuffle-split-13d6dd49173a41f76cbc315063e30090', 1368), ('shuffle-split-13d6dd49173a41f76cbc315063e30090', 6243), ('shuffle-split-13d6dd49173a41f76cbc315063e30090', 2945), ('shuffle-split-13d6dd49173a41f76cbc315063e30090', 4931), ('shuffle-split-13d6dd49173a41f76cbc315063e30090', 5834), ('shuffle-split-13d6dd49173a41f76cbc315063e30090', 6737), ('shuffle-split-13d6dd49173a41f76cbc315063e30090', 8723), ('shuffle-split-13d6dd49173a41f76cbc315063e30090', 4113), ('shuffle-split-13d6dd49173a41f76cbc315063e30090', 6099), ('shuffle-split-13d6dd49173a41f76cbc315063e30090', 2801), ('shuffle-split-13d6dd49173a41f76cbc315063e30090', 3475), ('shuffle-split-13d6dd49173a41f76cbc315063e30090', 4643), ('shuffle-split-13d6dd49173a41f76cbc315063e30090', 8435), ('shuffle-split-13d6dd49173a41f76cbc315063e30090', 6894), ('shuffle-split-13d6dd49173a41f76cbc315063e30090', 2693), ('shuffle-split-13d6dd49173a41f76cbc315063e30090', 4499), ('shuffle-split-13d6dd49173a41f76cbc315063e30090', 4270), ('shuffle-split-13d6dd49173a41f76cbc315063e30090', 2958), ('shuffle-split-13d6dd49173a41f76cbc315063e30090', 3861), ('shuffle-split-13d6dd49173a41f76cbc315063e30090', 5667), ('shuffle-split-13d6dd49173a41f76cbc315063e30090', 3452), ('shuffle-split-13d6dd49173a41f76cbc315063e30090', 3223), ('shuffle-split-13d6dd49173a41f76cbc315063e30090', 7244), ('shuffle-split-13d6dd49173a41f76cbc315063e30090', 2405), ('shuffle-split-13d6dd49173a41f76cbc315063e30090', 190), ('shuffle-split-13d6dd49173a41f76cbc315063e30090', 6871), ('shuffle-split-13d6dd49173a41f76cbc315063e30090', 2670), ('shuffle-split-13d6dd49173a41f76cbc315063e30090', 4656), ('shuffle-split-13d6dd49173a41f76cbc315063e30090', 5559), ('shuffle-split-13d6dd49173a41f76cbc315063e30090', 1358), ('shuffle-split-13d6dd49173a41f76cbc315063e30090', 2261), ('shuffle-split-13d6dd49173a41f76cbc315063e30090', 2032), ('shuffle-split-13d6dd49173a41f76cbc315063e30090', 4921), ('shuffle-split-13d6dd49173a41f76cbc315063e30090', 3838), ('shuffle-split-13d6dd49173a41f76cbc315063e30090', 8713), ('rechunk-split-debcddb6bcd428a4931b4a5e73fefd64', 444), ('shuffle-split-13d6dd49173a41f76cbc315063e30090', 2297), ('shuffle-split-13d6dd49173a41f76cbc315063e30090', 6583), ('shuffle-split-13d6dd49173a41f76cbc315063e30090', 167), ('shuffle-split-13d6dd49173a41f76cbc315063e30090', 2153), ('shuffle-split-13d6dd49173a41f76cbc315063e30090', 7486), ('shuffle-split-13d6dd49173a41f76cbc315063e30090', 5271), ('shuffle-split-13d6dd49173a41f76cbc315063e30090', 3056), ('shuffle-split-13d6dd49173a41f76cbc315063e30090', 841), ('shuffle-split-13d6dd49173a41f76cbc315063e30090', 3959), ('shuffle-split-13d6dd49173a41f76cbc315063e30090', 1744), ('shuffle-split-13d6dd49173a41f76cbc315063e30090', 8834), ('shuffle-split-13d6dd49173a41f76cbc315063e30090', 2418), ('shuffle-split-13d6dd49173a41f76cbc315063e30090', 5536), ('shuffle-split-13d6dd49173a41f76cbc315063e30090', 3321), ('shuffle-split-13d6dd49173a41f76cbc315063e30090', 6439), ('shuffle-split-13d6dd49173a41f76cbc315063e30090', 6210), ('shuffle-split-13d6dd49173a41f76cbc315063e30090', 7113), ('shuffle-split-13d6dd49173a41f76cbc315063e30090', 2683), ('shuffle-split-13d6dd49173a41f76cbc315063e30090', 7787), ('shuffle-split-13d6dd49173a41f76cbc315063e30090', 3586), ('shuffle-split-13d6dd49173a41f76cbc315063e30090', 8690), ('shuffle-split-13d6dd49173a41f76cbc315063e30090', 2274), ('shuffle-split-13d6dd49173a41f76cbc315063e30090', 5163), ('shuffle-split-13d6dd49173a41f76cbc315063e30090', 8281), ('shuffle-split-13d6dd49173a41f76cbc315063e30090', 2948), ('shuffle-split-13d6dd49173a41f76cbc315063e30090', 6066), ('store-map-5fd2c8da484a50ea33113aaa77544919', 7, 0, 0), ('open_dataset-tas-dd3a1b3e56343af6cbf01a3769b8fe71', 315, 0, 0), ('shuffle-split-13d6dd49173a41f76cbc315063e30090', 6740), ('store-map-5fd2c8da484a50ea33113aaa77544919', 148, 0, 0), 'shuffle-taker-42c9a615eb07b34c72e94bac185d73f9', ('shuffle-split-13d6dd49173a41f76cbc315063e30090', 6331), ('shuffle-split-13d6dd49173a41f76cbc315063e30090', 2804), ('shuffle-split-13d6dd49173a41f76cbc315063e30090', 8811), ('shuffle-split-13d6dd49173a41f76cbc315063e30090', 2395), ('shuffle-split-13d6dd49173a41f76cbc315063e30090', 5513), ('shuffle-split-13d6dd49173a41f76cbc315063e30090', 180), ('shuffle-split-13d6dd49173a41f76cbc315063e30090', 3298), ('shuffle-split-13d6dd49173a41f76cbc315063e30090', 1083), ('shuffle-split-13d6dd49173a41f76cbc315063e30090', 3069), ('shuffle-split-13d6dd49173a41f76cbc315063e30090', 1757), ('shuffle-split-13d6dd49173a41f76cbc315063e30090', 445), ('shuffle-split-13d6dd49173a41f76cbc315063e30090', 8667), ('shuffle-split-13d6dd49173a41f76cbc315063e30090', 4237), ('store-map-5fd2c8da484a50ea33113aaa77544919', 131, 0, 0), ('shuffle-split-13d6dd49173a41f76cbc315063e30090', 4502), ('shuffle-split-13d6dd49173a41f76cbc315063e30090', 3419), ('shuffle-split-13d6dd49173a41f76cbc315063e30090', 8294), ('shuffle-split-13d6dd49173a41f76cbc315063e30090', 4093), ('shuffle-split-13d6dd49173a41f76cbc315063e30090', 7211), ('shuffle-split-13d6dd49173a41f76cbc315063e30090', 2781), ('shuffle-split-13d6dd49173a41f76cbc315063e30090', 566), ('shuffle-split-13d6dd49173a41f76cbc315063e30090', 3455), ('shuffle-split-13d6dd49173a41f76cbc315063e30090', 4358), ('shuffle-split-13d6dd49173a41f76cbc315063e30090', 7476), ('shuffle-split-13d6dd49173a41f76cbc315063e30090', 2143), ('shuffle-split-13d6dd49173a41f76cbc315063e30090', 831), ('shuffle-split-13d6dd49173a41f76cbc315063e30090', 6164), ('shuffle-split-13d6dd49173a41f76cbc315063e30090', 5526), ('shuffle-split-13d6dd49173a41f76cbc315063e30090', 6429), ('shuffle-split-13d6dd49173a41f76cbc315063e30090', 5117), ('shuffle-split-13d6dd49173a41f76cbc315063e30090', 7103), ('shuffle-split-13d6dd49173a41f76cbc315063e30090', 2902), ('shuffle-split-13d6dd49173a41f76cbc315063e30090', 1590), ('shuffle-split-13d6dd49173a41f76cbc315063e30090', 2493), ('shuffle-split-13d6dd49173a41f76cbc315063e30090', 4479), ('rechunk-split-debcddb6bcd428a4931b4a5e73fefd64', 411), ('shuffle-split-13d6dd49173a41f76cbc315063e30090', 49), ('shuffle-split-13d6dd49173a41f76cbc315063e30090', 5382), ('shuffle-split-13d6dd49173a41f76cbc315063e30090', 4973), ('shuffle-split-13d6dd49173a41f76cbc315063e30090', 4744), ('shuffle-split-13d6dd49173a41f76cbc315063e30090', 543), ('shuffle-split-13d6dd49173a41f76cbc315063e30090', 7862), ('shuffle-split-13d6dd49173a41f76cbc315063e30090', 5647), ('shuffle-split-13d6dd49173a41f76cbc315063e30090', 1446), ('shuffle-split-13d6dd49173a41f76cbc315063e30090', 8765), ('shuffle-split-13d6dd49173a41f76cbc315063e30090', 8536), ('shuffle-split-13d6dd49173a41f76cbc315063e30090', 5238), ('shuffle-split-13d6dd49173a41f76cbc315063e30090', 7224), ('shuffle-split-13d6dd49173a41f76cbc315063e30090', 3023), ('shuffle-split-13d6dd49173a41f76cbc315063e30090', 8127), ('shuffle-split-13d6dd49173a41f76cbc315063e30090', 2385), ('shuffle-split-13d6dd49173a41f76cbc315063e30090', 170), ('shuffle-split-13d6dd49173a41f76cbc315063e30090', 7489), ('shuffle-split-13d6dd49173a41f76cbc315063e30090', 7080), ('shuffle-split-13d6dd49173a41f76cbc315063e30090', 7754), ('shuffle-split-13d6dd49173a41f76cbc315063e30090', 1338), ('open_dataset-tas-dd3a1b3e56343af6cbf01a3769b8fe71', 355, 0, 0), ('shuffle-split-13d6dd49173a41f76cbc315063e30090', 3818), ('shuffle-split-13d6dd49173a41f76cbc315063e30090', 6936), ('shuffle-split-13d6dd49173a41f76cbc315063e30090', 8922), ('shuffle-split-13d6dd49173a41f76cbc315063e30090', 8513), ('shuffle-split-13d6dd49173a41f76cbc315063e30090', 9187), ('shuffle-split-13d6dd49173a41f76cbc315063e30090', 2771), ('shuffle-split-13d6dd49173a41f76cbc315063e30090', 5889), ('shuffle-split-13d6dd49173a41f76cbc315063e30090', 5660), ('shuffle-split-13d6dd49173a41f76cbc315063e30090', 4577), ('shuffle-split-13d6dd49173a41f76cbc315063e30090', 5251), ('shuffle-split-13d6dd49173a41f76cbc315063e30090', 8369), ('shuffle-split-13d6dd49173a41f76cbc315063e30090', 2627), ('shuffle-split-13d6dd49173a41f76cbc315063e30090', 412), 'shuffle-taker-037ef81f2ba6ab6c1589292c0dbbba78', ('shuffle-split-13d6dd49173a41f76cbc315063e30090', 3301), ('shuffle-split-13d6dd49173a41f76cbc315063e30090', 4433), ('shuffle-split-13d6dd49173a41f76cbc315063e30090', 2218), ('shuffle-split-13d6dd49173a41f76cbc315063e30090', 1989), ('shuffle-split-13d6dd49173a41f76cbc315063e30090', 3795), ('shuffle-split-13d6dd49173a41f76cbc315063e30090', 1580), ('shuffle-split-13d6dd49173a41f76cbc315063e30090', 4698), ('shuffle-split-13d6dd49173a41f76cbc315063e30090', 2483), ('shuffle-split-13d6dd49173a41f76cbc315063e30090', 9164), ('shuffle-split-13d6dd49173a41f76cbc315063e30090', 4963), ('shuffle-split-13d6dd49173a41f76cbc315063e30090', 6949), ('shuffle-split-13d6dd49173a41f76cbc315063e30090', 2748), ('shuffle-split-13d6dd49173a41f76cbc315063e30090', 5866), ('shuffle-split-13d6dd49173a41f76cbc315063e30090', 7852), ('shuffle-split-13d6dd49173a41f76cbc315063e30090', 8755), ('shuffle-split-13d6dd49173a41f76cbc315063e30090', 6540), ('shuffle-split-13d6dd49173a41f76cbc315063e30090', 2339), ('store-map-5fd2c8da484a50ea33113aaa77544919', 133, 0, 0), ('shuffle-split-13d6dd49173a41f76cbc315063e30090', 1027), ('shuffle-split-13d6dd49173a41f76cbc315063e30090', 7214), ('shuffle-split-13d6dd49173a41f76cbc315063e30090', 2375), ('shuffle-split-13d6dd49173a41f76cbc315063e30090', 6396), ('shuffle-split-13d6dd49173a41f76cbc315063e30090', 4181), ('shuffle-split-13d6dd49173a41f76cbc315063e30090', 2869), ('shuffle-split-13d6dd49173a41f76cbc315063e30090', 654), ('shuffle-split-13d6dd49173a41f76cbc315063e30090', 1328), ('shuffle-split-13d6dd49173a41f76cbc315063e30090', 2460), ('shuffle-split-13d6dd49173a41f76cbc315063e30090', 5349), ('shuffle-split-13d6dd49173a41f76cbc315063e30090', 8238), ('shuffle-split-13d6dd49173a41f76cbc315063e30090', 6023), ('shuffle-split-13d6dd49173a41f76cbc315063e30090', 6926), ('shuffle-split-13d6dd49173a41f76cbc315063e30090', 2725), ('shuffle-split-13d6dd49173a41f76cbc315063e30090', 2496), ('shuffle-split-13d6dd49173a41f76cbc315063e30090', 5205), ('shuffle-split-13d6dd49173a41f76cbc315063e30090', 7191), ('shuffle-split-13d6dd49173a41f76cbc315063e30090', 2990), ('shuffle-split-13d6dd49173a41f76cbc315063e30090', 4976), ('shuffle-split-13d6dd49173a41f76cbc315063e30090', 2761), ('shuffle-split-13d6dd49173a41f76cbc315063e30090', 3893), ('shuffle-split-13d6dd49173a41f76cbc315063e30090', 8768), ('shuffle-split-13d6dd49173a41f76cbc315063e30090', 6553), ('shuffle-split-13d6dd49173a41f76cbc315063e30090', 2352), ('shuffle-split-13d6dd49173a41f76cbc315063e30090', 137), ('shuffle-split-13d6dd49173a41f76cbc315063e30090', 1040), ('shuffle-split-13d6dd49173a41f76cbc315063e30090', 7950), ('shuffle-split-13d6dd49173a41f76cbc315063e30090', 2617), ('shuffle-split-13d6dd49173a41f76cbc315063e30090', 402), ('shuffle-split-13d6dd49173a41f76cbc315063e30090', 5097), ('shuffle-split-13d6dd49173a41f76cbc315063e30090', 8889), ('shuffle-split-13d6dd49173a41f76cbc315063e30090', 4688), ('shuffle-split-13d6dd49173a41f76cbc315063e30090', 2473), ('shuffle-split-13d6dd49173a41f76cbc315063e30090', 6265), ('shuffle-split-13d6dd49173a41f76cbc315063e30090', 2738), ('shuffle-split-13d6dd49173a41f76cbc315063e30090', 5627), ('shuffle-split-13d6dd49173a41f76cbc315063e30090', 8745), ('shuffle-split-13d6dd49173a41f76cbc315063e30090', 5218), ('shuffle-split-13d6dd49173a41f76cbc315063e30090', 8336), ('shuffle-split-13d6dd49173a41f76cbc315063e30090', 3003), ('shuffle-split-13d6dd49173a41f76cbc315063e30090', 8107), ('shuffle-split-13d6dd49173a41f76cbc315063e30090', 2594), ('shuffle-split-13d6dd49173a41f76cbc315063e30090', 379), ('shuffle-split-13d6dd49173a41f76cbc315063e30090', 2185), ('shuffle-split-13d6dd49173a41f76cbc315063e30090', 4665), ('shuffle-split-13d6dd49173a41f76cbc315063e30090', 6651), ('shuffle-split-13d6dd49173a41f76cbc315063e30090', 2450), ('shuffle-split-13d6dd49173a41f76cbc315063e30090', 4436), ('shuffle-split-13d6dd49173a41f76cbc315063e30090', 235), ('shuffle-split-13d6dd49173a41f76cbc315063e30090', 7554), ('shuffle-split-13d6dd49173a41f76cbc315063e30090', 5339), ('open_dataset-tas-dd3a1b3e56343af6cbf01a3769b8fe71', 91, 0, 0), ('shuffle-split-13d6dd49173a41f76cbc315063e30090', 909), ('shuffle-split-13d6dd49173a41f76cbc315063e30090', 8228), ('shuffle-split-13d6dd49173a41f76cbc315063e30090', 9131), ('shuffle-split-13d6dd49173a41f76cbc315063e30090', 7819), ('shuffle-split-13d6dd49173a41f76cbc315063e30090', 8722), ('shuffle-split-13d6dd49173a41f76cbc315063e30090', 3389), ('shuffle-split-13d6dd49173a41f76cbc315063e30090', 8493), ('shuffle-split-13d6dd49173a41f76cbc315063e30090', 2306), ('shuffle-split-13d6dd49173a41f76cbc315063e30090', 91), ('shuffle-split-13d6dd49173a41f76cbc315063e30090', 4966), ('shuffle-split-13d6dd49173a41f76cbc315063e30090', 8084), ('shuffle-split-13d6dd49173a41f76cbc315063e30090', 3883), ('shuffle-split-13d6dd49173a41f76cbc315063e30090', 5869), ('shuffle-split-13d6dd49173a41f76cbc315063e30090', 2571), ('shuffle-split-13d6dd49173a41f76cbc315063e30090', 4557), ('shuffle-split-13d6dd49173a41f76cbc315063e30090', 2342), ('shuffle-split-13d6dd49173a41f76cbc315063e30090', 1259), ('shuffle-split-13d6dd49173a41f76cbc315063e30090', 3245), ('shuffle-split-13d6dd49173a41f76cbc315063e30090', 1030), ('shuffle-split-13d6dd49173a41f76cbc315063e30090', 4148), ('open_dataset-tas-dd3a1b3e56343af6cbf01a3769b8fe71', 74, 0, 0), ('shuffle-split-13d6dd49173a41f76cbc315063e30090', 2607), ('shuffle-split-13d6dd49173a41f76cbc315063e30090', 621), ('shuffle-split-13d6dd49173a41f76cbc315063e30090', 8843), ('shuffle-split-13d6dd49173a41f76cbc315063e30090', 8614), ('shuffle-split-13d6dd49173a41f76cbc315063e30090', 4413), ('shuffle-split-13d6dd49173a41f76cbc315063e30090', 2198), ('shuffle-split-13d6dd49173a41f76cbc315063e30090', 2692), ('shuffle-split-13d6dd49173a41f76cbc315063e30090', 4678), ('shuffle-split-13d6dd49173a41f76cbc315063e30090', 7796), ('shuffle-split-13d6dd49173a41f76cbc315063e30090', 2463), ('shuffle-split-13d6dd49173a41f76cbc315063e30090', 1380), ('shuffle-split-13d6dd49173a41f76cbc315063e30090', 6255), ('shuffle-split-13d6dd49173a41f76cbc315063e30090', 4943), ('shuffle-split-13d6dd49173a41f76cbc315063e30090', 5846), ('shuffle-split-13d6dd49173a41f76cbc315063e30090', 7832), ('shuffle-split-13d6dd49173a41f76cbc315063e30090', 1645), ('shuffle-split-13d6dd49173a41f76cbc315063e30090', 1416), ('shuffle-split-13d6dd49173a41f76cbc315063e30090', 4534), ('shuffle-split-13d6dd49173a41f76cbc315063e30090', 5208), ('shuffle-split-13d6dd49173a41f76cbc315063e30090', 4125), ('shuffle-split-13d6dd49173a41f76cbc315063e30090', 6111), ('shuffle-split-13d6dd49173a41f76cbc315063e30090', 7014), ('shuffle-split-13d6dd49173a41f76cbc315063e30090', 7917), ('shuffle-split-13d6dd49173a41f76cbc315063e30090', 2584), ('shuffle-split-13d6dd49173a41f76cbc315063e30090', 1272), ('shuffle-split-13d6dd49173a41f76cbc315063e30090', 4390), ('rechunk-split-debcddb6bcd428a4931b4a5e73fefd64', 93), ('shuffle-split-13d6dd49173a41f76cbc315063e30090', 5064), ('shuffle-split-13d6dd49173a41f76cbc315063e30090', 2849), ('shuffle-split-13d6dd49173a41f76cbc315063e30090', 634), ('shuffle-split-13d6dd49173a41f76cbc315063e30090', 1766), ('shuffle-split-13d6dd49173a41f76cbc315063e30090', 3752), ('shuffle-split-13d6dd49173a41f76cbc315063e30090', 2440), ('shuffle-split-13d6dd49173a41f76cbc315063e30090', 4426), ('shuffle-split-13d6dd49173a41f76cbc315063e30090', 490), ('shuffle-split-13d6dd49173a41f76cbc315063e30090', 3608), ('shuffle-split-13d6dd49173a41f76cbc315063e30090', 6497), ('shuffle-split-13d6dd49173a41f76cbc315063e30090', 5185), ('shuffle-split-13d6dd49173a41f76cbc315063e30090', 8303), ('shuffle-split-13d6dd49173a41f76cbc315063e30090', 6088), ('shuffle-split-13d6dd49173a41f76cbc315063e30090', 3873), ('shuffle-split-13d6dd49173a41f76cbc315063e30090', 1020), ('shuffle-split-13d6dd49173a41f76cbc315063e30090', 6353), ('shuffle-split-13d6dd49173a41f76cbc315063e30090', 7027), ('shuffle-split-13d6dd49173a41f76cbc315063e30090', 2826), ('shuffle-split-13d6dd49173a41f76cbc315063e30090', 6618), ('shuffle-split-13d6dd49173a41f76cbc315063e30090', 3091), ('shuffle-split-13d6dd49173a41f76cbc315063e30090', 6209), ('shuffle-split-13d6dd49173a41f76cbc315063e30090', 7786), ('shuffle-split-13d6dd49173a41f76cbc315063e30090', 6474), ('shuffle-split-13d6dd49173a41f76cbc315063e30090', 2044), ('shuffle-split-13d6dd49173a41f76cbc315063e30090', 6739), ('shuffle-split-13d6dd49173a41f76cbc315063e30090', 94), ('shuffle-split-13d6dd49173a41f76cbc315063e30090', 2803), ('shuffle-split-13d6dd49173a41f76cbc315063e30090', 3477), ('shuffle-split-13d6dd49173a41f76cbc315063e30090', 8581), ('shuffle-split-13d6dd49173a41f76cbc315063e30090', 179), ('shuffle-split-13d6dd49173a41f76cbc315063e30090', 2165), ('shuffle-split-13d6dd49173a41f76cbc315063e30090', 444), ('shuffle-split-13d6dd49173a41f76cbc315063e30090', 2430), ('shuffle-split-13d6dd49173a41f76cbc315063e30090', 3333), ('shuffle-split-13d6dd49173a41f76cbc315063e30090', 8437), ('shuffle-split-13d6dd49173a41f76cbc315063e30090', 6222), ('shuffle-split-13d6dd49173a41f76cbc315063e30090', 2924), ('shuffle-split-13d6dd49173a41f76cbc315063e30090', 7799), ('shuffle-split-13d6dd49173a41f76cbc315063e30090', 1383), ('shuffle-split-13d6dd49173a41f76cbc315063e30090', 4501), ('shuffle-split-13d6dd49173a41f76cbc315063e30090', 5175), ('shuffle-split-13d6dd49173a41f76cbc315063e30090', 2960), ('shuffle-split-13d6dd49173a41f76cbc315063e30090', 6078), ('shuffle-split-13d6dd49173a41f76cbc315063e30090', 9196), ('shuffle-split-13d6dd49173a41f76cbc315063e30090', 5669), ('shuffle-split-13d6dd49173a41f76cbc315063e30090', 6343), ('shuffle-split-13d6dd49173a41f76cbc315063e30090', 4128), ('shuffle-split-13d6dd49173a41f76cbc315063e30090', 7920), ('shuffle-split-13d6dd49173a41f76cbc315063e30090', 4393), ('shuffle-split-13d6dd49173a41f76cbc315063e30090', 3310), ('shuffle-split-13d6dd49173a41f76cbc315063e30090', 5296), ('shuffle-split-13d6dd49173a41f76cbc315063e30090', 3081), ('shuffle-split-13d6dd49173a41f76cbc315063e30090', 7102), ('shuffle-split-13d6dd49173a41f76cbc315063e30090', 2672), ('shuffle-split-13d6dd49173a41f76cbc315063e30090', 6464), ('shuffle-split-13d6dd49173a41f76cbc315063e30090', 8270), ('shuffle-split-13d6dd49173a41f76cbc315063e30090', 4743), ('rechunk-split-debcddb6bcd428a4931b4a5e73fefd64', 446), ('shuffle-split-13d6dd49173a41f76cbc315063e30090', 4514), ('shuffle-split-13d6dd49173a41f76cbc315063e30090', 3431), ('shuffle-split-13d6dd49173a41f76cbc315063e30090', 7223), ('shuffle-split-13d6dd49173a41f76cbc315063e30090', 6994), ('shuffle-split-13d6dd49173a41f76cbc315063e30090', 5682), ('shuffle-split-13d6dd49173a41f76cbc315063e30090', 1481), ('shuffle-split-13d6dd49173a41f76cbc315063e30090', 8800), ('open_dataset-tas-dd3a1b3e56343af6cbf01a3769b8fe71', 65, 0, 0), ('shuffle-split-13d6dd49173a41f76cbc315063e30090', 5273), ('shuffle-split-13d6dd49173a41f76cbc315063e30090', 3058), ('shuffle-split-13d6dd49173a41f76cbc315063e30090', 2420), ('shuffle-split-13d6dd49173a41f76cbc315063e30090', 7524), ('shuffle-split-13d6dd49173a41f76cbc315063e30090', 8656), ('shuffle-split-13d6dd49173a41f76cbc315063e30090', 3323), ('shuffle-split-13d6dd49173a41f76cbc315063e30090', 25), ('shuffle-split-13d6dd49173a41f76cbc315063e30090', 2914), ('shuffle-split-13d6dd49173a41f76cbc315063e30090', 3588), ('shuffle-split-13d6dd49173a41f76cbc315063e30090', 2276), ('shuffle-split-13d6dd49173a41f76cbc315063e30090', 61), ('shuffle-split-13d6dd49173a41f76cbc315063e30090', 8283), ('shuffle-split-13d6dd49173a41f76cbc315063e30090', 9186), ('shuffle-split-13d6dd49173a41f76cbc315063e30090', 555), ('shuffle-split-13d6dd49173a41f76cbc315063e30090', 2541), ('shuffle-split-13d6dd49173a41f76cbc315063e30090', 3444), ('shuffle-split-13d6dd49173a41f76cbc315063e30090', 8548), ('shuffle-split-13d6dd49173a41f76cbc315063e30090', 7236), ('shuffle-split-13d6dd49173a41f76cbc315063e30090', 8139), ('shuffle-split-13d6dd49173a41f76cbc315063e30090', 6598), ('shuffle-split-13d6dd49173a41f76cbc315063e30090', 7501), ('shuffle-split-13d6dd49173a41f76cbc315063e30090', 3300), ('shuffle-split-13d6dd49173a41f76cbc315063e30090', 1350), ('shuffle-split-13d6dd49173a41f76cbc315063e30090', 8669), ('shuffle-split-13d6dd49173a41f76cbc315063e30090', 6454), ('shuffle-split-13d6dd49173a41f76cbc315063e30090', 2253), ('shuffle-split-13d6dd49173a41f76cbc315063e30090', 4239), ('shuffle-split-13d6dd49173a41f76cbc315063e30090', 8260), ('shuffle-split-13d6dd49173a41f76cbc315063e30090', 6045), ('shuffle-split-13d6dd49173a41f76cbc315063e30090', 532), ('shuffle-split-13d6dd49173a41f76cbc315063e30090', 3421), ('shuffle-split-13d6dd49173a41f76cbc315063e30090', 6310), ('shuffle-split-13d6dd49173a41f76cbc315063e30090', 9199), ('shuffle-split-13d6dd49173a41f76cbc315063e30090', 797), ('shuffle-split-13d6dd49173a41f76cbc315063e30090', 568), ('shuffle-split-13d6dd49173a41f76cbc315063e30090', 5672), ('shuffle-split-13d6dd49173a41f76cbc315063e30090', 8790), ('shuffle-split-13d6dd49173a41f76cbc315063e30090', 6575), ('shuffle-split-13d6dd49173a41f76cbc315063e30090', 7478), ('shuffle-split-13d6dd49173a41f76cbc315063e30090', 6166), ('shuffle-split-13d6dd49173a41f76cbc315063e30090', 7069), ('shuffle-split-13d6dd49173a41f76cbc315063e30090', 2639), ('shuffle-split-13d6dd49173a41f76cbc315063e30090', 8646), ('shuffle-split-13d6dd49173a41f76cbc315063e30090', 6431), ('open_dataset-tas-dd3a1b3e56343af6cbf01a3769b8fe71', 348, 0, 0), ('shuffle-split-13d6dd49173a41f76cbc315063e30090', 4216), ('shuffle-split-13d6dd49173a41f76cbc315063e30090', 15), ('shuffle-split-13d6dd49173a41f76cbc315063e30090', 4710), ('shuffle-split-13d6dd49173a41f76cbc315063e30090', 2266), ('shuffle-split-13d6dd49173a41f76cbc315063e30090', 5384), ('shuffle-split-13d6dd49173a41f76cbc315063e30090', 6287), ('shuffle-split-13d6dd49173a41f76cbc315063e30090', 8273), ('shuffle-split-13d6dd49173a41f76cbc315063e30090', 9176), ('shuffle-split-13d6dd49173a41f76cbc315063e30090', 2760), ('shuffle-split-13d6dd49173a41f76cbc315063e30090', 4746), ('shuffle-split-13d6dd49173a41f76cbc315063e30090', 1448), ('shuffle-split-13d6dd49173a41f76cbc315063e30090', 2351), ('shuffle-split-13d6dd49173a41f76cbc315063e30090', 8538), ('shuffle-split-13d6dd49173a41f76cbc315063e30090', 7455), ('store-map-5fd2c8da484a50ea33113aaa77544919', 208, 0, 0), ('shuffle-split-13d6dd49173a41f76cbc315063e30090', 3699), ('shuffle-split-13d6dd49173a41f76cbc315063e30090', 4602), ('shuffle-split-13d6dd49173a41f76cbc315063e30090', 5505), ('shuffle-split-13d6dd49173a41f76cbc315063e30090', 7491), ('shuffle-split-13d6dd49173a41f76cbc315063e30090', 6408), ('shuffle-split-13d6dd49173a41f76cbc315063e30090', 8394), ('shuffle-split-13d6dd49173a41f76cbc315063e30090', 6179), ('shuffle-split-13d6dd49173a41f76cbc315063e30090', 1978), ('shuffle-split-13d6dd49173a41f76cbc315063e30090', 2881), ('shuffle-split-13d6dd49173a41f76cbc315063e30090', 3784), ('shuffle-split-13d6dd49173a41f76cbc315063e30090', 8659), ('shuffle-split-13d6dd49173a41f76cbc315063e30090', 2243), ('shuffle-split-13d6dd49173a41f76cbc315063e30090', 5361), ('shuffle-split-13d6dd49173a41f76cbc315063e30090', 6938), ('shuffle-split-13d6dd49173a41f76cbc315063e30090', 8924), ('shuffle-split-13d6dd49173a41f76cbc315063e30090', 2737), ('shuffle-split-13d6dd49173a41f76cbc315063e30090', 522), ('shuffle-split-13d6dd49173a41f76cbc315063e30090', 4723), ('shuffle-split-13d6dd49173a41f76cbc315063e30090', 5217), ('shuffle-split-13d6dd49173a41f76cbc315063e30090', 7203), ('shuffle-split-13d6dd49173a41f76cbc315063e30090', 2773), ('shuffle-split-13d6dd49173a41f76cbc315063e30090', 6565), ('shuffle-split-13d6dd49173a41f76cbc315063e30090', 5253), ('store-map-5fd2c8da484a50ea33113aaa77544919', 47, 0, 0), ('shuffle-split-13d6dd49173a41f76cbc315063e30090', 8371), ('shuffle-split-13d6dd49173a41f76cbc315063e30090', 3941), ('shuffle-split-13d6dd49173a41f76cbc315063e30090', 4435), ('shuffle-split-13d6dd49173a41f76cbc315063e30090', 6421), ('shuffle-split-13d6dd49173a41f76cbc315063e30090', 2220), ('shuffle-split-13d6dd49173a41f76cbc315063e30090', 4206), ('shuffle-split-13d6dd49173a41f76cbc315063e30090', 3123), ('shuffle-split-13d6dd49173a41f76cbc315063e30090', 5109), ('shuffle-split-13d6dd49173a41f76cbc315063e30090', 4700), ('shuffle-split-13d6dd49173a41f76cbc315063e30090', 6686), ('shuffle-split-13d6dd49173a41f76cbc315063e30090', 4471), ('shuffle-split-13d6dd49173a41f76cbc315063e30090', 5603), ('shuffle-split-13d6dd49173a41f76cbc315063e30090', 3388), ('shuffle-split-13d6dd49173a41f76cbc315063e30090', 6277), ('shuffle-split-13d6dd49173a41f76cbc315063e30090', 8263), ('shuffle-split-13d6dd49173a41f76cbc315063e30090', 9166), ('shuffle-split-13d6dd49173a41f76cbc315063e30090', 6951), ('shuffle-split-13d6dd49173a41f76cbc315063e30090', 7854), ('shuffle-split-13d6dd49173a41f76cbc315063e30090', 4556), ('shuffle-split-13d6dd49173a41f76cbc315063e30090', 4327), ('shuffle-split-13d6dd49173a41f76cbc315063e30090', 1029), ('shuffle-split-13d6dd49173a41f76cbc315063e30090', 8348), ('shuffle-split-13d6dd49173a41f76cbc315063e30090', 6133), ('store-map-5fd2c8da484a50ea33113aaa77544919', 200, 0, 0), ('shuffle-split-13d6dd49173a41f76cbc315063e30090', 1294), 'shuffle-taker-a4665b4b6d32ad2ae54533d261373c6d', ('shuffle-split-13d6dd49173a41f76cbc315063e30090', 656), ('open_dataset-tas-dd3a1b3e56343af6cbf01a3769b8fe71', 166, 0, 0), ('shuffle-split-13d6dd49173a41f76cbc315063e30090', 2727), ('shuffle-split-13d6dd49173a41f76cbc315063e30090', 4713), ('shuffle-split-13d6dd49173a41f76cbc315063e30090', 2498), ('shuffle-split-13d6dd49173a41f76cbc315063e30090', 5616), ('shuffle-split-13d6dd49173a41f76cbc315063e30090', 1415), ('shuffle-split-13d6dd49173a41f76cbc315063e30090', 8734), ('shuffle-split-13d6dd49173a41f76cbc315063e30090', 3401), ('shuffle-split-13d6dd49173a41f76cbc315063e30090', 5207), ('shuffle-split-13d6dd49173a41f76cbc315063e30090', 7193), ('shuffle-split-13d6dd49173a41f76cbc315063e30090', 8096), ('shuffle-split-13d6dd49173a41f76cbc315063e30090', 3895), ('shuffle-split-13d6dd49173a41f76cbc315063e30090', 6784), ('shuffle-split-13d6dd49173a41f76cbc315063e30090', 8770), ('shuffle-split-13d6dd49173a41f76cbc315063e30090', 2583), ('shuffle-split-13d6dd49173a41f76cbc315063e30090', 2354), ('shuffle-split-13d6dd49173a41f76cbc315063e30090', 6146), ('shuffle-split-13d6dd49173a41f76cbc315063e30090', 7952), ('shuffle-split-13d6dd49173a41f76cbc315063e30090', 1536), ('shuffle-split-13d6dd49173a41f76cbc315063e30090', 2210), ('shuffle-split-13d6dd49173a41f76cbc315063e30090', 5328), ('shuffle-split-13d6dd49173a41f76cbc315063e30090', 3787), ('shuffle-split-13d6dd49173a41f76cbc315063e30090', 4690), ('shuffle-split-13d6dd49173a41f76cbc315063e30090', 2475), ('shuffle-split-13d6dd49173a41f76cbc315063e30090', 5364), ('open_dataset-tas-dd3a1b3e56343af6cbf01a3769b8fe71', 254, 0, 0), ('shuffle-split-13d6dd49173a41f76cbc315063e30090', 525), ('shuffle-split-13d6dd49173a41f76cbc315063e30090', 8747), ('shuffle-split-13d6dd49173a41f76cbc315063e30090', 4317), ('shuffle-split-13d6dd49173a41f76cbc315063e30090', 116), ('shuffle-split-13d6dd49173a41f76cbc315063e30090', 3234), ('shuffle-split-13d6dd49173a41f76cbc315063e30090', 8109), ('shuffle-split-13d6dd49173a41f76cbc315063e30090', 3908), ('shuffle-split-13d6dd49173a41f76cbc315063e30090', 7026), ('shuffle-split-13d6dd49173a41f76cbc315063e30090', 3090), ('shuffle-split-13d6dd49173a41f76cbc315063e30090', 875), ('shuffle-split-13d6dd49173a41f76cbc315063e30090', 2861), ('shuffle-split-13d6dd49173a41f76cbc315063e30090', 7556), ('shuffle-split-13d6dd49173a41f76cbc315063e30090', 3355), ('shuffle-split-13d6dd49173a41f76cbc315063e30090', 5341), ('shuffle-split-13d6dd49173a41f76cbc315063e30090', 3126), ('shuffle-split-13d6dd49173a41f76cbc315063e30090', 6244), ('shuffle-split-13d6dd49173a41f76cbc315063e30090', 2043), ('shuffle-split-13d6dd49173a41f76cbc315063e30090', 4932), ('shuffle-split-13d6dd49173a41f76cbc315063e30090', 2717), ('shuffle-split-13d6dd49173a41f76cbc315063e30090', 5606), ('shuffle-split-13d6dd49173a41f76cbc315063e30090', 8724), ('shuffle-split-13d6dd49173a41f76cbc315063e30090', 3391), ('shuffle-split-13d6dd49173a41f76cbc315063e30090', 2308), ('shuffle-split-13d6dd49173a41f76cbc315063e30090', 4294), ('shuffle-split-13d6dd49173a41f76cbc315063e30090', 5197), ('shuffle-split-13d6dd49173a41f76cbc315063e30090', 2982), ('shuffle-split-13d6dd49173a41f76cbc315063e30090', 8086), ('shuffle-split-13d6dd49173a41f76cbc315063e30090', 4559), ('shuffle-split-13d6dd49173a41f76cbc315063e30090', 1261), ('shuffle-split-13d6dd49173a41f76cbc315063e30090', 8580), ('shuffle-split-13d6dd49173a41f76cbc315063e30090', 4150), ('shuffle-split-13d6dd49173a41f76cbc315063e30090', 2838), ('shuffle-split-13d6dd49173a41f76cbc315063e30090', 8616), ('shuffle-split-13d6dd49173a41f76cbc315063e30090', 7533), ('shuffle-split-13d6dd49173a41f76cbc315063e30090', 2200), ('shuffle-split-13d6dd49173a41f76cbc315063e30090', 1117), ('open_dataset-tas-dd3a1b3e56343af6cbf01a3769b8fe71', 141, 0, 0), ('shuffle-split-13d6dd49173a41f76cbc315063e30090', 6895), ('shuffle-split-13d6dd49173a41f76cbc315063e30090', 3368), ('shuffle-split-13d6dd49173a41f76cbc315063e30090', 8701), ('shuffle-split-13d6dd49173a41f76cbc315063e30090', 8472), ('shuffle-split-13d6dd49173a41f76cbc315063e30090', 6257), ('shuffle-split-13d6dd49173a41f76cbc315063e30090', 2959), ('shuffle-split-13d6dd49173a41f76cbc315063e30090', 4945), ('shuffle-split-13d6dd49173a41f76cbc315063e30090', 3862), ('shuffle-split-13d6dd49173a41f76cbc315063e30090', 2550), ('shuffle-split-13d6dd49173a41f76cbc315063e30090', 2321), ('shuffle-split-13d6dd49173a41f76cbc315063e30090', 5210), ('shuffle-split-13d6dd49173a41f76cbc315063e30090', 1009), ('shuffle-split-13d6dd49173a41f76cbc315063e30090', 8328), ('shuffle-split-13d6dd49173a41f76cbc315063e30090', 6113), ('shuffle-split-13d6dd49173a41f76cbc315063e30090', 3898), ('shuffle-split-13d6dd49173a41f76cbc315063e30090', 2815), ('shuffle-split-13d6dd49173a41f76cbc315063e30090', 600), ('open_dataset-tas-dd3a1b3e56343af6cbf01a3769b8fe71', 124, 0, 0), ('shuffle-split-13d6dd49173a41f76cbc315063e30090', 3489), ('shuffle-split-13d6dd49173a41f76cbc315063e30090', 1274), ('shuffle-split-13d6dd49173a41f76cbc315063e30090', 6378), ('shuffle-split-13d6dd49173a41f76cbc315063e30090', 2177), ('shuffle-split-13d6dd49173a41f76cbc315063e30090', 3080), ('shuffle-split-13d6dd49173a41f76cbc315063e30090', 8858), ('shuffle-split-13d6dd49173a41f76cbc315063e30090', 2442), ('shuffle-split-13d6dd49173a41f76cbc315063e30090', 7546), ('shuffle-split-13d6dd49173a41f76cbc315063e30090', 3345), ('open_dataset-tas-dd3a1b3e56343af6cbf01a3769b8fe71', 165, 0, 0), ('shuffle-split-13d6dd49173a41f76cbc315063e30090', 4922), ('shuffle-split-13d6dd49173a41f76cbc315063e30090', 492), ('shuffle-split-13d6dd49173a41f76cbc315063e30090', 1395), ('shuffle-split-13d6dd49173a41f76cbc315063e30090', 8714), ('shuffle-split-13d6dd49173a41f76cbc315063e30090', 2298), ('shuffle-split-13d6dd49173a41f76cbc315063e30090', 5187), ('shuffle-split-13d6dd49173a41f76cbc315063e30090', 8305), ('shuffle-split-13d6dd49173a41f76cbc315063e30090', 2972), ('shuffle-split-13d6dd49173a41f76cbc315063e30090', 2563), ('shuffle-split-13d6dd49173a41f76cbc315063e30090', 3466), ('shuffle-split-13d6dd49173a41f76cbc315063e30090', 2154), ('shuffle-split-13d6dd49173a41f76cbc315063e30090', 3731), ('store-map-5fd2c8da484a50ea33113aaa77544919', 209, 0, 0), ('shuffle-split-13d6dd49173a41f76cbc315063e30090', 4405), ('shuffle-split-13d6dd49173a41f76cbc315063e30090', 7523), ('shuffle-split-13d6dd49173a41f76cbc315063e30090', 3322), ('shuffle-split-13d6dd49173a41f76cbc315063e30090', 2010), ('shuffle-split-13d6dd49173a41f76cbc315063e30090', 1372), ('shuffle-split-13d6dd49173a41f76cbc315063e30090', 4261), ('shuffle-split-13d6dd49173a41f76cbc315063e30090', 6067), ('shuffle-split-13d6dd49173a41f76cbc315063e30090', 5838), ('shuffle-split-13d6dd49173a41f76cbc315063e30090', 2540), ('shuffle-split-13d6dd49173a41f76cbc315063e30090', 2805), ('shuffle-split-13d6dd49173a41f76cbc315063e30090', 7909), ('shuffle-split-13d6dd49173a41f76cbc315063e30090', 8583), ('shuffle-split-13d6dd49173a41f76cbc315063e30090', 2396), ('shuffle-split-13d6dd49173a41f76cbc315063e30090', 4382), ('shuffle-split-13d6dd49173a41f76cbc315063e30090', 7500), ('shuffle-split-13d6dd49173a41f76cbc315063e30090', 5285), ('shuffle-split-13d6dd49173a41f76cbc315063e30090', 3070), ('shuffle-split-13d6dd49173a41f76cbc315063e30090', 2661), ('shuffle-split-13d6dd49173a41f76cbc315063e30090', 8439), ('shuffle-split-13d6dd49173a41f76cbc315063e30090', 4238), ('shuffle-split-13d6dd49173a41f76cbc315063e30090', 2023), ('shuffle-split-13d6dd49173a41f76cbc315063e30090', 2697), ('shuffle-split-13d6dd49173a41f76cbc315063e30090', 6718), ('shuffle-split-13d6dd49173a41f76cbc315063e30090', 8704), ('open_dataset-tas-dd3a1b3e56343af6cbf01a3769b8fe71', 79, 0, 0), ('shuffle-split-13d6dd49173a41f76cbc315063e30090', 6489), ('shuffle-split-13d6dd49173a41f76cbc315063e30090', 2782), ('shuffle-split-13d6dd49173a41f76cbc315063e30090', 7886), ('shuffle-split-13d6dd49173a41f76cbc315063e30090', 6574), ('shuffle-split-13d6dd49173a41f76cbc315063e30090', 3047), ('shuffle-split-13d6dd49173a41f76cbc315063e30090', 832), ('shuffle-split-13d6dd49173a41f76cbc315063e30090', 7922), ('shuffle-split-13d6dd49173a41f76cbc315063e30090', 4624), ('shuffle-split-13d6dd49173a41f76cbc315063e30090', 423), ('shuffle-split-13d6dd49173a41f76cbc315063e30090', 194), ('shuffle-split-13d6dd49173a41f76cbc315063e30090', 3083), ('shuffle-split-13d6dd49173a41f76cbc315063e30090', 4215), ('shuffle-split-13d6dd49173a41f76cbc315063e30090', 7104), ('shuffle-split-13d6dd49173a41f76cbc315063e30090', 7778), ('shuffle-split-13d6dd49173a41f76cbc315063e30090', 8681), ('shuffle-split-13d6dd49173a41f76cbc315063e30090', 6466), ('shuffle-split-13d6dd49173a41f76cbc315063e30090', 2265), ('shuffle-split-13d6dd49173a41f76cbc315063e30090', 50), ('shuffle-split-13d6dd49173a41f76cbc315063e30090', 2939), ('open_dataset-tas-dd3a1b3e56343af6cbf01a3769b8fe71', 167, 0, 0), ('shuffle-split-13d6dd49173a41f76cbc315063e30090', 8537), ('shuffle-split-13d6dd49173a41f76cbc315063e30090', 8308), ('shuffle-split-13d6dd49173a41f76cbc315063e30090', 9211), ('shuffle-split-13d6dd49173a41f76cbc315063e30090', 580), ('shuffle-split-13d6dd49173a41f76cbc315063e30090', 7899), ('open_dataset-tas-dd3a1b3e56343af6cbf01a3769b8fe71', 45, 0, 0), ('shuffle-split-13d6dd49173a41f76cbc315063e30090', 1483), ('shuffle-split-13d6dd49173a41f76cbc315063e30090', 8802), ('shuffle-split-13d6dd49173a41f76cbc315063e30090', 2386), ('shuffle-split-13d6dd49173a41f76cbc315063e30090', 2157), ('shuffle-split-13d6dd49173a41f76cbc315063e30090', 7490), ('shuffle-split-13d6dd49173a41f76cbc315063e30090', 5275), ('shuffle-split-13d6dd49173a41f76cbc315063e30090', 1748), ('shuffle-split-13d6dd49173a41f76cbc315063e30090', 7081), ('shuffle-split-13d6dd49173a41f76cbc315063e30090', 5540), ('shuffle-split-13d6dd49173a41f76cbc315063e30090', 1339), ('shuffle-split-13d6dd49173a41f76cbc315063e30090', 6034), ('shuffle-split-13d6dd49173a41f76cbc315063e30090', 1604), ('shuffle-split-13d6dd49173a41f76cbc315063e30090', 2507), ('shuffle-split-13d6dd49173a41f76cbc315063e30090', 4493), ('shuffle-split-13d6dd49173a41f76cbc315063e30090', 8514), ('shuffle-split-13d6dd49173a41f76cbc315063e30090', 6070), ('shuffle-split-13d6dd49173a41f76cbc315063e30090', 9188), ('shuffle-split-13d6dd49173a41f76cbc315063e30090', 557), ('shuffle-split-13d6dd49173a41f76cbc315063e30090', 3446), ('shuffle-split-13d6dd49173a41f76cbc315063e30090', 8550), ('shuffle-split-13d6dd49173a41f76cbc315063e30090', 4349), ('shuffle-split-13d6dd49173a41f76cbc315063e30090', 7467), ('shuffle-split-13d6dd49173a41f76cbc315063e30090', 5252), ('shuffle-split-13d6dd49173a41f76cbc315063e30090', 8141), ('shuffle-split-13d6dd49173a41f76cbc315063e30090', 5926), ('shuffle-split-13d6dd49173a41f76cbc315063e30090', 3711), ('shuffle-split-13d6dd49173a41f76cbc315063e30090', 2628), ('shuffle-split-13d6dd49173a41f76cbc315063e30090', 413), ('shuffle-split-13d6dd49173a41f76cbc315063e30090', 5517), ('shuffle-split-13d6dd49173a41f76cbc315063e30090', 7503), ('shuffle-split-13d6dd49173a41f76cbc315063e30090', 1087), ('shuffle-split-13d6dd49173a41f76cbc315063e30090', 6420), ('shuffle-split-13d6dd49173a41f76cbc315063e30090', 6191), ('shuffle-split-13d6dd49173a41f76cbc315063e30090', 1990), ('shuffle-split-13d6dd49173a41f76cbc315063e30090', 2664), ('shuffle-split-13d6dd49173a41f76cbc315063e30090', 7768), ('shuffle-split-13d6dd49173a41f76cbc315063e30090', 2255), ('shuffle-split-13d6dd49173a41f76cbc315063e30090', 6541), ('shuffle-split-13d6dd49173a41f76cbc315063e30090', 6312), ('shuffle-split-13d6dd49173a41f76cbc315063e30090', 4097), ('shuffle-split-13d6dd49173a41f76cbc315063e30090', 3014), ('shuffle-split-13d6dd49173a41f76cbc315063e30090', 799), ('shuffle-split-13d6dd49173a41f76cbc315063e30090', 8118), ('shuffle-split-13d6dd49173a41f76cbc315063e30090', 8792), ('shuffle-split-13d6dd49173a41f76cbc315063e30090', 6577), ('shuffle-split-13d6dd49173a41f76cbc315063e30090', 2376), ('shuffle-split-13d6dd49173a41f76cbc315063e30090', 161), ('shuffle-split-13d6dd49173a41f76cbc315063e30090', 3050), ('shuffle-split-13d6dd49173a41f76cbc315063e30090', 1967), ('shuffle-split-13d6dd49173a41f76cbc315063e30090', 1738), ('shuffle-split-13d6dd49173a41f76cbc315063e30090', 2641), ('shuffle-split-13d6dd49173a41f76cbc315063e30090', 4447), ('shuffle-split-13d6dd49173a41f76cbc315063e30090', 6433), ('shuffle-split-13d6dd49173a41f76cbc315063e30090', 3135), ('shuffle-split-13d6dd49173a41f76cbc315063e30090', 8239), ('shuffle-split-13d6dd49173a41f76cbc315063e30090', 2906), ('shuffle-split-13d6dd49173a41f76cbc315063e30090', 691), ('shuffle-split-13d6dd49173a41f76cbc315063e30090', 6024), ('shuffle-split-13d6dd49173a41f76cbc315063e30090', 6698), ('shuffle-split-13d6dd49173a41f76cbc315063e30090', 2497), ('shuffle-split-13d6dd49173a41f76cbc315063e30090', 9178), ('shuffle-split-13d6dd49173a41f76cbc315063e30090', 547), ('shuffle-split-13d6dd49173a41f76cbc315063e30090', 8769), ('shuffle-split-13d6dd49173a41f76cbc315063e30090', 3436), ('shuffle-split-13d6dd49173a41f76cbc315063e30090', 4568), ('shuffle-split-13d6dd49173a41f76cbc315063e30090', 4339), ('shuffle-split-13d6dd49173a41f76cbc315063e30090', 7457), ('shuffle-split-13d6dd49173a41f76cbc315063e30090', 7228), ('shuffle-split-13d6dd49173a41f76cbc315063e30090', 1041), ('shuffle-split-13d6dd49173a41f76cbc315063e30090', 3027), ('shuffle-split-13d6dd49173a41f76cbc315063e30090', 812), ('shuffle-split-13d6dd49173a41f76cbc315063e30090', 8131), ('shuffle-split-13d6dd49173a41f76cbc315063e30090', 3930), ('shuffle-split-13d6dd49173a41f76cbc315063e30090', 5916), ('open_dataset-tas-dd3a1b3e56343af6cbf01a3769b8fe71', 105, 0, 0), ('shuffle-split-13d6dd49173a41f76cbc315063e30090', 2618), ('shuffle-split-13d6dd49173a41f76cbc315063e30090', 1980), ('shuffle-split-13d6dd49173a41f76cbc315063e30090', 7084), ('shuffle-split-13d6dd49173a41f76cbc315063e30090', 3786), ('store-map-5fd2c8da484a50ea33113aaa77544919', 186, 0, 0), ('shuffle-split-13d6dd49173a41f76cbc315063e30090', 8890), ('shuffle-split-13d6dd49173a41f76cbc315063e30090', 6675), ('shuffle-split-13d6dd49173a41f76cbc315063e30090', 2474), ('shuffle-split-13d6dd49173a41f76cbc315063e30090', 4460), ('shuffle-split-13d6dd49173a41f76cbc315063e30090', 2245), ('shuffle-split-13d6dd49173a41f76cbc315063e30090', 5363), ('shuffle-split-13d6dd49173a41f76cbc315063e30090', 3822), ('shuffle-split-13d6dd49173a41f76cbc315063e30090', 2739), ('shuffle-split-13d6dd49173a41f76cbc315063e30090', 2510), ('shuffle-split-13d6dd49173a41f76cbc315063e30090', 3413), ('shuffle-split-13d6dd49173a41f76cbc315063e30090', 6531), ('shuffle-split-13d6dd49173a41f76cbc315063e30090', 115), ('shuffle-split-13d6dd49173a41f76cbc315063e30090', 8782), ('shuffle-split-13d6dd49173a41f76cbc315063e30090', 2595), ('shuffle-split-13d6dd49173a41f76cbc315063e30090', 380), ('shuffle-split-13d6dd49173a41f76cbc315063e30090', 151), ('shuffle-split-13d6dd49173a41f76cbc315063e30090', 1054), ('shuffle-split-13d6dd49173a41f76cbc315063e30090', 8373), ('shuffle-split-13d6dd49173a41f76cbc315063e30090', 3943), ('shuffle-split-13d6dd49173a41f76cbc315063e30090', 8638), ('shuffle-split-13d6dd49173a41f76cbc315063e30090', 5340), ('shuffle-split-13d6dd49173a41f76cbc315063e30090', 3125), ('shuffle-split-13d6dd49173a41f76cbc315063e30090', 9132), ('shuffle-split-13d6dd49173a41f76cbc315063e30090', 4702), ('shuffle-split-13d6dd49173a41f76cbc315063e30090', 6688), ('shuffle-split-13d6dd49173a41f76cbc315063e30090', 5376), ('shuffle-split-13d6dd49173a41f76cbc315063e30090', 2981), ('shuffle-split-13d6dd49173a41f76cbc315063e30090', 766), ('shuffle-split-13d6dd49173a41f76cbc315063e30090', 1440), ('shuffle-split-13d6dd49173a41f76cbc315063e30090', 6544), ('rechunk-split-debcddb6bcd428a4931b4a5e73fefd64', 261), ('shuffle-split-13d6dd49173a41f76cbc315063e30090', 8350), ('shuffle-split-13d6dd49173a41f76cbc315063e30090', 8121), ('shuffle-split-13d6dd49173a41f76cbc315063e30090', 3920), ('shuffle-split-13d6dd49173a41f76cbc315063e30090', 7038), ('shuffle-split-13d6dd49173a41f76cbc315063e30090', 8615), ('shuffle-split-13d6dd49173a41f76cbc315063e30090', 6400), ('shuffle-split-13d6dd49173a41f76cbc315063e30090', 7074), ('shuffle-split-13d6dd49173a41f76cbc315063e30090', 4679), ('shuffle-split-13d6dd49173a41f76cbc315063e30090', 2464), ('shuffle-split-13d6dd49173a41f76cbc315063e30090', 8242), ('shuffle-split-13d6dd49173a41f76cbc315063e30090', 9145), ('shuffle-split-13d6dd49173a41f76cbc315063e30090', 2729), ('shuffle-split-13d6dd49173a41f76cbc315063e30090', 4715), ('shuffle-split-13d6dd49173a41f76cbc315063e30090', 8507), ('shuffle-split-13d6dd49173a41f76cbc315063e30090', 2994), ('shuffle-split-13d6dd49173a41f76cbc315063e30090', 6112), ('shuffle-split-13d6dd49173a41f76cbc315063e30090', 779), ('shuffle-split-13d6dd49173a41f76cbc315063e30090', 3897), ('shuffle-split-13d6dd49173a41f76cbc315063e30090', 3488), ('shuffle-split-13d6dd49173a41f76cbc315063e30090', 8363), ('shuffle-split-13d6dd49173a41f76cbc315063e30090', 6148), ('shuffle-split-13d6dd49173a41f76cbc315063e30090', 2441), ('shuffle-split-13d6dd49173a41f76cbc315063e30090', 226), ('shuffle-split-13d6dd49173a41f76cbc315063e30090', 3115), ('shuffle-split-13d6dd49173a41f76cbc315063e30090', 8893), ('shuffle-split-13d6dd49173a41f76cbc315063e30090', 7810), ('shuffle-split-13d6dd49173a41f76cbc315063e30090', 2477), ('shuffle-split-13d6dd49173a41f76cbc315063e30090', 6498), ('shuffle-split-13d6dd49173a41f76cbc315063e30090', 2971), ('shuffle-split-13d6dd49173a41f76cbc315063e30090', 5860), ('shuffle-split-13d6dd49173a41f76cbc315063e30090', 8749), ('shuffle-split-13d6dd49173a41f76cbc315063e30090', 3236), ('shuffle-split-13d6dd49173a41f76cbc315063e30090', 7028), ('shuffle-split-13d6dd49173a41f76cbc315063e30090', 2827), ('shuffle-split-13d6dd49173a41f76cbc315063e30090', 7931), ('shuffle-split-13d6dd49173a41f76cbc315063e30090', 2189), ('shuffle-split-13d6dd49173a41f76cbc315063e30090', 3092), ('shuffle-split-13d6dd49173a41f76cbc315063e30090', 8870), ('shuffle-split-13d6dd49173a41f76cbc315063e30090', 2045), ('shuffle-split-13d6dd49173a41f76cbc315063e30090', 6920), ('shuffle-split-13d6dd49173a41f76cbc315063e30090', 7823), ('shuffle-split-13d6dd49173a41f76cbc315063e30090', 95), ('shuffle-split-13d6dd49173a41f76cbc315063e30090', 5199), ('shuffle-split-13d6dd49173a41f76cbc315063e30090', 2984), ('shuffle-split-13d6dd49173a41f76cbc315063e30090', 6102), ('shuffle-split-13d6dd49173a41f76cbc315063e30090', 8088), ('shuffle-split-13d6dd49173a41f76cbc315063e30090', 7005), ('shuffle-split-13d6dd49173a41f76cbc315063e30090', 6776), ('shuffle-split-13d6dd49173a41f76cbc315063e30090', 3478), ('shuffle-split-13d6dd49173a41f76cbc315063e30090', 1263), ('shuffle-split-13d6dd49173a41f76cbc315063e30090', 6367), ('shuffle-split-13d6dd49173a41f76cbc315063e30090', 4152), ('shuffle-split-13d6dd49173a41f76cbc315063e30090', 625), ('shuffle-split-13d6dd49173a41f76cbc315063e30090', 7944), ('shuffle-split-13d6dd49173a41f76cbc315063e30090', 8847), ('shuffle-split-13d6dd49173a41f76cbc315063e30090', 4646), ('open_dataset-tas-dd3a1b3e56343af6cbf01a3769b8fe71', 38, 0, 0), ('shuffle-split-13d6dd49173a41f76cbc315063e30090', 4417), ('shuffle-split-13d6dd49173a41f76cbc315063e30090', 7535), ('open_dataset-tas-dd3a1b3e56343af6cbf01a3769b8fe71', 287, 0, 0), ('shuffle-split-13d6dd49173a41f76cbc315063e30090', 4911), ('shuffle-split-13d6dd49173a41f76cbc315063e30090', 6897), ('shuffle-split-13d6dd49173a41f76cbc315063e30090', 2696), ('shuffle-split-13d6dd49173a41f76cbc315063e30090', 7800), ('shuffle-split-13d6dd49173a41f76cbc315063e30090', 2287), ('shuffle-split-13d6dd49173a41f76cbc315063e30090', 2058), ('shuffle-split-13d6dd49173a41f76cbc315063e30090', 2961), ('shuffle-split-13d6dd49173a41f76cbc315063e30090', 4538), ('shuffle-split-13d6dd49173a41f76cbc315063e30090', 3226), ('shuffle-split-13d6dd49173a41f76cbc315063e30090', 8330), ('shuffle-split-13d6dd49173a41f76cbc315063e30090', 6115), ('shuffle-split-13d6dd49173a41f76cbc315063e30090', 602), ('shuffle-split-13d6dd49173a41f76cbc315063e30090', 2588), ('shuffle-split-13d6dd49173a41f76cbc315063e30090', 1505), ('shuffle-split-13d6dd49173a41f76cbc315063e30090', 8824), ('shuffle-split-13d6dd49173a41f76cbc315063e30090', 6609), ('shuffle-split-13d6dd49173a41f76cbc315063e30090', 6380), ('shuffle-split-13d6dd49173a41f76cbc315063e30090', 3756), ('shuffle-split-13d6dd49173a41f76cbc315063e30090', 3347), ('shuffle-split-13d6dd49173a41f76cbc315063e30090', 6465), ('shuffle-split-13d6dd49173a41f76cbc315063e30090', 8451), ('shuffle-split-13d6dd49173a41f76cbc315063e30090', 4924), ('shuffle-split-13d6dd49173a41f76cbc315063e30090', 6092), ('shuffle-split-13d6dd49173a41f76cbc315063e30090', 9210), ('shuffle-split-13d6dd49173a41f76cbc315063e30090', 6995), ('shuffle-split-13d6dd49173a41f76cbc315063e30090', 7898), ('shuffle-split-13d6dd49173a41f76cbc315063e30090', 844), ('shuffle-split-13d6dd49173a41f76cbc315063e30090', 8837), ('shuffle-split-13d6dd49173a41f76cbc315063e30090', 2421), ('shuffle-split-13d6dd49173a41f76cbc315063e30090', 3324), ('shuffle-split-13d6dd49173a41f76cbc315063e30090', 5310), ('shuffle-split-13d6dd49173a41f76cbc315063e30090', 3095), ('shuffle-split-13d6dd49173a41f76cbc315063e30090', 6887), ('shuffle-split-13d6dd49173a41f76cbc315063e30090', 2686), ('shuffle-split-13d6dd49173a41f76cbc315063e30090', 7790), ('shuffle-split-13d6dd49173a41f76cbc315063e30090', 5166), ('shuffle-split-13d6dd49173a41f76cbc315063e30090', 4119), ('shuffle-split-13d6dd49173a41f76cbc315063e30090', 7008), ('shuffle-split-13d6dd49173a41f76cbc315063e30090', 821), ('shuffle-split-13d6dd49173a41f76cbc315063e30090', 7911), ('shuffle-split-13d6dd49173a41f76cbc315063e30090', 6599), ('shuffle-split-13d6dd49173a41f76cbc315063e30090', 2398), ('shuffle-split-13d6dd49173a41f76cbc315063e30090', 1086), ('shuffle-split-13d6dd49173a41f76cbc315063e30090', 3072), ('shuffle-split-13d6dd49173a41f76cbc315063e30090', 1760), ('shuffle-split-13d6dd49173a41f76cbc315063e30090', 2663), ('shuffle-split-13d6dd49173a41f76cbc315063e30090', 4649), ('shuffle-split-13d6dd49173a41f76cbc315063e30090', 6455), ('shuffle-split-13d6dd49173a41f76cbc315063e30090', 4240), ('shuffle-split-13d6dd49173a41f76cbc315063e30090', 2025), ('shuffle-split-13d6dd49173a41f76cbc315063e30090', 6046), ('shuffle-split-13d6dd49173a41f76cbc315063e30090', 713), ('shuffle-split-13d6dd49173a41f76cbc315063e30090', 2519), ('shuffle-split-13d6dd49173a41f76cbc315063e30090', 2290), ('shuffle-split-13d6dd49173a41f76cbc315063e30090', 9200), ('shuffle-split-13d6dd49173a41f76cbc315063e30090', 3867), ('shuffle-split-13d6dd49173a41f76cbc315063e30090', 2555), ('shuffle-split-13d6dd49173a41f76cbc315063e30090', 7888), ('shuffle-split-13d6dd49173a41f76cbc315063e30090', 3458), ('shuffle-split-13d6dd49173a41f76cbc315063e30090', 6576), ('shuffle-split-13d6dd49173a41f76cbc315063e30090', 1737), ('shuffle-split-13d6dd49173a41f76cbc315063e30090', 2411), ('shuffle-split-13d6dd49173a41f76cbc315063e30090', 8418), ('shuffle-split-13d6dd49173a41f76cbc315063e30090', 7780), ('shuffle-split-13d6dd49173a41f76cbc315063e30090', 3579), ('shuffle-split-13d6dd49173a41f76cbc315063e30090', 1364), ('shuffle-split-13d6dd49173a41f76cbc315063e30090', 8683), ('shuffle-split-13d6dd49173a41f76cbc315063e30090', 2941), ('shuffle-split-13d6dd49173a41f76cbc315063e30090', 6962), ('open_dataset-tas-dd3a1b3e56343af6cbf01a3769b8fe71', 313, 0, 0), ('shuffle-split-13d6dd49173a41f76cbc315063e30090', 6733), ('shuffle-split-13d6dd49173a41f76cbc315063e30090', 7865), ('shuffle-split-13d6dd49173a41f76cbc315063e30090', 2532), ('shuffle-split-13d6dd49173a41f76cbc315063e30090', 8539), ('shuffle-split-13d6dd49173a41f76cbc315063e30090', 4338), ('shuffle-split-13d6dd49173a41f76cbc315063e30090', 7227), ('shuffle-split-13d6dd49173a41f76cbc315063e30090', 5915), ('shuffle-split-13d6dd49173a41f76cbc315063e30090', 3700), ('shuffle-split-13d6dd49173a41f76cbc315063e30090', 4374), ('shuffle-split-13d6dd49173a41f76cbc315063e30090', 1979), ('shuffle-split-13d6dd49173a41f76cbc315063e30090', 1750), ('shuffle-split-13d6dd49173a41f76cbc315063e30090', 2653), ('shuffle-split-13d6dd49173a41f76cbc315063e30090', 7757), ('shuffle-split-13d6dd49173a41f76cbc315063e30090', 5542), ('open_dataset-tas-dd3a1b3e56343af6cbf01a3769b8fe71', 296, 0, 0), ('shuffle-split-13d6dd49173a41f76cbc315063e30090', 2244), ('shuffle-split-13d6dd49173a41f76cbc315063e30090', 29), ('shuffle-split-13d6dd49173a41f76cbc315063e30090', 2918), ('shuffle-split-13d6dd49173a41f76cbc315063e30090', 3821), ('shuffle-split-13d6dd49173a41f76cbc315063e30090', 8925), ('shuffle-split-13d6dd49173a41f76cbc315063e30090', 4724), ('shuffle-split-13d6dd49173a41f76cbc315063e30090', 6710), ('shuffle-split-13d6dd49173a41f76cbc315063e30090', 3412), ('shuffle-split-13d6dd49173a41f76cbc315063e30090', 8516), ('shuffle-split-13d6dd49173a41f76cbc315063e30090', 2774), ('shuffle-split-13d6dd49173a41f76cbc315063e30090', 5892), ('shuffle-split-13d6dd49173a41f76cbc315063e30090', 6566), ('shuffle-split-13d6dd49173a41f76cbc315063e30090', 8552), ('rechunk-split-debcddb6bcd428a4931b4a5e73fefd64', 54), ('shuffle-split-13d6dd49173a41f76cbc315063e30090', 8143), ('shuffle-split-13d6dd49173a41f76cbc315063e30090', 2401), ('shuffle-split-13d6dd49173a41f76cbc315063e30090', 5519), ('shuffle-split-13d6dd49173a41f76cbc315063e30090', 3304), ('shuffle-split-13d6dd49173a41f76cbc315063e30090', 8408), ('shuffle-split-13d6dd49173a41f76cbc315063e30090', 7096), ('shuffle-split-13d6dd49173a41f76cbc315063e30090', 1583), ('shuffle-split-13d6dd49173a41f76cbc315063e30090', 8902), ('shuffle-split-13d6dd49173a41f76cbc315063e30090', 2486), ('shuffle-split-13d6dd49173a41f76cbc315063e30090', 4472), ('shuffle-split-13d6dd49173a41f76cbc315063e30090', 2257), ('shuffle-split-13d6dd49173a41f76cbc315063e30090', 5146), ('shuffle-split-13d6dd49173a41f76cbc315063e30090', 6049), ('shuffle-split-13d6dd49173a41f76cbc315063e30090', 9167), ('shuffle-split-13d6dd49173a41f76cbc315063e30090', 7855), ('shuffle-split-13d6dd49173a41f76cbc315063e30090', 2522), ('shuffle-split-13d6dd49173a41f76cbc315063e30090', 5640), ('shuffle-split-13d6dd49173a41f76cbc315063e30090', 3425), ('shuffle-split-13d6dd49173a41f76cbc315063e30090', 127), ('shuffle-split-13d6dd49173a41f76cbc315063e30090', 8120), ('shuffle-split-13d6dd49173a41f76cbc315063e30090', 2787), ('shuffle-split-13d6dd49173a41f76cbc315063e30090', 5905), ('open_dataset-tas-dd3a1b3e56343af6cbf01a3769b8fe71', 119, 0, 0), ('shuffle-split-13d6dd49173a41f76cbc315063e30090', 4593), ('shuffle-split-13d6dd49173a41f76cbc315063e30090', 2378), ('shuffle-split-13d6dd49173a41f76cbc315063e30090', 7482), ('shuffle-split-13d6dd49173a41f76cbc315063e30090', 5267), ('open_dataset-tas-dd3a1b3e56343af6cbf01a3769b8fe71', 303, 0, 0), ('shuffle-split-13d6dd49173a41f76cbc315063e30090', 1969), ('shuffle-split-13d6dd49173a41f76cbc315063e30090', 2872), ('shuffle-split-13d6dd49173a41f76cbc315063e30090', 6664), ('shuffle-split-13d6dd49173a41f76cbc315063e30090', 4449), ('shuffle-split-13d6dd49173a41f76cbc315063e30090', 4220), ('shuffle-split-13d6dd49173a41f76cbc315063e30090', 5352), ('shuffle-split-13d6dd49173a41f76cbc315063e30090', 19), ('shuffle-split-13d6dd49173a41f76cbc315063e30090', 2908), ('shuffle-split-13d6dd49173a41f76cbc315063e30090', 8915), ('shuffle-split-13d6dd49173a41f76cbc315063e30090', 2499), ('shuffle-split-13d6dd49173a41f76cbc315063e30090', 5617), ('shuffle-split-13d6dd49173a41f76cbc315063e30090', 8097), ('shuffle-split-13d6dd49173a41f76cbc315063e30090', 2764), ('shuffle-split-13d6dd49173a41f76cbc315063e30090', 1452), ('shuffle-split-13d6dd49173a41f76cbc315063e30090', 6556), ('rechunk-split-debcddb6bcd428a4931b4a5e73fefd64', 273), ('shuffle-split-13d6dd49173a41f76cbc315063e30090', 7459), ('shuffle-split-13d6dd49173a41f76cbc315063e30090', 814), ('open_dataset-tas-dd3a1b3e56343af6cbf01a3769b8fe71', 87, 0, 0), ('shuffle-split-13d6dd49173a41f76cbc315063e30090', 7050), ('shuffle-split-13d6dd49173a41f76cbc315063e30090', 8627), ('shuffle-split-13d6dd49173a41f76cbc315063e30090', 3294), ('shuffle-split-13d6dd49173a41f76cbc315063e30090', 2885), ('shuffle-split-13d6dd49173a41f76cbc315063e30090', 6677), ('shuffle-split-13d6dd49173a41f76cbc315063e30090', 2476), ('shuffle-split-13d6dd49173a41f76cbc315063e30090', 4462), ('shuffle-split-13d6dd49173a41f76cbc315063e30090', 3379), ('shuffle-split-13d6dd49173a41f76cbc315063e30090', 8483), ('shuffle-split-13d6dd49173a41f76cbc315063e30090', 9157), ('shuffle-split-13d6dd49173a41f76cbc315063e30090', 3415), ('shuffle-split-13d6dd49173a41f76cbc315063e30090', 6533), ('shuffle-split-13d6dd49173a41f76cbc315063e30090', 3006), ('shuffle-split-13d6dd49173a41f76cbc315063e30090', 791), ('shuffle-split-13d6dd49173a41f76cbc315063e30090', 3909), ('shuffle-split-13d6dd49173a41f76cbc315063e30090', 5895), ('shuffle-split-13d6dd49173a41f76cbc315063e30090', 2597), ('shuffle-split-13d6dd49173a41f76cbc315063e30090', 2368), ('shuffle-split-13d6dd49173a41f76cbc315063e30090', 1056), ('shuffle-split-13d6dd49173a41f76cbc315063e30090', 5077), ('open_dataset-tas-dd3a1b3e56343af6cbf01a3769b8fe71', 175, 0, 0), ('shuffle-split-13d6dd49173a41f76cbc315063e30090', 6654), ('shuffle-split-13d6dd49173a41f76cbc315063e30090', 8640), ('shuffle-split-13d6dd49173a41f76cbc315063e30090', 4439), ('shuffle-split-13d6dd49173a41f76cbc315063e30090', 7557), ('shuffle-split-13d6dd49173a41f76cbc315063e30090', 5113), ('shuffle-split-13d6dd49173a41f76cbc315063e30090', 912), ('shuffle-split-13d6dd49173a41f76cbc315063e30090', 8231), ('shuffle-split-13d6dd49173a41f76cbc315063e30090', 9134), ('shuffle-split-13d6dd49173a41f76cbc315063e30090', 2489), ('shuffle-split-13d6dd49173a41f76cbc315063e30090', 5607), ('shuffle-split-13d6dd49173a41f76cbc315063e30090', 6510), ('shuffle-split-13d6dd49173a41f76cbc315063e30090', 768), ('shuffle-split-13d6dd49173a41f76cbc315063e30090', 8087), ('shuffle-split-13d6dd49173a41f76cbc315063e30090', 5872), ('open_dataset-tas-dd3a1b3e56343af6cbf01a3769b8fe71', 343, 0, 0), ('shuffle-split-13d6dd49173a41f76cbc315063e30090', 6775), ('store-map-5fd2c8da484a50ea33113aaa77544919', 155, 0, 0), ('shuffle-split-13d6dd49173a41f76cbc315063e30090', 6546), ('shuffle-split-13d6dd49173a41f76cbc315063e30090', 2345), ('shuffle-split-13d6dd49173a41f76cbc315063e30090', 130), ('shuffle-split-13d6dd49173a41f76cbc315063e30090', 3248), ('shuffle-split-13d6dd49173a41f76cbc315063e30090', 2839), ('shuffle-split-13d6dd49173a41f76cbc315063e30090', 1298), ('shuffle-split-13d6dd49173a41f76cbc315063e30090', 3104), ('shuffle-split-13d6dd49173a41f76cbc315063e30090', 2875), ('shuffle-split-13d6dd49173a41f76cbc315063e30090', 6896), ('shuffle-split-13d6dd49173a41f76cbc315063e30090', 8882), ('shuffle-split-13d6dd49173a41f76cbc315063e30090', 6258), ('shuffle-split-13d6dd49173a41f76cbc315063e30090', 2057), ('shuffle-split-13d6dd49173a41f76cbc315063e30090', 745), ('shuffle-split-13d6dd49173a41f76cbc315063e30090', 7835), ('shuffle-split-13d6dd49173a41f76cbc315063e30090', 5620), ('shuffle-split-13d6dd49173a41f76cbc315063e30090', 1419), ('shuffle-split-13d6dd49173a41f76cbc315063e30090', 2322), ('shuffle-split-13d6dd49173a41f76cbc315063e30090', 2996), ('shuffle-split-13d6dd49173a41f76cbc315063e30090', 781), ('shuffle-split-13d6dd49173a41f76cbc315063e30090', 4573), ('shuffle-split-13d6dd49173a41f76cbc315063e30090', 372), ('shuffle-split-13d6dd49173a41f76cbc315063e30090', 1275), ('shuffle-split-13d6dd49173a41f76cbc315063e30090', 7053), ('shuffle-split-13d6dd49173a41f76cbc315063e30090', 2852), ('shuffle-split-13d6dd49173a41f76cbc315063e30090', 637), ('shuffle-split-13d6dd49173a41f76cbc315063e30090', 7956), ('shuffle-split-13d6dd49173a41f76cbc315063e30090', 5332), ('shuffle-split-13d6dd49173a41f76cbc315063e30090', 3117), ('store-map-5fd2c8da484a50ea33113aaa77544919', 206, 0, 0), ('shuffle-split-13d6dd49173a41f76cbc315063e30090', 7812), ('shuffle-split-13d6dd49173a41f76cbc315063e30090', 1396), ('shuffle-split-13d6dd49173a41f76cbc315063e30090', 2299), ('shuffle-split-13d6dd49173a41f76cbc315063e30090', 4285), ('shuffle-split-13d6dd49173a41f76cbc315063e30090', 84), ('shuffle-split-13d6dd49173a41f76cbc315063e30090', 5188), ('shuffle-split-13d6dd49173a41f76cbc315063e30090', 758), ('shuffle-split-13d6dd49173a41f76cbc315063e30090', 8077), ('shuffle-split-13d6dd49173a41f76cbc315063e30090', 5862), ('shuffle-split-13d6dd49173a41f76cbc315063e30090', 6356), ('shuffle-split-13d6dd49173a41f76cbc315063e30090', 1023), ('shuffle-split-13d6dd49173a41f76cbc315063e30090', 3912), ('shuffle-split-13d6dd49173a41f76cbc315063e30090', 7030), ('shuffle-split-13d6dd49173a41f76cbc315063e30090', 8836), ('shuffle-split-13d6dd49173a41f76cbc315063e30090', 1288), ('shuffle-split-13d6dd49173a41f76cbc315063e30090', 8607), ('rechunk-split-debcddb6bcd428a4931b4a5e73fefd64', 374), ('shuffle-split-13d6dd49173a41f76cbc315063e30090', 8463), ('shuffle-split-13d6dd49173a41f76cbc315063e30090', 4262), ('shuffle-split-13d6dd49173a41f76cbc315063e30090', 2950), ('shuffle-split-13d6dd49173a41f76cbc315063e30090', 2721), ('shuffle-split-13d6dd49173a41f76cbc315063e30090', 1638), ('shuffle-split-13d6dd49173a41f76cbc315063e30090', 8728), ('shuffle-split-13d6dd49173a41f76cbc315063e30090', 4527), ('shuffle-split-13d6dd49173a41f76cbc315063e30090', 591), ('shuffle-split-13d6dd49173a41f76cbc315063e30090', 4648), ('shuffle-split-13d6dd49173a41f76cbc315063e30090', 2433), ('shuffle-split-13d6dd49173a41f76cbc315063e30090', 8440), ('shuffle-split-13d6dd49173a41f76cbc315063e30090', 6899), ('shuffle-split-13d6dd49173a41f76cbc315063e30090', 2698), ('shuffle-split-13d6dd49173a41f76cbc315063e30090', 3601), ('shuffle-split-13d6dd49173a41f76cbc315063e30090', 4504), ('shuffle-split-13d6dd49173a41f76cbc315063e30090', 748), ('shuffle-split-13d6dd49173a41f76cbc315063e30090', 5852), ('shuffle-split-13d6dd49173a41f76cbc315063e30090', 2554), ('shuffle-split-13d6dd49173a41f76cbc315063e30090', 4540), ('shuffle-split-13d6dd49173a41f76cbc315063e30090', 6346), ('shuffle-split-13d6dd49173a41f76cbc315063e30090', 7020), ('shuffle-split-13d6dd49173a41f76cbc315063e30090', 604), ('shuffle-split-13d6dd49173a41f76cbc315063e30090', 1507), ('shuffle-split-13d6dd49173a41f76cbc315063e30090', 3493), ('shuffle-split-13d6dd49173a41f76cbc315063e30090', 8597), ('shuffle-split-13d6dd49173a41f76cbc315063e30090', 869), ('shuffle-split-13d6dd49173a41f76cbc315063e30090', 6202), ('shuffle-split-13d6dd49173a41f76cbc315063e30090', 2675), ('shuffle-split-13d6dd49173a41f76cbc315063e30090', 4661), ('shuffle-split-13d6dd49173a41f76cbc315063e30090', 7779), ('shuffle-split-13d6dd49173a41f76cbc315063e30090', 5564), ('shuffle-split-13d6dd49173a41f76cbc315063e30090', 4252), ('shuffle-split-13d6dd49173a41f76cbc315063e30090', 2037), ('shuffle-split-13d6dd49173a41f76cbc315063e30090', 2940), ('shuffle-split-13d6dd49173a41f76cbc315063e30090', 725), ('shuffle-split-13d6dd49173a41f76cbc315063e30090', 1399), ('shuffle-split-13d6dd49173a41f76cbc315063e30090', 87), ('shuffle-split-13d6dd49173a41f76cbc315063e30090', 3879), ('shuffle-split-13d6dd49173a41f76cbc315063e30090', 6997), ('shuffle-split-13d6dd49173a41f76cbc315063e30090', 2796), ('shuffle-split-13d6dd49173a41f76cbc315063e30090', 2567), ('shuffle-split-13d6dd49173a41f76cbc315063e30090', 1255), ('shuffle-split-13d6dd49173a41f76cbc315063e30090', 8574), ('shuffle-split-13d6dd49173a41f76cbc315063e30090', 4373), ('shuffle-split-13d6dd49173a41f76cbc315063e30090', 3061), ('shuffle-split-13d6dd49173a41f76cbc315063e30090', 2832), ('shuffle-split-13d6dd49173a41f76cbc315063e30090', 3964), ('shuffle-split-13d6dd49173a41f76cbc315063e30090', 4638), ('shuffle-split-13d6dd49173a41f76cbc315063e30090', 2423), ('shuffle-split-13d6dd49173a41f76cbc315063e30090', 7756), ('shuffle-split-13d6dd49173a41f76cbc315063e30090', 2014), ('shuffle-split-13d6dd49173a41f76cbc315063e30090', 702), ('shuffle-split-13d6dd49173a41f76cbc315063e30090', 7792), ('shuffle-split-13d6dd49173a41f76cbc315063e30090', 1605), ('shuffle-split-13d6dd49173a41f76cbc315063e30090', 1376), ('shuffle-split-13d6dd49173a41f76cbc315063e30090', 8695), ('shuffle-split-13d6dd49173a41f76cbc315063e30090', 5168), ('shuffle-split-13d6dd49173a41f76cbc315063e30090', 8286), ('shuffle-split-13d6dd49173a41f76cbc315063e30090', 6071), ('shuffle-split-13d6dd49173a41f76cbc315063e30090', 9189), ('shuffle-split-13d6dd49173a41f76cbc315063e30090', 3856), ('shuffle-split-13d6dd49173a41f76cbc315063e30090', 6974), ('shuffle-split-13d6dd49173a41f76cbc315063e30090', 6745), ('shuffle-split-13d6dd49173a41f76cbc315063e30090', 558), ('shuffle-split-13d6dd49173a41f76cbc315063e30090', 3447), ('shuffle-split-13d6dd49173a41f76cbc315063e30090', 3218), ('shuffle-split-13d6dd49173a41f76cbc315063e30090', 2809), ('shuffle-split-13d6dd49173a41f76cbc315063e30090', 3712), ('shuffle-split-13d6dd49173a41f76cbc315063e30090', 2400), ('shuffle-split-13d6dd49173a41f76cbc315063e30090', 3303), ('shuffle-split-13d6dd49173a41f76cbc315063e30090', 1088), ('shuffle-split-13d6dd49173a41f76cbc315063e30090', 1991), ('shuffle-split-13d6dd49173a41f76cbc315063e30090', 2665), ('shuffle-split-13d6dd49173a41f76cbc315063e30090', 450), ('shuffle-split-13d6dd49173a41f76cbc315063e30090', 3339), ('shuffle-split-13d6dd49173a41f76cbc315063e30090', 5145), ('shuffle-split-13d6dd49173a41f76cbc315063e30090', 2930), ('shuffle-split-13d6dd49173a41f76cbc315063e30090', 6048), ('shuffle-split-13d6dd49173a41f76cbc315063e30090', 4736), ('shuffle-split-13d6dd49173a41f76cbc315063e30090', 3424), ('shuffle-split-13d6dd49173a41f76cbc315063e30090', 8299), ('shuffle-split-13d6dd49173a41f76cbc315063e30090', 4098), ('shuffle-split-13d6dd49173a41f76cbc315063e30090', 7890), ('shuffle-split-13d6dd49173a41f76cbc315063e30090', 8564), ('shuffle-split-13d6dd49173a41f76cbc315063e30090', 2377), ('shuffle-split-13d6dd49173a41f76cbc315063e30090', 2148), ('shuffle-split-13d6dd49173a41f76cbc315063e30090', 6169), ('shuffle-split-13d6dd49173a41f76cbc315063e30090', 3725), ('shuffle-split-13d6dd49173a41f76cbc315063e30090', 427), ('shuffle-split-13d6dd49173a41f76cbc315063e30090', 2413), ('shuffle-split-13d6dd49173a41f76cbc315063e30090', 1330), ('shuffle-split-13d6dd49173a41f76cbc315063e30090', 8649), ('shuffle-split-13d6dd49173a41f76cbc315063e30090', 7108), ('shuffle-split-13d6dd49173a41f76cbc315063e30090', 2907), ('shuffle-split-13d6dd49173a41f76cbc315063e30090', 2678), ('shuffle-split-13d6dd49173a41f76cbc315063e30090', 1366), ('shuffle-split-13d6dd49173a41f76cbc315063e30090', 4484), ('shuffle-split-13d6dd49173a41f76cbc315063e30090', 5387), ('shuffle-split-13d6dd49173a41f76cbc315063e30090', 5158), ('shuffle-split-13d6dd49173a41f76cbc315063e30090', 2534), ('shuffle-split-13d6dd49173a41f76cbc315063e30090', 8541), ('shuffle-split-13d6dd49173a41f76cbc315063e30090', 6326), ('shuffle-split-13d6dd49173a41f76cbc315063e30090', 5243), ('shuffle-split-13d6dd49173a41f76cbc315063e30090', 5917), ('shuffle-split-13d6dd49173a41f76cbc315063e30090', 7903), ('shuffle-split-13d6dd49173a41f76cbc315063e30090', 3702), ('shuffle-split-13d6dd49173a41f76cbc315063e30090', 1487), ('shuffle-split-13d6dd49173a41f76cbc315063e30090', 8806), ('shuffle-split-13d6dd49173a41f76cbc315063e30090', 5508), ('shuffle-split-13d6dd49173a41f76cbc315063e30090', 5279), ('shuffle-split-13d6dd49173a41f76cbc315063e30090', 1752), ('shuffle-split-13d6dd49173a41f76cbc315063e30090', 6676), ('shuffle-split-13d6dd49173a41f76cbc315063e30090', 8927), ('shuffle-split-13d6dd49173a41f76cbc315063e30090', 5629), ('shuffle-split-13d6dd49173a41f76cbc315063e30090', 3414), ('shuffle-split-13d6dd49173a41f76cbc315063e30090', 9192), ('shuffle-split-13d6dd49173a41f76cbc315063e30090', 561), ('shuffle-split-13d6dd49173a41f76cbc315063e30090', 5894), ('shuffle-split-13d6dd49173a41f76cbc315063e30090', 4582), ('shuffle-split-13d6dd49173a41f76cbc315063e30090', 6568), ('shuffle-split-13d6dd49173a41f76cbc315063e30090', 4353), ('shuffle-split-13d6dd49173a41f76cbc315063e30090', 3041), ('shuffle-split-13d6dd49173a41f76cbc315063e30090', 8145), ('shuffle-split-13d6dd49173a41f76cbc315063e30090', 2223), ('shuffle-split-13d6dd49173a41f76cbc315063e30090', 5377), ('shuffle-split-13d6dd49173a41f76cbc315063e30090', 8266), ('shuffle-split-13d6dd49173a41f76cbc315063e30090', 9169), ('shuffle-split-13d6dd49173a41f76cbc315063e30090', 2344), ('shuffle-split-13d6dd49173a41f76cbc315063e30090', 5233), ('shuffle-split-13d6dd49173a41f76cbc315063e30090', 3018), ('shuffle-split-13d6dd49173a41f76cbc315063e30090', 8122), ('shuffle-split-13d6dd49173a41f76cbc315063e30090', 3921), ('shuffle-split-13d6dd49173a41f76cbc315063e30090', 8796), ('rechunk-split-debcddb6bcd428a4931b4a5e73fefd64', 298), ('shuffle-split-13d6dd49173a41f76cbc315063e30090', 6401), ('shuffle-split-13d6dd49173a41f76cbc315063e30090', 3957), ('shuffle-split-13d6dd49173a41f76cbc315063e30090', 2874), ('open_dataset-tas-dd3a1b3e56343af6cbf01a3769b8fe71', 1, 0, 0), ('shuffle-split-13d6dd49173a41f76cbc315063e30090', 8881), ('shuffle-split-13d6dd49173a41f76cbc315063e30090', 4451), ('shuffle-split-13d6dd49173a41f76cbc315063e30090', 6437), ('shuffle-split-13d6dd49173a41f76cbc315063e30090', 21), ('shuffle-split-13d6dd49173a41f76cbc315063e30090', 3139), ('shuffle-split-13d6dd49173a41f76cbc315063e30090', 5125), ('shuffle-split-13d6dd49173a41f76cbc315063e30090', 8243), ('shuffle-split-13d6dd49173a41f76cbc315063e30090', 6028), ('shuffle-split-13d6dd49173a41f76cbc315063e30090', 3813), ('shuffle-split-13d6dd49173a41f76cbc315063e30090', 8917), ('shuffle-split-13d6dd49173a41f76cbc315063e30090', 2730), ('shuffle-split-13d6dd49173a41f76cbc315063e30090', 8508), ('shuffle-split-13d6dd49173a41f76cbc315063e30090', 2995), ('shuffle-split-13d6dd49173a41f76cbc315063e30090', 2766), ('shuffle-split-13d6dd49173a41f76cbc315063e30090', 4572), ('shuffle-split-13d6dd49173a41f76cbc315063e30090', 6558), ('shuffle-split-13d6dd49173a41f76cbc315063e30090', 1045), ('shuffle-split-13d6dd49173a41f76cbc315063e30090', 3031), ('shuffle-split-13d6dd49173a41f76cbc315063e30090', 636), ('shuffle-split-13d6dd49173a41f76cbc315063e30090', 2622), ('shuffle-split-13d6dd49173a41f76cbc315063e30090', 407), ('shuffle-split-13d6dd49173a41f76cbc315063e30090', 6414), ('shuffle-split-13d6dd49173a41f76cbc315063e30090', 1984), ('shuffle-split-13d6dd49173a41f76cbc315063e30090', 901), ('shuffle-split-13d6dd49173a41f76cbc315063e30090', 2887), ('shuffle-split-13d6dd49173a41f76cbc315063e30090', 3790), ('shuffle-split-13d6dd49173a41f76cbc315063e30090', 8894), ('shuffle-split-13d6dd49173a41f76cbc315063e30090', 4693), ('shuffle-split-13d6dd49173a41f76cbc315063e30090', 2478), ('shuffle-split-13d6dd49173a41f76cbc315063e30090', 4464), ('shuffle-split-13d6dd49173a41f76cbc315063e30090', 3381), ('shuffle-split-13d6dd49173a41f76cbc315063e30090', 5367), ('shuffle-split-13d6dd49173a41f76cbc315063e30090', 6270), ('shuffle-split-13d6dd49173a41f76cbc315063e30090', 2743), ('shuffle-split-13d6dd49173a41f76cbc315063e30090', 7847), ('shuffle-split-13d6dd49173a41f76cbc315063e30090', 5632), ('shuffle-split-13d6dd49173a41f76cbc315063e30090', 1431), ('shuffle-split-13d6dd49173a41f76cbc315063e30090', 2334), ('shuffle-split-13d6dd49173a41f76cbc315063e30090', 5223), ('shuffle-split-13d6dd49173a41f76cbc315063e30090', 8341), ('shuffle-split-13d6dd49173a41f76cbc315063e30090', 3008), ('open_dataset-tas-dd3a1b3e56343af6cbf01a3769b8fe71', 257, 0, 0), ('shuffle-split-13d6dd49173a41f76cbc315063e30090', 6391), ('shuffle-split-13d6dd49173a41f76cbc315063e30090', 8377), ('shuffle-split-13d6dd49173a41f76cbc315063e30090', 5079), ('shuffle-split-13d6dd49173a41f76cbc315063e30090', 3767), ('shuffle-split-13d6dd49173a41f76cbc315063e30090', 5344), ('shuffle-split-13d6dd49173a41f76cbc315063e30090', 8233), ('shuffle-split-13d6dd49173a41f76cbc315063e30090', 7824), ('shuffle-split-13d6dd49173a41f76cbc315063e30090', 6512), ('shuffle-split-13d6dd49173a41f76cbc315063e30090', 2985), ('shuffle-split-13d6dd49173a41f76cbc315063e30090', 770), ('shuffle-split-13d6dd49173a41f76cbc315063e30090', 3888), ('shuffle-split-13d6dd49173a41f76cbc315063e30090', 2576), ('shuffle-split-13d6dd49173a41f76cbc315063e30090', 3250), ('shuffle-split-13d6dd49173a41f76cbc315063e30090', 6139), ('shuffle-split-13d6dd49173a41f76cbc315063e30090', 2841), ('shuffle-split-13d6dd49173a41f76cbc315063e30090', 6633), ('shuffle-split-13d6dd49173a41f76cbc315063e30090', 1300), ('shuffle-split-13d6dd49173a41f76cbc315063e30090', 6404), ('shuffle-split-13d6dd49173a41f76cbc315063e30090', 2203), ('shuffle-split-13d6dd49173a41f76cbc315063e30090', 6898), ('shuffle-split-13d6dd49173a41f76cbc315063e30090', 8884), ('shuffle-split-13d6dd49173a41f76cbc315063e30090', 482), ('shuffle-split-13d6dd49173a41f76cbc315063e30090', 4274), ('shuffle-split-13d6dd49173a41f76cbc315063e30090', 518), ('shuffle-split-13d6dd49173a41f76cbc315063e30090', 2324), ('shuffle-split-13d6dd49173a41f76cbc315063e30090', 3227), ('shuffle-split-13d6dd49173a41f76cbc315063e30090', 1012), ('shuffle-split-13d6dd49173a41f76cbc315063e30090', 8331), ('shuffle-split-13d6dd49173a41f76cbc315063e30090', 2998), ('shuffle-split-13d6dd49173a41f76cbc315063e30090', 4395), ('shuffle-split-13d6dd49173a41f76cbc315063e30090', 6381), ('shuffle-split-13d6dd49173a41f76cbc315063e30090', 2180), ('shuffle-split-13d6dd49173a41f76cbc315063e30090', 3757), ('shuffle-split-13d6dd49173a41f76cbc315063e30090', 6646), ('shuffle-split-13d6dd49173a41f76cbc315063e30090', 2445), ('shuffle-split-13d6dd49173a41f76cbc315063e30090', 4431), ('shuffle-split-13d6dd49173a41f76cbc315063e30090', 6237), ('shuffle-split-13d6dd49173a41f76cbc315063e30090', 8223), ('shuffle-split-13d6dd49173a41f76cbc315063e30090', 2036), ('shuffle-split-13d6dd49173a41f76cbc315063e30090', 6911), ('shuffle-split-13d6dd49173a41f76cbc315063e30090', 4696), ('shuffle-split-13d6dd49173a41f76cbc315063e30090', 5599), ('shuffle-split-13d6dd49173a41f76cbc315063e30090', 1398), ('shuffle-split-13d6dd49173a41f76cbc315063e30090', 3384), ('shuffle-split-13d6dd49173a41f76cbc315063e30090', 8488), ('shuffle-split-13d6dd49173a41f76cbc315063e30090', 3878), ('shuffle-split-13d6dd49173a41f76cbc315063e30090', 2337), ('shuffle-split-13d6dd49173a41f76cbc315063e30090', 1254), ('shuffle-split-13d6dd49173a41f76cbc315063e30090', 3240), ('shuffle-split-13d6dd49173a41f76cbc315063e30090', 4143), ('shuffle-split-13d6dd49173a41f76cbc315063e30090', 7032), ('shuffle-split-13d6dd49173a41f76cbc315063e30090', 7935), ('shuffle-split-13d6dd49173a41f76cbc315063e30090', 2193), ('shuffle-split-13d6dd49173a41f76cbc315063e30090', 881), ('shuffle-split-13d6dd49173a41f76cbc315063e30090', 8694), ('shuffle-split-13d6dd49173a41f76cbc315063e30090', 6250), ('shuffle-split-13d6dd49173a41f76cbc315063e30090', 2049), ('shuffle-split-13d6dd49173a41f76cbc315063e30090', 4938), ('shuffle-split-13d6dd49173a41f76cbc315063e30090', 3855), ('shuffle-split-13d6dd49173a41f76cbc315063e30090', 4529), ('shuffle-split-13d6dd49173a41f76cbc315063e30090', 3217), ('shuffle-split-13d6dd49173a41f76cbc315063e30090', 5203), ('shuffle-split-13d6dd49173a41f76cbc315063e30090', 8321), ('shuffle-split-13d6dd49173a41f76cbc315063e30090', 4120), ('shuffle-split-13d6dd49173a41f76cbc315063e30090', 3891), ('shuffle-split-13d6dd49173a41f76cbc315063e30090', 7912), ('shuffle-split-13d6dd49173a41f76cbc315063e30090', 2579), ('shuffle-split-13d6dd49173a41f76cbc315063e30090', 6600), ('shuffle-split-13d6dd49173a41f76cbc315063e30090', 4156), ('shuffle-split-13d6dd49173a41f76cbc315063e30090', 5288), ('shuffle-split-13d6dd49173a41f76cbc315063e30090', 3073), ('shuffle-split-13d6dd49173a41f76cbc315063e30090', 1761), ('shuffle-split-13d6dd49173a41f76cbc315063e30090', 4650), ('shuffle-split-13d6dd49173a41f76cbc315063e30090', 1123), ('shuffle-split-13d6dd49173a41f76cbc315063e30090', 8442), ('shuffle-split-13d6dd49173a41f76cbc315063e30090', 2026), ('shuffle-split-13d6dd49173a41f76cbc315063e30090', 4915), ('shuffle-split-13d6dd49173a41f76cbc315063e30090', 5589), ('shuffle-split-13d6dd49173a41f76cbc315063e30090', 2291), ('shuffle-split-13d6dd49173a41f76cbc315063e30090', 4277), ('shuffle-split-13d6dd49173a41f76cbc315063e30090', 6083), ('shuffle-split-13d6dd49173a41f76cbc315063e30090', 1653), ('shuffle-split-13d6dd49173a41f76cbc315063e30090', 5674), ('shuffle-split-13d6dd49173a41f76cbc315063e30090', 3459), ('shuffle-split-13d6dd49173a41f76cbc315063e30090', 3230), ('shuffle-split-13d6dd49173a41f76cbc315063e30090', 7251), ('shuffle-split-13d6dd49173a41f76cbc315063e30090', 2821), ('shuffle-split-13d6dd49173a41f76cbc315063e30090', 7925), ('shuffle-split-13d6dd49173a41f76cbc315063e30090', 8828), ('shuffle-split-13d6dd49173a41f76cbc315063e30090', 4627), ('shuffle-split-13d6dd49173a41f76cbc315063e30090', 6613), ('shuffle-split-13d6dd49173a41f76cbc315063e30090', 2412), ('shuffle-split-13d6dd49173a41f76cbc315063e30090', 4398), ('shuffle-split-13d6dd49173a41f76cbc315063e30090', 2183), ('shuffle-split-13d6dd49173a41f76cbc315063e30090', 8419), ('shuffle-split-13d6dd49173a41f76cbc315063e30090', 462), ('shuffle-split-13d6dd49173a41f76cbc315063e30090', 3580), ('shuffle-split-13d6dd49173a41f76cbc315063e30090', 8684), ('shuffle-split-13d6dd49173a41f76cbc315063e30090', 53), ('shuffle-split-13d6dd49173a41f76cbc315063e30090', 5157), ('shuffle-split-13d6dd49173a41f76cbc315063e30090', 6060), ('shuffle-split-13d6dd49173a41f76cbc315063e30090', 4748), ('shuffle-split-13d6dd49173a41f76cbc315063e30090', 2533), ('shuffle-split-13d6dd49173a41f76cbc315063e30090', 4519), ('shuffle-split-13d6dd49173a41f76cbc315063e30090', 2304), ('shuffle-split-13d6dd49173a41f76cbc315063e30090', 6325), ('shuffle-split-13d6dd49173a41f76cbc315063e30090', 6096), ('shuffle-split-13d6dd49173a41f76cbc315063e30090', 2798), ('shuffle-split-13d6dd49173a41f76cbc315063e30090', 7902), ('rechunk-split-debcddb6bcd428a4931b4a5e73fefd64', 487), ('store-map-5fd2c8da484a50ea33113aaa77544919', 26, 0, 0), ('shuffle-split-13d6dd49173a41f76cbc315063e30090', 2389), ('shuffle-split-13d6dd49173a41f76cbc315063e30090', 4375), ('shuffle-split-13d6dd49173a41f76cbc315063e30090', 848), ('shuffle-split-13d6dd49173a41f76cbc315063e30090', 3966), ('shuffle-split-13d6dd49173a41f76cbc315063e30090', 2654), ('shuffle-split-13d6dd49173a41f76cbc315063e30090', 7529), ('shuffle-split-13d6dd49173a41f76cbc315063e30090', 6217), ('shuffle-split-13d6dd49173a41f76cbc315063e30090', 5134), ('shuffle-split-13d6dd49173a41f76cbc315063e30090', 1607), ('shuffle-split-13d6dd49173a41f76cbc315063e30090', 4496), ('shuffle-split-13d6dd49173a41f76cbc315063e30090', 8288), ('shuffle-split-13d6dd49173a41f76cbc315063e30090', 6073), ('shuffle-split-13d6dd49173a41f76cbc315063e30090', 2546), ('shuffle-split-13d6dd49173a41f76cbc315063e30090', 8553), ('shuffle-split-13d6dd49173a41f76cbc315063e30090', 6338), ('shuffle-split-13d6dd49173a41f76cbc315063e30090', 7241), ('shuffle-split-13d6dd49173a41f76cbc315063e30090', 8144), ('shuffle-split-13d6dd49173a41f76cbc315063e30090', 3714), ('shuffle-split-13d6dd49173a41f76cbc315063e30090', 416), ('shuffle-split-13d6dd49173a41f76cbc315063e30090', 2402), ('shuffle-split-13d6dd49173a41f76cbc315063e30090', 3305), ('shuffle-split-13d6dd49173a41f76cbc315063e30090', 3076), ('shuffle-split-13d6dd49173a41f76cbc315063e30090', 6194), ('shuffle-split-13d6dd49173a41f76cbc315063e30090', 1993), ('shuffle-split-13d6dd49173a41f76cbc315063e30090', 6868), ('shuffle-split-13d6dd49173a41f76cbc315063e30090', 8674), ('shuffle-split-13d6dd49173a41f76cbc315063e30090', 4473), ('rechunk-split-debcddb6bcd428a4931b4a5e73fefd64', 176), ('shuffle-split-13d6dd49173a41f76cbc315063e30090', 2258), ('shuffle-split-13d6dd49173a41f76cbc315063e30090', 4738), ('shuffle-split-13d6dd49173a41f76cbc315063e30090', 6724), ('shuffle-split-13d6dd49173a41f76cbc315063e30090', 4509), ('shuffle-split-13d6dd49173a41f76cbc315063e30090', 8530), ('shuffle-split-13d6dd49173a41f76cbc315063e30090', 4100), ('shuffle-split-13d6dd49173a41f76cbc315063e30090', 2788), ('shuffle-split-13d6dd49173a41f76cbc315063e30090', 5677), ('shuffle-split-13d6dd49173a41f76cbc315063e30090', 3462), ('shuffle-split-13d6dd49173a41f76cbc315063e30090', 4594), ('shuffle-split-13d6dd49173a41f76cbc315063e30090', 164), ('shuffle-split-13d6dd49173a41f76cbc315063e30090', 7483), ('shuffle-split-13d6dd49173a41f76cbc315063e30090', 5268), ('shuffle-split-13d6dd49173a41f76cbc315063e30090', 5533), ('shuffle-split-13d6dd49173a41f76cbc315063e30090', 3318), ('shuffle-split-13d6dd49173a41f76cbc315063e30090', 8422), ('shuffle-split-13d6dd49173a41f76cbc315063e30090', 2235), ('shuffle-split-13d6dd49173a41f76cbc315063e30090', 20), ('shuffle-split-13d6dd49173a41f76cbc315063e30090', 2909), ('shuffle-split-13d6dd49173a41f76cbc315063e30090', 6701), ('shuffle-split-13d6dd49173a41f76cbc315063e30090', 4486), ('shuffle-split-13d6dd49173a41f76cbc315063e30090', 6063), ('shuffle-split-13d6dd49173a41f76cbc315063e30090', 6966), ('shuffle-split-13d6dd49173a41f76cbc315063e30090', 4751), ('shuffle-split-13d6dd49173a41f76cbc315063e30090', 550), ('shuffle-split-13d6dd49173a41f76cbc315063e30090', 5654), ('shuffle-split-13d6dd49173a41f76cbc315063e30090', 1453), ('shuffle-split-13d6dd49173a41f76cbc315063e30090', 4342), ('shuffle-split-13d6dd49173a41f76cbc315063e30090', 5919), ('shuffle-split-13d6dd49173a41f76cbc315063e30090', 406), ('shuffle-split-13d6dd49173a41f76cbc315063e30090', 3295), ('shuffle-split-13d6dd49173a41f76cbc315063e30090', 1574), ('shuffle-split-13d6dd49173a41f76cbc315063e30090', 8664), ('shuffle-split-13d6dd49173a41f76cbc315063e30090', 5366), ('shuffle-split-13d6dd49173a41f76cbc315063e30090', 2922), ('shuffle-split-13d6dd49173a41f76cbc315063e30090', 6040), ('shuffle-split-13d6dd49173a41f76cbc315063e30090', 3825), ('shuffle-split-13d6dd49173a41f76cbc315063e30090', 1610), ('shuffle-split-13d6dd49173a41f76cbc315063e30090', 4728), ('shuffle-split-13d6dd49173a41f76cbc315063e30090', 6714), ('open_dataset-tas-dd3a1b3e56343af6cbf01a3769b8fe71', 299, 0, 0), ('shuffle-split-13d6dd49173a41f76cbc315063e30090', 7208), ('shuffle-split-13d6dd49173a41f76cbc315063e30090', 8111), ('shuffle-split-13d6dd49173a41f76cbc315063e30090', 5896), ('shuffle-split-13d6dd49173a41f76cbc315063e30090', 1466), ('shuffle-split-13d6dd49173a41f76cbc315063e30090', 8785), ('shuffle-split-13d6dd49173a41f76cbc315063e30090', 2369), ('shuffle-split-13d6dd49173a41f76cbc315063e30090', 4355), ('shuffle-split-13d6dd49173a41f76cbc315063e30090', 7473), ('open_dataset-tas-dd3a1b3e56343af6cbf01a3769b8fe71', 199, 0, 0), ('shuffle-split-13d6dd49173a41f76cbc315063e30090', 2634), ('shuffle-split-13d6dd49173a41f76cbc315063e30090', 1322), ('shuffle-split-13d6dd49173a41f76cbc315063e30090', 3308), ('shuffle-split-13d6dd49173a41f76cbc315063e30090', 2225), ('shuffle-split-13d6dd49173a41f76cbc315063e30090', 8232), ('shuffle-split-13d6dd49173a41f76cbc315063e30090', 2899), ('shuffle-split-13d6dd49173a41f76cbc315063e30090', 6691), ('open_dataset-tas-dd3a1b3e56343af6cbf01a3769b8fe71', 260, 0, 0), ('shuffle-split-13d6dd49173a41f76cbc315063e30090', 9171), ('shuffle-split-13d6dd49173a41f76cbc315063e30090', 6956), ('shuffle-split-13d6dd49173a41f76cbc315063e30090', 7859), ('shuffle-split-13d6dd49173a41f76cbc315063e30090', 5644), ('shuffle-split-13d6dd49173a41f76cbc315063e30090', 8762), ('shuffle-split-13d6dd49173a41f76cbc315063e30090', 131), ('shuffle-split-13d6dd49173a41f76cbc315063e30090', 7221), ('shuffle-split-13d6dd49173a41f76cbc315063e30090', 3020), ('shuffle-split-13d6dd49173a41f76cbc315063e30090', 3923), ('shuffle-split-13d6dd49173a41f76cbc315063e30090', 5909), ('shuffle-split-13d6dd49173a41f76cbc315063e30090', 2382), ('shuffle-split-13d6dd49173a41f76cbc315063e30090', 1299), ('shuffle-split-13d6dd49173a41f76cbc315063e30090', 4188), ('shuffle-split-13d6dd49173a41f76cbc315063e30090', 6174), ('shuffle-split-13d6dd49173a41f76cbc315063e30090', 1973), ('shuffle-split-13d6dd49173a41f76cbc315063e30090', 2876), ('shuffle-split-13d6dd49173a41f76cbc315063e30090', 1564), ('shuffle-split-13d6dd49173a41f76cbc315063e30090', 8654), ('shuffle-split-13d6dd49173a41f76cbc315063e30090', 2467), ('shuffle-split-13d6dd49173a41f76cbc315063e30090', 23), ('shuffle-split-13d6dd49173a41f76cbc315063e30090', 8245), ('shuffle-split-13d6dd49173a41f76cbc315063e30090', 2732), ('shuffle-split-13d6dd49173a41f76cbc315063e30090', 4718), ('shuffle-split-13d6dd49173a41f76cbc315063e30090', 7836), ('shuffle-split-13d6dd49173a41f76cbc315063e30090', 5621), ('shuffle-split-13d6dd49173a41f76cbc315063e30090', 6295), ('open_dataset-tas-dd3a1b3e56343af6cbf01a3769b8fe71', 206, 0, 0), ('shuffle-split-13d6dd49173a41f76cbc315063e30090', 5212), ('shuffle-split-13d6dd49173a41f76cbc315063e30090', 2768), ('shuffle-split-13d6dd49173a41f76cbc315063e30090', 5886), ('shuffle-split-13d6dd49173a41f76cbc315063e30090', 6560), ('shuffle-split-13d6dd49173a41f76cbc315063e30090', 8366), ('shuffle-split-13d6dd49173a41f76cbc315063e30090', 4165), ('shuffle-split-13d6dd49173a41f76cbc315063e30090', 6151), ('shuffle-split-13d6dd49173a41f76cbc315063e30090', 3936), ('shuffle-split-13d6dd49173a41f76cbc315063e30090', 638), ('open_dataset-tas-dd3a1b3e56343af6cbf01a3769b8fe71', 191, 0, 0), ('shuffle-split-13d6dd49173a41f76cbc315063e30090', 2624), ('shuffle-split-13d6dd49173a41f76cbc315063e30090', 409), ('shuffle-split-13d6dd49173a41f76cbc315063e30090', 1541), ('shuffle-split-13d6dd49173a41f76cbc315063e30090', 6645), ('shuffle-split-13d6dd49173a41f76cbc315063e30090', 4430), ('shuffle-split-13d6dd49173a41f76cbc315063e30090', 4201), ('shuffle-split-13d6dd49173a41f76cbc315063e30090', 3118), ('shuffle-split-13d6dd49173a41f76cbc315063e30090', 903), ('shuffle-split-13d6dd49173a41f76cbc315063e30090', 8222), ('shuffle-split-13d6dd49173a41f76cbc315063e30090', 9125), ('shuffle-split-13d6dd49173a41f76cbc315063e30090', 4695), ('shuffle-split-13d6dd49173a41f76cbc315063e30090', 2974), ('shuffle-split-13d6dd49173a41f76cbc315063e30090', 5634), ('shuffle-split-13d6dd49173a41f76cbc315063e30090', 8752), ('shuffle-split-13d6dd49173a41f76cbc315063e30090', 4551), ('shuffle-split-13d6dd49173a41f76cbc315063e30090', 2336), ('shuffle-split-13d6dd49173a41f76cbc315063e30090', 121), ('shuffle-split-13d6dd49173a41f76cbc315063e30090', 3010), ('shuffle-split-13d6dd49173a41f76cbc315063e30090', 7031), ('shuffle-split-13d6dd49173a41f76cbc315063e30090', 2601), ('shuffle-split-13d6dd49173a41f76cbc315063e30090', 1963), ('shuffle-split-13d6dd49173a41f76cbc315063e30090', 7067), ('shuffle-split-13d6dd49173a41f76cbc315063e30090', 3769), ('shuffle-split-13d6dd49173a41f76cbc315063e30090', 8873), ('shuffle-split-13d6dd49173a41f76cbc315063e30090', 2457), ('shuffle-split-13d6dd49173a41f76cbc315063e30090', 2228), ('shuffle-split-13d6dd49173a41f76cbc315063e30090', 5346), ('shuffle-split-13d6dd49173a41f76cbc315063e30090', 8464), ('shuffle-split-13d6dd49173a41f76cbc315063e30090', 6923), ('shuffle-split-13d6dd49173a41f76cbc315063e30090', 5611), ('shuffle-split-13d6dd49173a41f76cbc315063e30090', 1410), ('shuffle-split-13d6dd49173a41f76cbc315063e30090', 8729), ('shuffle-split-13d6dd49173a41f76cbc315063e30090', 8500), ('shuffle-split-13d6dd49173a41f76cbc315063e30090', 98), ('shuffle-split-13d6dd49173a41f76cbc315063e30090', 6105), ('shuffle-split-13d6dd49173a41f76cbc315063e30090', 4564), ('shuffle-split-13d6dd49173a41f76cbc315063e30090', 7453), ('shuffle-split-13d6dd49173a41f76cbc315063e30090', 1266), ('shuffle-split-13d6dd49173a41f76cbc315063e30090', 6141), ('shuffle-split-13d6dd49173a41f76cbc315063e30090', 7044), ('shuffle-split-13d6dd49173a41f76cbc315063e30090', 628), ('shuffle-split-13d6dd49173a41f76cbc315063e30090', 3746), ('store-map-5fd2c8da484a50ea33113aaa77544919', 137, 0, 0), ('shuffle-split-13d6dd49173a41f76cbc315063e30090', 219), ('shuffle-split-13d6dd49173a41f76cbc315063e30090', 7538), ('shuffle-split-13d6dd49173a41f76cbc315063e30090', 2205), ('shuffle-split-13d6dd49173a41f76cbc315063e30090', 5323), ('shuffle-split-13d6dd49173a41f76cbc315063e30090', 6900), ('shuffle-split-13d6dd49173a41f76cbc315063e30090', 2699), ('shuffle-split-13d6dd49173a41f76cbc315063e30090', 484), ('shuffle-split-13d6dd49173a41f76cbc315063e30090', 2470), ('open_dataset-tas-dd3a1b3e56343af6cbf01a3769b8fe71', 61, 0, 0), ('shuffle-split-13d6dd49173a41f76cbc315063e30090', 3373), ('shuffle-split-13d6dd49173a41f76cbc315063e30090', 4276), ('shuffle-split-13d6dd49173a41f76cbc315063e30090', 2061), ('shuffle-split-13d6dd49173a41f76cbc315063e30090', 5179), ('shuffle-split-13d6dd49173a41f76cbc315063e30090', 5853), ('shuffle-split-13d6dd49173a41f76cbc315063e30090', 1652), ('shuffle-split-13d6dd49173a41f76cbc315063e30090', 1423), ('shuffle-split-13d6dd49173a41f76cbc315063e30090', 8742), ('shuffle-split-13d6dd49173a41f76cbc315063e30090', 4541), ('shuffle-split-13d6dd49173a41f76cbc315063e30090', 6527), ('shuffle-split-13d6dd49173a41f76cbc315063e30090', 5215), ('shuffle-split-13d6dd49173a41f76cbc315063e30090', 6118), ('shuffle-split-13d6dd49173a41f76cbc315063e30090', 2820), ('shuffle-split-13d6dd49173a41f76cbc315063e30090', 7924), ('shuffle-split-13d6dd49173a41f76cbc315063e30090', 376), ('shuffle-split-13d6dd49173a41f76cbc315063e30090', 6612), ('shuffle-split-13d6dd49173a41f76cbc315063e30090', 4397), ('shuffle-split-13d6dd49173a41f76cbc315063e30090', 2182), ('shuffle-split-13d6dd49173a41f76cbc315063e30090', 3085), ('shuffle-split-13d6dd49173a41f76cbc315063e30090', 5071), ('shuffle-split-13d6dd49173a41f76cbc315063e30090', 2856), ('shuffle-split-13d6dd49173a41f76cbc315063e30090', 1544), ('shuffle-split-13d6dd49173a41f76cbc315063e30090', 8863), ('shuffle-split-13d6dd49173a41f76cbc315063e30090', 2447), ('shuffle-split-13d6dd49173a41f76cbc315063e30090', 232), ('shuffle-split-13d6dd49173a41f76cbc315063e30090', 5565), ('shuffle-split-13d6dd49173a41f76cbc315063e30090', 3121), ('shuffle-split-13d6dd49173a41f76cbc315063e30090', 9128), ('shuffle-split-13d6dd49173a41f76cbc315063e30090', 4927), ('shuffle-split-13d6dd49173a41f76cbc315063e30090', 2712), ('open_dataset-tas-dd3a1b3e56343af6cbf01a3769b8fe71', 85, 0, 0), ('shuffle-split-13d6dd49173a41f76cbc315063e30090', 5192), ('shuffle-split-13d6dd49173a41f76cbc315063e30090', 3880), ('shuffle-split-13d6dd49173a41f76cbc315063e30090', 6998), ('shuffle-split-13d6dd49173a41f76cbc315063e30090', 2568), ('shuffle-split-13d6dd49173a41f76cbc315063e30090', 3471), 'shuffle-taker-35b4d512318803ac027bcfe121fe7068', ('shuffle-split-13d6dd49173a41f76cbc315063e30090', 8346), ('shuffle-split-13d6dd49173a41f76cbc315063e30090', 4145), ('shuffle-split-13d6dd49173a41f76cbc315063e30090', 847), ('shuffle-split-13d6dd49173a41f76cbc315063e30090', 2833), ('shuffle-split-13d6dd49173a41f76cbc315063e30090', 6625), ('shuffle-split-13d6dd49173a41f76cbc315063e30090', 2424), ('shuffle-split-13d6dd49173a41f76cbc315063e30090', 4410), ('shuffle-split-13d6dd49173a41f76cbc315063e30090', 7528), ('shuffle-split-13d6dd49173a41f76cbc315063e30090', 5313), ('shuffle-split-13d6dd49173a41f76cbc315063e30090', 8431), ('shuffle-split-13d6dd49173a41f76cbc315063e30090', 6216), ('shuffle-split-13d6dd49173a41f76cbc315063e30090', 2689), ('shuffle-split-13d6dd49173a41f76cbc315063e30090', 7793), ('shuffle-split-13d6dd49173a41f76cbc315063e30090', 8467), ('shuffle-split-13d6dd49173a41f76cbc315063e30090', 2051), ('shuffle-split-13d6dd49173a41f76cbc315063e30090', 5169), ('shuffle-split-13d6dd49173a41f76cbc315063e30090', 2954), ('shuffle-split-13d6dd49173a41f76cbc315063e30090', 4940), ('shuffle-split-13d6dd49173a41f76cbc315063e30090', 739), ('shuffle-split-13d6dd49173a41f76cbc315063e30090', 8732), ('shuffle-split-13d6dd49173a41f76cbc315063e30090', 3219), ('shuffle-split-13d6dd49173a41f76cbc315063e30090', 8323), ('shuffle-split-13d6dd49173a41f76cbc315063e30090', 7914), ('shuffle-split-13d6dd49173a41f76cbc315063e30090', 3484), ('shuffle-split-13d6dd49173a41f76cbc315063e30090', 1763), ('shuffle-split-13d6dd49173a41f76cbc315063e30090', 2666), ('shuffle-split-13d6dd49173a41f76cbc315063e30090', 3340), ('shuffle-split-13d6dd49173a41f76cbc315063e30090', 8444), ('shuffle-split-13d6dd49173a41f76cbc315063e30090', 2931), ('shuffle-split-13d6dd49173a41f76cbc315063e30090', 3605), 'shuffle-taker-27ae890314ffe5dfa949022dfde07a44', ('shuffle-split-13d6dd49173a41f76cbc315063e30090', 2293), ('shuffle-split-13d6dd49173a41f76cbc315063e30090', 2967), ('shuffle-split-13d6dd49173a41f76cbc315063e30090', 9203), ('shuffle-split-13d6dd49173a41f76cbc315063e30090', 3870), ('shuffle-split-13d6dd49173a41f76cbc315063e30090', 2558), ('shuffle-split-13d6dd49173a41f76cbc315063e30090', 5676), ('shuffle-split-13d6dd49173a41f76cbc315063e30090', 4135), ('shuffle-split-13d6dd49173a41f76cbc315063e30090', 7253), ('shuffle-split-13d6dd49173a41f76cbc315063e30090', 3052), ('open_dataset-tas-dd3a1b3e56343af6cbf01a3769b8fe71', 292, 0, 0), ('shuffle-split-13d6dd49173a41f76cbc315063e30090', 2414), ('shuffle-split-13d6dd49173a41f76cbc315063e30090', 5532), ('shuffle-split-13d6dd49173a41f76cbc315063e30090', 3317), ('shuffle-split-13d6dd49173a41f76cbc315063e30090', 8421), ('shuffle-split-13d6dd49173a41f76cbc315063e30090', 6880), ('shuffle-split-13d6dd49173a41f76cbc315063e30090', 7783), ('shuffle-split-13d6dd49173a41f76cbc315063e30090', 2270), ('shuffle-split-13d6dd49173a41f76cbc315063e30090', 2041), ('shuffle-split-13d6dd49173a41f76cbc315063e30090', 6062), ('shuffle-split-13d6dd49173a41f76cbc315063e30090', 4521), ('store-map-5fd2c8da484a50ea33113aaa77544919', 87, 0, 0), ('shuffle-split-13d6dd49173a41f76cbc315063e30090', 4112), ('shuffle-split-13d6dd49173a41f76cbc315063e30090', 2800), ('shuffle-split-13d6dd49173a41f76cbc315063e30090', 585), ('shuffle-split-13d6dd49173a41f76cbc315063e30090', 7904), ('shuffle-split-13d6dd49173a41f76cbc315063e30090', 3474), ('shuffle-split-13d6dd49173a41f76cbc315063e30090', 2391), ('shuffle-split-13d6dd49173a41f76cbc315063e30090', 8578), ('rechunk-split-debcddb6bcd428a4931b4a5e73fefd64', 309), ('shuffle-split-13d6dd49173a41f76cbc315063e30090', 7495), ('shuffle-split-13d6dd49173a41f76cbc315063e30090', 1079), ('shuffle-split-13d6dd49173a41f76cbc315063e30090', 850), ('shuffle-split-13d6dd49173a41f76cbc315063e30090', 3968), ('shuffle-split-13d6dd49173a41f76cbc315063e30090', 1753), ('shuffle-split-13d6dd49173a41f76cbc315063e30090', 441), ('shuffle-split-13d6dd49173a41f76cbc315063e30090', 7760), ('shuffle-split-13d6dd49173a41f76cbc315063e30090', 5545), ('shuffle-split-13d6dd49173a41f76cbc315063e30090', 1115), ('shuffle-split-13d6dd49173a41f76cbc315063e30090', 8434), ('shuffle-split-13d6dd49173a41f76cbc315063e30090', 6448), ('shuffle-split-13d6dd49173a41f76cbc315063e30090', 32), ('shuffle-split-13d6dd49173a41f76cbc315063e30090', 2018), ('shuffle-split-13d6dd49173a41f76cbc315063e30090', 5136), ('shuffle-split-13d6dd49173a41f76cbc315063e30090', 2921), ('shuffle-split-13d6dd49173a41f76cbc315063e30090', 706), ('shuffle-split-13d6dd49173a41f76cbc315063e30090', 3824), ('shuffle-split-13d6dd49173a41f76cbc315063e30090', 1609), ('shuffle-split-13d6dd49173a41f76cbc315063e30090', 3595), ('shuffle-split-13d6dd49173a41f76cbc315063e30090', 8699), ('shuffle-split-13d6dd49173a41f76cbc315063e30090', 2512), ('shuffle-split-13d6dd49173a41f76cbc315063e30090', 8290), ('shuffle-split-13d6dd49173a41f76cbc315063e30090', 4089), ('shuffle-split-13d6dd49173a41f76cbc315063e30090', 6075), ('shuffle-split-13d6dd49173a41f76cbc315063e30090', 9193), ('shuffle-split-13d6dd49173a41f76cbc315063e30090', 2777), ('shuffle-split-13d6dd49173a41f76cbc315063e30090', 7881), ('shuffle-split-13d6dd49173a41f76cbc315063e30090', 2548), ('shuffle-split-13d6dd49173a41f76cbc315063e30090', 8555), ('shuffle-split-13d6dd49173a41f76cbc315063e30090', 153), ('shuffle-split-13d6dd49173a41f76cbc315063e30090', 7243), ('shuffle-split-13d6dd49173a41f76cbc315063e30090', 3042), ('shuffle-split-13d6dd49173a41f76cbc315063e30090', 827), ('shuffle-split-13d6dd49173a41f76cbc315063e30090', 2813), ('shuffle-split-13d6dd49173a41f76cbc315063e30090', 3945), ('shuffle-split-13d6dd49173a41f76cbc315063e30090', 5931), ('shuffle-split-13d6dd49173a41f76cbc315063e30090', 1501), ('shuffle-split-13d6dd49173a41f76cbc315063e30090', 6605), ('shuffle-split-13d6dd49173a41f76cbc315063e30090', 5522), ('shuffle-split-13d6dd49173a41f76cbc315063e30090', 3307), ('shuffle-split-13d6dd49173a41f76cbc315063e30090', 8411), ('shuffle-split-13d6dd49173a41f76cbc315063e30090', 454), ('shuffle-split-13d6dd49173a41f76cbc315063e30090', 7773), ('shuffle-split-13d6dd49173a41f76cbc315063e30090', 4475), ('shuffle-split-13d6dd49173a41f76cbc315063e30090', 6461), ('shuffle-split-13d6dd49173a41f76cbc315063e30090', 5378), ('shuffle-split-13d6dd49173a41f76cbc315063e30090', 2934), ('shuffle-split-13d6dd49173a41f76cbc315063e30090', 4740), ('rechunk-split-debcddb6bcd428a4931b4a5e73fefd64', 443), ('shuffle-split-13d6dd49173a41f76cbc315063e30090', 8532), ('shuffle-split-13d6dd49173a41f76cbc315063e30090', 4331), ('shuffle-split-13d6dd49173a41f76cbc315063e30090', 3019), ('shuffle-split-13d6dd49173a41f76cbc315063e30090', 7894), ('shuffle-split-13d6dd49173a41f76cbc315063e30090', 5679), ('shuffle-split-13d6dd49173a41f76cbc315063e30090', 8797), ('shuffle-split-13d6dd49173a41f76cbc315063e30090', 6173), ('shuffle-split-13d6dd49173a41f76cbc315063e30090', 3958), ('shuffle-split-13d6dd49173a41f76cbc315063e30090', 1743), ('shuffle-split-13d6dd49173a41f76cbc315063e30090', 2646), ('shuffle-split-13d6dd49173a41f76cbc315063e30090', 5535), ('shuffle-split-13d6dd49173a41f76cbc315063e30090', 8653), ('shuffle-split-13d6dd49173a41f76cbc315063e30090', 4223), ('shuffle-split-13d6dd49173a41f76cbc315063e30090', 2008), ('shuffle-split-13d6dd49173a41f76cbc315063e30090', 7112), ('shuffle-split-13d6dd49173a41f76cbc315063e30090', 6703), ('rechunk-split-debcddb6bcd428a4931b4a5e73fefd64', 420), ('shuffle-split-13d6dd49173a41f76cbc315063e30090', 4488), ('shuffle-split-13d6dd49173a41f76cbc315063e30090', 8509), ('shuffle-split-13d6dd49173a41f76cbc315063e30090', 6294), ('shuffle-split-13d6dd49173a41f76cbc315063e30090', 4982), ('shuffle-split-13d6dd49173a41f76cbc315063e30090', 4753), ('shuffle-split-13d6dd49173a41f76cbc315063e30090', 552), ('shuffle-split-13d6dd49173a41f76cbc315063e30090', 8774), ('shuffle-split-13d6dd49173a41f76cbc315063e30090', 8545), ('shuffle-split-13d6dd49173a41f76cbc315063e30090', 4344), ('shuffle-split-13d6dd49173a41f76cbc315063e30090', 7462), ('shuffle-split-13d6dd49173a41f76cbc315063e30090', 3935), ('shuffle-split-13d6dd49173a41f76cbc315063e30090', 2623), ('shuffle-split-13d6dd49173a41f76cbc315063e30090', 4609), ('shuffle-split-13d6dd49173a41f76cbc315063e30090', 408), ('shuffle-split-13d6dd49173a41f76cbc315063e30090', 8630), ('shuffle-split-13d6dd49173a41f76cbc315063e30090', 6186), ('shuffle-split-13d6dd49173a41f76cbc315063e30090', 673), ('shuffle-split-13d6dd49173a41f76cbc315063e30090', 3791), ('shuffle-split-13d6dd49173a41f76cbc315063e30090', 6680), ('shuffle-split-13d6dd49173a41f76cbc315063e30090', 5139), ('shuffle-split-13d6dd49173a41f76cbc315063e30090', 8257), ('shuffle-split-13d6dd49173a41f76cbc315063e30090', 6042), ('shuffle-split-13d6dd49173a41f76cbc315063e30090', 6945), ('shuffle-split-13d6dd49173a41f76cbc315063e30090', 2744), ('shuffle-split-13d6dd49173a41f76cbc315063e30090', 2515), ('shuffle-split-13d6dd49173a41f76cbc315063e30090', 5633), ('shuffle-split-13d6dd49173a41f76cbc315063e30090', 6307), ('shuffle-split-13d6dd49173a41f76cbc315063e30090', 7210), ('shuffle-split-13d6dd49173a41f76cbc315063e30090', 5898), ('shuffle-split-13d6dd49173a41f76cbc315063e30090', 7884), ('shuffle-split-13d6dd49173a41f76cbc315063e30090', 1468), ('shuffle-split-13d6dd49173a41f76cbc315063e30090', 8787), ('shuffle-split-13d6dd49173a41f76cbc315063e30090', 5260), ('shuffle-split-13d6dd49173a41f76cbc315063e30090', 3948), ('shuffle-split-13d6dd49173a41f76cbc315063e30090', 1733), ('shuffle-split-13d6dd49173a41f76cbc315063e30090', 2865), ('shuffle-split-13d6dd49173a41f76cbc315063e30090', 2636), ('shuffle-split-13d6dd49173a41f76cbc315063e30090', 8643), ('shuffle-split-13d6dd49173a41f76cbc315063e30090', 4442), ('shuffle-split-13d6dd49173a41f76cbc315063e30090', 2227), ('shuffle-split-13d6dd49173a41f76cbc315063e30090', 2901), ('shuffle-split-13d6dd49173a41f76cbc315063e30090', 6922), ('shuffle-split-13d6dd49173a41f76cbc315063e30090', 8908), ('shuffle-split-13d6dd49173a41f76cbc315063e30090', 4707), ('shuffle-split-13d6dd49173a41f76cbc315063e30090', 2492), ('shuffle-split-13d6dd49173a41f76cbc315063e30090', 6958), ('shuffle-split-13d6dd49173a41f76cbc315063e30090', 5875), ('shuffle-split-13d6dd49173a41f76cbc315063e30090', 2348), ('shuffle-split-13d6dd49173a41f76cbc315063e30090', 4334), ('shuffle-split-13d6dd49173a41f76cbc315063e30090', 8355), ('shuffle-split-13d6dd49173a41f76cbc315063e30090', 3022), ('shuffle-split-13d6dd49173a41f76cbc315063e30090', 6405), ('shuffle-split-13d6dd49173a41f76cbc315063e30090', 8391), ('shuffle-split-13d6dd49173a41f76cbc315063e30090', 2204), ('shuffle-split-13d6dd49173a41f76cbc315063e30090', 1975), ('shuffle-split-13d6dd49173a41f76cbc315063e30090', 7079), ('shuffle-split-13d6dd49173a41f76cbc315063e30090', 3781), ('shuffle-split-13d6dd49173a41f76cbc315063e30090', 6670), ('shuffle-split-13d6dd49173a41f76cbc315063e30090', 2240), ('shuffle-split-13d6dd49173a41f76cbc315063e30090', 6261), ('shuffle-split-13d6dd49173a41f76cbc315063e30090', 2734), ('shuffle-split-13d6dd49173a41f76cbc315063e30090', 8741), ('shuffle-split-13d6dd49173a41f76cbc315063e30090', 2325), ('shuffle-split-13d6dd49173a41f76cbc315063e30090', 2590), ('shuffle-split-13d6dd49173a41f76cbc315063e30090', 375), ('open_dataset-tas-dd3a1b3e56343af6cbf01a3769b8fe71', 273, 0, 0), ('shuffle-split-13d6dd49173a41f76cbc315063e30090', 6382), ('shuffle-split-13d6dd49173a41f76cbc315063e30090', 5070), ('shuffle-split-13d6dd49173a41f76cbc315063e30090', 7959), ('shuffle-split-13d6dd49173a41f76cbc315063e30090', 2626), ('shuffle-split-13d6dd49173a41f76cbc315063e30090', 8862), ('shuffle-split-13d6dd49173a41f76cbc315063e30090', 6418), ('shuffle-split-13d6dd49173a41f76cbc315063e30090', 6912), ('shuffle-split-13d6dd49173a41f76cbc315063e30090', 2711), ('shuffle-split-13d6dd49173a41f76cbc315063e30090', 4697), ('open_dataset-tas-dd3a1b3e56343af6cbf01a3769b8fe71', 72, 0, 0), ('shuffle-split-13d6dd49173a41f76cbc315063e30090', 7815), ('shuffle-split-13d6dd49173a41f76cbc315063e30090', 2482), ('shuffle-split-13d6dd49173a41f76cbc315063e30090', 5600), ('shuffle-split-13d6dd49173a41f76cbc315063e30090', 5371), ('shuffle-split-13d6dd49173a41f76cbc315063e30090', 6503), ('shuffle-split-13d6dd49173a41f76cbc315063e30090', 4288), ('shuffle-split-13d6dd49173a41f76cbc315063e30090', 1435), ('shuffle-split-13d6dd49173a41f76cbc315063e30090', 6768), ('shuffle-split-13d6dd49173a41f76cbc315063e30090', 4553), ('shuffle-split-13d6dd49173a41f76cbc315063e30090', 6539), ('shuffle-split-13d6dd49173a41f76cbc315063e30090', 2338), ('shuffle-split-13d6dd49173a41f76cbc315063e30090', 3241), ('shuffle-split-13d6dd49173a41f76cbc315063e30090', 5227), ('shuffle-split-13d6dd49173a41f76cbc315063e30090', 2603), ('shuffle-split-13d6dd49173a41f76cbc315063e30090', 4409), ('shuffle-split-13d6dd49173a41f76cbc315063e30090', 2194), ('shuffle-split-13d6dd49173a41f76cbc315063e30090', 3097), ('shuffle-split-13d6dd49173a41f76cbc315063e30090', 6889), ('shuffle-split-13d6dd49173a41f76cbc315063e30090', 8875), ('shuffle-split-13d6dd49173a41f76cbc315063e30090', 4445), ('shuffle-split-13d6dd49173a41f76cbc315063e30090', 5348), ('shuffle-split-13d6dd49173a41f76cbc315063e30090', 3133), ('shuffle-split-13d6dd49173a41f76cbc315063e30090', 6251), ('shuffle-split-13d6dd49173a41f76cbc315063e30090', 9140), ('shuffle-split-13d6dd49173a41f76cbc315063e30090', 8731), ('shuffle-split-13d6dd49173a41f76cbc315063e30090', 2315), ('open_dataset-tas-dd3a1b3e56343af6cbf01a3769b8fe71', 224, 0, 0), ('shuffle-split-13d6dd49173a41f76cbc315063e30090', 774), ('shuffle-split-13d6dd49173a41f76cbc315063e30090', 2580), ('store-map-5fd2c8da484a50ea33113aaa77544919', 99, 0, 0), ('shuffle-split-13d6dd49173a41f76cbc315063e30090', 3483), ('shuffle-split-13d6dd49173a41f76cbc315063e30090', 8587), ('shuffle-split-13d6dd49173a41f76cbc315063e30090', 8358), ('shuffle-split-13d6dd49173a41f76cbc315063e30090', 2845), ('open_dataset-tas-dd3a1b3e56343af6cbf01a3769b8fe71', 265, 0, 0), ('shuffle-split-13d6dd49173a41f76cbc315063e30090', 630), ('shuffle-split-13d6dd49173a41f76cbc315063e30090', 7949), ('shuffle-split-13d6dd49173a41f76cbc315063e30090', 8623), ('shuffle-split-13d6dd49173a41f76cbc315063e30090', 4422), ('shuffle-split-13d6dd49173a41f76cbc315063e30090', 3110), ('shuffle-split-13d6dd49173a41f76cbc315063e30090', 6228), ('shuffle-split-13d6dd49173a41f76cbc315063e30090', 2472), ('shuffle-split-13d6dd49173a41f76cbc315063e30090', 6264), ('shuffle-split-13d6dd49173a41f76cbc315063e30090', 77), ('shuffle-split-13d6dd49173a41f76cbc315063e30090', 4952), ('shuffle-split-13d6dd49173a41f76cbc315063e30090', 3869), ('shuffle-split-13d6dd49173a41f76cbc315063e30090', 5855), ('shuffle-split-13d6dd49173a41f76cbc315063e30090', 1654), ('shuffle-split-13d6dd49173a41f76cbc315063e30090', 2557), ('shuffle-split-13d6dd49173a41f76cbc315063e30090', 3231), ('shuffle-split-13d6dd49173a41f76cbc315063e30090', 1016), ('open_dataset-tas-dd3a1b3e56343af6cbf01a3769b8fe71', 126, 0, 0), ('shuffle-split-13d6dd49173a41f76cbc315063e30090', 2593), ('shuffle-split-13d6dd49173a41f76cbc315063e30090', 1510), ('shuffle-split-13d6dd49173a41f76cbc315063e30090', 8600), ('shuffle-split-13d6dd49173a41f76cbc315063e30090', 198), ('shuffle-split-13d6dd49173a41f76cbc315063e30090', 6385), ('shuffle-split-13d6dd49173a41f76cbc315063e30090', 5302), ('shuffle-split-13d6dd49173a41f76cbc315063e30090', 2858), ('shuffle-split-13d6dd49173a41f76cbc315063e30090', 1546), ('shuffle-split-13d6dd49173a41f76cbc315063e30090', 4664), ('shuffle-split-13d6dd49173a41f76cbc315063e30090', 2714), ('shuffle-split-13d6dd49173a41f76cbc315063e30090', 4520), ('shuffle-split-13d6dd49173a41f76cbc315063e30090', 6506), ('shuffle-split-13d6dd49173a41f76cbc315063e30090', 5194), ('shuffle-split-13d6dd49173a41f76cbc315063e30090', 8312), ('shuffle-split-13d6dd49173a41f76cbc315063e30090', 6097), ('shuffle-split-13d6dd49173a41f76cbc315063e30090', 2570), ('shuffle-split-13d6dd49173a41f76cbc315063e30090', 4376), ('shuffle-split-13d6dd49173a41f76cbc315063e30090', 6362), ('shuffle-split-13d6dd49173a41f76cbc315063e30090', 2835), ('shuffle-split-13d6dd49173a41f76cbc315063e30090', 620), ('shuffle-split-13d6dd49173a41f76cbc315063e30090', 7939), ('shuffle-split-13d6dd49173a41f76cbc315063e30090', 1523), ('open_dataset-tas-dd3a1b3e56343af6cbf01a3769b8fe71', 214, 0, 0), ('shuffle-split-13d6dd49173a41f76cbc315063e30090', 8842), ('shuffle-split-13d6dd49173a41f76cbc315063e30090', 7530), ('shuffle-split-13d6dd49173a41f76cbc315063e30090', 5315), ('shuffle-split-13d6dd49173a41f76cbc315063e30090', 2017), ('shuffle-split-13d6dd49173a41f76cbc315063e30090', 6892), ('shuffle-split-13d6dd49173a41f76cbc315063e30090', 476), ('shuffle-split-13d6dd49173a41f76cbc315063e30090', 5580), ('shuffle-split-13d6dd49173a41f76cbc315063e30090', 8698), ('shuffle-split-13d6dd49173a41f76cbc315063e30090', 6483), ('rechunk-split-debcddb6bcd428a4931b4a5e73fefd64', 200), ('shuffle-split-13d6dd49173a41f76cbc315063e30090', 67), ('shuffle-split-13d6dd49173a41f76cbc315063e30090', 2956), ('shuffle-split-13d6dd49173a41f76cbc315063e30090', 3859), ('shuffle-split-13d6dd49173a41f76cbc315063e30090', 6748), ('shuffle-split-13d6dd49173a41f76cbc315063e30090', 8325), ('shuffle-split-13d6dd49173a41f76cbc315063e30090', 6110), ('shuffle-split-13d6dd49173a41f76cbc315063e30090', 2812), ('shuffle-split-13d6dd49173a41f76cbc315063e30090', 597), ('shuffle-split-13d6dd49173a41f76cbc315063e30090', 3715), ('shuffle-split-13d6dd49173a41f76cbc315063e30090', 8819), ('shuffle-split-13d6dd49173a41f76cbc315063e30090', 3486), ('shuffle-split-13d6dd49173a41f76cbc315063e30090', 1765), ('shuffle-split-13d6dd49173a41f76cbc315063e30090', 5557), ('shuffle-split-13d6dd49173a41f76cbc315063e30090', 3342), ('shuffle-split-13d6dd49173a41f76cbc315063e30090', 4245), ('shuffle-split-13d6dd49173a41f76cbc315063e30090', 5148), ('shuffle-split-13d6dd49173a41f76cbc315063e30090', 2933), ('shuffle-split-13d6dd49173a41f76cbc315063e30090', 1621), ('shuffle-split-13d6dd49173a41f76cbc315063e30090', 6725), ('shuffle-split-13d6dd49173a41f76cbc315063e30090', 5184), ('shuffle-split-13d6dd49173a41f76cbc315063e30090', 6316), ('shuffle-split-13d6dd49173a41f76cbc315063e30090', 4101), ('shuffle-split-13d6dd49173a41f76cbc315063e30090', 9205), ('shuffle-split-13d6dd49173a41f76cbc315063e30090', 6990), ('shuffle-split-13d6dd49173a41f76cbc315063e30090', 2789), ('shuffle-split-13d6dd49173a41f76cbc315063e30090', 3463), ('shuffle-split-13d6dd49173a41f76cbc315063e30090', 2825), ('shuffle-split-13d6dd49173a41f76cbc315063e30090', 1513), ('shuffle-split-13d6dd49173a41f76cbc315063e30090', 6617), ('shuffle-split-13d6dd49173a41f76cbc315063e30090', 2007), ('shuffle-split-13d6dd49173a41f76cbc315063e30090', 2910), ('shuffle-split-13d6dd49173a41f76cbc315063e30090', 5570), ('shuffle-split-13d6dd49173a41f76cbc315063e30090', 2272), ('shuffle-split-13d6dd49173a41f76cbc315063e30090', 4258), ('shuffle-split-13d6dd49173a41f76cbc315063e30090', 5161), ('shuffle-split-13d6dd49173a41f76cbc315063e30090', 2946), ('shuffle-split-13d6dd49173a41f76cbc315063e30090', 6064), ('shuffle-split-13d6dd49173a41f76cbc315063e30090', 3849), ('shuffle-split-13d6dd49173a41f76cbc315063e30090', 3440), ('shuffle-split-13d6dd49173a41f76cbc315063e30090', 6329), ('shuffle-split-13d6dd49173a41f76cbc315063e30090', 587), ('shuffle-split-13d6dd49173a41f76cbc315063e30090', 3705), ('shuffle-split-13d6dd49173a41f76cbc315063e30090', 4608), ('shuffle-split-13d6dd49173a41f76cbc315063e30090', 7497), ('shuffle-split-13d6dd49173a41f76cbc315063e30090', 3296), ('shuffle-split-13d6dd49173a41f76cbc315063e30090', 5282), ('shuffle-split-13d6dd49173a41f76cbc315063e30090', 852), ('shuffle-split-13d6dd49173a41f76cbc315063e30090', 8665), ('shuffle-split-13d6dd49173a41f76cbc315063e30090', 2249), ('shuffle-split-13d6dd49173a41f76cbc315063e30090', 2923), ('shuffle-split-13d6dd49173a41f76cbc315063e30090', 3826), ('shuffle-split-13d6dd49173a41f76cbc315063e30090', 6715), ('shuffle-split-13d6dd49173a41f76cbc315063e30090', 2514), ('shuffle-split-13d6dd49173a41f76cbc315063e30090', 8292), ('shuffle-split-13d6dd49173a41f76cbc315063e30090', 9195), ('shuffle-split-13d6dd49173a41f76cbc315063e30090', 2779), ('shuffle-split-13d6dd49173a41f76cbc315063e30090', 564), ('shuffle-split-13d6dd49173a41f76cbc315063e30090', 8786), ('shuffle-split-13d6dd49173a41f76cbc315063e30090', 3453), ('shuffle-split-13d6dd49173a41f76cbc315063e30090', 6571), ('shuffle-split-13d6dd49173a41f76cbc315063e30090', 5259), ('shuffle-split-13d6dd49173a41f76cbc315063e30090', 3044), ('shuffle-split-13d6dd49173a41f76cbc315063e30090', 3947), ('shuffle-split-13d6dd49173a41f76cbc315063e30090', 3718), ('shuffle-split-13d6dd49173a41f76cbc315063e30090', 2635), ('shuffle-split-13d6dd49173a41f76cbc315063e30090', 420), ('shuffle-split-13d6dd49173a41f76cbc315063e30090', 1323), ('shuffle-split-13d6dd49173a41f76cbc315063e30090', 7510), ('shuffle-split-13d6dd49173a41f76cbc315063e30090', 1094), ('shuffle-split-13d6dd49173a41f76cbc315063e30090', 8413), ('shuffle-split-13d6dd49173a41f76cbc315063e30090', 6427), ('shuffle-split-13d6dd49173a41f76cbc315063e30090', 2900), ('shuffle-split-13d6dd49173a41f76cbc315063e30090', 2671), ('shuffle-split-13d6dd49173a41f76cbc315063e30090', 1588), ('shuffle-split-13d6dd49173a41f76cbc315063e30090', 8907), ('open_dataset-tas-dd3a1b3e56343af6cbf01a3769b8fe71', 305, 0, 0), ('shuffle-split-13d6dd49173a41f76cbc315063e30090', 5151)} (stimulus_id='handle-worker-cleanup-1746784147.4444063')\n",
      "2025-05-09 11:49:07,638 - distributed.nanny - WARNING - Restarting worker\n"
     ]
    }
   ],
   "source": [
    "from dask.distributed import Client\n",
    "client= Client()\n",
    "print(client)"
   ]
  },
  {
   "cell_type": "markdown",
   "id": "e16a4bb6",
   "metadata": {},
   "source": [
    "bilinear interpolation to the 1 km grid was performed using CDO remapbil with RhiresD/TabsD as reference files. Same for remapbic (Bicubic interpolation) Now they will be masked in this script so that it only retains the Swiss domain and not entire Europe"
   ]
  },
  {
   "cell_type": "markdown",
   "id": "d7ec0120",
   "metadata": {},
   "source": [
    "#For precipitation mask"
   ]
  },
  {
   "cell_type": "code",
   "execution_count": 3,
   "id": "cae0b59e",
   "metadata": {},
   "outputs": [
    {
     "name": "stdout",
     "output_type": "stream",
     "text": [
      "Mask saved at /work/FAC/FGSE/IDYST/tbeucler/downscaling/sasthana/Downscaling/Downscaling/data/processed/RhiresD_mask.nc\n"
     ]
    }
   ],
   "source": [
    "hr_path = \"/work/FAC/FGSE/IDYST/tbeucler/downscaling/sasthana/Downscaling/Downscaling/data/raw/RhiresD_1971_2022.nc\"\n",
    "mask_output_path = \"/work/FAC/FGSE/IDYST/tbeucler/downscaling/sasthana/Downscaling/Downscaling/data/processed/RhiresD_mask.nc\"\n",
    "\n",
    "ds_hr = xr.open_dataset(hr_path)\n",
    "\n",
    "varname = \"RhiresD\" \n",
    "\n",
    "mask_rhiresd = xr.where(~np.isnan(ds_hr[varname].isel(time=0)), 1, 0)\n",
    "\n",
    "mask_rhiresd = mask_rhiresd.squeeze(drop=True)\n",
    "\n",
    "mask_rhiresd.to_netcdf(mask_output_path)\n",
    "\n",
    "print(f\"Mask saved at {mask_output_path}\")\n"
   ]
  },
  {
   "cell_type": "markdown",
   "id": "10c46114",
   "metadata": {},
   "source": [
    "#For temperature mask!"
   ]
  },
  {
   "cell_type": "code",
   "execution_count": 4,
   "id": "1101c2a1",
   "metadata": {},
   "outputs": [],
   "source": [
    "hr_path = \"/work/FAC/FGSE/IDYST/tbeucler/downscaling/sasthana/Downscaling/Downscaling/data/raw/TabsD_1971_2022.nc\"\n",
    "mask_output_path = \"/work/FAC/FGSE/IDYST/tbeucler/downscaling/sasthana/Downscaling/Downscaling/data/processed/TabsD_mask.nc\"\n",
    "\n",
    "ds_hr = xr.open_dataset(hr_path)\n",
    "\n",
    "varname = \"TabsD\" \n",
    "\n",
    "mask_tabsd = xr.where(~np.isnan(ds_hr[varname].isel(time=0)), 1, 0)\n",
    "\n",
    "mask_tabsd = mask_tabsd.squeeze(drop=True)\n",
    "\n"
   ]
  },
  {
   "cell_type": "code",
   "execution_count": 5,
   "id": "aa82d86b",
   "metadata": {},
   "outputs": [
    {
     "name": "stdout",
     "output_type": "stream",
     "text": [
      "Mask saved at /work/FAC/FGSE/IDYST/tbeucler/downscaling/sasthana/Downscaling/Downscaling/data/processed/TabsD_mask.nc\n"
     ]
    }
   ],
   "source": [
    "mask_tabsd.to_netcdf(mask_output_path)\n",
    "\n",
    "print(f\"Mask saved at {mask_output_path}\")"
   ]
  },
  {
   "cell_type": "markdown",
   "id": "20bbad85",
   "metadata": {},
   "source": [
    "#Application of the mask to the two datasets : RhiresD and TabsD masks (1km) to the bicubically interpolated 1 km datasets features from Sven`s files so that it only retains the Swiss Domain\n"
   ]
  },
  {
   "cell_type": "markdown",
   "id": "3d8b6128",
   "metadata": {},
   "source": [
    "Lazy loading was used below to allow for parallel computation. The data was not loading due to xarray loading everything at once and the kernel was crashing"
   ]
  },
  {
   "cell_type": "code",
   "execution_count": 8,
   "id": "b3c8af39",
   "metadata": {},
   "outputs": [],
   "source": [
    "bicubic_ds_precip = xr.open_dataset(\"/work/FAC/FGSE/IDYST/tbeucler/downscaling/sasthana/Downscaling/Downscaling/data/processing/features_precip_bicubic.nc\",chunks={\"time\": 500})\n",
    "\n",
    "# Masking the features to retain the swiss domain\n",
    "masked_bicubic_rhiresd = bicubic_ds_precip * mask_rhiresd\n",
    "\n",
    "masked_bicubic_rhiresd.to_netcdf(\"/work/FAC/FGSE/IDYST/tbeucler/downscaling/sasthana/Downscaling/Downscaling/data/processed/Bicubic/features_precip_masked_bicubic.nc\",\n",
    "                                 engine=\"netcdf4\",\n",
    "                                    compute=True)"
   ]
  },
  {
   "cell_type": "code",
   "execution_count": 12,
   "id": "f703d330",
   "metadata": {},
   "outputs": [],
   "source": [
    "bicubic_ds_temp = xr.open_dataset(\"/work/FAC/FGSE/IDYST/tbeucler/downscaling/sasthana/Downscaling/Downscaling/data/processing/features_tas_bicubic.nc\",chunks={\"time\": 500})\n",
    "\n",
    "# Masking the features to retain the swiss domain\n",
    "masked_bicubic_temp = bicubic_ds_temp * mask_tabsd\n",
    "\n",
    "masked_bicubic_temp.to_netcdf(\"/work/FAC/FGSE/IDYST/tbeucler/downscaling/sasthana/Downscaling/Downscaling/data/processed/Bicubic/features_tas_masked_bicubic.nc\",\n",
    "                                 engine=\"netcdf4\",\n",
    "                                    compute=True)"
   ]
  },
  {
   "cell_type": "markdown",
   "id": "226f3458",
   "metadata": {},
   "source": [
    "For reducing computation time\n",
    "#Could have used h5netcdf for faster computation\n",
    "#Could have asked for more resources installed dask distributed, and used all 4 CPU cores, computing time reduced to 30 seconds!!!"
   ]
  },
  {
   "cell_type": "markdown",
   "id": "f84a259b",
   "metadata": {},
   "source": [
    "Bilinear interpolated outputs : Maskign with the 1 km RhiresD and TabsD mask"
   ]
  },
  {
   "cell_type": "code",
   "execution_count": 13,
   "id": "c47fc5d6",
   "metadata": {},
   "outputs": [],
   "source": [
    "bilinear_ds_precip = xr.open_dataset(\"/work/FAC/FGSE/IDYST/tbeucler/downscaling/sasthana/Downscaling/Downscaling/data/processing/features_precip_biliear.nc\",chunks={\"time\": 500})\n",
    "\n",
    "# Masking\n",
    "masked_bilinear_precip = bilinear_ds_precip * mask_rhiresd\n",
    "\n",
    "masked_bilinear_precip.to_netcdf(\"/work/FAC/FGSE/IDYST/tbeucler/downscaling/sasthana/Downscaling/Downscaling/data/processed/Bilinear/features_precip_masked_bilinear.nc\",\n",
    "                                 engine=\"netcdf4\",\n",
    "                                    compute=True)"
   ]
  },
  {
   "cell_type": "code",
   "execution_count": 14,
   "id": "5a5d7c33",
   "metadata": {},
   "outputs": [],
   "source": [
    "bilinear_ds_temp = xr.open_dataset(\"/work/FAC/FGSE/IDYST/tbeucler/downscaling/sasthana/Downscaling/Downscaling/data/processing/features_tas_biliear.nc\",chunks={\"time\": 500})\n",
    "\n",
    "# Masking\n",
    "masked_bilinear_temp = bilinear_ds_temp * mask_tabsd\n",
    "\n",
    "masked_bilinear_temp.to_netcdf(\"/work/FAC/FGSE/IDYST/tbeucler/downscaling/sasthana/Downscaling/Downscaling/data/processed/Bilinear/features_tas_masked_bilinear.nc\",\n",
    "                                 engine=\"netcdf4\",\n",
    "                                    compute=True)"
   ]
  },
  {
   "cell_type": "markdown",
   "id": "ea1e2d8e",
   "metadata": {},
   "source": [
    "xxxxxxxxxxxxxxxxxxxxxxxxxxxxxxxxxxxCHECKING SHAPExxxxxxxxxxxxxxxxxxxxxxxxxxxxxxxxxx"
   ]
  },
  {
   "cell_type": "code",
   "execution_count": 9,
   "id": "5b6d6b92",
   "metadata": {},
   "outputs": [],
   "source": [
    "\n",
    "features_ds_precip = xr.open_dataset(\"/work/FAC/FGSE/IDYST/tbeucler/downscaling/sasthana/Downscaling/Downscaling/data/processed/Bicubic/features_precip_masked_bicubic.nc\")[\"pr\"]"
   ]
  },
  {
   "cell_type": "code",
   "execution_count": 16,
   "id": "1525a3b0",
   "metadata": {},
   "outputs": [],
   "source": [
    "features_ds_temp= xr.open_dataset(\"/work/FAC/FGSE/IDYST/tbeucler/downscaling/sasthana/Downscaling/Downscaling/data/processed/Bicubic/features_tas_masked_bicubic.nc\")[\"tas\"]"
   ]
  },
  {
   "cell_type": "code",
   "execution_count": 11,
   "id": "28c68e7a",
   "metadata": {},
   "outputs": [
    {
     "data": {
      "text/plain": [
       "(18993, 265, 370)"
      ]
     },
     "execution_count": 11,
     "metadata": {},
     "output_type": "execute_result"
    }
   ],
   "source": [
    "features_ds_precip.shape"
   ]
  },
  {
   "cell_type": "code",
   "execution_count": 18,
   "id": "f086c302",
   "metadata": {},
   "outputs": [
    {
     "data": {
      "text/plain": [
       "(18993, 265, 370)"
      ]
     },
     "execution_count": 18,
     "metadata": {},
     "output_type": "execute_result"
    }
   ],
   "source": [
    "features_ds_temp.shape"
   ]
  },
  {
   "cell_type": "code",
   "execution_count": 12,
   "id": "83e99157",
   "metadata": {},
   "outputs": [
    {
     "data": {
      "text/plain": [
       "(18993, 265, 370)"
      ]
     },
     "execution_count": 12,
     "metadata": {},
     "output_type": "execute_result"
    }
   ],
   "source": [
    "targets_precip= xr.open_dataset(\"/work/FAC/FGSE/IDYST/tbeucler/downscaling/sasthana/Downscaling/Downscaling/data/raw/RhiresD_1971_2022.nc\")[\"RhiresD\"]\n",
    "targets_precip.shape"
   ]
  },
  {
   "cell_type": "code",
   "execution_count": 20,
   "id": "51df3de8",
   "metadata": {},
   "outputs": [
    {
     "data": {
      "text/plain": [
       "(18993, 265, 370)"
      ]
     },
     "execution_count": 20,
     "metadata": {},
     "output_type": "execute_result"
    }
   ],
   "source": [
    "targets_temp= xr.open_dataset(\"/work/FAC/FGSE/IDYST/tbeucler/downscaling/sasthana/Downscaling/Downscaling/data/raw/TabsD_1971_2022.nc\")[\"TabsD\"]\n",
    "targets_temp.shape"
   ]
  },
  {
   "cell_type": "markdown",
   "id": "fce5d13c",
   "metadata": {},
   "source": [
    "SHAPES MATCH!!!!!!"
   ]
  },
  {
   "cell_type": "markdown",
   "id": "89cff50f",
   "metadata": {},
   "source": [
    "The entire dataset will be divided into tain, test val for both bilinear and bicubic interpolation for calculating standardisation metric etc\n"
   ]
  },
  {
   "cell_type": "markdown",
   "id": "f2daae10",
   "metadata": {},
   "source": [
    "Split will be performed on one dataset, then replicated for the other\n"
   ]
  },
  {
   "cell_type": "code",
   "execution_count": 13,
   "id": "e7d960fc",
   "metadata": {},
   "outputs": [],
   "source": [
    "import sys\n",
    "sys.path.append(\"/work/FAC/FGSE/IDYST/tbeucler/downscaling/sasthana/Downscaling/Downscaling/ML_models\")\n",
    "\n",
    "from Train_Test_Val import split_by_decade\n"
   ]
  },
  {
   "cell_type": "code",
   "execution_count": 14,
   "id": "1714fc53",
   "metadata": {},
   "outputs": [],
   "source": [
    "precip_path = \"/work/FAC/FGSE/IDYST/tbeucler/downscaling/sasthana/Downscaling/Downscaling/data/processed/Combined/features_precip_masked_bicubic.nc\"\n",
    "tas_path = \"/work/FAC/FGSE/IDYST/tbeucler/downscaling/sasthana/Downscaling/Downscaling/data/processed/Combined/features_tas_masked_bicubic.nc\"\n",
    "\n",
    "output_base = \"/work/FAC/FGSE/IDYST/tbeucler/downscaling/sasthana/Downscaling/Downscaling/data/processed/Bicubic\"\n",
    "ds_precip = xr.open_dataset(precip_path, chunks={\"time\": 50})\n",
    "ds_tas = xr.open_dataset(tas_path, chunks={\"time\": 50})\n",
    "\n",
    "times = ds_precip['time'].values  # Assumes both datasets have matching time axis, one of the time coordinates from both datasets extracted\n"
   ]
  },
  {
   "cell_type": "code",
   "execution_count": 15,
   "id": "4606125d",
   "metadata": {},
   "outputs": [],
   "source": [
    "train_idx, val_idx, test_idx = split_by_decade(times, seed=42)  # See has been fixed for reproducibility"
   ]
  },
  {
   "cell_type": "code",
   "execution_count": 16,
   "id": "33683b4c",
   "metadata": {},
   "outputs": [],
   "source": [
    "import os"
   ]
  },
  {
   "cell_type": "code",
   "execution_count": 17,
   "id": "c478c69b",
   "metadata": {},
   "outputs": [
    {
     "data": {
      "text/plain": [
       "(tensor([ 2751,  2462,  2313,  ..., 18657, 18129, 18958]),\n",
       " tensor([  486,  1772,  1052,  ..., 18762, 18652, 18403]),\n",
       " tensor([ 2936,   400,  3011,  ..., 18911, 18736, 18547]))"
      ]
     },
     "execution_count": 17,
     "metadata": {},
     "output_type": "execute_result"
    }
   ],
   "source": [
    "train_idx, val_idx, test_idx"
   ]
  },
  {
   "cell_type": "code",
   "execution_count": 18,
   "id": "e20a74ac",
   "metadata": {},
   "outputs": [
    {
     "name": "stdout",
     "output_type": "stream",
     "text": [
      "torch.Size([13293])\n",
      "torch.Size([3796])\n",
      "torch.Size([1904])\n"
     ]
    }
   ],
   "source": [
    "print(train_idx.shape)\n",
    "print(val_idx.shape)\n",
    "print(test_idx.shape)"
   ]
  },
  {
   "cell_type": "code",
   "execution_count": 19,
   "id": "394e13ce",
   "metadata": {},
   "outputs": [],
   "source": [
    "def save_splits(ds, indices, subset_folder, filename):\n",
    "    subset = ds.isel(time=indices)\n",
    "    subset = subset.chunk({\"time\": 50}) \n",
    "    save_dir = os.path.join(output_base, subset_folder)\n",
    "    os.makedirs(save_dir, exist_ok=True)\n",
    "    save_path = os.path.join(save_dir, filename)\n",
    "    \n",
    "    delayed_obj = subset.to_netcdf(save_path, engine=\"netcdf4\", compute=True)\n",
    "    \n",
    "    print(f\"Saved {filename}\")\n"
   ]
  },
  {
   "cell_type": "code",
   "execution_count": 20,
   "id": "6dcf610c",
   "metadata": {},
   "outputs": [
    {
     "name": "stdout",
     "output_type": "stream",
     "text": [
      "Saved features_precip_masked_bicubic_train.nc\n",
      "Saved features_precip_masked_bicubic_val.nc\n",
      "Saved features_precip_masked_bicubic_test.nc\n"
     ]
    }
   ],
   "source": [
    "# Precipitation input dataset for bicubic interpolation split into three categories\n",
    "save_splits(ds_precip, train_idx, \"Train\", \"features_precip_masked_bicubic_train.nc\")\n",
    "save_splits(ds_precip, val_idx, \"Val\", \"features_precip_masked_bicubic_val.nc\")\n",
    "save_splits(ds_precip, test_idx, \"Test\", \"features_precip_masked_bicubic_test.nc\")"
   ]
  },
  {
   "cell_type": "code",
   "execution_count": 21,
   "id": "0b88a939",
   "metadata": {},
   "outputs": [
    {
     "name": "stderr",
     "output_type": "stream",
     "text": [
      "2025-05-09 11:49:01,789 - distributed.worker - ERROR - failed during get data with tcp://127.0.0.1:35323 -> tcp://127.0.0.1:41593\n",
      "Traceback (most recent call last):\n",
      "  File \"/work/FAC/FGSE/IDYST/tbeucler/downscaling/sasthana/MyPythonEnvironment/lib/python3.12/site-packages/tornado/iostream.py\", line 861, in _read_to_buffer\n",
      "    bytes_read = self.read_from_fd(buf)\n",
      "                 ^^^^^^^^^^^^^^^^^^^^^^\n",
      "  File \"/work/FAC/FGSE/IDYST/tbeucler/downscaling/sasthana/MyPythonEnvironment/lib/python3.12/site-packages/tornado/iostream.py\", line 1116, in read_from_fd\n",
      "    return self.socket.recv_into(buf, len(buf))\n",
      "           ^^^^^^^^^^^^^^^^^^^^^^^^^^^^^^^^^^^^\n",
      "ConnectionResetError: [Errno 104] Connection reset by peer\n",
      "\n",
      "The above exception was the direct cause of the following exception:\n",
      "\n",
      "Traceback (most recent call last):\n",
      "  File \"/work/FAC/FGSE/IDYST/tbeucler/downscaling/sasthana/MyPythonEnvironment/lib/python3.12/site-packages/distributed/worker.py\", line 1795, in get_data\n",
      "    response = await comm.read(deserializers=serializers)\n",
      "               ^^^^^^^^^^^^^^^^^^^^^^^^^^^^^^^^^^^^^^^^^^\n",
      "  File \"/work/FAC/FGSE/IDYST/tbeucler/downscaling/sasthana/MyPythonEnvironment/lib/python3.12/site-packages/distributed/comm/tcp.py\", line 237, in read\n",
      "    convert_stream_closed_error(self, e)\n",
      "  File \"/work/FAC/FGSE/IDYST/tbeucler/downscaling/sasthana/MyPythonEnvironment/lib/python3.12/site-packages/distributed/comm/tcp.py\", line 143, in convert_stream_closed_error\n",
      "    raise CommClosedError(f\"in {obj}: {exc.__class__.__name__}: {exc}\") from exc\n",
      "distributed.comm.core.CommClosedError: in <TCP (closed)  local=tcp://127.0.0.1:35323 remote=tcp://127.0.0.1:40686>: ConnectionResetError: [Errno 104] Connection reset by peer\n",
      "2025-05-09 11:49:01,790 - distributed.worker - ERROR - failed during get data with tcp://127.0.0.1:34087 -> tcp://127.0.0.1:41593\n",
      "Traceback (most recent call last):\n",
      "  File \"/work/FAC/FGSE/IDYST/tbeucler/downscaling/sasthana/MyPythonEnvironment/lib/python3.12/site-packages/tornado/iostream.py\", line 861, in _read_to_buffer\n",
      "    bytes_read = self.read_from_fd(buf)\n",
      "                 ^^^^^^^^^^^^^^^^^^^^^^\n",
      "  File \"/work/FAC/FGSE/IDYST/tbeucler/downscaling/sasthana/MyPythonEnvironment/lib/python3.12/site-packages/tornado/iostream.py\", line 1116, in read_from_fd\n",
      "    return self.socket.recv_into(buf, len(buf))\n",
      "           ^^^^^^^^^^^^^^^^^^^^^^^^^^^^^^^^^^^^\n",
      "ConnectionResetError: [Errno 104] Connection reset by peer\n",
      "\n",
      "The above exception was the direct cause of the following exception:\n",
      "\n",
      "Traceback (most recent call last):\n",
      "  File \"/work/FAC/FGSE/IDYST/tbeucler/downscaling/sasthana/MyPythonEnvironment/lib/python3.12/site-packages/distributed/worker.py\", line 1795, in get_data\n",
      "    response = await comm.read(deserializers=serializers)\n",
      "               ^^^^^^^^^^^^^^^^^^^^^^^^^^^^^^^^^^^^^^^^^^\n",
      "  File \"/work/FAC/FGSE/IDYST/tbeucler/downscaling/sasthana/MyPythonEnvironment/lib/python3.12/site-packages/distributed/comm/tcp.py\", line 237, in read\n",
      "    convert_stream_closed_error(self, e)\n",
      "  File \"/work/FAC/FGSE/IDYST/tbeucler/downscaling/sasthana/MyPythonEnvironment/lib/python3.12/site-packages/distributed/comm/tcp.py\", line 143, in convert_stream_closed_error\n",
      "    raise CommClosedError(f\"in {obj}: {exc.__class__.__name__}: {exc}\") from exc\n",
      "distributed.comm.core.CommClosedError: in <TCP (closed)  local=tcp://127.0.0.1:34087 remote=tcp://127.0.0.1:36450>: ConnectionResetError: [Errno 104] Connection reset by peer\n",
      "2025-05-09 11:49:01,791 - distributed.worker - ERROR - Worker stream died during communication: tcp://127.0.0.1:41593\n",
      "Traceback (most recent call last):\n",
      "  File \"/work/FAC/FGSE/IDYST/tbeucler/downscaling/sasthana/MyPythonEnvironment/lib/python3.12/site-packages/tornado/iostream.py\", line 861, in _read_to_buffer\n",
      "    bytes_read = self.read_from_fd(buf)\n",
      "                 ^^^^^^^^^^^^^^^^^^^^^^\n",
      "  File \"/work/FAC/FGSE/IDYST/tbeucler/downscaling/sasthana/MyPythonEnvironment/lib/python3.12/site-packages/tornado/iostream.py\", line 1116, in read_from_fd\n",
      "    return self.socket.recv_into(buf, len(buf))\n",
      "           ^^^^^^^^^^^^^^^^^^^^^^^^^^^^^^^^^^^^\n",
      "ConnectionResetError: [Errno 104] Connection reset by peer\n",
      "\n",
      "The above exception was the direct cause of the following exception:\n",
      "\n",
      "Traceback (most recent call last):\n",
      "  File \"/work/FAC/FGSE/IDYST/tbeucler/downscaling/sasthana/MyPythonEnvironment/lib/python3.12/site-packages/distributed/worker.py\", line 2073, in gather_dep\n",
      "    response = await get_data_from_worker(\n",
      "               ^^^^^^^^^^^^^^^^^^^^^^^^^^^\n",
      "  File \"/work/FAC/FGSE/IDYST/tbeucler/downscaling/sasthana/MyPythonEnvironment/lib/python3.12/site-packages/distributed/worker.py\", line 2879, in get_data_from_worker\n",
      "    response = await send_recv(\n",
      "               ^^^^^^^^^^^^^^^^\n",
      "  File \"/work/FAC/FGSE/IDYST/tbeucler/downscaling/sasthana/MyPythonEnvironment/lib/python3.12/site-packages/distributed/core.py\", line 1018, in send_recv\n",
      "    response = await comm.read(deserializers=deserializers)\n",
      "               ^^^^^^^^^^^^^^^^^^^^^^^^^^^^^^^^^^^^^^^^^^^^\n",
      "  File \"/work/FAC/FGSE/IDYST/tbeucler/downscaling/sasthana/MyPythonEnvironment/lib/python3.12/site-packages/distributed/comm/tcp.py\", line 237, in read\n",
      "    convert_stream_closed_error(self, e)\n",
      "  File \"/work/FAC/FGSE/IDYST/tbeucler/downscaling/sasthana/MyPythonEnvironment/lib/python3.12/site-packages/distributed/comm/tcp.py\", line 143, in convert_stream_closed_error\n",
      "    raise CommClosedError(f\"in {obj}: {exc.__class__.__name__}: {exc}\") from exc\n",
      "distributed.comm.core.CommClosedError: in <TCP (closed) Ephemeral Worker->Worker for gather local=tcp://127.0.0.1:41418 remote=tcp://127.0.0.1:41593>: ConnectionResetError: [Errno 104] Connection reset by peer\n",
      "2025-05-09 11:49:01,793 - distributed.worker - ERROR - Worker stream died during communication: tcp://127.0.0.1:41593\n",
      "Traceback (most recent call last):\n",
      "  File \"/work/FAC/FGSE/IDYST/tbeucler/downscaling/sasthana/MyPythonEnvironment/lib/python3.12/site-packages/tornado/iostream.py\", line 861, in _read_to_buffer\n",
      "    bytes_read = self.read_from_fd(buf)\n",
      "                 ^^^^^^^^^^^^^^^^^^^^^^\n",
      "  File \"/work/FAC/FGSE/IDYST/tbeucler/downscaling/sasthana/MyPythonEnvironment/lib/python3.12/site-packages/tornado/iostream.py\", line 1116, in read_from_fd\n",
      "    return self.socket.recv_into(buf, len(buf))\n",
      "           ^^^^^^^^^^^^^^^^^^^^^^^^^^^^^^^^^^^^\n",
      "ConnectionResetError: [Errno 104] Connection reset by peer\n",
      "\n",
      "The above exception was the direct cause of the following exception:\n",
      "\n",
      "Traceback (most recent call last):\n",
      "  File \"/work/FAC/FGSE/IDYST/tbeucler/downscaling/sasthana/MyPythonEnvironment/lib/python3.12/site-packages/distributed/worker.py\", line 2073, in gather_dep\n",
      "    response = await get_data_from_worker(\n",
      "               ^^^^^^^^^^^^^^^^^^^^^^^^^^^\n",
      "  File \"/work/FAC/FGSE/IDYST/tbeucler/downscaling/sasthana/MyPythonEnvironment/lib/python3.12/site-packages/distributed/worker.py\", line 2879, in get_data_from_worker\n",
      "    response = await send_recv(\n",
      "               ^^^^^^^^^^^^^^^^\n",
      "  File \"/work/FAC/FGSE/IDYST/tbeucler/downscaling/sasthana/MyPythonEnvironment/lib/python3.12/site-packages/distributed/core.py\", line 1018, in send_recv\n",
      "    response = await comm.read(deserializers=deserializers)\n",
      "               ^^^^^^^^^^^^^^^^^^^^^^^^^^^^^^^^^^^^^^^^^^^^\n",
      "  File \"/work/FAC/FGSE/IDYST/tbeucler/downscaling/sasthana/MyPythonEnvironment/lib/python3.12/site-packages/distributed/comm/tcp.py\", line 237, in read\n",
      "    convert_stream_closed_error(self, e)\n",
      "  File \"/work/FAC/FGSE/IDYST/tbeucler/downscaling/sasthana/MyPythonEnvironment/lib/python3.12/site-packages/distributed/comm/tcp.py\", line 143, in convert_stream_closed_error\n",
      "    raise CommClosedError(f\"in {obj}: {exc.__class__.__name__}: {exc}\") from exc\n",
      "distributed.comm.core.CommClosedError: in <TCP (closed) Ephemeral Worker->Worker for gather local=tcp://127.0.0.1:41414 remote=tcp://127.0.0.1:41593>: ConnectionResetError: [Errno 104] Connection reset by peer\n",
      "2025-05-09 11:49:07,444 - distributed.worker - ERROR - Worker stream died during communication: tcp://127.0.0.1:35323\n",
      "Traceback (most recent call last):\n",
      "  File \"/work/FAC/FGSE/IDYST/tbeucler/downscaling/sasthana/MyPythonEnvironment/lib/python3.12/site-packages/distributed/comm/tcp.py\", line 228, in read\n",
      "    frames_nosplit = await read_bytes_rw(stream, frames_nosplit_nbytes)\n",
      "                     ^^^^^^^^^^^^^^^^^^^^^^^^^^^^^^^^^^^^^^^^^^^^^^^^^^\n",
      "  File \"/work/FAC/FGSE/IDYST/tbeucler/downscaling/sasthana/MyPythonEnvironment/lib/python3.12/site-packages/distributed/comm/tcp.py\", line 367, in read_bytes_rw\n",
      "    actual = await stream.read_into(chunk)  # type: ignore[arg-type]\n",
      "             ^^^^^^^^^^^^^^^^^^^^^^^^^^^^^\n",
      "tornado.iostream.StreamClosedError: Stream is closed\n",
      "\n",
      "The above exception was the direct cause of the following exception:\n",
      "\n",
      "Traceback (most recent call last):\n",
      "  File \"/work/FAC/FGSE/IDYST/tbeucler/downscaling/sasthana/MyPythonEnvironment/lib/python3.12/site-packages/distributed/worker.py\", line 2073, in gather_dep\n",
      "    response = await get_data_from_worker(\n",
      "               ^^^^^^^^^^^^^^^^^^^^^^^^^^^\n",
      "  File \"/work/FAC/FGSE/IDYST/tbeucler/downscaling/sasthana/MyPythonEnvironment/lib/python3.12/site-packages/distributed/worker.py\", line 2879, in get_data_from_worker\n",
      "    response = await send_recv(\n",
      "               ^^^^^^^^^^^^^^^^\n",
      "  File \"/work/FAC/FGSE/IDYST/tbeucler/downscaling/sasthana/MyPythonEnvironment/lib/python3.12/site-packages/distributed/core.py\", line 1018, in send_recv\n",
      "    response = await comm.read(deserializers=deserializers)\n",
      "               ^^^^^^^^^^^^^^^^^^^^^^^^^^^^^^^^^^^^^^^^^^^^\n",
      "  File \"/work/FAC/FGSE/IDYST/tbeucler/downscaling/sasthana/MyPythonEnvironment/lib/python3.12/site-packages/distributed/comm/tcp.py\", line 237, in read\n",
      "    convert_stream_closed_error(self, e)\n",
      "  File \"/work/FAC/FGSE/IDYST/tbeucler/downscaling/sasthana/MyPythonEnvironment/lib/python3.12/site-packages/distributed/comm/tcp.py\", line 137, in convert_stream_closed_error\n",
      "    raise CommClosedError(f\"in {obj}: {exc}\") from exc\n",
      "distributed.comm.core.CommClosedError: in <TCP (closed) Ephemeral Worker->Worker for gather local=tcp://127.0.0.1:49890 remote=tcp://127.0.0.1:35323>: Stream is closed\n",
      "2025-05-09 11:49:07,444 - distributed.worker - ERROR - Worker stream died during communication: tcp://127.0.0.1:35323\n",
      "Traceback (most recent call last):\n",
      "  File \"/work/FAC/FGSE/IDYST/tbeucler/downscaling/sasthana/MyPythonEnvironment/lib/python3.12/site-packages/tornado/iostream.py\", line 861, in _read_to_buffer\n",
      "    bytes_read = self.read_from_fd(buf)\n",
      "                 ^^^^^^^^^^^^^^^^^^^^^^\n",
      "  File \"/work/FAC/FGSE/IDYST/tbeucler/downscaling/sasthana/MyPythonEnvironment/lib/python3.12/site-packages/tornado/iostream.py\", line 1116, in read_from_fd\n",
      "    return self.socket.recv_into(buf, len(buf))\n",
      "           ^^^^^^^^^^^^^^^^^^^^^^^^^^^^^^^^^^^^\n",
      "ConnectionResetError: [Errno 104] Connection reset by peer\n",
      "\n",
      "The above exception was the direct cause of the following exception:\n",
      "\n",
      "Traceback (most recent call last):\n",
      "  File \"/work/FAC/FGSE/IDYST/tbeucler/downscaling/sasthana/MyPythonEnvironment/lib/python3.12/site-packages/distributed/worker.py\", line 2073, in gather_dep\n",
      "    response = await get_data_from_worker(\n",
      "               ^^^^^^^^^^^^^^^^^^^^^^^^^^^\n",
      "  File \"/work/FAC/FGSE/IDYST/tbeucler/downscaling/sasthana/MyPythonEnvironment/lib/python3.12/site-packages/distributed/worker.py\", line 2879, in get_data_from_worker\n",
      "    response = await send_recv(\n",
      "               ^^^^^^^^^^^^^^^^\n",
      "  File \"/work/FAC/FGSE/IDYST/tbeucler/downscaling/sasthana/MyPythonEnvironment/lib/python3.12/site-packages/distributed/core.py\", line 1018, in send_recv\n",
      "    response = await comm.read(deserializers=deserializers)\n",
      "               ^^^^^^^^^^^^^^^^^^^^^^^^^^^^^^^^^^^^^^^^^^^^\n",
      "  File \"/work/FAC/FGSE/IDYST/tbeucler/downscaling/sasthana/MyPythonEnvironment/lib/python3.12/site-packages/distributed/comm/tcp.py\", line 237, in read\n",
      "    convert_stream_closed_error(self, e)\n",
      "  File \"/work/FAC/FGSE/IDYST/tbeucler/downscaling/sasthana/MyPythonEnvironment/lib/python3.12/site-packages/distributed/comm/tcp.py\", line 143, in convert_stream_closed_error\n",
      "    raise CommClosedError(f\"in {obj}: {exc.__class__.__name__}: {exc}\") from exc\n",
      "distributed.comm.core.CommClosedError: in <TCP (closed) Ephemeral Worker->Worker for gather local=tcp://127.0.0.1:40670 remote=tcp://127.0.0.1:35323>: ConnectionResetError: [Errno 104] Connection reset by peer\n",
      "2025-05-09 11:49:07,444 - distributed.worker - ERROR - Worker stream died during communication: tcp://127.0.0.1:35323\n",
      "Traceback (most recent call last):\n",
      "  File \"/work/FAC/FGSE/IDYST/tbeucler/downscaling/sasthana/MyPythonEnvironment/lib/python3.12/site-packages/tornado/iostream.py\", line 861, in _read_to_buffer\n",
      "    bytes_read = self.read_from_fd(buf)\n",
      "                 ^^^^^^^^^^^^^^^^^^^^^^\n",
      "  File \"/work/FAC/FGSE/IDYST/tbeucler/downscaling/sasthana/MyPythonEnvironment/lib/python3.12/site-packages/tornado/iostream.py\", line 1116, in read_from_fd\n",
      "    return self.socket.recv_into(buf, len(buf))\n",
      "           ^^^^^^^^^^^^^^^^^^^^^^^^^^^^^^^^^^^^\n",
      "ConnectionResetError: [Errno 104] Connection reset by peer\n",
      "\n",
      "The above exception was the direct cause of the following exception:\n",
      "\n",
      "Traceback (most recent call last):\n",
      "  File \"/work/FAC/FGSE/IDYST/tbeucler/downscaling/sasthana/MyPythonEnvironment/lib/python3.12/site-packages/distributed/worker.py\", line 2073, in gather_dep\n",
      "    response = await get_data_from_worker(\n",
      "               ^^^^^^^^^^^^^^^^^^^^^^^^^^^\n",
      "  File \"/work/FAC/FGSE/IDYST/tbeucler/downscaling/sasthana/MyPythonEnvironment/lib/python3.12/site-packages/distributed/worker.py\", line 2879, in get_data_from_worker\n",
      "    response = await send_recv(\n",
      "               ^^^^^^^^^^^^^^^^\n",
      "  File \"/work/FAC/FGSE/IDYST/tbeucler/downscaling/sasthana/MyPythonEnvironment/lib/python3.12/site-packages/distributed/core.py\", line 1018, in send_recv\n",
      "    response = await comm.read(deserializers=deserializers)\n",
      "               ^^^^^^^^^^^^^^^^^^^^^^^^^^^^^^^^^^^^^^^^^^^^\n",
      "  File \"/work/FAC/FGSE/IDYST/tbeucler/downscaling/sasthana/MyPythonEnvironment/lib/python3.12/site-packages/distributed/comm/tcp.py\", line 237, in read\n",
      "    convert_stream_closed_error(self, e)\n",
      "  File \"/work/FAC/FGSE/IDYST/tbeucler/downscaling/sasthana/MyPythonEnvironment/lib/python3.12/site-packages/distributed/comm/tcp.py\", line 143, in convert_stream_closed_error\n",
      "    raise CommClosedError(f\"in {obj}: {exc.__class__.__name__}: {exc}\") from exc\n",
      "distributed.comm.core.CommClosedError: in <TCP (closed) Ephemeral Worker->Worker for gather local=tcp://127.0.0.1:59210 remote=tcp://127.0.0.1:35323>: ConnectionResetError: [Errno 104] Connection reset by peer\n"
     ]
    },
    {
     "name": "stdout",
     "output_type": "stream",
     "text": [
      "Saved features_tas_masked_bicubic_train.nc\n",
      "Saved features_tas_masked_bicubic_val.nc\n",
      "Saved features_tas_masked_bicubic_test.nc\n"
     ]
    }
   ],
   "source": [
    "# Temperature input dataset for bicubic interpolation split into three categories\n",
    "save_splits(ds_tas, train_idx, \"Train\", \"features_tas_masked_bicubic_train.nc\")\n",
    "save_splits(ds_tas, val_idx, \"Val\", \"features_tas_masked_bicubic_val.nc\")\n",
    "save_splits(ds_tas, test_idx, \"Test\", \"features_tas_masked_bicubic_test.nc\")"
   ]
  },
  {
   "cell_type": "markdown",
   "id": "168f33e5",
   "metadata": {},
   "source": [
    "Also splittign the targets along the very same lines usign the reproducible split"
   ]
  },
  {
   "cell_type": "code",
   "execution_count": 35,
   "id": "1e98a511",
   "metadata": {},
   "outputs": [],
   "source": [
    "precip_target = \"/work/FAC/FGSE/IDYST/tbeucler/downscaling/sasthana/Downscaling/Downscaling/data/raw/RhiresD_1971_2022.nc\"\n",
    "tas_target = \"/work/FAC/FGSE/IDYST/tbeucler/downscaling/sasthana/Downscaling/Downscaling/data/raw/TabsD_1971_2022.nc\"\n",
    "\n",
    "output_base = \"/work/FAC/FGSE/IDYST/tbeucler/downscaling/sasthana/Downscaling/Downscaling/data/processed/Bicubic\"\n",
    "ds_precip = xr.open_dataset(precip_target, chunks={\"time\": 50})\n",
    "ds_tas = xr.open_dataset(tas_target, chunks={\"time\": 50})\n",
    "\n",
    "times = ds_precip['time'].values  # Assumes both datasets have matching time axis, one of the time coordinates from both datasets extracted\n"
   ]
  },
  {
   "cell_type": "code",
   "execution_count": 36,
   "id": "4eb0bd97",
   "metadata": {},
   "outputs": [
    {
     "name": "stdout",
     "output_type": "stream",
     "text": [
      "Saved targets_precip_masked_train.nc\n",
      "Saved targets_precip_masked_val.nc\n",
      "Saved targets_precip_masked_test.nc\n"
     ]
    }
   ],
   "source": [
    "# Precipitation input dataset for bicubic interpolation split into three categories\n",
    "save_splits(ds_precip, train_idx, \"Train\", \"targets_precip_masked_train.nc\")\n",
    "save_splits(ds_precip, val_idx, \"Val\", \"targets_precip_masked_val.nc\")\n",
    "save_splits(ds_precip, test_idx, \"Test\", \"targets_precip_masked_test.nc\")"
   ]
  },
  {
   "cell_type": "code",
   "execution_count": 37,
   "id": "4740b5db",
   "metadata": {},
   "outputs": [
    {
     "name": "stdout",
     "output_type": "stream",
     "text": [
      "Saved targets_tas_masked_train.nc\n",
      "Saved targets_tas_masked_val.nc\n",
      "Saved targets_tas_masked_test.nc\n"
     ]
    }
   ],
   "source": [
    "# Precipitation input dataset for bicubic interpolation split into three categories\n",
    "save_splits(ds_tas, train_idx, \"Train\", \"targets_tas_masked_train.nc\")\n",
    "save_splits(ds_tas, val_idx, \"Val\", \"targets_tas_masked_val.nc\")\n",
    "save_splits(ds_tas, test_idx, \"Test\", \"targets_tas_masked_test.nc\")"
   ]
  },
  {
   "cell_type": "markdown",
   "id": "dbdeed40",
   "metadata": {},
   "source": []
  },
  {
   "cell_type": "markdown",
   "id": "4e6c5dfe",
   "metadata": {},
   "source": [
    "xxxxxxxxxxxxxxxxxxxxxxxxxxxxxxxDoing the same train test val split for bilinear nterpolation xxxxxxxxx"
   ]
  },
  {
   "cell_type": "code",
   "execution_count": 15,
   "id": "15015063",
   "metadata": {},
   "outputs": [],
   "source": [
    "precip_path_bilinear = \"/work/FAC/FGSE/IDYST/tbeucler/downscaling/sasthana/Downscaling/Downscaling/data/processed/Combined/features_precip_masked_bilinear.nc\"\n",
    "tas_path_bilinear = \"/work/FAC/FGSE/IDYST/tbeucler/downscaling/sasthana/Downscaling/Downscaling/data/processed/Combined/features_tas_masked_bilinear.nc\"\n",
    "\n",
    "output_base = \"/work/FAC/FGSE/IDYST/tbeucler/downscaling/sasthana/Downscaling/Downscaling/data/processed/Bilinear\"\n",
    "ds_precip_bilinear = xr.open_dataset(precip_path_bilinear, chunks={\"time\": 50})\n",
    "ds_tas_bilinear = xr.open_dataset(tas_path_bilinear, chunks={\"time\": 50})\n",
    "\n",
    "times = ds_precip_bilinear['time'].values  # Assumes both datasets have matching time axis, one of the time coordinates from both datasets extracted"
   ]
  },
  {
   "cell_type": "code",
   "execution_count": 41,
   "id": "8fbc6c19",
   "metadata": {},
   "outputs": [
    {
     "name": "stderr",
     "output_type": "stream",
     "text": [
      "2025-05-01 17:16:50,663 - distributed.worker - ERROR - failed during get data with tcp://127.0.0.1:38899 -> tcp://127.0.0.1:46187\n",
      "Traceback (most recent call last):\n",
      "  File \"/users/sasthana/.local/lib/python3.12/site-packages/tornado/iostream.py\", line 861, in _read_to_buffer\n",
      "    bytes_read = self.read_from_fd(buf)\n",
      "                 ^^^^^^^^^^^^^^^^^^^^^^\n",
      "  File \"/users/sasthana/.local/lib/python3.12/site-packages/tornado/iostream.py\", line 1116, in read_from_fd\n",
      "    return self.socket.recv_into(buf, len(buf))\n",
      "           ^^^^^^^^^^^^^^^^^^^^^^^^^^^^^^^^^^^^\n",
      "ConnectionResetError: [Errno 104] Connection reset by peer\n",
      "\n",
      "The above exception was the direct cause of the following exception:\n",
      "\n",
      "Traceback (most recent call last):\n",
      "  File \"/users/sasthana/.local/lib/python3.12/site-packages/distributed/worker.py\", line 1795, in get_data\n",
      "    response = await comm.read(deserializers=serializers)\n",
      "               ^^^^^^^^^^^^^^^^^^^^^^^^^^^^^^^^^^^^^^^^^^\n",
      "  File \"/users/sasthana/.local/lib/python3.12/site-packages/distributed/comm/tcp.py\", line 237, in read\n",
      "    convert_stream_closed_error(self, e)\n",
      "  File \"/users/sasthana/.local/lib/python3.12/site-packages/distributed/comm/tcp.py\", line 143, in convert_stream_closed_error\n",
      "    raise CommClosedError(f\"in {obj}: {exc.__class__.__name__}: {exc}\") from exc\n",
      "distributed.comm.core.CommClosedError: in <TCP (closed)  local=tcp://127.0.0.1:38899 remote=tcp://127.0.0.1:43136>: ConnectionResetError: [Errno 104] Connection reset by peer\n",
      "2025-05-01 17:16:50,663 - distributed.worker - ERROR - Worker stream died during communication: tcp://127.0.0.1:46187\n",
      "Traceback (most recent call last):\n",
      "  File \"/users/sasthana/.local/lib/python3.12/site-packages/tornado/iostream.py\", line 861, in _read_to_buffer\n",
      "    bytes_read = self.read_from_fd(buf)\n",
      "                 ^^^^^^^^^^^^^^^^^^^^^^\n",
      "  File \"/users/sasthana/.local/lib/python3.12/site-packages/tornado/iostream.py\", line 1116, in read_from_fd\n",
      "    return self.socket.recv_into(buf, len(buf))\n",
      "           ^^^^^^^^^^^^^^^^^^^^^^^^^^^^^^^^^^^^\n",
      "ConnectionResetError: [Errno 104] Connection reset by peer\n",
      "\n",
      "The above exception was the direct cause of the following exception:\n",
      "\n",
      "Traceback (most recent call last):\n",
      "  File \"/users/sasthana/.local/lib/python3.12/site-packages/distributed/worker.py\", line 2073, in gather_dep\n",
      "    response = await get_data_from_worker(\n",
      "               ^^^^^^^^^^^^^^^^^^^^^^^^^^^\n",
      "  File \"/users/sasthana/.local/lib/python3.12/site-packages/distributed/worker.py\", line 2879, in get_data_from_worker\n",
      "    response = await send_recv(\n",
      "               ^^^^^^^^^^^^^^^^\n",
      "  File \"/users/sasthana/.local/lib/python3.12/site-packages/distributed/core.py\", line 1018, in send_recv\n",
      "    response = await comm.read(deserializers=deserializers)\n",
      "               ^^^^^^^^^^^^^^^^^^^^^^^^^^^^^^^^^^^^^^^^^^^^\n",
      "  File \"/users/sasthana/.local/lib/python3.12/site-packages/distributed/comm/tcp.py\", line 237, in read\n",
      "    convert_stream_closed_error(self, e)\n",
      "  File \"/users/sasthana/.local/lib/python3.12/site-packages/distributed/comm/tcp.py\", line 143, in convert_stream_closed_error\n",
      "    raise CommClosedError(f\"in {obj}: {exc.__class__.__name__}: {exc}\") from exc\n",
      "distributed.comm.core.CommClosedError: in <TCP (closed) Ephemeral Worker->Worker for gather local=tcp://127.0.0.1:46814 remote=tcp://127.0.0.1:46187>: ConnectionResetError: [Errno 104] Connection reset by peer\n",
      "2025-05-01 17:16:50,665 - distributed.worker - ERROR - Worker stream died during communication: tcp://127.0.0.1:46187\n",
      "Traceback (most recent call last):\n",
      "  File \"/users/sasthana/.local/lib/python3.12/site-packages/distributed/comm/tcp.py\", line 231, in read\n",
      "    buffer = await read_bytes_rw(stream, buffer_nbytes)\n",
      "             ^^^^^^^^^^^^^^^^^^^^^^^^^^^^^^^^^^^^^^^^^^\n",
      "  File \"/users/sasthana/.local/lib/python3.12/site-packages/distributed/comm/tcp.py\", line 367, in read_bytes_rw\n",
      "    actual = await stream.read_into(chunk)  # type: ignore[arg-type]\n",
      "             ^^^^^^^^^^^^^^^^^^^^^^^^^^^^^\n",
      "tornado.iostream.StreamClosedError: Stream is closed\n",
      "\n",
      "The above exception was the direct cause of the following exception:\n",
      "\n",
      "Traceback (most recent call last):\n",
      "  File \"/users/sasthana/.local/lib/python3.12/site-packages/distributed/worker.py\", line 2073, in gather_dep\n",
      "    response = await get_data_from_worker(\n",
      "               ^^^^^^^^^^^^^^^^^^^^^^^^^^^\n",
      "  File \"/users/sasthana/.local/lib/python3.12/site-packages/distributed/worker.py\", line 2879, in get_data_from_worker\n",
      "    response = await send_recv(\n",
      "               ^^^^^^^^^^^^^^^^\n",
      "  File \"/users/sasthana/.local/lib/python3.12/site-packages/distributed/core.py\", line 1018, in send_recv\n",
      "    response = await comm.read(deserializers=deserializers)\n",
      "               ^^^^^^^^^^^^^^^^^^^^^^^^^^^^^^^^^^^^^^^^^^^^\n",
      "  File \"/users/sasthana/.local/lib/python3.12/site-packages/distributed/comm/tcp.py\", line 237, in read\n",
      "    convert_stream_closed_error(self, e)\n",
      "  File \"/users/sasthana/.local/lib/python3.12/site-packages/distributed/comm/tcp.py\", line 137, in convert_stream_closed_error\n",
      "    raise CommClosedError(f\"in {obj}: {exc}\") from exc\n",
      "distributed.comm.core.CommClosedError: in <TCP (closed) Ephemeral Worker->Worker for gather local=tcp://127.0.0.1:45644 remote=tcp://127.0.0.1:46187>: Stream is closed\n",
      "2025-05-01 17:16:50,667 - distributed.worker - ERROR - Worker stream died during communication: tcp://127.0.0.1:46187\n",
      "Traceback (most recent call last):\n",
      "  File \"/users/sasthana/.local/lib/python3.12/site-packages/distributed/comm/tcp.py\", line 228, in read\n",
      "    frames_nosplit = await read_bytes_rw(stream, frames_nosplit_nbytes)\n",
      "                     ^^^^^^^^^^^^^^^^^^^^^^^^^^^^^^^^^^^^^^^^^^^^^^^^^^\n",
      "  File \"/users/sasthana/.local/lib/python3.12/site-packages/distributed/comm/tcp.py\", line 367, in read_bytes_rw\n",
      "    actual = await stream.read_into(chunk)  # type: ignore[arg-type]\n",
      "             ^^^^^^^^^^^^^^^^^^^^^^^^^^^^^\n",
      "tornado.iostream.StreamClosedError: Stream is closed\n",
      "\n",
      "The above exception was the direct cause of the following exception:\n",
      "\n",
      "Traceback (most recent call last):\n",
      "  File \"/users/sasthana/.local/lib/python3.12/site-packages/distributed/worker.py\", line 2073, in gather_dep\n",
      "    response = await get_data_from_worker(\n",
      "               ^^^^^^^^^^^^^^^^^^^^^^^^^^^\n",
      "  File \"/users/sasthana/.local/lib/python3.12/site-packages/distributed/worker.py\", line 2879, in get_data_from_worker\n",
      "    response = await send_recv(\n",
      "               ^^^^^^^^^^^^^^^^\n",
      "  File \"/users/sasthana/.local/lib/python3.12/site-packages/distributed/core.py\", line 1018, in send_recv\n",
      "    response = await comm.read(deserializers=deserializers)\n",
      "               ^^^^^^^^^^^^^^^^^^^^^^^^^^^^^^^^^^^^^^^^^^^^\n",
      "  File \"/users/sasthana/.local/lib/python3.12/site-packages/distributed/comm/tcp.py\", line 237, in read\n",
      "    convert_stream_closed_error(self, e)\n",
      "  File \"/users/sasthana/.local/lib/python3.12/site-packages/distributed/comm/tcp.py\", line 137, in convert_stream_closed_error\n",
      "    raise CommClosedError(f\"in {obj}: {exc}\") from exc\n",
      "distributed.comm.core.CommClosedError: in <TCP (closed) Ephemeral Worker->Worker for gather local=tcp://127.0.0.1:46800 remote=tcp://127.0.0.1:46187>: Stream is closed\n",
      "2025-05-01 17:17:27,770 - distributed.worker - ERROR - Worker stream died during communication: tcp://127.0.0.1:33387\n",
      "Traceback (most recent call last):\n",
      "  File \"/users/sasthana/.local/lib/python3.12/site-packages/tornado/iostream.py\", line 861, in _read_to_buffer\n",
      "    bytes_read = self.read_from_fd(buf)\n",
      "                 ^^^^^^^^^^^^^^^^^^^^^^\n",
      "  File \"/users/sasthana/.local/lib/python3.12/site-packages/tornado/iostream.py\", line 1116, in read_from_fd\n",
      "    return self.socket.recv_into(buf, len(buf))\n",
      "           ^^^^^^^^^^^^^^^^^^^^^^^^^^^^^^^^^^^^\n",
      "ConnectionResetError: [Errno 104] Connection reset by peer\n",
      "\n",
      "The above exception was the direct cause of the following exception:\n",
      "\n",
      "Traceback (most recent call last):\n",
      "  File \"/users/sasthana/.local/lib/python3.12/site-packages/distributed/worker.py\", line 2073, in gather_dep\n",
      "    response = await get_data_from_worker(\n",
      "               ^^^^^^^^^^^^^^^^^^^^^^^^^^^\n",
      "  File \"/users/sasthana/.local/lib/python3.12/site-packages/distributed/worker.py\", line 2879, in get_data_from_worker\n",
      "    response = await send_recv(\n",
      "               ^^^^^^^^^^^^^^^^\n",
      "  File \"/users/sasthana/.local/lib/python3.12/site-packages/distributed/core.py\", line 1018, in send_recv\n",
      "    response = await comm.read(deserializers=deserializers)\n",
      "               ^^^^^^^^^^^^^^^^^^^^^^^^^^^^^^^^^^^^^^^^^^^^\n",
      "  File \"/users/sasthana/.local/lib/python3.12/site-packages/distributed/comm/tcp.py\", line 237, in read\n",
      "    convert_stream_closed_error(self, e)\n",
      "  File \"/users/sasthana/.local/lib/python3.12/site-packages/distributed/comm/tcp.py\", line 143, in convert_stream_closed_error\n",
      "    raise CommClosedError(f\"in {obj}: {exc.__class__.__name__}: {exc}\") from exc\n",
      "distributed.comm.core.CommClosedError: in <TCP (closed) Ephemeral Worker->Worker for gather local=tcp://127.0.0.1:47856 remote=tcp://127.0.0.1:33387>: ConnectionResetError: [Errno 104] Connection reset by peer\n",
      "2025-05-01 17:17:27,770 - distributed.worker - ERROR - Worker stream died during communication: tcp://127.0.0.1:33387\n",
      "Traceback (most recent call last):\n",
      "  File \"/users/sasthana/.local/lib/python3.12/site-packages/tornado/iostream.py\", line 861, in _read_to_buffer\n",
      "    bytes_read = self.read_from_fd(buf)\n",
      "                 ^^^^^^^^^^^^^^^^^^^^^^\n",
      "  File \"/users/sasthana/.local/lib/python3.12/site-packages/tornado/iostream.py\", line 1116, in read_from_fd\n",
      "    return self.socket.recv_into(buf, len(buf))\n",
      "           ^^^^^^^^^^^^^^^^^^^^^^^^^^^^^^^^^^^^\n",
      "ConnectionResetError: [Errno 104] Connection reset by peer\n",
      "\n",
      "The above exception was the direct cause of the following exception:\n",
      "\n",
      "Traceback (most recent call last):\n",
      "  File \"/users/sasthana/.local/lib/python3.12/site-packages/distributed/worker.py\", line 2073, in gather_dep\n",
      "    response = await get_data_from_worker(\n",
      "               ^^^^^^^^^^^^^^^^^^^^^^^^^^^\n",
      "  File \"/users/sasthana/.local/lib/python3.12/site-packages/distributed/worker.py\", line 2879, in get_data_from_worker\n",
      "    response = await send_recv(\n",
      "               ^^^^^^^^^^^^^^^^\n",
      "  File \"/users/sasthana/.local/lib/python3.12/site-packages/distributed/core.py\", line 1018, in send_recv\n",
      "    response = await comm.read(deserializers=deserializers)\n",
      "               ^^^^^^^^^^^^^^^^^^^^^^^^^^^^^^^^^^^^^^^^^^^^\n",
      "  File \"/users/sasthana/.local/lib/python3.12/site-packages/distributed/comm/tcp.py\", line 237, in read\n",
      "    convert_stream_closed_error(self, e)\n",
      "  File \"/users/sasthana/.local/lib/python3.12/site-packages/distributed/comm/tcp.py\", line 143, in convert_stream_closed_error\n",
      "    raise CommClosedError(f\"in {obj}: {exc.__class__.__name__}: {exc}\") from exc\n",
      "distributed.comm.core.CommClosedError: in <TCP (closed) Ephemeral Worker->Worker for gather local=tcp://127.0.0.1:58534 remote=tcp://127.0.0.1:33387>: ConnectionResetError: [Errno 104] Connection reset by peer\n",
      "2025-05-01 17:17:27,771 - distributed.worker - ERROR - Worker stream died during communication: tcp://127.0.0.1:33387\n",
      "Traceback (most recent call last):\n",
      "  File \"/users/sasthana/.local/lib/python3.12/site-packages/tornado/iostream.py\", line 861, in _read_to_buffer\n",
      "    bytes_read = self.read_from_fd(buf)\n",
      "                 ^^^^^^^^^^^^^^^^^^^^^^\n",
      "  File \"/users/sasthana/.local/lib/python3.12/site-packages/tornado/iostream.py\", line 1116, in read_from_fd\n",
      "    return self.socket.recv_into(buf, len(buf))\n",
      "           ^^^^^^^^^^^^^^^^^^^^^^^^^^^^^^^^^^^^\n",
      "ConnectionResetError: [Errno 104] Connection reset by peer\n",
      "\n",
      "The above exception was the direct cause of the following exception:\n",
      "\n",
      "Traceback (most recent call last):\n",
      "  File \"/users/sasthana/.local/lib/python3.12/site-packages/distributed/worker.py\", line 2073, in gather_dep\n",
      "    response = await get_data_from_worker(\n",
      "               ^^^^^^^^^^^^^^^^^^^^^^^^^^^\n",
      "  File \"/users/sasthana/.local/lib/python3.12/site-packages/distributed/worker.py\", line 2879, in get_data_from_worker\n",
      "    response = await send_recv(\n",
      "               ^^^^^^^^^^^^^^^^\n",
      "  File \"/users/sasthana/.local/lib/python3.12/site-packages/distributed/core.py\", line 1018, in send_recv\n",
      "    response = await comm.read(deserializers=deserializers)\n",
      "               ^^^^^^^^^^^^^^^^^^^^^^^^^^^^^^^^^^^^^^^^^^^^\n",
      "  File \"/users/sasthana/.local/lib/python3.12/site-packages/distributed/comm/tcp.py\", line 237, in read\n",
      "    convert_stream_closed_error(self, e)\n",
      "  File \"/users/sasthana/.local/lib/python3.12/site-packages/distributed/comm/tcp.py\", line 143, in convert_stream_closed_error\n",
      "    raise CommClosedError(f\"in {obj}: {exc.__class__.__name__}: {exc}\") from exc\n",
      "distributed.comm.core.CommClosedError: in <TCP (closed) Ephemeral Worker->Worker for gather local=tcp://127.0.0.1:47866 remote=tcp://127.0.0.1:33387>: ConnectionResetError: [Errno 104] Connection reset by peer\n",
      "2025-05-01 17:17:27,771 - distributed.worker - ERROR - failed during get data with tcp://127.0.0.1:38899 -> tcp://127.0.0.1:33387\n",
      "Traceback (most recent call last):\n",
      "  File \"/users/sasthana/.local/lib/python3.12/site-packages/tornado/iostream.py\", line 861, in _read_to_buffer\n",
      "    bytes_read = self.read_from_fd(buf)\n",
      "                 ^^^^^^^^^^^^^^^^^^^^^^\n",
      "  File \"/users/sasthana/.local/lib/python3.12/site-packages/tornado/iostream.py\", line 1116, in read_from_fd\n",
      "    return self.socket.recv_into(buf, len(buf))\n",
      "           ^^^^^^^^^^^^^^^^^^^^^^^^^^^^^^^^^^^^\n",
      "ConnectionResetError: [Errno 104] Connection reset by peer\n",
      "\n",
      "The above exception was the direct cause of the following exception:\n",
      "\n",
      "Traceback (most recent call last):\n",
      "  File \"/users/sasthana/.local/lib/python3.12/site-packages/distributed/worker.py\", line 1795, in get_data\n",
      "    response = await comm.read(deserializers=serializers)\n",
      "               ^^^^^^^^^^^^^^^^^^^^^^^^^^^^^^^^^^^^^^^^^^\n",
      "  File \"/users/sasthana/.local/lib/python3.12/site-packages/distributed/comm/tcp.py\", line 237, in read\n",
      "    convert_stream_closed_error(self, e)\n",
      "  File \"/users/sasthana/.local/lib/python3.12/site-packages/distributed/comm/tcp.py\", line 143, in convert_stream_closed_error\n",
      "    raise CommClosedError(f\"in {obj}: {exc.__class__.__name__}: {exc}\") from exc\n",
      "distributed.comm.core.CommClosedError: in <TCP (closed)  local=tcp://127.0.0.1:38899 remote=tcp://127.0.0.1:55206>: ConnectionResetError: [Errno 104] Connection reset by peer\n"
     ]
    },
    {
     "name": "stdout",
     "output_type": "stream",
     "text": [
      "Saved features_precip_masked_bilinear_train.nc\n",
      "Saved features_precip_masked_bilinear_val.nc\n",
      "Saved features_precip_masked_bilinear_test.nc\n"
     ]
    }
   ],
   "source": [
    "# Precipitation input dataset for bicubic interpolation split into three categories\n",
    "save_splits(ds_precip_bilinear, train_idx, \"Train\", \"features_precip_masked_bilinear_train.nc\")\n",
    "save_splits(ds_precip_bilinear, val_idx, \"Val\", \"features_precip_masked_bilinear_val.nc\")\n",
    "save_splits(ds_precip_bilinear, test_idx, \"Test\", \"features_precip_masked_bilinear_test.nc\")"
   ]
  },
  {
   "cell_type": "code",
   "execution_count": 16,
   "id": "35286467",
   "metadata": {},
   "outputs": [
    {
     "name": "stdout",
     "output_type": "stream",
     "text": [
      "Saved features_tas_masked_bilinear_train.nc\n",
      "Saved features_tas_masked_bilinear_val.nc\n",
      "Saved features_tas_masked_bilinear_test.nc\n"
     ]
    }
   ],
   "source": [
    "# Precipitation input dataset for bicubic interpolation split into three categories\n",
    "save_splits(ds_tas_bilinear, train_idx, \"Train\", \"features_tas_masked_bilinear_train.nc\")\n",
    "save_splits(ds_tas_bilinear, val_idx, \"Val\", \"features_tas_masked_bilinear_val.nc\")\n",
    "save_splits(ds_tas_bilinear, test_idx, \"Test\", \"features_tas_masked_bilinear_test.nc\")"
   ]
  },
  {
   "cell_type": "markdown",
   "id": "b3ef2b37",
   "metadata": {},
   "source": [
    "                                                  xxxxxxxxxxStandardisation code  xxxxxxxxxxxxxxxxxxxxxxxxxx"
   ]
  },
  {
   "cell_type": "markdown",
   "id": "baf3811d",
   "metadata": {},
   "source": [
    "Standardisation has to be performed avoiding data leakage. Hence, the train -test contamination has to be avoided. \n",
    "\n",
    "Can be done using statistics only for the training set"
   ]
  },
  {
   "cell_type": "markdown",
   "id": "517db7f7",
   "metadata": {},
   "source": [
    "The mean, std, min, max and range of the training set will then be used to perform scaling for the test set as well. "
   ]
  },
  {
   "cell_type": "markdown",
   "id": "05e76000",
   "metadata": {},
   "source": [
    "xxxxxxxxxxxxPerforming standardisation for the training set for both precip and temperaturexxxxx. Training will be performed on the bicubically interpolated dataset for now"
   ]
  },
  {
   "cell_type": "code",
   "execution_count": 22,
   "id": "3a128293",
   "metadata": {},
   "outputs": [],
   "source": [
    "from Standardise import standardise"
   ]
  },
  {
   "cell_type": "markdown",
   "id": "031b2e05",
   "metadata": {},
   "source": [
    "Temperature "
   ]
  },
  {
   "cell_type": "markdown",
   "id": "3fef20ed",
   "metadata": {},
   "source": [
    "Loading inputs and targets once again separately"
   ]
  },
  {
   "cell_type": "markdown",
   "id": "a8b56c10",
   "metadata": {},
   "source": [
    "#Scaling Precipitation training features and targets (from bicubic interpolation features): targets and features get scaled by their own mean and std. The same parametersa then used to standardise testing and validation"
   ]
  },
  {
   "cell_type": "code",
   "execution_count": 23,
   "id": "1551486b",
   "metadata": {},
   "outputs": [
    {
     "name": "stderr",
     "output_type": "stream",
     "text": [
      "/work/FAC/FGSE/IDYST/tbeucler/downscaling/sasthana/MyPythonEnvironment/lib/python3.12/site-packages/dask/_task_spec.py:758: RuntimeWarning: invalid value encountered in divide\n",
      "  return self.func(*new_argspec)\n",
      "/work/FAC/FGSE/IDYST/tbeucler/downscaling/sasthana/MyPythonEnvironment/lib/python3.12/site-packages/dask/_task_spec.py:758: RuntimeWarning: invalid value encountered in divide\n",
      "  return self.func(*new_argspec)\n",
      "/work/FAC/FGSE/IDYST/tbeucler/downscaling/sasthana/MyPythonEnvironment/lib/python3.12/site-packages/dask/_task_spec.py:758: RuntimeWarning: invalid value encountered in divide\n",
      "  return self.func(*new_argspec)\n",
      "/work/FAC/FGSE/IDYST/tbeucler/downscaling/sasthana/MyPythonEnvironment/lib/python3.12/site-packages/dask/_task_spec.py:758: RuntimeWarning: invalid value encountered in divide\n",
      "  return self.func(*new_argspec)\n"
     ]
    },
    {
     "name": "stdout",
     "output_type": "stream",
     "text": [
      "Normalised/scaled variable saved to /work/FAC/FGSE/IDYST/tbeucler/downscaling/sasthana/Downscaling/Downscaling/data/processed/Bicubic/Train/SCALED_features_precip_masked_bicubic_train.nc\n"
     ]
    }
   ],
   "source": [
    "input_path = \"/work/FAC/FGSE/IDYST/tbeucler/downscaling/sasthana/Downscaling/Downscaling/data/processed/Bicubic/Train/features_precip_masked_bicubic_train.nc\"\n",
    "output_path = \"/work/FAC/FGSE/IDYST/tbeucler/downscaling/sasthana/Downscaling/Downscaling/data/processed/Bicubic/Train/SCALED_features_precip_masked_bicubic_train.nc\"\n",
    "var = \"pr\"\n",
    "precip_min, precip_max = standardise(input_path, output_path, var)"
   ]
  },
  {
   "cell_type": "code",
   "execution_count": 12,
   "id": "3ea0b3b4",
   "metadata": {},
   "outputs": [
    {
     "name": "stdout",
     "output_type": "stream",
     "text": [
      "Normalised/scaled variable saved to /work/FAC/FGSE/IDYST/tbeucler/downscaling/sasthana/Downscaling/Downscaling/data/processed/Bicubic/Train/SCALED_targets_precip_masked_train.nc\n"
     ]
    }
   ],
   "source": [
    "input_path = \"/work/FAC/FGSE/IDYST/tbeucler/downscaling/sasthana/Downscaling/Downscaling/data/processed/Bicubic/Train/targets_precip_masked_train.nc\"\n",
    "output_path = \"/work/FAC/FGSE/IDYST/tbeucler/downscaling/sasthana/Downscaling/Downscaling/data/processed/Bicubic/Train/SCALED_targets_precip_masked_train.nc\"\n",
    "var = \"RhiresD\"\n",
    "target_min, target_max = standardise(input_path, output_path, var)"
   ]
  },
  {
   "cell_type": "markdown",
   "id": "502bccff",
   "metadata": {},
   "source": [
    "Using above mean, max, std and min from temp and precip to standardise the vcalidation and testing data to avoid data leakage"
   ]
  },
  {
   "cell_type": "markdown",
   "id": "eb527d30",
   "metadata": {},
   "source": [
    "xxxxxxxxxxxxxxxxxxxxxxxxxxxxxxxxxxxxPRECIPITATIONxxxxxxxxxxxxxxxxxxxxxxxxxxxxxxxx"
   ]
  },
  {
   "cell_type": "code",
   "execution_count": 13,
   "id": "980425b0",
   "metadata": {},
   "outputs": [
    {
     "name": "stderr",
     "output_type": "stream",
     "text": [
      "/work/FAC/FGSE/IDYST/tbeucler/downscaling/sasthana/MyPythonEnvironment/lib/python3.12/site-packages/dask/_task_spec.py:758: RuntimeWarning: invalid value encountered in divide\n",
      "  return self.func(*new_argspec)\n",
      "/work/FAC/FGSE/IDYST/tbeucler/downscaling/sasthana/MyPythonEnvironment/lib/python3.12/site-packages/dask/_task_spec.py:758: RuntimeWarning: invalid value encountered in divide\n",
      "  return self.func(*new_argspec)\n",
      "/work/FAC/FGSE/IDYST/tbeucler/downscaling/sasthana/MyPythonEnvironment/lib/python3.12/site-packages/dask/_task_spec.py:758: RuntimeWarning: invalid value encountered in divide\n",
      "  return self.func(*new_argspec)\n",
      "/work/FAC/FGSE/IDYST/tbeucler/downscaling/sasthana/MyPythonEnvironment/lib/python3.12/site-packages/dask/_task_spec.py:758: RuntimeWarning: invalid value encountered in divide\n",
      "  return self.func(*new_argspec)\n"
     ]
    },
    {
     "name": "stdout",
     "output_type": "stream",
     "text": [
      "Normalised/scaled variable saved to /work/FAC/FGSE/IDYST/tbeucler/downscaling/sasthana/Downscaling/Downscaling/data/processed/Bicubic/Val/SCALED_features_precip_masked_bicubic_val.nc\n"
     ]
    },
    {
     "data": {
      "text/plain": [
       "(<xarray.DataArray 'pr' (N: 265, E: 370)> Size: 784kB\n",
       " dask.array<_nanmin_skip-aggregate, shape=(265, 370), dtype=float64, chunksize=(265, 370), chunktype=numpy.ndarray>\n",
       " Coordinates:\n",
       "     lon      (N, E) float32 392kB dask.array<chunksize=(265, 370), meta=np.ndarray>\n",
       "     lat      (N, E) float32 392kB dask.array<chunksize=(265, 370), meta=np.ndarray>\n",
       "   * E        (E) float64 3kB 2.474e+06 2.476e+06 ... 2.842e+06 2.844e+06\n",
       "   * N        (N) float64 2kB 1.06e+06 1.06e+06 1.062e+06 ... 1.322e+06 1.324e+06,\n",
       " <xarray.DataArray 'pr' (N: 265, E: 370)> Size: 784kB\n",
       " dask.array<_nanmax_skip-aggregate, shape=(265, 370), dtype=float64, chunksize=(265, 370), chunktype=numpy.ndarray>\n",
       " Coordinates:\n",
       "     lon      (N, E) float32 392kB dask.array<chunksize=(265, 370), meta=np.ndarray>\n",
       "     lat      (N, E) float32 392kB dask.array<chunksize=(265, 370), meta=np.ndarray>\n",
       "   * E        (E) float64 3kB 2.474e+06 2.476e+06 ... 2.842e+06 2.844e+06\n",
       "   * N        (N) float64 2kB 1.06e+06 1.06e+06 1.062e+06 ... 1.322e+06 1.324e+06)"
      ]
     },
     "execution_count": 13,
     "metadata": {},
     "output_type": "execute_result"
    }
   ],
   "source": [
    "# Validation features :Precip\n",
    "input_path = \"/work/FAC/FGSE/IDYST/tbeucler/downscaling/sasthana/Downscaling/Downscaling/data/processed/Bicubic/Val/features_precip_masked_bicubic_val.nc\"\n",
    "output_path = \"/work/FAC/FGSE/IDYST/tbeucler/downscaling/sasthana/Downscaling/Downscaling/data/processed/Bicubic/Val/SCALED_features_precip_masked_bicubic_val.nc\"\n",
    "var = \"pr\"\n",
    "standardise(input_path, output_path, var, min=precip_min, max=precip_max)"
   ]
  },
  {
   "cell_type": "code",
   "execution_count": 14,
   "id": "3cd54c34",
   "metadata": {},
   "outputs": [
    {
     "name": "stdout",
     "output_type": "stream",
     "text": [
      "Normalised/scaled variable saved to /work/FAC/FGSE/IDYST/tbeucler/downscaling/sasthana/Downscaling/Downscaling/data/processed/Bicubic/Val/SCALED_targets_precip_masked_val.nc\n"
     ]
    },
    {
     "data": {
      "text/plain": [
       "(<xarray.DataArray 'RhiresD' (N: 265, E: 370)> Size: 392kB\n",
       " dask.array<_nanmin_skip-aggregate, shape=(265, 370), dtype=float32, chunksize=(265, 370), chunktype=numpy.ndarray>\n",
       " Coordinates:\n",
       "     lon      (N, E) float32 392kB dask.array<chunksize=(265, 370), meta=np.ndarray>\n",
       "     lat      (N, E) float32 392kB dask.array<chunksize=(265, 370), meta=np.ndarray>\n",
       "   * E        (E) float64 3kB 2.474e+06 2.476e+06 ... 2.842e+06 2.844e+06\n",
       "   * N        (N) float64 2kB 1.06e+06 1.06e+06 1.062e+06 ... 1.322e+06 1.324e+06,\n",
       " <xarray.DataArray 'RhiresD' (N: 265, E: 370)> Size: 392kB\n",
       " dask.array<_nanmax_skip-aggregate, shape=(265, 370), dtype=float32, chunksize=(265, 370), chunktype=numpy.ndarray>\n",
       " Coordinates:\n",
       "     lon      (N, E) float32 392kB dask.array<chunksize=(265, 370), meta=np.ndarray>\n",
       "     lat      (N, E) float32 392kB dask.array<chunksize=(265, 370), meta=np.ndarray>\n",
       "   * E        (E) float64 3kB 2.474e+06 2.476e+06 ... 2.842e+06 2.844e+06\n",
       "   * N        (N) float64 2kB 1.06e+06 1.06e+06 1.062e+06 ... 1.322e+06 1.324e+06)"
      ]
     },
     "execution_count": 14,
     "metadata": {},
     "output_type": "execute_result"
    }
   ],
   "source": [
    "\n",
    "# Validation targets:  Precip\n",
    "input_path = \"/work/FAC/FGSE/IDYST/tbeucler/downscaling/sasthana/Downscaling/Downscaling/data/processed/Bicubic/Val/targets_precip_masked_val.nc\"\n",
    "output_path = \"/work/FAC/FGSE/IDYST/tbeucler/downscaling/sasthana/Downscaling/Downscaling/data/processed/Bicubic/Val/SCALED_targets_precip_masked_val.nc\"\n",
    "var = \"RhiresD\"\n",
    "standardise(input_path, output_path, var, min=target_min, max=target_max)"
   ]
  },
  {
   "cell_type": "code",
   "execution_count": 15,
   "id": "f552a2fa",
   "metadata": {},
   "outputs": [
    {
     "name": "stderr",
     "output_type": "stream",
     "text": [
      "/work/FAC/FGSE/IDYST/tbeucler/downscaling/sasthana/MyPythonEnvironment/lib/python3.12/site-packages/dask/_task_spec.py:758: RuntimeWarning: invalid value encountered in divide\n",
      "  return self.func(*new_argspec)\n",
      "/work/FAC/FGSE/IDYST/tbeucler/downscaling/sasthana/MyPythonEnvironment/lib/python3.12/site-packages/dask/_task_spec.py:758: RuntimeWarning: invalid value encountered in divide\n",
      "  return self.func(*new_argspec)\n",
      "/work/FAC/FGSE/IDYST/tbeucler/downscaling/sasthana/MyPythonEnvironment/lib/python3.12/site-packages/dask/_task_spec.py:758: RuntimeWarning: invalid value encountered in divide\n",
      "  return self.func(*new_argspec)\n",
      "/work/FAC/FGSE/IDYST/tbeucler/downscaling/sasthana/MyPythonEnvironment/lib/python3.12/site-packages/dask/_task_spec.py:758: RuntimeWarning: invalid value encountered in divide\n",
      "  return self.func(*new_argspec)\n"
     ]
    },
    {
     "name": "stdout",
     "output_type": "stream",
     "text": [
      "Normalised/scaled variable saved to /work/FAC/FGSE/IDYST/tbeucler/downscaling/sasthana/Downscaling/Downscaling/data/processed/Bicubic/Test/SCALED_features_precip_masked_bicubic_test.nc\n"
     ]
    },
    {
     "data": {
      "text/plain": [
       "(<xarray.DataArray 'pr' (N: 265, E: 370)> Size: 784kB\n",
       " dask.array<_nanmin_skip-aggregate, shape=(265, 370), dtype=float64, chunksize=(265, 370), chunktype=numpy.ndarray>\n",
       " Coordinates:\n",
       "     lon      (N, E) float32 392kB dask.array<chunksize=(265, 370), meta=np.ndarray>\n",
       "     lat      (N, E) float32 392kB dask.array<chunksize=(265, 370), meta=np.ndarray>\n",
       "   * E        (E) float64 3kB 2.474e+06 2.476e+06 ... 2.842e+06 2.844e+06\n",
       "   * N        (N) float64 2kB 1.06e+06 1.06e+06 1.062e+06 ... 1.322e+06 1.324e+06,\n",
       " <xarray.DataArray 'pr' (N: 265, E: 370)> Size: 784kB\n",
       " dask.array<_nanmax_skip-aggregate, shape=(265, 370), dtype=float64, chunksize=(265, 370), chunktype=numpy.ndarray>\n",
       " Coordinates:\n",
       "     lon      (N, E) float32 392kB dask.array<chunksize=(265, 370), meta=np.ndarray>\n",
       "     lat      (N, E) float32 392kB dask.array<chunksize=(265, 370), meta=np.ndarray>\n",
       "   * E        (E) float64 3kB 2.474e+06 2.476e+06 ... 2.842e+06 2.844e+06\n",
       "   * N        (N) float64 2kB 1.06e+06 1.06e+06 1.062e+06 ... 1.322e+06 1.324e+06)"
      ]
     },
     "execution_count": 15,
     "metadata": {},
     "output_type": "execute_result"
    }
   ],
   "source": [
    "# Precipitation test features\n",
    "input_path = \"/work/FAC/FGSE/IDYST/tbeucler/downscaling/sasthana/Downscaling/Downscaling/data/processed/Bicubic/Test/features_precip_masked_bicubic_test.nc\"\n",
    "output_path = \"/work/FAC/FGSE/IDYST/tbeucler/downscaling/sasthana/Downscaling/Downscaling/data/processed/Bicubic/Test/SCALED_features_precip_masked_bicubic_test.nc\"\n",
    "var = \"pr\"\n",
    "standardise(input_path, output_path, var, min=precip_min, max=precip_max)"
   ]
  },
  {
   "cell_type": "code",
   "execution_count": 16,
   "id": "799a0855",
   "metadata": {},
   "outputs": [
    {
     "name": "stdout",
     "output_type": "stream",
     "text": [
      "Normalised/scaled variable saved to /work/FAC/FGSE/IDYST/tbeucler/downscaling/sasthana/Downscaling/Downscaling/data/processed/Bicubic/Test/SCALED_targets_precip_masked_test.nc\n"
     ]
    },
    {
     "data": {
      "text/plain": [
       "(<xarray.DataArray 'RhiresD' (N: 265, E: 370)> Size: 392kB\n",
       " dask.array<_nanmin_skip-aggregate, shape=(265, 370), dtype=float32, chunksize=(265, 370), chunktype=numpy.ndarray>\n",
       " Coordinates:\n",
       "     lon      (N, E) float32 392kB dask.array<chunksize=(265, 370), meta=np.ndarray>\n",
       "     lat      (N, E) float32 392kB dask.array<chunksize=(265, 370), meta=np.ndarray>\n",
       "   * E        (E) float64 3kB 2.474e+06 2.476e+06 ... 2.842e+06 2.844e+06\n",
       "   * N        (N) float64 2kB 1.06e+06 1.06e+06 1.062e+06 ... 1.322e+06 1.324e+06,\n",
       " <xarray.DataArray 'RhiresD' (N: 265, E: 370)> Size: 392kB\n",
       " dask.array<_nanmax_skip-aggregate, shape=(265, 370), dtype=float32, chunksize=(265, 370), chunktype=numpy.ndarray>\n",
       " Coordinates:\n",
       "     lon      (N, E) float32 392kB dask.array<chunksize=(265, 370), meta=np.ndarray>\n",
       "     lat      (N, E) float32 392kB dask.array<chunksize=(265, 370), meta=np.ndarray>\n",
       "   * E        (E) float64 3kB 2.474e+06 2.476e+06 ... 2.842e+06 2.844e+06\n",
       "   * N        (N) float64 2kB 1.06e+06 1.06e+06 1.062e+06 ... 1.322e+06 1.324e+06)"
      ]
     },
     "execution_count": 16,
     "metadata": {},
     "output_type": "execute_result"
    }
   ],
   "source": [
    "# Precipitation test targets\n",
    "input_path = \"/work/FAC/FGSE/IDYST/tbeucler/downscaling/sasthana/Downscaling/Downscaling/data/processed/Bicubic/Test/targets_precip_masked_test.nc\"\n",
    "output_path = \"/work/FAC/FGSE/IDYST/tbeucler/downscaling/sasthana/Downscaling/Downscaling/data/processed/Bicubic/Test/SCALED_targets_precip_masked_test.nc\"\n",
    "var = \"RhiresD\"\n",
    "standardise(input_path, output_path, var, min=target_min, max=target_max)"
   ]
  },
  {
   "cell_type": "markdown",
   "id": "df9d3dd4",
   "metadata": {},
   "source": [
    "xxxxxxxxxxxxxxxxxxxxxxxxxxxxxxxxxxxxxxxxTEMPERATURE : Val and test targets and features standardisationxxxxxxxxxxxxxxxx\n"
   ]
  },
  {
   "cell_type": "markdown",
   "id": "f2ad21c6",
   "metadata": {},
   "source": [
    "Training features "
   ]
  },
  {
   "cell_type": "code",
   "execution_count": 17,
   "id": "20838af0",
   "metadata": {},
   "outputs": [
    {
     "name": "stderr",
     "output_type": "stream",
     "text": [
      "/work/FAC/FGSE/IDYST/tbeucler/downscaling/sasthana/MyPythonEnvironment/lib/python3.12/site-packages/dask/_task_spec.py:758: RuntimeWarning: invalid value encountered in divide\n",
      "  return self.func(*new_argspec)\n",
      "/work/FAC/FGSE/IDYST/tbeucler/downscaling/sasthana/MyPythonEnvironment/lib/python3.12/site-packages/dask/_task_spec.py:758: RuntimeWarning: invalid value encountered in divide\n",
      "  return self.func(*new_argspec)\n",
      "/work/FAC/FGSE/IDYST/tbeucler/downscaling/sasthana/MyPythonEnvironment/lib/python3.12/site-packages/dask/_task_spec.py:758: RuntimeWarning: invalid value encountered in divide\n",
      "  return self.func(*new_argspec)\n",
      "/work/FAC/FGSE/IDYST/tbeucler/downscaling/sasthana/MyPythonEnvironment/lib/python3.12/site-packages/dask/_task_spec.py:758: RuntimeWarning: invalid value encountered in divide\n",
      "  return self.func(*new_argspec)\n"
     ]
    },
    {
     "name": "stdout",
     "output_type": "stream",
     "text": [
      "Normalised/scaled variable saved to /work/FAC/FGSE/IDYST/tbeucler/downscaling/sasthana/Downscaling/Downscaling/data/processed/Bicubic/Train/SCALED_features_tas_masked_bicubic_train.nc\n"
     ]
    }
   ],
   "source": [
    "tas_mean, tas_std = standardise(\n",
    "    input_path=\"/work/FAC/FGSE/IDYST/tbeucler/downscaling/sasthana/Downscaling/Downscaling/data/processed/Bicubic/Train/features_tas_masked_bicubic_train.nc\",\n",
    "    output_path=\"/work/FAC/FGSE/IDYST/tbeucler/downscaling/sasthana/Downscaling/Downscaling/data/processed/Bicubic/Train/SCALED_features_tas_masked_bicubic_train.nc\",\n",
    "    var=\"tas\"\n",
    ")"
   ]
  },
  {
   "cell_type": "markdown",
   "id": "d5fce326",
   "metadata": {},
   "source": [
    "Training targets "
   ]
  },
  {
   "cell_type": "code",
   "execution_count": 18,
   "id": "7172f65a",
   "metadata": {},
   "outputs": [
    {
     "name": "stderr",
     "output_type": "stream",
     "text": [
      "/work/FAC/FGSE/IDYST/tbeucler/downscaling/sasthana/MyPythonEnvironment/lib/python3.12/site-packages/dask/array/numpy_compat.py:57: RuntimeWarning: invalid value encountered in divide\n",
      "  x = np.divide(x1, x2, out)\n"
     ]
    },
    {
     "name": "stdout",
     "output_type": "stream",
     "text": [
      "Normalised/scaled variable saved to /work/FAC/FGSE/IDYST/tbeucler/downscaling/sasthana/Downscaling/Downscaling/data/processed/Bicubic/Train/SCALED_targets_tas_masked_train.nc\n"
     ]
    }
   ],
   "source": [
    "tabsd_mean, tabsd_std = standardise(\n",
    "    input_path=\"/work/FAC/FGSE/IDYST/tbeucler/downscaling/sasthana/Downscaling/Downscaling/data/processed/Bicubic/Train/targets_tas_masked_train.nc\",\n",
    "    output_path=\"/work/FAC/FGSE/IDYST/tbeucler/downscaling/sasthana/Downscaling/Downscaling/data/processed/Bicubic/Train/SCALED_targets_tas_masked_train.nc\",\n",
    "    var=\"TabsD\"\n",
    ")"
   ]
  },
  {
   "cell_type": "markdown",
   "id": "2aa02a8d",
   "metadata": {},
   "source": [
    "Now we have the parameters from the training set for temperature, the same will be used to scale the featurea and targets of the Val and Test set"
   ]
  },
  {
   "cell_type": "markdown",
   "id": "b0fa7b63",
   "metadata": {},
   "source": [
    "Validation standardisation"
   ]
  },
  {
   "cell_type": "code",
   "execution_count": 20,
   "id": "ff408e1a",
   "metadata": {},
   "outputs": [
    {
     "name": "stdout",
     "output_type": "stream",
     "text": [
      "Normalised/scaled variable saved to /work/FAC/FGSE/IDYST/tbeucler/downscaling/sasthana/Downscaling/Downscaling/data/processed/Bicubic/Val/SCALED_features_tas_masked_bicubic_val.nc\n"
     ]
    },
    {
     "data": {
      "text/plain": [
       "(<xarray.DataArray 'tas' (N: 265, E: 370)> Size: 784kB\n",
       " dask.array<mean_agg-aggregate, shape=(265, 370), dtype=float64, chunksize=(265, 370), chunktype=numpy.ndarray>\n",
       " Coordinates:\n",
       "     lon      (N, E) float32 392kB dask.array<chunksize=(265, 370), meta=np.ndarray>\n",
       "     lat      (N, E) float32 392kB dask.array<chunksize=(265, 370), meta=np.ndarray>\n",
       "   * E        (E) float64 3kB 2.474e+06 2.476e+06 ... 2.842e+06 2.844e+06\n",
       "   * N        (N) float64 2kB 1.06e+06 1.06e+06 1.062e+06 ... 1.322e+06 1.324e+06,\n",
       " <xarray.DataArray 'tas' (N: 265, E: 370)> Size: 784kB\n",
       " dask.array<_sqrt, shape=(265, 370), dtype=float64, chunksize=(265, 370), chunktype=numpy.ndarray>\n",
       " Coordinates:\n",
       "     lon      (N, E) float32 392kB dask.array<chunksize=(265, 370), meta=np.ndarray>\n",
       "     lat      (N, E) float32 392kB dask.array<chunksize=(265, 370), meta=np.ndarray>\n",
       "   * E        (E) float64 3kB 2.474e+06 2.476e+06 ... 2.842e+06 2.844e+06\n",
       "   * N        (N) float64 2kB 1.06e+06 1.06e+06 1.062e+06 ... 1.322e+06 1.324e+06)"
      ]
     },
     "execution_count": 20,
     "metadata": {},
     "output_type": "execute_result"
    }
   ],
   "source": [
    "standardise(\n",
    "    input_path=\"/work/FAC/FGSE/IDYST/tbeucler/downscaling/sasthana/Downscaling/Downscaling/data/processed/Bicubic/Val/features_tas_masked_bicubic_val.nc\",\n",
    "    output_path=\"/work/FAC/FGSE/IDYST/tbeucler/downscaling/sasthana/Downscaling/Downscaling/data/processed/Bicubic/Val/SCALED_features_tas_masked_bicubic_val.nc\",\n",
    "    var=\"tas\",\n",
    "    mean=tas_mean,\n",
    "    std=tas_std\n",
    ")"
   ]
  },
  {
   "cell_type": "code",
   "execution_count": 21,
   "id": "7fcc6b00",
   "metadata": {},
   "outputs": [
    {
     "name": "stderr",
     "output_type": "stream",
     "text": [
      "/work/FAC/FGSE/IDYST/tbeucler/downscaling/sasthana/MyPythonEnvironment/lib/python3.12/site-packages/dask/array/numpy_compat.py:57: RuntimeWarning: invalid value encountered in divide\n",
      "  x = np.divide(x1, x2, out)\n"
     ]
    },
    {
     "name": "stdout",
     "output_type": "stream",
     "text": [
      "Normalised/scaled variable saved to /work/FAC/FGSE/IDYST/tbeucler/downscaling/sasthana/Downscaling/Downscaling/data/processed/Bicubic/Val/SCALED_targets_tas_masked_val.nc\n"
     ]
    },
    {
     "data": {
      "text/plain": [
       "(<xarray.DataArray 'TabsD' (N: 265, E: 370)> Size: 392kB\n",
       " dask.array<mean_agg-aggregate, shape=(265, 370), dtype=float32, chunksize=(265, 370), chunktype=numpy.ndarray>\n",
       " Coordinates:\n",
       "     lon      (N, E) float32 392kB dask.array<chunksize=(265, 370), meta=np.ndarray>\n",
       "     lat      (N, E) float32 392kB dask.array<chunksize=(265, 370), meta=np.ndarray>\n",
       "   * E        (E) float64 3kB 2.474e+06 2.476e+06 ... 2.842e+06 2.844e+06\n",
       "   * N        (N) float64 2kB 1.06e+06 1.06e+06 1.062e+06 ... 1.322e+06 1.324e+06,\n",
       " <xarray.DataArray 'TabsD' (N: 265, E: 370)> Size: 392kB\n",
       " dask.array<_sqrt, shape=(265, 370), dtype=float32, chunksize=(265, 370), chunktype=numpy.ndarray>\n",
       " Coordinates:\n",
       "     lon      (N, E) float32 392kB dask.array<chunksize=(265, 370), meta=np.ndarray>\n",
       "     lat      (N, E) float32 392kB dask.array<chunksize=(265, 370), meta=np.ndarray>\n",
       "   * E        (E) float64 3kB 2.474e+06 2.476e+06 ... 2.842e+06 2.844e+06\n",
       "   * N        (N) float64 2kB 1.06e+06 1.06e+06 1.062e+06 ... 1.322e+06 1.324e+06)"
      ]
     },
     "execution_count": 21,
     "metadata": {},
     "output_type": "execute_result"
    }
   ],
   "source": [
    "standardise(\n",
    "    input_path=\"/work/FAC/FGSE/IDYST/tbeucler/downscaling/sasthana/Downscaling/Downscaling/data/processed/Bicubic/Val/targets_tas_masked_val.nc\",\n",
    "    output_path=\"/work/FAC/FGSE/IDYST/tbeucler/downscaling/sasthana/Downscaling/Downscaling/data/processed/Bicubic/Val/SCALED_targets_tas_masked_val.nc\",\n",
    "    var=\"TabsD\",\n",
    "    mean=tabsd_mean,\n",
    "    std=tabsd_std\n",
    ")"
   ]
  },
  {
   "cell_type": "markdown",
   "id": "c5e02b86",
   "metadata": {},
   "source": [
    "Testing datasets for temepratures : standardisation of features and targets "
   ]
  },
  {
   "cell_type": "code",
   "execution_count": 22,
   "id": "ea24cb0b",
   "metadata": {},
   "outputs": [
    {
     "name": "stdout",
     "output_type": "stream",
     "text": [
      "Normalised/scaled variable saved to /work/FAC/FGSE/IDYST/tbeucler/downscaling/sasthana/Downscaling/Downscaling/data/processed/Bicubic/Test/SCALED_features_tas_masked_bicubic_test.nc\n"
     ]
    },
    {
     "data": {
      "text/plain": [
       "(<xarray.DataArray 'tas' (N: 265, E: 370)> Size: 784kB\n",
       " dask.array<mean_agg-aggregate, shape=(265, 370), dtype=float64, chunksize=(265, 370), chunktype=numpy.ndarray>\n",
       " Coordinates:\n",
       "     lon      (N, E) float32 392kB dask.array<chunksize=(265, 370), meta=np.ndarray>\n",
       "     lat      (N, E) float32 392kB dask.array<chunksize=(265, 370), meta=np.ndarray>\n",
       "   * E        (E) float64 3kB 2.474e+06 2.476e+06 ... 2.842e+06 2.844e+06\n",
       "   * N        (N) float64 2kB 1.06e+06 1.06e+06 1.062e+06 ... 1.322e+06 1.324e+06,\n",
       " <xarray.DataArray 'tas' (N: 265, E: 370)> Size: 784kB\n",
       " dask.array<_sqrt, shape=(265, 370), dtype=float64, chunksize=(265, 370), chunktype=numpy.ndarray>\n",
       " Coordinates:\n",
       "     lon      (N, E) float32 392kB dask.array<chunksize=(265, 370), meta=np.ndarray>\n",
       "     lat      (N, E) float32 392kB dask.array<chunksize=(265, 370), meta=np.ndarray>\n",
       "   * E        (E) float64 3kB 2.474e+06 2.476e+06 ... 2.842e+06 2.844e+06\n",
       "   * N        (N) float64 2kB 1.06e+06 1.06e+06 1.062e+06 ... 1.322e+06 1.324e+06)"
      ]
     },
     "execution_count": 22,
     "metadata": {},
     "output_type": "execute_result"
    }
   ],
   "source": [
    "standardise(\n",
    "    input_path=\"/work/FAC/FGSE/IDYST/tbeucler/downscaling/sasthana/Downscaling/Downscaling/data/processed/Bicubic/Test/features_tas_masked_bicubic_test.nc\",\n",
    "    output_path=\"/work/FAC/FGSE/IDYST/tbeucler/downscaling/sasthana/Downscaling/Downscaling/data/processed/Bicubic/Test/SCALED_features_tas_masked_bicubic_test.nc\",\n",
    "    var=\"tas\",\n",
    "    mean=tas_mean,\n",
    "    std=tas_std\n",
    ")"
   ]
  },
  {
   "cell_type": "code",
   "execution_count": 23,
   "id": "a77f36aa",
   "metadata": {},
   "outputs": [
    {
     "name": "stdout",
     "output_type": "stream",
     "text": [
      "Normalised/scaled variable saved to /work/FAC/FGSE/IDYST/tbeucler/downscaling/sasthana/Downscaling/Downscaling/data/processed/Bicubic/Test/SCALED_targets_tas_masked_test.nc\n"
     ]
    },
    {
     "data": {
      "text/plain": [
       "(<xarray.DataArray 'TabsD' (N: 265, E: 370)> Size: 392kB\n",
       " dask.array<mean_agg-aggregate, shape=(265, 370), dtype=float32, chunksize=(265, 370), chunktype=numpy.ndarray>\n",
       " Coordinates:\n",
       "     lon      (N, E) float32 392kB dask.array<chunksize=(265, 370), meta=np.ndarray>\n",
       "     lat      (N, E) float32 392kB dask.array<chunksize=(265, 370), meta=np.ndarray>\n",
       "   * E        (E) float64 3kB 2.474e+06 2.476e+06 ... 2.842e+06 2.844e+06\n",
       "   * N        (N) float64 2kB 1.06e+06 1.06e+06 1.062e+06 ... 1.322e+06 1.324e+06,\n",
       " <xarray.DataArray 'TabsD' (N: 265, E: 370)> Size: 392kB\n",
       " dask.array<_sqrt, shape=(265, 370), dtype=float32, chunksize=(265, 370), chunktype=numpy.ndarray>\n",
       " Coordinates:\n",
       "     lon      (N, E) float32 392kB dask.array<chunksize=(265, 370), meta=np.ndarray>\n",
       "     lat      (N, E) float32 392kB dask.array<chunksize=(265, 370), meta=np.ndarray>\n",
       "   * E        (E) float64 3kB 2.474e+06 2.476e+06 ... 2.842e+06 2.844e+06\n",
       "   * N        (N) float64 2kB 1.06e+06 1.06e+06 1.062e+06 ... 1.322e+06 1.324e+06)"
      ]
     },
     "execution_count": 23,
     "metadata": {},
     "output_type": "execute_result"
    }
   ],
   "source": [
    "standardise(\n",
    "    input_path=\"/work/FAC/FGSE/IDYST/tbeucler/downscaling/sasthana/Downscaling/Downscaling/data/processed/Bicubic/Test/targets_tas_masked_test.nc\",\n",
    "    output_path=\"/work/FAC/FGSE/IDYST/tbeucler/downscaling/sasthana/Downscaling/Downscaling/data/processed/Bicubic/Test/SCALED_targets_tas_masked_test.nc\",\n",
    "    var=\"TabsD\",\n",
    "    mean=tabsd_mean,\n",
    "    std=tabsd_std\n",
    ")"
   ]
  }
 ],
 "metadata": {
  "kernelspec": {
   "display_name": "MyPythonEnvironment",
   "language": "python",
   "name": "python3"
  },
  "language_info": {
   "codemirror_mode": {
    "name": "ipython",
    "version": 3
   },
   "file_extension": ".py",
   "mimetype": "text/x-python",
   "name": "python",
   "nbconvert_exporter": "python",
   "pygments_lexer": "ipython3",
   "version": "3.12.1"
  }
 },
 "nbformat": 4,
 "nbformat_minor": 5
}
