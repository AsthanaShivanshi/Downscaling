{
 "cells": [
  {
   "cell_type": "markdown",
   "id": "59cbadfd",
   "metadata": {},
   "source": [
    "!!!!!!!!!!!!!!!!!!!!!!!!!!!!!!!!!This script contains maskign code before standardisation. however standardisation of inputs and targets was performed before the interpoléated baselines were generated via CDO for bilinear and bicubic and then masked so that they only retain the Swiss Domain"
   ]
  },
  {
   "cell_type": "code",
   "execution_count": 13,
   "id": "a0cc5ad9",
   "metadata": {},
   "outputs": [],
   "source": [
    "from dependencies import *\n",
    "import sys\n",
    "sys.path.append(\"/work/FAC/FGSE/IDYST/tbeucler/downscaling/sasthana/Downscaling/Downscaling/Scripts/Functions\")"
   ]
  },
  {
   "cell_type": "code",
   "execution_count": 14,
   "id": "974f0555",
   "metadata": {},
   "outputs": [
    {
     "name": "stderr",
     "output_type": "stream",
     "text": [
      "/users/sasthana/.local/lib/python3.12/site-packages/distributed/node.py:187: UserWarning: Port 8787 is already in use.\n",
      "Perhaps you already have a cluster running?\n",
      "Hosting the HTTP server on port 41793 instead\n",
      "  warnings.warn(\n"
     ]
    },
    {
     "name": "stdout",
     "output_type": "stream",
     "text": [
      "<Client: 'tcp://127.0.0.1:40959' processes=4 threads=4, memory=503.36 GiB>\n"
     ]
    }
   ],
   "source": [
    "from dask.distributed import Client\n",
    "client= Client()\n",
    "print(client)"
   ]
  },
  {
   "cell_type": "markdown",
   "id": "e16a4bb6",
   "metadata": {},
   "source": [
    "bilinear interpolation to the 1 km grid was performed using CDO remapbil with RhiresD/TabsD as reference files. Same for remapbic (Bicubic interpolation) Now they will be masked in this script so that it only retains the Swiss domain and not entire Europe"
   ]
  },
  {
   "cell_type": "markdown",
   "id": "d7ec0120",
   "metadata": {},
   "source": [
    "#For precipitation mask"
   ]
  },
  {
   "cell_type": "code",
   "execution_count": 15,
   "id": "cae0b59e",
   "metadata": {},
   "outputs": [
    {
     "name": "stdout",
     "output_type": "stream",
     "text": [
      "Mask saved at /work/FAC/FGSE/IDYST/tbeucler/downscaling/sasthana/Downscaling/Downscaling/data/processed/RhiresD_mask.nc\n"
     ]
    }
   ],
   "source": [
    "hr_path = \"/work/FAC/FGSE/IDYST/tbeucler/downscaling/sasthana/Downscaling/Downscaling/data/raw/RhiresD_1971_2022.nc\"\n",
    "mask_output_path = \"/work/FAC/FGSE/IDYST/tbeucler/downscaling/sasthana/Downscaling/Downscaling/data/processed/RhiresD_mask.nc\"\n",
    "\n",
    "ds_hr = xr.open_dataset(hr_path)\n",
    "\n",
    "varname = \"RhiresD\" \n",
    "\n",
    "mask_rhiresd = xr.where(~np.isnan(ds_hr[varname].isel(time=0)), 1, 0)\n",
    "\n",
    "mask_rhiresd = mask_rhiresd.squeeze(drop=True)\n",
    "\n",
    "mask_rhiresd.to_netcdf(mask_output_path)\n",
    "\n",
    "print(f\"Mask saved at {mask_output_path}\")\n"
   ]
  },
  {
   "cell_type": "markdown",
   "id": "10c46114",
   "metadata": {},
   "source": [
    "#For temperature mask!"
   ]
  },
  {
   "cell_type": "code",
   "execution_count": 16,
   "id": "1101c2a1",
   "metadata": {},
   "outputs": [],
   "source": [
    "hr_path = \"/work/FAC/FGSE/IDYST/tbeucler/downscaling/sasthana/Downscaling/Downscaling/data/raw/TabsD_1971_2022.nc\"\n",
    "mask_output_path = \"/work/FAC/FGSE/IDYST/tbeucler/downscaling/sasthana/Downscaling/Downscaling/data/processed/TabsD_mask.nc\"\n",
    "\n",
    "ds_hr = xr.open_dataset(hr_path)\n",
    "\n",
    "varname = \"TabsD\" \n",
    "\n",
    "mask_tabsd = xr.where(~np.isnan(ds_hr[varname].isel(time=0)), 1, 0)\n",
    "\n",
    "mask_tabsd = mask_tabsd.squeeze(drop=True)\n",
    "\n"
   ]
  },
  {
   "cell_type": "code",
   "execution_count": 17,
   "id": "aa82d86b",
   "metadata": {},
   "outputs": [
    {
     "name": "stdout",
     "output_type": "stream",
     "text": [
      "Mask saved at /work/FAC/FGSE/IDYST/tbeucler/downscaling/sasthana/Downscaling/Downscaling/data/processed/TabsD_mask.nc\n"
     ]
    }
   ],
   "source": [
    "mask_tabsd.to_netcdf(mask_output_path)\n",
    "\n",
    "print(f\"Mask saved at {mask_output_path}\")"
   ]
  },
  {
   "cell_type": "markdown",
   "id": "20bbad85",
   "metadata": {},
   "source": [
    "#Application of the mask to the two datasets : RhiresD and TabsD masks (1km) to the bicubically interpolated 1 km datasets features from Sven`s files so that it only retains the Swiss Domain\n"
   ]
  },
  {
   "cell_type": "code",
   "execution_count": 19,
   "id": "b3c8af39",
   "metadata": {},
   "outputs": [],
   "source": [
    "bicubic_ds = xr.open_dataset(\"/work/FAC/FGSE/IDYST/tbeucler/downscaling/sasthana/Downscaling/Downscaling/data/processed/features_bicubic_precip_1971_2022_non_masked.nc\",chunks={\"time\": 500})\n",
    "\n",
    "# Masking\n",
    "masked_bicubic_rhiresd = bicubic_ds * mask_rhiresd\n",
    "\n",
    "masked_bicubic_rhiresd.to_netcdf(\"/work/FAC/FGSE/IDYST/tbeucler/downscaling/sasthana/Downscaling/Downscaling/data/processed/precip_1km_bicubic_Swiss_features_masked.nc\",\n",
    "                                 engine=\"netcdf4\",\n",
    "                                    compute=True)\n"
   ]
  },
  {
   "cell_type": "markdown",
   "id": "226f3458",
   "metadata": {},
   "source": [
    "#Compute time of the above cell : 1 hour!!!!!!!!!!\n",
    "#Could have used h5netcdf for faster computation\n",
    "#Could have asked for more resources installed dask distributed, and used all 4 CPU cores, computing time reduced to 15 seconds!!!"
   ]
  },
  {
   "cell_type": "code",
   "execution_count": 20,
   "id": "c47fc5d6",
   "metadata": {},
   "outputs": [],
   "source": [
    "bilinear_ds = xr.open_dataset(\"/work/FAC/FGSE/IDYST/tbeucler/downscaling/sasthana/Downscaling/Downscaling/data/processed/features_bilinear_precip_1971_2022_non_masked.nc\",chunks={\"time\": 500})\n",
    "\n",
    "# Masking\n",
    "masked_bilinear_rhiresd = bilinear_ds * mask_rhiresd\n",
    "\n",
    "masked_bilinear_rhiresd.to_netcdf(\"/work/FAC/FGSE/IDYST/tbeucler/downscaling/sasthana/Downscaling/Downscaling/data/processed/precip_1km_bilinear_Swiss_features_masked.nc\",\n",
    "                                 engine=\"netcdf4\",\n",
    "                                    compute=True)"
   ]
  },
  {
   "cell_type": "markdown",
   "id": "e475e7f0",
   "metadata": {},
   "source": [
    "Lazy loading was used below to allow for parallel computation. The data was not loading due to xarray loading everything at once and the kernel was crashing"
   ]
  },
  {
   "cell_type": "code",
   "execution_count": 21,
   "id": "d982db7d",
   "metadata": {},
   "outputs": [],
   "source": [
    "bicubic_ds_tabsd = xr.open_dataset(\n",
    "    \"/work/FAC/FGSE/IDYST/tbeucler/downscaling/sasthana/Downscaling/Downscaling/data/processed/features_bicubic_tas_1971_2022_non_masked.nc\",\n",
    "    chunks={\"time\": 500} #Taking 100 days at a time\n",
    ")\n",
    "#Masking\n",
    "masked_bicubic_tabsd = bicubic_ds_tabsd * mask_tabsd\n",
    "\n",
    "masked_bicubic_tabsd.to_netcdf(\n",
    "    \"/work/FAC/FGSE/IDYST/tbeucler/downscaling/sasthana/Downscaling/Downscaling/data/processed/tas_1km_bicubic_Swiss_features_masked.nc\",\n",
    "    engine=\"netcdf4\",\n",
    "    compute=True\n",
    ")"
   ]
  },
  {
   "cell_type": "code",
   "execution_count": 22,
   "id": "f3dbaa71",
   "metadata": {},
   "outputs": [],
   "source": [
    "bilinear_ds_tabsd = xr.open_dataset(\n",
    "    \"/work/FAC/FGSE/IDYST/tbeucler/downscaling/sasthana/Downscaling/Downscaling/data/processed/features_bilinear_tas_1971_2022_non_masked.nc\",\n",
    "    chunks={\"time\": 500} #Taking 100 days at a time\n",
    ")\n",
    "#Masking\n",
    "masked_bilinear_tabsd = bilinear_ds_tabsd * mask_tabsd\n",
    "\n",
    "masked_bilinear_tabsd.to_netcdf(\n",
    "    \"/work/FAC/FGSE/IDYST/tbeucler/downscaling/sasthana/Downscaling/Downscaling/data/processed/tas_1km_bilinear_Swiss_features_masked.nc\",\n",
    "    engine=\"netcdf4\",\n",
    "    compute=True\n",
    ")"
   ]
  },
  {
   "cell_type": "markdown",
   "id": "ea1e2d8e",
   "metadata": {},
   "source": [
    "xxxxxxxxxxxxxxxxxxxxxxxxxxxxxxxxxxxCHECKING SHAPExxxxxxxxxxxxxxxxxxxxxxxxxxxxxxxxxx"
   ]
  },
  {
   "cell_type": "code",
   "execution_count": 23,
   "id": "5b6d6b92",
   "metadata": {},
   "outputs": [],
   "source": [
    "\n",
    "features_ds_precip = xr.open_dataset(\"/work/FAC/FGSE/IDYST/tbeucler/downscaling/sasthana/Downscaling/Downscaling/data/processed/precip_1km_bicubic_Swiss_features_masked.nc\")[\"pr\"]"
   ]
  },
  {
   "cell_type": "code",
   "execution_count": 24,
   "id": "1525a3b0",
   "metadata": {},
   "outputs": [],
   "source": [
    "features_ds_temp= xr.open_dataset(\"/work/FAC/FGSE/IDYST/tbeucler/downscaling/sasthana/Downscaling/Downscaling/data/processed/tas_1km_bicubic_Swiss_features_masked.nc\")[\"tas\"]"
   ]
  },
  {
   "cell_type": "code",
   "execution_count": 25,
   "id": "28c68e7a",
   "metadata": {},
   "outputs": [
    {
     "data": {
      "text/plain": [
       "(18993, 265, 370)"
      ]
     },
     "execution_count": 25,
     "metadata": {},
     "output_type": "execute_result"
    }
   ],
   "source": [
    "features_ds_precip.shape"
   ]
  },
  {
   "cell_type": "code",
   "execution_count": 26,
   "id": "f086c302",
   "metadata": {},
   "outputs": [
    {
     "data": {
      "text/plain": [
       "(18993, 265, 370)"
      ]
     },
     "execution_count": 26,
     "metadata": {},
     "output_type": "execute_result"
    }
   ],
   "source": [
    "features_ds_temp.shape"
   ]
  },
  {
   "cell_type": "code",
   "execution_count": 27,
   "id": "83e99157",
   "metadata": {},
   "outputs": [
    {
     "data": {
      "text/plain": [
       "(18993, 265, 370)"
      ]
     },
     "execution_count": 27,
     "metadata": {},
     "output_type": "execute_result"
    }
   ],
   "source": [
    "targets_precip= xr.open_dataset(\"/work/FAC/FGSE/IDYST/tbeucler/downscaling/sasthana/Downscaling/Downscaling/data/raw/RhiresD_1971_2022.nc\")[\"RhiresD\"]\n",
    "targets_precip.shape"
   ]
  },
  {
   "cell_type": "code",
   "execution_count": 28,
   "id": "51df3de8",
   "metadata": {},
   "outputs": [
    {
     "data": {
      "text/plain": [
       "(18993, 265, 370)"
      ]
     },
     "execution_count": 28,
     "metadata": {},
     "output_type": "execute_result"
    }
   ],
   "source": [
    "targets_temp= xr.open_dataset(\"/work/FAC/FGSE/IDYST/tbeucler/downscaling/sasthana/Downscaling/Downscaling/data/raw/TabsD_1971_2022.nc\")[\"TabsD\"]\n",
    "targets_temp.shape"
   ]
  },
  {
   "cell_type": "markdown",
   "id": "b3ef2b37",
   "metadata": {},
   "source": [
    "xxxxxxxxxxxxxxxxxxxxxxxxxxxxxxxStandardisation code (please note that the above propcessed files have already been standardised before performing the interpilation and masking propcedures) xxxxxxxxxxxxxxxxxxxxxxxxxxxxxxxxxxxxxx"
   ]
  },
  {
   "cell_type": "markdown",
   "id": "e48abaea",
   "metadata": {},
   "source": [
    "#Standardising the dataset depending on the variable for feeding into the network"
   ]
  },
  {
   "cell_type": "code",
   "execution_count": 5,
   "id": "3a128293",
   "metadata": {},
   "outputs": [],
   "source": [
    "from Standardise import standardise"
   ]
  },
  {
   "cell_type": "code",
   "execution_count": 5,
   "id": "a1f70601",
   "metadata": {},
   "outputs": [
    {
     "name": "stderr",
     "output_type": "stream",
     "text": [
      "/users/sasthana/.local/lib/python3.12/site-packages/numpy/lib/_nanfunctions_impl.py:2053: RuntimeWarning: Degrees of freedom <= 0 for slice.\n",
      "  var = nanvar(a, axis=axis, dtype=dtype, out=out, ddof=ddof,\n"
     ]
    },
    {
     "name": "stdout",
     "output_type": "stream",
     "text": [
      "Normalised/min max scaled variable saved to /work/FAC/FGSE/IDYST/tbeucler/downscaling/sasthana/Downscaling/Downscaling/data/processed/TabsD_scaled_1971_2022.nc\n"
     ]
    }
   ],
   "source": [
    "input_path = '/work/FAC/FGSE/IDYST/tbeucler/downscaling/sasthana/Downscaling/Downscaling/data/raw/TabsD_1971_2022.nc'\n",
    "output_path = '/work/FAC/FGSE/IDYST/tbeucler/downscaling/sasthana/Downscaling/Downscaling/data/processed/TabsD_scaled_1971_2022.nc'\n",
    "var = 'TabsD'\n",
    "\n",
    "standardise(input_path, output_path, var)\n"
   ]
  },
  {
   "cell_type": "code",
   "execution_count": 6,
   "id": "0fcc5d9d",
   "metadata": {},
   "outputs": [
    {
     "name": "stdout",
     "output_type": "stream",
     "text": [
      "Normalised/min max scaled variable saved to /work/FAC/FGSE/IDYST/tbeucler/downscaling/sasthana/Downscaling/Downscaling/data/processed/RhiresD_scaled_1971_2022.nc\n"
     ]
    }
   ],
   "source": [
    "input_path = '/work/FAC/FGSE/IDYST/tbeucler/downscaling/sasthana/Downscaling/Downscaling/data/raw/RhiresD_1971_2022.nc'\n",
    "output_path = '/work/FAC/FGSE/IDYST/tbeucler/downscaling/sasthana/Downscaling/Downscaling/data/processed/RhiresD_scaled_1971_2022.nc'\n",
    "var = 'RhiresD'\n",
    "\n",
    "standardise(input_path, output_path, var)"
   ]
  },
  {
   "cell_type": "code",
   "execution_count": 3,
   "id": "6ef3d9f4",
   "metadata": {},
   "outputs": [],
   "source": [
    "#standardiigng features as well"
   ]
  },
  {
   "cell_type": "code",
   "execution_count": 6,
   "id": "f7d52f5e",
   "metadata": {},
   "outputs": [
    {
     "name": "stderr",
     "output_type": "stream",
     "text": [
      "/users/sasthana/.local/lib/python3.12/site-packages/numpy/lib/_nanfunctions_impl.py:2053: RuntimeWarning: Degrees of freedom <= 0 for slice.\n",
      "  var = nanvar(a, axis=axis, dtype=dtype, out=out, ddof=ddof,\n"
     ]
    },
    {
     "name": "stdout",
     "output_type": "stream",
     "text": [
      "Normalised/min max scaled variable saved to /work/FAC/FGSE/IDYST/tbeucler/downscaling/sasthana/Downscaling/Downscaling/data/processed/tas_daily_cropped_scaled_1971_2022.nc\n"
     ]
    }
   ],
   "source": [
    "input_path = '/work/FAC/FGSE/IDYST/tbeucler/downscaling/sasthana/Downscaling/Downscaling/data/raw/tas_daily_1971_2022_cropped.nc'\n",
    "output_path = '/work/FAC/FGSE/IDYST/tbeucler/downscaling/sasthana/Downscaling/Downscaling/data/processed/tas_daily_cropped_scaled_1971_2022.nc'\n",
    "var = 'tas'\n",
    "\n",
    "standardise(input_path, output_path, var)"
   ]
  },
  {
   "cell_type": "code",
   "execution_count": 7,
   "id": "882543e5",
   "metadata": {},
   "outputs": [
    {
     "name": "stdout",
     "output_type": "stream",
     "text": [
      "Normalised/min max scaled variable saved to /work/FAC/FGSE/IDYST/tbeucler/downscaling/sasthana/Downscaling/Downscaling/data/processed/precip_daily_cropped_scaled_1971_2022.nc\n"
     ]
    }
   ],
   "source": [
    "input_path = '/work/FAC/FGSE/IDYST/tbeucler/downscaling/sasthana/Downscaling/Downscaling/data/raw/precip_daily_1971_2022_cropped.nc'\n",
    "output_path = '/work/FAC/FGSE/IDYST/tbeucler/downscaling/sasthana/Downscaling/Downscaling/data/processed/precip_daily_cropped_scaled_1971_2022.nc'\n",
    "var = 'pr'\n",
    "\n",
    "standardise(input_path, output_path, var)"
   ]
  }
 ],
 "metadata": {
  "kernelspec": {
   "display_name": "Python 3",
   "language": "python",
   "name": "python3"
  },
  "language_info": {
   "codemirror_mode": {
    "name": "ipython",
    "version": 3
   },
   "file_extension": ".py",
   "mimetype": "text/x-python",
   "name": "python",
   "nbconvert_exporter": "python",
   "pygments_lexer": "ipython3",
   "version": "3.12.1"
  }
 },
 "nbformat": 4,
 "nbformat_minor": 5
}
