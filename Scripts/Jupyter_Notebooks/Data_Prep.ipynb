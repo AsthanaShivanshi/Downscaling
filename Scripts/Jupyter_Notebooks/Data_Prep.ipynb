{
 "cells": [
  {
   "cell_type": "markdown",
   "id": "59cbadfd",
   "metadata": {},
   "source": [
    "!!!!!!!!!!!!!!!!!!!!!!!!!!!!!!!!!This script contains maskign code before standardisation. however standardisation of inputs and targets was performed before the interpoléated baselines were generated via CDO for bilinear and bicubic and then masked so that they only retain the Swiss Domain"
   ]
  },
  {
   "cell_type": "markdown",
   "id": "3f882966",
   "metadata": {},
   "source": [
    "Workflow : Bilinear interpolation, bicubic interpolation, Masking to retain only the swiss domain, splitting into train, test val, gridded RMSE R2, pooled RMSE, R2"
   ]
  },
  {
   "cell_type": "code",
   "execution_count": 1,
   "id": "a0cc5ad9",
   "metadata": {},
   "outputs": [],
   "source": [
    "from dependencies import *\n",
    "import sys\n",
    "sys.path.append(\"/work/FAC/FGSE/IDYST/tbeucler/downscaling/sasthana/Downscaling/Downscaling/Scripts/Functions\")"
   ]
  },
  {
   "cell_type": "code",
   "execution_count": 2,
   "id": "974f0555",
   "metadata": {},
   "outputs": [
    {
     "name": "stdout",
     "output_type": "stream",
     "text": [
      "<Client: 'tcp://127.0.0.1:32941' processes=1 threads=1, memory=503.49 GiB>\n"
     ]
    },
    {
     "name": "stderr",
     "output_type": "stream",
     "text": [
      "2025-05-01 16:15:04,727 - distributed.scheduler - WARNING - Removing worker 'tcp://127.0.0.1:44389' caused the cluster to lose already computed task(s), which will be recomputed elsewhere: {('open_dataset-pr-97d0eba163aba6bc1367edc4fc42ac4f', 12, 0, 0), ('shuffle-split-1a776084eb444a52be381d594c9cc658', 82), ('open_dataset-pr-97d0eba163aba6bc1367edc4fc42ac4f', 10, 0, 0), 'shuffle-taker-9492e4b78523c7fc04aa4e2c834e44bf', ('open_dataset-pr-97d0eba163aba6bc1367edc4fc42ac4f', 21, 0, 0), ('shuffle-split-1a776084eb444a52be381d594c9cc658', 85), ('shuffle-split-1a776084eb444a52be381d594c9cc658', 88), ('open_dataset-pr-97d0eba163aba6bc1367edc4fc42ac4f', 9, 0, 0), ('open_dataset-pr-97d0eba163aba6bc1367edc4fc42ac4f', 18, 0, 0), ('open_dataset-pr-97d0eba163aba6bc1367edc4fc42ac4f', 6, 0, 0), ('shuffle-split-1a776084eb444a52be381d594c9cc658', 75), ('shuffle-split-1a776084eb444a52be381d594c9cc658', 78), ('shuffle-split-1a776084eb444a52be381d594c9cc658', 84), ('shuffle-split-1a776084eb444a52be381d594c9cc658', 81), ('shuffle-split-1a776084eb444a52be381d594c9cc658', 87), ('open_dataset-pr-97d0eba163aba6bc1367edc4fc42ac4f', 15, 0, 0), ('open_dataset-pr-97d0eba163aba6bc1367edc4fc42ac4f', 20, 0, 0), ('open_dataset-pr-97d0eba163aba6bc1367edc4fc42ac4f', 14, 0, 0), ('open_dataset-pr-97d0eba163aba6bc1367edc4fc42ac4f', 17, 0, 0), 'original-open_dataset-pr-97d0eba163aba6bc1367edc4fc42ac4f', ('open_dataset-pr-97d0eba163aba6bc1367edc4fc42ac4f', 16, 0, 0), ('shuffle-split-1a776084eb444a52be381d594c9cc658', 77), ('shuffle-split-1a776084eb444a52be381d594c9cc658', 74), ('shuffle-split-1a776084eb444a52be381d594c9cc658', 80), ('shuffle-split-1a776084eb444a52be381d594c9cc658', 86), ('shuffle-split-1a776084eb444a52be381d594c9cc658', 83), 'shuffle-sorter-1f0d595332f5708607914f2d0a6c2d2b', ('shuffle-split-1a776084eb444a52be381d594c9cc658', 89), ('open_dataset-pr-97d0eba163aba6bc1367edc4fc42ac4f', 13, 0, 0), ('open_dataset-pr-97d0eba163aba6bc1367edc4fc42ac4f', 7, 0, 0), ('open_dataset-pr-97d0eba163aba6bc1367edc4fc42ac4f', 19, 0, 0)} (stimulus_id='handle-worker-cleanup-1746108904.7272377')\n",
      "2025-05-01 16:15:04,734 - distributed.nanny - WARNING - Restarting worker\n",
      "2025-05-01 16:15:09,681 - distributed.scheduler - WARNING - Removing worker 'tcp://127.0.0.1:34237' caused the cluster to lose already computed task(s), which will be recomputed elsewhere: {('open_dataset-pr-97d0eba163aba6bc1367edc4fc42ac4f', 12, 0, 0), ('shuffle-split-1a776084eb444a52be381d594c9cc658', 82), ('open_dataset-pr-97d0eba163aba6bc1367edc4fc42ac4f', 10, 0, 0), 'shuffle-taker-9492e4b78523c7fc04aa4e2c834e44bf', ('open_dataset-pr-97d0eba163aba6bc1367edc4fc42ac4f', 21, 0, 0), ('shuffle-split-1a776084eb444a52be381d594c9cc658', 85), ('shuffle-split-1a776084eb444a52be381d594c9cc658', 88), ('open_dataset-pr-97d0eba163aba6bc1367edc4fc42ac4f', 9, 0, 0), ('open_dataset-pr-97d0eba163aba6bc1367edc4fc42ac4f', 18, 0, 0), ('open_dataset-pr-97d0eba163aba6bc1367edc4fc42ac4f', 6, 0, 0), ('shuffle-split-1a776084eb444a52be381d594c9cc658', 75), ('shuffle-split-1a776084eb444a52be381d594c9cc658', 78), ('shuffle-split-1a776084eb444a52be381d594c9cc658', 84), ('shuffle-split-1a776084eb444a52be381d594c9cc658', 81), ('shuffle-split-1a776084eb444a52be381d594c9cc658', 87), ('open_dataset-pr-97d0eba163aba6bc1367edc4fc42ac4f', 15, 0, 0), ('open_dataset-pr-97d0eba163aba6bc1367edc4fc42ac4f', 20, 0, 0), ('open_dataset-pr-97d0eba163aba6bc1367edc4fc42ac4f', 14, 0, 0), ('open_dataset-pr-97d0eba163aba6bc1367edc4fc42ac4f', 17, 0, 0), 'original-open_dataset-pr-97d0eba163aba6bc1367edc4fc42ac4f', ('open_dataset-pr-97d0eba163aba6bc1367edc4fc42ac4f', 16, 0, 0), ('shuffle-split-1a776084eb444a52be381d594c9cc658', 77), ('shuffle-split-1a776084eb444a52be381d594c9cc658', 74), ('shuffle-split-1a776084eb444a52be381d594c9cc658', 80), ('shuffle-split-1a776084eb444a52be381d594c9cc658', 86), ('shuffle-split-1a776084eb444a52be381d594c9cc658', 83), 'shuffle-sorter-1f0d595332f5708607914f2d0a6c2d2b', ('shuffle-split-1a776084eb444a52be381d594c9cc658', 89), ('open_dataset-pr-97d0eba163aba6bc1367edc4fc42ac4f', 13, 0, 0), ('open_dataset-pr-97d0eba163aba6bc1367edc4fc42ac4f', 7, 0, 0), ('open_dataset-pr-97d0eba163aba6bc1367edc4fc42ac4f', 19, 0, 0)} (stimulus_id='handle-worker-cleanup-1746108909.6809165')\n",
      "2025-05-01 16:15:09,686 - distributed.nanny - WARNING - Restarting worker\n",
      "2025-05-01 16:15:15,168 - distributed.scheduler - WARNING - Removing worker 'tcp://127.0.0.1:46037' caused the cluster to lose already computed task(s), which will be recomputed elsewhere: {('open_dataset-pr-97d0eba163aba6bc1367edc4fc42ac4f', 12, 0, 0), ('shuffle-split-1a776084eb444a52be381d594c9cc658', 82), ('open_dataset-pr-97d0eba163aba6bc1367edc4fc42ac4f', 10, 0, 0), 'shuffle-taker-9492e4b78523c7fc04aa4e2c834e44bf', ('open_dataset-pr-97d0eba163aba6bc1367edc4fc42ac4f', 21, 0, 0), ('shuffle-split-1a776084eb444a52be381d594c9cc658', 85), ('shuffle-split-1a776084eb444a52be381d594c9cc658', 88), ('open_dataset-pr-97d0eba163aba6bc1367edc4fc42ac4f', 9, 0, 0), ('open_dataset-pr-97d0eba163aba6bc1367edc4fc42ac4f', 18, 0, 0), ('open_dataset-pr-97d0eba163aba6bc1367edc4fc42ac4f', 6, 0, 0), ('shuffle-split-1a776084eb444a52be381d594c9cc658', 75), ('shuffle-split-1a776084eb444a52be381d594c9cc658', 78), ('shuffle-split-1a776084eb444a52be381d594c9cc658', 84), ('shuffle-split-1a776084eb444a52be381d594c9cc658', 81), ('shuffle-split-1a776084eb444a52be381d594c9cc658', 87), ('open_dataset-pr-97d0eba163aba6bc1367edc4fc42ac4f', 15, 0, 0), ('open_dataset-pr-97d0eba163aba6bc1367edc4fc42ac4f', 20, 0, 0), ('open_dataset-pr-97d0eba163aba6bc1367edc4fc42ac4f', 14, 0, 0), ('open_dataset-pr-97d0eba163aba6bc1367edc4fc42ac4f', 17, 0, 0), 'original-open_dataset-pr-97d0eba163aba6bc1367edc4fc42ac4f', ('open_dataset-pr-97d0eba163aba6bc1367edc4fc42ac4f', 16, 0, 0), ('shuffle-split-1a776084eb444a52be381d594c9cc658', 77), ('shuffle-split-1a776084eb444a52be381d594c9cc658', 74), ('shuffle-split-1a776084eb444a52be381d594c9cc658', 80), ('shuffle-split-1a776084eb444a52be381d594c9cc658', 86), ('shuffle-split-1a776084eb444a52be381d594c9cc658', 83), 'shuffle-sorter-1f0d595332f5708607914f2d0a6c2d2b', ('shuffle-split-1a776084eb444a52be381d594c9cc658', 89), ('open_dataset-pr-97d0eba163aba6bc1367edc4fc42ac4f', 13, 0, 0), ('open_dataset-pr-97d0eba163aba6bc1367edc4fc42ac4f', 7, 0, 0), ('open_dataset-pr-97d0eba163aba6bc1367edc4fc42ac4f', 19, 0, 0)} (stimulus_id='handle-worker-cleanup-1746108915.1678975')\n",
      "2025-05-01 16:15:15,173 - distributed.nanny - WARNING - Restarting worker\n",
      "2025-05-01 16:15:21,175 - distributed.scheduler - ERROR - Task shuffle-taker-37582cd403aaf30596336b4e877fd76e marked as failed because 4 workers died while trying to run it\n",
      "2025-05-01 16:15:21,177 - distributed.scheduler - ERROR - Task ('open_dataset-pr-97d0eba163aba6bc1367edc4fc42ac4f', 8, 0, 0) marked as failed because 4 workers died while trying to run it\n",
      "2025-05-01 16:15:21,177 - distributed.scheduler - WARNING - Removing worker 'tcp://127.0.0.1:33677' caused the cluster to lose already computed task(s), which will be recomputed elsewhere: {('open_dataset-pr-97d0eba163aba6bc1367edc4fc42ac4f', 12, 0, 0), ('shuffle-split-1a776084eb444a52be381d594c9cc658', 82), ('open_dataset-pr-97d0eba163aba6bc1367edc4fc42ac4f', 10, 0, 0), 'shuffle-taker-9492e4b78523c7fc04aa4e2c834e44bf', ('open_dataset-pr-97d0eba163aba6bc1367edc4fc42ac4f', 21, 0, 0), ('shuffle-split-1a776084eb444a52be381d594c9cc658', 85), ('shuffle-split-1a776084eb444a52be381d594c9cc658', 88), ('open_dataset-pr-97d0eba163aba6bc1367edc4fc42ac4f', 9, 0, 0), ('open_dataset-pr-97d0eba163aba6bc1367edc4fc42ac4f', 18, 0, 0), ('open_dataset-pr-97d0eba163aba6bc1367edc4fc42ac4f', 6, 0, 0), ('shuffle-split-1a776084eb444a52be381d594c9cc658', 75), ('shuffle-split-1a776084eb444a52be381d594c9cc658', 78), ('shuffle-split-1a776084eb444a52be381d594c9cc658', 84), ('shuffle-split-1a776084eb444a52be381d594c9cc658', 81), ('shuffle-split-1a776084eb444a52be381d594c9cc658', 87), ('open_dataset-pr-97d0eba163aba6bc1367edc4fc42ac4f', 15, 0, 0), ('open_dataset-pr-97d0eba163aba6bc1367edc4fc42ac4f', 20, 0, 0), ('open_dataset-pr-97d0eba163aba6bc1367edc4fc42ac4f', 14, 0, 0), ('open_dataset-pr-97d0eba163aba6bc1367edc4fc42ac4f', 17, 0, 0), 'original-open_dataset-pr-97d0eba163aba6bc1367edc4fc42ac4f', ('open_dataset-pr-97d0eba163aba6bc1367edc4fc42ac4f', 16, 0, 0), ('shuffle-split-1a776084eb444a52be381d594c9cc658', 77), ('shuffle-split-1a776084eb444a52be381d594c9cc658', 74), ('shuffle-split-1a776084eb444a52be381d594c9cc658', 80), ('shuffle-split-1a776084eb444a52be381d594c9cc658', 86), ('shuffle-split-1a776084eb444a52be381d594c9cc658', 83), 'shuffle-sorter-1f0d595332f5708607914f2d0a6c2d2b', ('shuffle-split-1a776084eb444a52be381d594c9cc658', 89), ('open_dataset-pr-97d0eba163aba6bc1367edc4fc42ac4f', 13, 0, 0), ('open_dataset-pr-97d0eba163aba6bc1367edc4fc42ac4f', 7, 0, 0), ('open_dataset-pr-97d0eba163aba6bc1367edc4fc42ac4f', 19, 0, 0)} (stimulus_id='handle-worker-cleanup-1746108921.1748922')\n",
      "2025-05-01 16:15:21,228 - distributed.nanny - WARNING - Restarting worker\n",
      "2025-05-01 16:16:26,883 - distributed.scheduler - WARNING - Removing worker 'tcp://127.0.0.1:38267' caused the cluster to lose already computed task(s), which will be recomputed elsewhere: {('open_dataset-pr-97d0eba163aba6bc1367edc4fc42ac4f', 12, 0, 0), ('shuffle-split-1a776084eb444a52be381d594c9cc658', 82), ('open_dataset-pr-97d0eba163aba6bc1367edc4fc42ac4f', 10, 0, 0), 'shuffle-taker-9492e4b78523c7fc04aa4e2c834e44bf', ('open_dataset-pr-97d0eba163aba6bc1367edc4fc42ac4f', 21, 0, 0), ('shuffle-split-1a776084eb444a52be381d594c9cc658', 85), ('shuffle-split-1a776084eb444a52be381d594c9cc658', 88), ('open_dataset-pr-97d0eba163aba6bc1367edc4fc42ac4f', 9, 0, 0), ('open_dataset-pr-97d0eba163aba6bc1367edc4fc42ac4f', 18, 0, 0), ('open_dataset-pr-97d0eba163aba6bc1367edc4fc42ac4f', 6, 0, 0), ('shuffle-split-1a776084eb444a52be381d594c9cc658', 75), ('shuffle-split-1a776084eb444a52be381d594c9cc658', 78), ('shuffle-split-1a776084eb444a52be381d594c9cc658', 84), ('shuffle-split-1a776084eb444a52be381d594c9cc658', 81), ('shuffle-split-1a776084eb444a52be381d594c9cc658', 87), ('open_dataset-pr-97d0eba163aba6bc1367edc4fc42ac4f', 15, 0, 0), ('open_dataset-pr-97d0eba163aba6bc1367edc4fc42ac4f', 20, 0, 0), ('open_dataset-pr-97d0eba163aba6bc1367edc4fc42ac4f', 14, 0, 0), ('open_dataset-pr-97d0eba163aba6bc1367edc4fc42ac4f', 17, 0, 0), 'original-open_dataset-pr-97d0eba163aba6bc1367edc4fc42ac4f', ('open_dataset-pr-97d0eba163aba6bc1367edc4fc42ac4f', 16, 0, 0), ('shuffle-split-1a776084eb444a52be381d594c9cc658', 77), ('shuffle-split-1a776084eb444a52be381d594c9cc658', 74), ('shuffle-split-1a776084eb444a52be381d594c9cc658', 80), ('shuffle-split-1a776084eb444a52be381d594c9cc658', 86), ('shuffle-split-1a776084eb444a52be381d594c9cc658', 83), 'shuffle-sorter-1f0d595332f5708607914f2d0a6c2d2b', ('shuffle-split-1a776084eb444a52be381d594c9cc658', 89), ('open_dataset-pr-97d0eba163aba6bc1367edc4fc42ac4f', 13, 0, 0), ('open_dataset-pr-97d0eba163aba6bc1367edc4fc42ac4f', 7, 0, 0), ('open_dataset-pr-97d0eba163aba6bc1367edc4fc42ac4f', 19, 0, 0)} (stimulus_id='handle-worker-cleanup-1746108986.8835173')\n",
      "2025-05-01 16:16:26,890 - distributed.nanny - WARNING - Restarting worker\n",
      "2025-05-01 16:16:33,822 - distributed.scheduler - WARNING - Removing worker 'tcp://127.0.0.1:42633' caused the cluster to lose already computed task(s), which will be recomputed elsewhere: {('open_dataset-pr-97d0eba163aba6bc1367edc4fc42ac4f', 12, 0, 0), ('shuffle-split-1a776084eb444a52be381d594c9cc658', 82), ('open_dataset-pr-97d0eba163aba6bc1367edc4fc42ac4f', 10, 0, 0), 'shuffle-taker-9492e4b78523c7fc04aa4e2c834e44bf', ('open_dataset-pr-97d0eba163aba6bc1367edc4fc42ac4f', 21, 0, 0), ('shuffle-split-1a776084eb444a52be381d594c9cc658', 85), ('shuffle-split-1a776084eb444a52be381d594c9cc658', 88), ('open_dataset-pr-97d0eba163aba6bc1367edc4fc42ac4f', 9, 0, 0), ('open_dataset-pr-97d0eba163aba6bc1367edc4fc42ac4f', 18, 0, 0), ('open_dataset-pr-97d0eba163aba6bc1367edc4fc42ac4f', 6, 0, 0), ('shuffle-split-1a776084eb444a52be381d594c9cc658', 75), ('shuffle-split-1a776084eb444a52be381d594c9cc658', 78), ('shuffle-split-1a776084eb444a52be381d594c9cc658', 84), ('shuffle-split-1a776084eb444a52be381d594c9cc658', 81), ('shuffle-split-1a776084eb444a52be381d594c9cc658', 87), ('open_dataset-pr-97d0eba163aba6bc1367edc4fc42ac4f', 15, 0, 0), ('open_dataset-pr-97d0eba163aba6bc1367edc4fc42ac4f', 20, 0, 0), ('open_dataset-pr-97d0eba163aba6bc1367edc4fc42ac4f', 14, 0, 0), ('open_dataset-pr-97d0eba163aba6bc1367edc4fc42ac4f', 17, 0, 0), 'original-open_dataset-pr-97d0eba163aba6bc1367edc4fc42ac4f', ('open_dataset-pr-97d0eba163aba6bc1367edc4fc42ac4f', 16, 0, 0), ('shuffle-split-1a776084eb444a52be381d594c9cc658', 77), ('shuffle-split-1a776084eb444a52be381d594c9cc658', 74), ('shuffle-split-1a776084eb444a52be381d594c9cc658', 80), ('shuffle-split-1a776084eb444a52be381d594c9cc658', 86), ('shuffle-split-1a776084eb444a52be381d594c9cc658', 83), 'shuffle-sorter-1f0d595332f5708607914f2d0a6c2d2b', ('shuffle-split-1a776084eb444a52be381d594c9cc658', 89), ('open_dataset-pr-97d0eba163aba6bc1367edc4fc42ac4f', 13, 0, 0), ('open_dataset-pr-97d0eba163aba6bc1367edc4fc42ac4f', 7, 0, 0), ('open_dataset-pr-97d0eba163aba6bc1367edc4fc42ac4f', 19, 0, 0)} (stimulus_id='handle-worker-cleanup-1746108993.8218737')\n",
      "2025-05-01 16:16:33,827 - distributed.nanny - WARNING - Restarting worker\n",
      "2025-05-01 16:16:39,272 - distributed.scheduler - WARNING - Removing worker 'tcp://127.0.0.1:45049' caused the cluster to lose already computed task(s), which will be recomputed elsewhere: {('open_dataset-pr-97d0eba163aba6bc1367edc4fc42ac4f', 12, 0, 0), ('shuffle-split-1a776084eb444a52be381d594c9cc658', 82), ('open_dataset-pr-97d0eba163aba6bc1367edc4fc42ac4f', 10, 0, 0), 'shuffle-taker-9492e4b78523c7fc04aa4e2c834e44bf', ('open_dataset-pr-97d0eba163aba6bc1367edc4fc42ac4f', 21, 0, 0), ('shuffle-split-1a776084eb444a52be381d594c9cc658', 85), ('shuffle-split-1a776084eb444a52be381d594c9cc658', 88), ('open_dataset-pr-97d0eba163aba6bc1367edc4fc42ac4f', 9, 0, 0), ('open_dataset-pr-97d0eba163aba6bc1367edc4fc42ac4f', 18, 0, 0), ('open_dataset-pr-97d0eba163aba6bc1367edc4fc42ac4f', 6, 0, 0), ('shuffle-split-1a776084eb444a52be381d594c9cc658', 75), ('shuffle-split-1a776084eb444a52be381d594c9cc658', 78), ('shuffle-split-1a776084eb444a52be381d594c9cc658', 84), ('shuffle-split-1a776084eb444a52be381d594c9cc658', 81), ('shuffle-split-1a776084eb444a52be381d594c9cc658', 87), ('open_dataset-pr-97d0eba163aba6bc1367edc4fc42ac4f', 15, 0, 0), ('open_dataset-pr-97d0eba163aba6bc1367edc4fc42ac4f', 20, 0, 0), ('open_dataset-pr-97d0eba163aba6bc1367edc4fc42ac4f', 14, 0, 0), ('open_dataset-pr-97d0eba163aba6bc1367edc4fc42ac4f', 17, 0, 0), 'original-open_dataset-pr-97d0eba163aba6bc1367edc4fc42ac4f', ('open_dataset-pr-97d0eba163aba6bc1367edc4fc42ac4f', 16, 0, 0), ('shuffle-split-1a776084eb444a52be381d594c9cc658', 77), ('shuffle-split-1a776084eb444a52be381d594c9cc658', 74), ('shuffle-split-1a776084eb444a52be381d594c9cc658', 80), ('shuffle-split-1a776084eb444a52be381d594c9cc658', 86), ('shuffle-split-1a776084eb444a52be381d594c9cc658', 83), 'shuffle-sorter-1f0d595332f5708607914f2d0a6c2d2b', ('shuffle-split-1a776084eb444a52be381d594c9cc658', 89), ('open_dataset-pr-97d0eba163aba6bc1367edc4fc42ac4f', 13, 0, 0), ('open_dataset-pr-97d0eba163aba6bc1367edc4fc42ac4f', 7, 0, 0), ('open_dataset-pr-97d0eba163aba6bc1367edc4fc42ac4f', 19, 0, 0)} (stimulus_id='handle-worker-cleanup-1746108999.2727237')\n",
      "2025-05-01 16:16:39,277 - distributed.nanny - WARNING - Restarting worker\n",
      "2025-05-01 16:16:45,669 - distributed.scheduler - ERROR - Task shuffle-taker-37582cd403aaf30596336b4e877fd76e marked as failed because 4 workers died while trying to run it\n",
      "2025-05-01 16:16:45,671 - distributed.scheduler - ERROR - Task ('open_dataset-pr-97d0eba163aba6bc1367edc4fc42ac4f', 8, 0, 0) marked as failed because 4 workers died while trying to run it\n",
      "2025-05-01 16:16:45,671 - distributed.scheduler - WARNING - Removing worker 'tcp://127.0.0.1:41333' caused the cluster to lose already computed task(s), which will be recomputed elsewhere: {('open_dataset-pr-97d0eba163aba6bc1367edc4fc42ac4f', 12, 0, 0), ('shuffle-split-1a776084eb444a52be381d594c9cc658', 82), ('open_dataset-pr-97d0eba163aba6bc1367edc4fc42ac4f', 10, 0, 0), 'shuffle-taker-9492e4b78523c7fc04aa4e2c834e44bf', ('open_dataset-pr-97d0eba163aba6bc1367edc4fc42ac4f', 21, 0, 0), ('shuffle-split-1a776084eb444a52be381d594c9cc658', 85), ('shuffle-split-1a776084eb444a52be381d594c9cc658', 88), ('open_dataset-pr-97d0eba163aba6bc1367edc4fc42ac4f', 9, 0, 0), ('open_dataset-pr-97d0eba163aba6bc1367edc4fc42ac4f', 18, 0, 0), ('open_dataset-pr-97d0eba163aba6bc1367edc4fc42ac4f', 6, 0, 0), ('shuffle-split-1a776084eb444a52be381d594c9cc658', 75), ('shuffle-split-1a776084eb444a52be381d594c9cc658', 78), ('shuffle-split-1a776084eb444a52be381d594c9cc658', 84), ('shuffle-split-1a776084eb444a52be381d594c9cc658', 81), ('shuffle-split-1a776084eb444a52be381d594c9cc658', 87), ('open_dataset-pr-97d0eba163aba6bc1367edc4fc42ac4f', 15, 0, 0), ('open_dataset-pr-97d0eba163aba6bc1367edc4fc42ac4f', 20, 0, 0), ('open_dataset-pr-97d0eba163aba6bc1367edc4fc42ac4f', 14, 0, 0), ('open_dataset-pr-97d0eba163aba6bc1367edc4fc42ac4f', 17, 0, 0), 'original-open_dataset-pr-97d0eba163aba6bc1367edc4fc42ac4f', ('open_dataset-pr-97d0eba163aba6bc1367edc4fc42ac4f', 16, 0, 0), ('shuffle-split-1a776084eb444a52be381d594c9cc658', 77), ('shuffle-split-1a776084eb444a52be381d594c9cc658', 74), ('shuffle-split-1a776084eb444a52be381d594c9cc658', 80), ('shuffle-split-1a776084eb444a52be381d594c9cc658', 86), ('shuffle-split-1a776084eb444a52be381d594c9cc658', 83), 'shuffle-sorter-1f0d595332f5708607914f2d0a6c2d2b', ('shuffle-split-1a776084eb444a52be381d594c9cc658', 89), ('open_dataset-pr-97d0eba163aba6bc1367edc4fc42ac4f', 13, 0, 0), ('open_dataset-pr-97d0eba163aba6bc1367edc4fc42ac4f', 7, 0, 0), ('open_dataset-pr-97d0eba163aba6bc1367edc4fc42ac4f', 19, 0, 0)} (stimulus_id='handle-worker-cleanup-1746109005.6689777')\n",
      "2025-05-01 16:16:45,719 - distributed.nanny - WARNING - Restarting worker\n",
      "2025-05-01 16:17:57,702 - distributed.scheduler - WARNING - Removing worker 'tcp://127.0.0.1:42889' caused the cluster to lose already computed task(s), which will be recomputed elsewhere: {('open_dataset-pr-97d0eba163aba6bc1367edc4fc42ac4f', 21, 0, 0), ('shuffle-split-4ddcf9bd72f93281ba9633846195a7d7', 57), ('shuffle-split-4ddcf9bd72f93281ba9633846195a7d7', 54), ('shuffle-split-4ddcf9bd72f93281ba9633846195a7d7', 60), ('open_dataset-pr-97d0eba163aba6bc1367edc4fc42ac4f', 24, 0, 0), ('open_dataset-pr-97d0eba163aba6bc1367edc4fc42ac4f', 27, 0, 0), ('shuffle-split-4ddcf9bd72f93281ba9633846195a7d7', 50), ('shuffle-split-4ddcf9bd72f93281ba9633846195a7d7', 47), ('shuffle-split-4ddcf9bd72f93281ba9633846195a7d7', 53), ('open_dataset-pr-97d0eba163aba6bc1367edc4fc42ac4f', 20, 0, 0), ('shuffle-split-4ddcf9bd72f93281ba9633846195a7d7', 56), ('open_dataset-pr-97d0eba163aba6bc1367edc4fc42ac4f', 14, 0, 0), ('open_dataset-pr-97d0eba163aba6bc1367edc4fc42ac4f', 17, 0, 0), 'shuffle-taker-72221d972267cc267fd73e537d19c188', ('open_dataset-pr-97d0eba163aba6bc1367edc4fc42ac4f', 23, 0, 0), 'original-open_dataset-pr-97d0eba163aba6bc1367edc4fc42ac4f', ('open_dataset-pr-97d0eba163aba6bc1367edc4fc42ac4f', 28, 0, 0), ('open_dataset-pr-97d0eba163aba6bc1367edc4fc42ac4f', 16, 0, 0), ('shuffle-split-4ddcf9bd72f93281ba9633846195a7d7', 46), ('shuffle-split-4ddcf9bd72f93281ba9633846195a7d7', 52), ('open_dataset-pr-97d0eba163aba6bc1367edc4fc42ac4f', 13, 0, 0), ('shuffle-split-4ddcf9bd72f93281ba9633846195a7d7', 49), ('shuffle-split-4ddcf9bd72f93281ba9633846195a7d7', 55), ('shuffle-split-4ddcf9bd72f93281ba9633846195a7d7', 58), ('shuffle-split-4ddcf9bd72f93281ba9633846195a7d7', 61), ('open_dataset-pr-97d0eba163aba6bc1367edc4fc42ac4f', 25, 0, 0), 'shuffle-sorter-6defcd25360ae8044d0e5036503704b6', ('open_dataset-pr-97d0eba163aba6bc1367edc4fc42ac4f', 19, 0, 0), ('open_dataset-pr-97d0eba163aba6bc1367edc4fc42ac4f', 22, 0, 0)} (stimulus_id='handle-worker-cleanup-1746109077.7027016')\n",
      "2025-05-01 16:17:57,708 - distributed.nanny - WARNING - Restarting worker\n",
      "2025-05-01 16:18:02,737 - distributed.scheduler - WARNING - Removing worker 'tcp://127.0.0.1:32807' caused the cluster to lose already computed task(s), which will be recomputed elsewhere: {('open_dataset-pr-97d0eba163aba6bc1367edc4fc42ac4f', 21, 0, 0), ('shuffle-split-4ddcf9bd72f93281ba9633846195a7d7', 57), ('shuffle-split-4ddcf9bd72f93281ba9633846195a7d7', 54), ('shuffle-split-4ddcf9bd72f93281ba9633846195a7d7', 60), ('open_dataset-pr-97d0eba163aba6bc1367edc4fc42ac4f', 24, 0, 0), ('open_dataset-pr-97d0eba163aba6bc1367edc4fc42ac4f', 27, 0, 0), ('shuffle-split-4ddcf9bd72f93281ba9633846195a7d7', 50), ('shuffle-split-4ddcf9bd72f93281ba9633846195a7d7', 47), ('shuffle-split-4ddcf9bd72f93281ba9633846195a7d7', 53), ('open_dataset-pr-97d0eba163aba6bc1367edc4fc42ac4f', 20, 0, 0), ('shuffle-split-4ddcf9bd72f93281ba9633846195a7d7', 56), ('open_dataset-pr-97d0eba163aba6bc1367edc4fc42ac4f', 14, 0, 0), ('open_dataset-pr-97d0eba163aba6bc1367edc4fc42ac4f', 17, 0, 0), 'shuffle-taker-72221d972267cc267fd73e537d19c188', ('open_dataset-pr-97d0eba163aba6bc1367edc4fc42ac4f', 23, 0, 0), 'original-open_dataset-pr-97d0eba163aba6bc1367edc4fc42ac4f', ('open_dataset-pr-97d0eba163aba6bc1367edc4fc42ac4f', 28, 0, 0), ('open_dataset-pr-97d0eba163aba6bc1367edc4fc42ac4f', 16, 0, 0), ('shuffle-split-4ddcf9bd72f93281ba9633846195a7d7', 46), ('shuffle-split-4ddcf9bd72f93281ba9633846195a7d7', 52), ('open_dataset-pr-97d0eba163aba6bc1367edc4fc42ac4f', 13, 0, 0), ('shuffle-split-4ddcf9bd72f93281ba9633846195a7d7', 49), ('shuffle-split-4ddcf9bd72f93281ba9633846195a7d7', 55), ('shuffle-split-4ddcf9bd72f93281ba9633846195a7d7', 58), ('shuffle-split-4ddcf9bd72f93281ba9633846195a7d7', 61), ('open_dataset-pr-97d0eba163aba6bc1367edc4fc42ac4f', 25, 0, 0), 'shuffle-sorter-6defcd25360ae8044d0e5036503704b6', ('open_dataset-pr-97d0eba163aba6bc1367edc4fc42ac4f', 19, 0, 0), ('open_dataset-pr-97d0eba163aba6bc1367edc4fc42ac4f', 22, 0, 0)} (stimulus_id='handle-worker-cleanup-1746109082.7368793')\n",
      "2025-05-01 16:18:02,742 - distributed.nanny - WARNING - Restarting worker\n",
      "2025-05-01 16:18:07,358 - distributed.scheduler - WARNING - Removing worker 'tcp://127.0.0.1:46253' caused the cluster to lose already computed task(s), which will be recomputed elsewhere: {('open_dataset-pr-97d0eba163aba6bc1367edc4fc42ac4f', 21, 0, 0), ('shuffle-split-4ddcf9bd72f93281ba9633846195a7d7', 57), ('shuffle-split-4ddcf9bd72f93281ba9633846195a7d7', 54), ('shuffle-split-4ddcf9bd72f93281ba9633846195a7d7', 60), ('open_dataset-pr-97d0eba163aba6bc1367edc4fc42ac4f', 24, 0, 0), ('open_dataset-pr-97d0eba163aba6bc1367edc4fc42ac4f', 27, 0, 0), ('shuffle-split-4ddcf9bd72f93281ba9633846195a7d7', 50), ('shuffle-split-4ddcf9bd72f93281ba9633846195a7d7', 47), ('shuffle-split-4ddcf9bd72f93281ba9633846195a7d7', 53), ('open_dataset-pr-97d0eba163aba6bc1367edc4fc42ac4f', 20, 0, 0), ('shuffle-split-4ddcf9bd72f93281ba9633846195a7d7', 56), ('open_dataset-pr-97d0eba163aba6bc1367edc4fc42ac4f', 14, 0, 0), ('open_dataset-pr-97d0eba163aba6bc1367edc4fc42ac4f', 17, 0, 0), 'shuffle-taker-72221d972267cc267fd73e537d19c188', ('open_dataset-pr-97d0eba163aba6bc1367edc4fc42ac4f', 23, 0, 0), 'original-open_dataset-pr-97d0eba163aba6bc1367edc4fc42ac4f', ('open_dataset-pr-97d0eba163aba6bc1367edc4fc42ac4f', 28, 0, 0), ('open_dataset-pr-97d0eba163aba6bc1367edc4fc42ac4f', 16, 0, 0), ('shuffle-split-4ddcf9bd72f93281ba9633846195a7d7', 46), ('shuffle-split-4ddcf9bd72f93281ba9633846195a7d7', 52), ('open_dataset-pr-97d0eba163aba6bc1367edc4fc42ac4f', 13, 0, 0), ('shuffle-split-4ddcf9bd72f93281ba9633846195a7d7', 49), ('shuffle-split-4ddcf9bd72f93281ba9633846195a7d7', 55), ('shuffle-split-4ddcf9bd72f93281ba9633846195a7d7', 58), ('shuffle-split-4ddcf9bd72f93281ba9633846195a7d7', 61), ('open_dataset-pr-97d0eba163aba6bc1367edc4fc42ac4f', 25, 0, 0), 'shuffle-sorter-6defcd25360ae8044d0e5036503704b6', ('open_dataset-pr-97d0eba163aba6bc1367edc4fc42ac4f', 19, 0, 0), ('open_dataset-pr-97d0eba163aba6bc1367edc4fc42ac4f', 22, 0, 0)} (stimulus_id='handle-worker-cleanup-1746109087.3583336')\n",
      "2025-05-01 16:18:07,364 - distributed.nanny - WARNING - Restarting worker\n",
      "2025-05-01 16:18:12,019 - distributed.scheduler - ERROR - Task shuffle-taker-171467f6a346fc98b4800674a2da2356 marked as failed because 4 workers died while trying to run it\n",
      "2025-05-01 16:18:12,021 - distributed.scheduler - ERROR - Task ('open_dataset-pr-97d0eba163aba6bc1367edc4fc42ac4f', 18, 0, 0) marked as failed because 4 workers died while trying to run it\n",
      "2025-05-01 16:18:12,022 - distributed.scheduler - WARNING - Removing worker 'tcp://127.0.0.1:42097' caused the cluster to lose already computed task(s), which will be recomputed elsewhere: {('open_dataset-pr-97d0eba163aba6bc1367edc4fc42ac4f', 21, 0, 0), ('shuffle-split-4ddcf9bd72f93281ba9633846195a7d7', 57), ('shuffle-split-4ddcf9bd72f93281ba9633846195a7d7', 54), ('shuffle-split-4ddcf9bd72f93281ba9633846195a7d7', 60), ('open_dataset-pr-97d0eba163aba6bc1367edc4fc42ac4f', 24, 0, 0), ('open_dataset-pr-97d0eba163aba6bc1367edc4fc42ac4f', 27, 0, 0), ('shuffle-split-4ddcf9bd72f93281ba9633846195a7d7', 50), ('shuffle-split-4ddcf9bd72f93281ba9633846195a7d7', 47), ('shuffle-split-4ddcf9bd72f93281ba9633846195a7d7', 53), ('open_dataset-pr-97d0eba163aba6bc1367edc4fc42ac4f', 20, 0, 0), ('shuffle-split-4ddcf9bd72f93281ba9633846195a7d7', 56), ('open_dataset-pr-97d0eba163aba6bc1367edc4fc42ac4f', 14, 0, 0), ('open_dataset-pr-97d0eba163aba6bc1367edc4fc42ac4f', 17, 0, 0), 'shuffle-taker-72221d972267cc267fd73e537d19c188', ('open_dataset-pr-97d0eba163aba6bc1367edc4fc42ac4f', 23, 0, 0), 'original-open_dataset-pr-97d0eba163aba6bc1367edc4fc42ac4f', ('open_dataset-pr-97d0eba163aba6bc1367edc4fc42ac4f', 28, 0, 0), ('open_dataset-pr-97d0eba163aba6bc1367edc4fc42ac4f', 16, 0, 0), ('shuffle-split-4ddcf9bd72f93281ba9633846195a7d7', 46), ('shuffle-split-4ddcf9bd72f93281ba9633846195a7d7', 52), ('open_dataset-pr-97d0eba163aba6bc1367edc4fc42ac4f', 13, 0, 0), ('shuffle-split-4ddcf9bd72f93281ba9633846195a7d7', 49), ('shuffle-split-4ddcf9bd72f93281ba9633846195a7d7', 55), ('shuffle-split-4ddcf9bd72f93281ba9633846195a7d7', 58), ('shuffle-split-4ddcf9bd72f93281ba9633846195a7d7', 61), ('open_dataset-pr-97d0eba163aba6bc1367edc4fc42ac4f', 25, 0, 0), 'shuffle-sorter-6defcd25360ae8044d0e5036503704b6', ('open_dataset-pr-97d0eba163aba6bc1367edc4fc42ac4f', 19, 0, 0), ('open_dataset-pr-97d0eba163aba6bc1367edc4fc42ac4f', 22, 0, 0)} (stimulus_id='handle-worker-cleanup-1746109092.0192382')\n",
      "2025-05-01 16:18:12,053 - distributed.nanny - WARNING - Restarting worker\n"
     ]
    }
   ],
   "source": [
    "from dask.distributed import Client\n",
    "client= Client()\n",
    "print(client)"
   ]
  },
  {
   "cell_type": "markdown",
   "id": "e16a4bb6",
   "metadata": {},
   "source": [
    "bilinear interpolation to the 1 km grid was performed using CDO remapbil with RhiresD/TabsD as reference files. Same for remapbic (Bicubic interpolation) Now they will be masked in this script so that it only retains the Swiss domain and not entire Europe"
   ]
  },
  {
   "cell_type": "markdown",
   "id": "d7ec0120",
   "metadata": {},
   "source": [
    "#For precipitation mask"
   ]
  },
  {
   "cell_type": "code",
   "execution_count": 3,
   "id": "cae0b59e",
   "metadata": {},
   "outputs": [
    {
     "name": "stdout",
     "output_type": "stream",
     "text": [
      "Mask saved at /work/FAC/FGSE/IDYST/tbeucler/downscaling/sasthana/Downscaling/Downscaling/data/processed/RhiresD_mask.nc\n"
     ]
    }
   ],
   "source": [
    "hr_path = \"/work/FAC/FGSE/IDYST/tbeucler/downscaling/sasthana/Downscaling/Downscaling/data/raw/RhiresD_1971_2022.nc\"\n",
    "mask_output_path = \"/work/FAC/FGSE/IDYST/tbeucler/downscaling/sasthana/Downscaling/Downscaling/data/processed/RhiresD_mask.nc\"\n",
    "\n",
    "ds_hr = xr.open_dataset(hr_path)\n",
    "\n",
    "varname = \"RhiresD\" \n",
    "\n",
    "mask_rhiresd = xr.where(~np.isnan(ds_hr[varname].isel(time=0)), 1, 0)\n",
    "\n",
    "mask_rhiresd = mask_rhiresd.squeeze(drop=True)\n",
    "\n",
    "mask_rhiresd.to_netcdf(mask_output_path)\n",
    "\n",
    "print(f\"Mask saved at {mask_output_path}\")\n"
   ]
  },
  {
   "cell_type": "markdown",
   "id": "10c46114",
   "metadata": {},
   "source": [
    "#For temperature mask!"
   ]
  },
  {
   "cell_type": "code",
   "execution_count": 6,
   "id": "1101c2a1",
   "metadata": {},
   "outputs": [],
   "source": [
    "hr_path = \"/work/FAC/FGSE/IDYST/tbeucler/downscaling/sasthana/Downscaling/Downscaling/data/raw/TabsD_1971_2022.nc\"\n",
    "mask_output_path = \"/work/FAC/FGSE/IDYST/tbeucler/downscaling/sasthana/Downscaling/Downscaling/data/processed/TabsD_mask.nc\"\n",
    "\n",
    "ds_hr = xr.open_dataset(hr_path)\n",
    "\n",
    "varname = \"TabsD\" \n",
    "\n",
    "mask_tabsd = xr.where(~np.isnan(ds_hr[varname].isel(time=0)), 1, 0)\n",
    "\n",
    "mask_tabsd = mask_tabsd.squeeze(drop=True)\n",
    "\n"
   ]
  },
  {
   "cell_type": "code",
   "execution_count": 7,
   "id": "aa82d86b",
   "metadata": {},
   "outputs": [
    {
     "name": "stdout",
     "output_type": "stream",
     "text": [
      "Mask saved at /work/FAC/FGSE/IDYST/tbeucler/downscaling/sasthana/Downscaling/Downscaling/data/processed/TabsD_mask.nc\n"
     ]
    }
   ],
   "source": [
    "mask_tabsd.to_netcdf(mask_output_path)\n",
    "\n",
    "print(f\"Mask saved at {mask_output_path}\")"
   ]
  },
  {
   "cell_type": "markdown",
   "id": "20bbad85",
   "metadata": {},
   "source": [
    "#Application of the mask to the two datasets : RhiresD and TabsD masks (1km) to the bicubically interpolated 1 km datasets features from Sven`s files so that it only retains the Swiss Domain\n"
   ]
  },
  {
   "cell_type": "markdown",
   "id": "3d8b6128",
   "metadata": {},
   "source": [
    "Lazy loading was used below to allow for parallel computation. The data was not loading due to xarray loading everything at once and the kernel was crashing"
   ]
  },
  {
   "cell_type": "code",
   "execution_count": 11,
   "id": "b3c8af39",
   "metadata": {},
   "outputs": [],
   "source": [
    "bicubic_ds_precip = xr.open_dataset(\"/work/FAC/FGSE/IDYST/tbeucler/downscaling/sasthana/Downscaling/Downscaling/data/processing/features_precip_bicubic.nc\",chunks={\"time\": 500})\n",
    "\n",
    "# Masking the features to retain the swiss domain\n",
    "masked_bicubic_rhiresd = bicubic_ds_precip * mask_rhiresd\n",
    "\n",
    "masked_bicubic_rhiresd.to_netcdf(\"/work/FAC/FGSE/IDYST/tbeucler/downscaling/sasthana/Downscaling/Downscaling/data/processed/Bicubic/features_precip_masked_bicubic.nc\",\n",
    "                                 engine=\"netcdf4\",\n",
    "                                    compute=True)"
   ]
  },
  {
   "cell_type": "code",
   "execution_count": 12,
   "id": "f703d330",
   "metadata": {},
   "outputs": [],
   "source": [
    "bicubic_ds_temp = xr.open_dataset(\"/work/FAC/FGSE/IDYST/tbeucler/downscaling/sasthana/Downscaling/Downscaling/data/processing/features_tas_bicubic.nc\",chunks={\"time\": 500})\n",
    "\n",
    "# Masking the features to retain the swiss domain\n",
    "masked_bicubic_temp = bicubic_ds_temp * mask_tabsd\n",
    "\n",
    "masked_bicubic_temp.to_netcdf(\"/work/FAC/FGSE/IDYST/tbeucler/downscaling/sasthana/Downscaling/Downscaling/data/processed/Bicubic/features_tas_masked_bicubic.nc\",\n",
    "                                 engine=\"netcdf4\",\n",
    "                                    compute=True)"
   ]
  },
  {
   "cell_type": "markdown",
   "id": "226f3458",
   "metadata": {},
   "source": [
    "For reducing computation time\n",
    "#Could have used h5netcdf for faster computation\n",
    "#Could have asked for more resources installed dask distributed, and used all 4 CPU cores, computing time reduced to 30 seconds!!!"
   ]
  },
  {
   "cell_type": "markdown",
   "id": "f84a259b",
   "metadata": {},
   "source": [
    "Bilinear interpolated outputs : Maskign with the 1 km RhiresD and TabsD mask"
   ]
  },
  {
   "cell_type": "code",
   "execution_count": 13,
   "id": "c47fc5d6",
   "metadata": {},
   "outputs": [],
   "source": [
    "bilinear_ds_precip = xr.open_dataset(\"/work/FAC/FGSE/IDYST/tbeucler/downscaling/sasthana/Downscaling/Downscaling/data/processing/features_precip_biliear.nc\",chunks={\"time\": 500})\n",
    "\n",
    "# Masking\n",
    "masked_bilinear_precip = bilinear_ds_precip * mask_rhiresd\n",
    "\n",
    "masked_bilinear_precip.to_netcdf(\"/work/FAC/FGSE/IDYST/tbeucler/downscaling/sasthana/Downscaling/Downscaling/data/processed/Bilinear/features_precip_masked_bilinear.nc\",\n",
    "                                 engine=\"netcdf4\",\n",
    "                                    compute=True)"
   ]
  },
  {
   "cell_type": "code",
   "execution_count": 14,
   "id": "5a5d7c33",
   "metadata": {},
   "outputs": [],
   "source": [
    "bilinear_ds_temp = xr.open_dataset(\"/work/FAC/FGSE/IDYST/tbeucler/downscaling/sasthana/Downscaling/Downscaling/data/processing/features_tas_biliear.nc\",chunks={\"time\": 500})\n",
    "\n",
    "# Masking\n",
    "masked_bilinear_temp = bilinear_ds_temp * mask_tabsd\n",
    "\n",
    "masked_bilinear_temp.to_netcdf(\"/work/FAC/FGSE/IDYST/tbeucler/downscaling/sasthana/Downscaling/Downscaling/data/processed/Bilinear/features_tas_masked_bilinear.nc\",\n",
    "                                 engine=\"netcdf4\",\n",
    "                                    compute=True)"
   ]
  },
  {
   "cell_type": "markdown",
   "id": "ea1e2d8e",
   "metadata": {},
   "source": [
    "xxxxxxxxxxxxxxxxxxxxxxxxxxxxxxxxxxxCHECKING SHAPExxxxxxxxxxxxxxxxxxxxxxxxxxxxxxxxxx"
   ]
  },
  {
   "cell_type": "code",
   "execution_count": 15,
   "id": "5b6d6b92",
   "metadata": {},
   "outputs": [],
   "source": [
    "\n",
    "features_ds_precip = xr.open_dataset(\"/work/FAC/FGSE/IDYST/tbeucler/downscaling/sasthana/Downscaling/Downscaling/data/processed/Bicubic/features_precip_masked_bicubic.nc\")[\"pr\"]"
   ]
  },
  {
   "cell_type": "code",
   "execution_count": 16,
   "id": "1525a3b0",
   "metadata": {},
   "outputs": [],
   "source": [
    "features_ds_temp= xr.open_dataset(\"/work/FAC/FGSE/IDYST/tbeucler/downscaling/sasthana/Downscaling/Downscaling/data/processed/Bicubic/features_tas_masked_bicubic.nc\")[\"tas\"]"
   ]
  },
  {
   "cell_type": "code",
   "execution_count": 17,
   "id": "28c68e7a",
   "metadata": {},
   "outputs": [
    {
     "data": {
      "text/plain": [
       "(18993, 265, 370)"
      ]
     },
     "execution_count": 17,
     "metadata": {},
     "output_type": "execute_result"
    }
   ],
   "source": [
    "features_ds_precip.shape"
   ]
  },
  {
   "cell_type": "code",
   "execution_count": 18,
   "id": "f086c302",
   "metadata": {},
   "outputs": [
    {
     "data": {
      "text/plain": [
       "(18993, 265, 370)"
      ]
     },
     "execution_count": 18,
     "metadata": {},
     "output_type": "execute_result"
    }
   ],
   "source": [
    "features_ds_temp.shape"
   ]
  },
  {
   "cell_type": "code",
   "execution_count": 19,
   "id": "83e99157",
   "metadata": {},
   "outputs": [
    {
     "data": {
      "text/plain": [
       "(18993, 265, 370)"
      ]
     },
     "execution_count": 19,
     "metadata": {},
     "output_type": "execute_result"
    }
   ],
   "source": [
    "targets_precip= xr.open_dataset(\"/work/FAC/FGSE/IDYST/tbeucler/downscaling/sasthana/Downscaling/Downscaling/data/raw/RhiresD_1971_2022.nc\")[\"RhiresD\"]\n",
    "targets_precip.shape"
   ]
  },
  {
   "cell_type": "code",
   "execution_count": 20,
   "id": "51df3de8",
   "metadata": {},
   "outputs": [
    {
     "data": {
      "text/plain": [
       "(18993, 265, 370)"
      ]
     },
     "execution_count": 20,
     "metadata": {},
     "output_type": "execute_result"
    }
   ],
   "source": [
    "targets_temp= xr.open_dataset(\"/work/FAC/FGSE/IDYST/tbeucler/downscaling/sasthana/Downscaling/Downscaling/data/raw/TabsD_1971_2022.nc\")[\"TabsD\"]\n",
    "targets_temp.shape"
   ]
  },
  {
   "cell_type": "markdown",
   "id": "fce5d13c",
   "metadata": {},
   "source": [
    "SHAPES MATCH!!!!!!"
   ]
  },
  {
   "cell_type": "markdown",
   "id": "89cff50f",
   "metadata": {},
   "source": [
    "The entire dataset will be divided into tain, test val for both bilinear and bicubic interpolation for calculating standardisation metric etc\n"
   ]
  },
  {
   "cell_type": "markdown",
   "id": "f2daae10",
   "metadata": {},
   "source": [
    "Split will be performed on one dataset, then replicated for the other\n"
   ]
  },
  {
   "cell_type": "code",
   "execution_count": 28,
   "id": "e7d960fc",
   "metadata": {},
   "outputs": [],
   "source": [
    "import sys\n",
    "sys.path.append(\"/work/FAC/FGSE/IDYST/tbeucler/downscaling/sasthana/Downscaling/Downscaling/ML_models\")\n",
    "\n",
    "from Train_Test_Val import split_by_decade\n"
   ]
  },
  {
   "cell_type": "code",
   "execution_count": 29,
   "id": "1714fc53",
   "metadata": {},
   "outputs": [],
   "source": [
    "precip_path = \"/work/FAC/FGSE/IDYST/tbeucler/downscaling/sasthana/Downscaling/Downscaling/data/processed/Bicubic/features_precip_masked_bicubic.nc\"\n",
    "tas_path = \"/work/FAC/FGSE/IDYST/tbeucler/downscaling/sasthana/Downscaling/Downscaling/data/processed/Bicubic/features_tas_masked_bicubic.nc\"\n",
    "\n",
    "output_base = \"/work/FAC/FGSE/IDYST/tbeucler/downscaling/sasthana/Downscaling/Downscaling/data/processed/Bicubic\"\n",
    "ds_precip = xr.open_dataset(precip_path, chunks={\"time\": 50})\n",
    "ds_tas = xr.open_dataset(tas_path, chunks={\"time\": 50})\n",
    "\n",
    "times = ds_precip['time'].values  # Assumes both datasets have matching time axis, one of the time coordinates from both datasets extracted\n"
   ]
  },
  {
   "cell_type": "code",
   "execution_count": 30,
   "id": "4606125d",
   "metadata": {},
   "outputs": [],
   "source": [
    "train_idx, val_idx, test_idx = split_by_decade(times, seed=42)  # See has been fixed for reproducibility"
   ]
  },
  {
   "cell_type": "code",
   "execution_count": 31,
   "id": "33683b4c",
   "metadata": {},
   "outputs": [],
   "source": [
    "import os"
   ]
  },
  {
   "cell_type": "code",
   "execution_count": 32,
   "id": "c478c69b",
   "metadata": {},
   "outputs": [
    {
     "data": {
      "text/plain": [
       "(tensor([ 2751,  2462,  2313,  ..., 18657, 18129, 18958]),\n",
       " tensor([  486,  1772,  1052,  ..., 18762, 18652, 18403]),\n",
       " tensor([ 2936,   400,  3011,  ..., 18911, 18736, 18547]))"
      ]
     },
     "execution_count": 32,
     "metadata": {},
     "output_type": "execute_result"
    }
   ],
   "source": [
    "train_idx, val_idx, test_idx"
   ]
  },
  {
   "cell_type": "code",
   "execution_count": 33,
   "id": "e20a74ac",
   "metadata": {},
   "outputs": [
    {
     "name": "stdout",
     "output_type": "stream",
     "text": [
      "torch.Size([13293])\n",
      "torch.Size([3796])\n",
      "torch.Size([1904])\n"
     ]
    }
   ],
   "source": [
    "print(train_idx.shape)\n",
    "print(val_idx.shape)\n",
    "print(test_idx.shape)"
   ]
  },
  {
   "cell_type": "code",
   "execution_count": 34,
   "id": "394e13ce",
   "metadata": {},
   "outputs": [],
   "source": [
    "def save_splits(ds, indices, subset_folder, filename):\n",
    "    subset = ds.isel(time=indices)\n",
    "    subset = subset.chunk({\"time\": 50}) \n",
    "    save_dir = os.path.join(output_base, subset_folder)\n",
    "    os.makedirs(save_dir, exist_ok=True)\n",
    "    save_path = os.path.join(save_dir, filename)\n",
    "    \n",
    "    delayed_obj = subset.to_netcdf(save_path, engine=\"netcdf4\", compute=True)\n",
    "    delayed_obj.compute()\n",
    "    \n",
    "    print(f\"Saved {filename}\")\n"
   ]
  },
  {
   "cell_type": "code",
   "execution_count": null,
   "id": "6dcf610c",
   "metadata": {},
   "outputs": [],
   "source": [
    "# Precipitation input dataset for bicubic interpolation split into three categories\n",
    "save_splits(ds_precip, train_idx, \"Train\", \"features_precip_masked_bicubic_train.nc\")\n",
    "save_splits(ds_precip, val_idx, \"Val\", \"features_precip_masked_bicubic_val.nc\")\n",
    "save_splits(ds_precip, test_idx, \"Test\", \"features_precip_masked_bicubic_test.nc\")"
   ]
  },
  {
   "cell_type": "code",
   "execution_count": null,
   "id": "0b88a939",
   "metadata": {},
   "outputs": [],
   "source": [
    "# Temperature input dataset for bicubic interpolation split into three categories\n",
    "save_splits(ds_tas, train_idx, \"Train\", \"features_tas_masked_bicubic_train.nc\")\n",
    "save_splits(ds_tas, val_idx, \"Val\", \"features_tas_masked_bicubic_val.nc\")\n",
    "save_splits(ds_tas, test_idx, \"Test\", \"features_tas_masked_bicubic_test.nc\")"
   ]
  },
  {
   "cell_type": "markdown",
   "id": "168f33e5",
   "metadata": {},
   "source": [
    "Also splittign the targets along the very same lines usign the reproducible split"
   ]
  },
  {
   "cell_type": "code",
   "execution_count": null,
   "id": "1e98a511",
   "metadata": {},
   "outputs": [],
   "source": [
    "precip_target = \"/work/FAC/FGSE/IDYST/tbeucler/downscaling/sasthana/Downscaling/Downscaling/data/raw/RhiresD_1971_2022.nc\"\n",
    "tas_target = \"/work/FAC/FGSE/IDYST/tbeucler/downscaling/sasthana/Downscaling/Downscaling/data/raw/TabsD_1971_2022.nc\"\n",
    "\n",
    "output_base = \"/work/FAC/FGSE/IDYST/tbeucler/downscaling/sasthana/Downscaling/Downscaling/data/processed/Bicubic\"\n",
    "ds_precip = xr.open_dataset(precip_path, chunks={\"time\": 50})\n",
    "ds_tas = xr.open_dataset(tas_path, chunks={\"time\": 50})\n",
    "\n",
    "times = ds_precip['time'].values  # Assumes both datasets have matching time axis, one of the time coordinates from both datasets extracted\n"
   ]
  },
  {
   "cell_type": "code",
   "execution_count": null,
   "id": "4eb0bd97",
   "metadata": {},
   "outputs": [],
   "source": [
    "# Precipitation input dataset for bicubic interpolation split into three categories\n",
    "save_splits(precip_target, train_idx, \"Train\", \"targets_precip_masked_bicubic_train.nc\")\n",
    "save_splits(precip_target, val_idx, \"Val\", \"targets_precip_masked_bicubic_val.nc\")\n",
    "save_splits(precip_target, test_idx, \"Test\", \"targets_precip_masked_bicubic_test.nc\")"
   ]
  },
  {
   "cell_type": "code",
   "execution_count": null,
   "id": "4740b5db",
   "metadata": {},
   "outputs": [],
   "source": [
    "# Precipitation input dataset for bicubic interpolation split into three categories\n",
    "save_splits(tas_target, train_idx, \"Train\", \"targets_tas_masked_bicubic_train.nc\")\n",
    "save_splits(tas_target, val_idx, \"Val\", \"targets_tas_masked_bicubic_val.nc\")\n",
    "save_splits(tas_target, test_idx, \"Test\", \"targets_tas_masked_bicubic_test.nc\")"
   ]
  },
  {
   "cell_type": "markdown",
   "id": "b3ef2b37",
   "metadata": {},
   "source": [
    "                                                  xxxxxxxxxxStandardisation code  xxxxxxxxxxxxxxxxxxxxxxxxxx"
   ]
  },
  {
   "cell_type": "code",
   "execution_count": 5,
   "id": "3a128293",
   "metadata": {},
   "outputs": [],
   "source": [
    "from Standardise import standardise"
   ]
  },
  {
   "cell_type": "code",
   "execution_count": 5,
   "id": "a1f70601",
   "metadata": {},
   "outputs": [
    {
     "name": "stderr",
     "output_type": "stream",
     "text": [
      "/users/sasthana/.local/lib/python3.12/site-packages/numpy/lib/_nanfunctions_impl.py:2053: RuntimeWarning: Degrees of freedom <= 0 for slice.\n",
      "  var = nanvar(a, axis=axis, dtype=dtype, out=out, ddof=ddof,\n"
     ]
    },
    {
     "name": "stdout",
     "output_type": "stream",
     "text": [
      "Normalised/min max scaled variable saved to /work/FAC/FGSE/IDYST/tbeucler/downscaling/sasthana/Downscaling/Downscaling/data/processed/TabsD_scaled_1971_2022.nc\n"
     ]
    }
   ],
   "source": [
    "input_path = '/work/FAC/FGSE/IDYST/tbeucler/downscaling/sasthana/Downscaling/Downscaling/data/raw/TabsD_1971_2022.nc'\n",
    "output_path = '/work/FAC/FGSE/IDYST/tbeucler/downscaling/sasthana/Downscaling/Downscaling/data/processed/TabsD_scaled_1971_2022.nc'\n",
    "var = 'TabsD'\n",
    "\n",
    "standardise(input_path, output_path, var)\n"
   ]
  },
  {
   "cell_type": "code",
   "execution_count": 6,
   "id": "0fcc5d9d",
   "metadata": {},
   "outputs": [
    {
     "name": "stdout",
     "output_type": "stream",
     "text": [
      "Normalised/min max scaled variable saved to /work/FAC/FGSE/IDYST/tbeucler/downscaling/sasthana/Downscaling/Downscaling/data/processed/RhiresD_scaled_1971_2022.nc\n"
     ]
    }
   ],
   "source": [
    "input_path = '/work/FAC/FGSE/IDYST/tbeucler/downscaling/sasthana/Downscaling/Downscaling/data/raw/RhiresD_1971_2022.nc'\n",
    "output_path = '/work/FAC/FGSE/IDYST/tbeucler/downscaling/sasthana/Downscaling/Downscaling/data/processed/RhiresD_scaled_1971_2022.nc'\n",
    "var = 'RhiresD'\n",
    "\n",
    "standardise(input_path, output_path, var)"
   ]
  },
  {
   "cell_type": "code",
   "execution_count": 3,
   "id": "6ef3d9f4",
   "metadata": {},
   "outputs": [],
   "source": [
    "#standardiigng features as well"
   ]
  },
  {
   "cell_type": "code",
   "execution_count": 6,
   "id": "f7d52f5e",
   "metadata": {},
   "outputs": [
    {
     "name": "stderr",
     "output_type": "stream",
     "text": [
      "/users/sasthana/.local/lib/python3.12/site-packages/numpy/lib/_nanfunctions_impl.py:2053: RuntimeWarning: Degrees of freedom <= 0 for slice.\n",
      "  var = nanvar(a, axis=axis, dtype=dtype, out=out, ddof=ddof,\n"
     ]
    },
    {
     "name": "stdout",
     "output_type": "stream",
     "text": [
      "Normalised/min max scaled variable saved to /work/FAC/FGSE/IDYST/tbeucler/downscaling/sasthana/Downscaling/Downscaling/data/processed/tas_daily_cropped_scaled_1971_2022.nc\n"
     ]
    }
   ],
   "source": [
    "input_path = '/work/FAC/FGSE/IDYST/tbeucler/downscaling/sasthana/Downscaling/Downscaling/data/raw/tas_daily_1971_2022_cropped.nc'\n",
    "output_path = '/work/FAC/FGSE/IDYST/tbeucler/downscaling/sasthana/Downscaling/Downscaling/data/processed/tas_daily_cropped_scaled_1971_2022.nc'\n",
    "var = 'tas'\n",
    "\n",
    "standardise(input_path, output_path, var)"
   ]
  },
  {
   "cell_type": "code",
   "execution_count": 7,
   "id": "882543e5",
   "metadata": {},
   "outputs": [
    {
     "name": "stdout",
     "output_type": "stream",
     "text": [
      "Normalised/min max scaled variable saved to /work/FAC/FGSE/IDYST/tbeucler/downscaling/sasthana/Downscaling/Downscaling/data/processed/precip_daily_cropped_scaled_1971_2022.nc\n"
     ]
    }
   ],
   "source": [
    "input_path = '/work/FAC/FGSE/IDYST/tbeucler/downscaling/sasthana/Downscaling/Downscaling/data/raw/precip_daily_1971_2022_cropped.nc'\n",
    "output_path = '/work/FAC/FGSE/IDYST/tbeucler/downscaling/sasthana/Downscaling/Downscaling/data/processed/precip_daily_cropped_scaled_1971_2022.nc'\n",
    "var = 'pr'\n",
    "\n",
    "standardise(input_path, output_path, var)"
   ]
  }
 ],
 "metadata": {
  "kernelspec": {
   "display_name": "Python 3",
   "language": "python",
   "name": "python3"
  },
  "language_info": {
   "codemirror_mode": {
    "name": "ipython",
    "version": 3
   },
   "file_extension": ".py",
   "mimetype": "text/x-python",
   "name": "python",
   "nbconvert_exporter": "python",
   "pygments_lexer": "ipython3",
   "version": "3.12.1"
  }
 },
 "nbformat": 4,
 "nbformat_minor": 5
}
