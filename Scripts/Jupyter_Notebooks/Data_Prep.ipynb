{
 "cells": [
  {
   "cell_type": "markdown",
   "id": "59cbadfd",
   "metadata": {},
   "source": [
    "!!!!!!!!!!!!!!!!!!!!!!!!!!!!!!!!!This script contains maskign code before standardisation. however standardisation of inputs and targets was performed before the interpoléated baselines were generated via CDO for bilinear and bicubic and then masked so that they only retain the Swiss Domain"
   ]
  },
  {
   "cell_type": "markdown",
   "id": "3f882966",
   "metadata": {},
   "source": [
    "Workflow : Bilinear interpolation, bicubic interpolation, Masking to retain only the swiss domain, splitting into train, test val, gridded RMSE R2, pooled RMSE, R2"
   ]
  },
  {
   "cell_type": "code",
   "execution_count": 1,
   "id": "a0cc5ad9",
   "metadata": {},
   "outputs": [],
   "source": [
    "import sys\n",
    "sys.path.append(\"../../Scripts/Functions\")\n",
    "import xarray as xr\n",
    "import numpy as np"
   ]
  },
  {
   "cell_type": "code",
   "execution_count": 2,
   "id": "974f0555",
   "metadata": {},
   "outputs": [
    {
     "name": "stdout",
     "output_type": "stream",
     "text": [
      "<Client: 'tcp://127.0.0.1:36683' processes=1 threads=1, memory=503.49 GiB>\n"
     ]
    }
   ],
   "source": [
    "from dask.distributed import Client\n",
    "client= Client()\n",
    "print(client)"
   ]
  },
  {
   "cell_type": "markdown",
   "id": "226f3458",
   "metadata": {},
   "source": [
    "installed dask distributed, and used all 4 CPU cores, computing time reduced to 30 seconds per line!!!"
   ]
  },
  {
   "cell_type": "markdown",
   "id": "ea1e2d8e",
   "metadata": {},
   "source": [
    "xxxxxxxxxxxxxxxxxxxxxxxxxxxxxxxxxxxCHECKING SHAPExxxxxxxxxxxxxxxxxxxxxxxxxxxxxxxxxx"
   ]
  },
  {
   "cell_type": "markdown",
   "id": "8a649761",
   "metadata": {},
   "source": [
    "FEATURES : CHECKIGN SHAPES"
   ]
  },
  {
   "cell_type": "code",
   "execution_count": 4,
   "id": "5b6d6b92",
   "metadata": {},
   "outputs": [
    {
     "data": {
      "text/plain": [
       "(19358, 240, 370)"
      ]
     },
     "execution_count": 4,
     "metadata": {},
     "output_type": "execute_result"
    }
   ],
   "source": [
    "\n",
    "features_ds_precip = xr.open_dataset(\"../../data/Features/files/bicubic_rhiresd.nc\")[\"RhiresD\"]\n",
    "features_ds_precip.shape"
   ]
  },
  {
   "cell_type": "code",
   "execution_count": 5,
   "id": "3c0e7da7",
   "metadata": {},
   "outputs": [
    {
     "data": {
      "text/plain": [
       "(19358, 240, 370)"
      ]
     },
     "execution_count": 5,
     "metadata": {},
     "output_type": "execute_result"
    }
   ],
   "source": [
    "features_ds_tabsd= xr.open_dataset(\"../../data/Features/files/bicubic_tabsd.nc\")[\"TabsD\"]\n",
    "features_ds_tabsd.shape"
   ]
  },
  {
   "cell_type": "code",
   "execution_count": 6,
   "id": "1525a3b0",
   "metadata": {},
   "outputs": [
    {
     "data": {
      "text/plain": [
       "(19358, 240, 370)"
      ]
     },
     "execution_count": 6,
     "metadata": {},
     "output_type": "execute_result"
    }
   ],
   "source": [
    "features_ds_tmax= xr.open_dataset(\"../../data/Features/files/bicubic_tmax.nc\")[\"TmaxD\"]\n",
    "features_ds_tmax.shape"
   ]
  },
  {
   "cell_type": "code",
   "execution_count": null,
   "id": "28c68e7a",
   "metadata": {},
   "outputs": [
    {
     "data": {
      "text/plain": [
       "(19358, 240, 370)"
      ]
     },
     "execution_count": 7,
     "metadata": {},
     "output_type": "execute_result"
    }
   ],
   "source": [
    "features_ds_tmin= xr.open_dataset(\"../../data/Features/files/bicubic_tmin.nc\")[\"TminD\"]\n",
    "features_ds_tmin.shape"
   ]
  },
  {
   "cell_type": "markdown",
   "id": "b60fefea",
   "metadata": {},
   "source": [
    "CHECKING SHAPES OF TARGETS"
   ]
  },
  {
   "cell_type": "code",
   "execution_count": 7,
   "id": "71bec8d7",
   "metadata": {},
   "outputs": [
    {
     "data": {
      "text/plain": [
       "(19358, 240, 370)"
      ]
     },
     "execution_count": 7,
     "metadata": {},
     "output_type": "execute_result"
    }
   ],
   "source": [
    "targets_ds_precip = xr.open_dataset(\"../../data/Targets/files/RhiresD_wet_1971_2023.nc\")[\"RhiresD\"]\n",
    "targets_ds_precip.shape"
   ]
  },
  {
   "cell_type": "code",
   "execution_count": null,
   "id": "5cbfd39f",
   "metadata": {},
   "outputs": [
    {
     "data": {
      "text/plain": [
       "(19358, 240, 370)"
      ]
     },
     "execution_count": 7,
     "metadata": {},
     "output_type": "execute_result"
    }
   ],
   "source": [
    "targets_ds_tabsd= xr.open_dataset(\"../../data/Targets/files/TabsD_wet_1971_2023.nc\")[\"TabsD\"]\n",
    "targets_ds_tabsd.shape"
   ]
  },
  {
   "cell_type": "code",
   "execution_count": null,
   "id": "b2ef4a3a",
   "metadata": {},
   "outputs": [],
   "source": [
    "targets_ds_tmax= xr.open_dataset(\"../../data/Targets/files/TmaxD_wet_1971_2023.nc\")[\"TmaxD\"]"
   ]
  },
  {
   "cell_type": "code",
   "execution_count": null,
   "id": "3e904347",
   "metadata": {},
   "outputs": [
    {
     "data": {
      "text/plain": [
       "(19358, 240, 370)"
      ]
     },
     "execution_count": 9,
     "metadata": {},
     "output_type": "execute_result"
    }
   ],
   "source": [
    "targets_ds_tmin= xr.open_dataset(\"../../data/Targets/files/TminD_wet_1971_2023.nc\")[\"TminD\"]\n",
    "targets_ds_tmin.shape"
   ]
  },
  {
   "cell_type": "markdown",
   "id": "fce5d13c",
   "metadata": {},
   "source": [
    "SHAPES MATCH!!!!!!"
   ]
  },
  {
   "cell_type": "markdown",
   "id": "89cff50f",
   "metadata": {},
   "source": [
    "The entire dataset will be divided into tain, test val for both bilinear and bicubic interpolation for calculating standardisation metric etc\n"
   ]
  },
  {
   "cell_type": "markdown",
   "id": "e68d02eb",
   "metadata": {},
   "source": [
    "All splits performed according to the function written in Functions/Train_Test_Val.py"
   ]
  },
  {
   "cell_type": "code",
   "execution_count": 8,
   "id": "fb711f70",
   "metadata": {},
   "outputs": [],
   "source": [
    "from Train_Test_Val import split_by_decade"
   ]
  },
  {
   "cell_type": "markdown",
   "id": "83041aff",
   "metadata": {},
   "source": [
    "Splitting features"
   ]
  },
  {
   "cell_type": "markdown",
   "id": "dbf99a05",
   "metadata": {},
   "source": [
    "RhiresD, TabsD, Tmin, Tmax"
   ]
  },
  {
   "cell_type": "markdown",
   "id": "6e35fa5b",
   "metadata": {},
   "source": [
    "Example Usage"
   ]
  },
  {
   "cell_type": "code",
   "execution_count": null,
   "id": "1714fc53",
   "metadata": {},
   "outputs": [],
   "source": [
    "\n",
    "train, val, test = split_by_decade(\n",
    "    features_ds_precip,\n",
    "    \"../../data/Features/Split_Data\",\n",
    "    \"rhiresd_features\"\n",
    ")\n"
   ]
  },
  {
   "cell_type": "markdown",
   "id": "9547908a",
   "metadata": {},
   "source": [
    "Splitting targets along the same lines"
   ]
  },
  {
   "cell_type": "markdown",
   "id": "48d88195",
   "metadata": {},
   "source": [
    "Example Usage"
   ]
  },
  {
   "cell_type": "code",
   "execution_count": null,
   "id": "67e28ed3",
   "metadata": {},
   "outputs": [],
   "source": [
    "targets_ds_tmax = xr.open_dataset(\n",
    "    \"../../data/Targets/files/TmaxD_wet_1971_2023.nc\",\n",
    "    chunks={\"time\": 365})[\"TmaxD\"]\n",
    "\n",
    "train, val, test = split_by_decade(\n",
    "    targets_ds_tmax,\n",
    "    \"../../data/Features/Split_Data\",\n",
    "    \"tmax_targets\"\n",
    ")"
   ]
  },
  {
   "cell_type": "markdown",
   "id": "168f33e5",
   "metadata": {},
   "source": [
    "Also splittign the targets along the very same lines usign the reproducible split"
   ]
  },
  {
   "cell_type": "markdown",
   "id": "4e6c5dfe",
   "metadata": {},
   "source": [
    "xxxxxxxxxxxxxxxxxxxxxxxxxxxxxxxDoing the same train test val split for bilinear nterpolation xxxxxxxxx"
   ]
  },
  {
   "cell_type": "markdown",
   "id": "bb88d631",
   "metadata": {},
   "source": [
    "Standardisation code"
   ]
  },
  {
   "cell_type": "markdown",
   "id": "baf3811d",
   "metadata": {},
   "source": [
    "Standardisation has to be performed avoiding data leakage. Hence, the train -test contamination has to be avoided. \n",
    "\n",
    "Can be done using statistics only for the training set"
   ]
  },
  {
   "cell_type": "markdown",
   "id": "517db7f7",
   "metadata": {},
   "source": [
    "The mean, std, min, max and range of the training set will then be used to perform scaling for the test set as well. "
   ]
  },
  {
   "cell_type": "markdown",
   "id": "05e76000",
   "metadata": {},
   "source": [
    "xxxxxxxxxxxxPerforming standardisation for the training set for both precip and temperaturexxxxx. Training will be performed on the bicubically interpolated dataset for now"
   ]
  },
  {
   "cell_type": "code",
   "execution_count": 9,
   "id": "3a128293",
   "metadata": {},
   "outputs": [],
   "source": [
    "from Standardise import standardise"
   ]
  },
  {
   "cell_type": "markdown",
   "id": "031b2e05",
   "metadata": {},
   "source": [
    "Temperature "
   ]
  },
  {
   "cell_type": "markdown",
   "id": "3fef20ed",
   "metadata": {},
   "source": [
    "Loading inputs and targets once again separately"
   ]
  },
  {
   "cell_type": "markdown",
   "id": "a8b56c10",
   "metadata": {},
   "source": [
    "#Scaling Precipitation training features and targets (from bicubic interpolation features): targets and features get scaled by their own mean and std. The same parametersa then used to standardise testing and validation"
   ]
  },
  {
   "cell_type": "code",
   "execution_count": null,
   "id": "1551486b",
   "metadata": {},
   "outputs": [
    {
     "name": "stderr",
     "output_type": "stream",
     "text": [
      "/work/FAC/FGSE/IDYST/tbeucler/downscaling/sasthana/MyPythonEnvironment/lib/python3.12/site-packages/dask/_task_spec.py:758: RuntimeWarning: invalid value encountered in divide\n",
      "  return self.func(*new_argspec)\n",
      "/work/FAC/FGSE/IDYST/tbeucler/downscaling/sasthana/MyPythonEnvironment/lib/python3.12/site-packages/dask/_task_spec.py:758: RuntimeWarning: invalid value encountered in divide\n",
      "  return self.func(*new_argspec)\n",
      "/work/FAC/FGSE/IDYST/tbeucler/downscaling/sasthana/MyPythonEnvironment/lib/python3.12/site-packages/dask/_task_spec.py:758: RuntimeWarning: invalid value encountered in divide\n",
      "  return self.func(*new_argspec)\n",
      "/work/FAC/FGSE/IDYST/tbeucler/downscaling/sasthana/MyPythonEnvironment/lib/python3.12/site-packages/dask/_task_spec.py:758: RuntimeWarning: invalid value encountered in divide\n",
      "  return self.func(*new_argspec)\n"
     ]
    },
    {
     "name": "stdout",
     "output_type": "stream",
     "text": [
      "Normalised/scaled variable saved to /work/FAC/FGSE/IDYST/tbeucler/downscaling/sasthana/Downscaling/Downscaling/data/processed/Bicubic/Train/SCALED_features_precip_masked_bicubic_train.nc\n"
     ]
    }
   ],
   "source": [
    "input_path = \"../../data/processed/Bicubic/Train/features_precip_masked_bicubic_train.nc\"\n",
    "output_path = \"../../data/processed/Bicubic/Train/SCALED_features_precip_masked_bicubic_train.nc\"\n",
    "var = \"pr\"\n",
    "precip_min, precip_max = standardise(input_path, output_path, var)"
   ]
  },
  {
   "cell_type": "code",
   "execution_count": null,
   "id": "3ea0b3b4",
   "metadata": {},
   "outputs": [
    {
     "name": "stdout",
     "output_type": "stream",
     "text": [
      "Normalised/scaled variable saved to /work/FAC/FGSE/IDYST/tbeucler/downscaling/sasthana/Downscaling/Downscaling/data/processed/Bicubic/Train/SCALED_targets_precip_masked_train.nc\n"
     ]
    }
   ],
   "source": [
    "input_path = \"../../data/processed/Bicubic/Train/targets_precip_masked_train.nc\"\n",
    "output_path = \"../../data/processed/Bicubic/Train/SCALED_targets_precip_masked_train.nc\"\n",
    "var = \"RhiresD\"\n",
    "target_min, target_max = standardise(input_path, output_path, var)"
   ]
  },
  {
   "cell_type": "markdown",
   "id": "502bccff",
   "metadata": {},
   "source": [
    "Using above mean, max, std and min from temp and precip to standardise the vcalidation and testing data to avoid data leakage"
   ]
  },
  {
   "cell_type": "markdown",
   "id": "eb527d30",
   "metadata": {},
   "source": [
    "xxxxxxxxxxxxxxxxxxxxxxxxxxxxxxxxxxxxPRECIPITATIONxxxxxxxxxxxxxxxxxxxxxxxxxxxxxxxx"
   ]
  },
  {
   "cell_type": "code",
   "execution_count": null,
   "id": "980425b0",
   "metadata": {},
   "outputs": [
    {
     "name": "stderr",
     "output_type": "stream",
     "text": [
      "/work/FAC/FGSE/IDYST/tbeucler/downscaling/sasthana/MyPythonEnvironment/lib/python3.12/site-packages/dask/_task_spec.py:758: RuntimeWarning: invalid value encountered in divide\n",
      "  return self.func(*new_argspec)\n",
      "/work/FAC/FGSE/IDYST/tbeucler/downscaling/sasthana/MyPythonEnvironment/lib/python3.12/site-packages/dask/_task_spec.py:758: RuntimeWarning: invalid value encountered in divide\n",
      "  return self.func(*new_argspec)\n",
      "/work/FAC/FGSE/IDYST/tbeucler/downscaling/sasthana/MyPythonEnvironment/lib/python3.12/site-packages/dask/_task_spec.py:758: RuntimeWarning: invalid value encountered in divide\n",
      "  return self.func(*new_argspec)\n",
      "/work/FAC/FGSE/IDYST/tbeucler/downscaling/sasthana/MyPythonEnvironment/lib/python3.12/site-packages/dask/_task_spec.py:758: RuntimeWarning: invalid value encountered in divide\n",
      "  return self.func(*new_argspec)\n"
     ]
    },
    {
     "name": "stdout",
     "output_type": "stream",
     "text": [
      "Normalised/scaled variable saved to /work/FAC/FGSE/IDYST/tbeucler/downscaling/sasthana/Downscaling/Downscaling/data/processed/Bicubic/Val/SCALED_features_precip_masked_bicubic_val.nc\n"
     ]
    },
    {
     "data": {
      "text/plain": [
       "(<xarray.DataArray 'pr' (N: 265, E: 370)> Size: 784kB\n",
       " dask.array<_nanmin_skip-aggregate, shape=(265, 370), dtype=float64, chunksize=(265, 370), chunktype=numpy.ndarray>\n",
       " Coordinates:\n",
       "     lon      (N, E) float32 392kB dask.array<chunksize=(265, 370), meta=np.ndarray>\n",
       "     lat      (N, E) float32 392kB dask.array<chunksize=(265, 370), meta=np.ndarray>\n",
       "   * E        (E) float64 3kB 2.474e+06 2.476e+06 ... 2.842e+06 2.844e+06\n",
       "   * N        (N) float64 2kB 1.06e+06 1.06e+06 1.062e+06 ... 1.322e+06 1.324e+06,\n",
       " <xarray.DataArray 'pr' (N: 265, E: 370)> Size: 784kB\n",
       " dask.array<_nanmax_skip-aggregate, shape=(265, 370), dtype=float64, chunksize=(265, 370), chunktype=numpy.ndarray>\n",
       " Coordinates:\n",
       "     lon      (N, E) float32 392kB dask.array<chunksize=(265, 370), meta=np.ndarray>\n",
       "     lat      (N, E) float32 392kB dask.array<chunksize=(265, 370), meta=np.ndarray>\n",
       "   * E        (E) float64 3kB 2.474e+06 2.476e+06 ... 2.842e+06 2.844e+06\n",
       "   * N        (N) float64 2kB 1.06e+06 1.06e+06 1.062e+06 ... 1.322e+06 1.324e+06)"
      ]
     },
     "execution_count": 13,
     "metadata": {},
     "output_type": "execute_result"
    }
   ],
   "source": [
    "# Validation features :Precip\n",
    "input_path = \"../../data/processed/Bicubic/Val/features_precip_masked_bicubic_val.nc\"\n",
    "output_path = \"../../data/processed/Bicubic/Val/SCALED_features_precip_masked_bicubic_val.nc\"\n",
    "var = \"pr\"\n",
    "standardise(input_path, output_path, var, min=precip_min, max=precip_max)"
   ]
  },
  {
   "cell_type": "code",
   "execution_count": null,
   "id": "3cd54c34",
   "metadata": {},
   "outputs": [
    {
     "name": "stdout",
     "output_type": "stream",
     "text": [
      "Normalised/scaled variable saved to /work/FAC/FGSE/IDYST/tbeucler/downscaling/sasthana/Downscaling/Downscaling/data/processed/Bicubic/Val/SCALED_targets_precip_masked_val.nc\n"
     ]
    },
    {
     "data": {
      "text/plain": [
       "(<xarray.DataArray 'RhiresD' (N: 265, E: 370)> Size: 392kB\n",
       " dask.array<_nanmin_skip-aggregate, shape=(265, 370), dtype=float32, chunksize=(265, 370), chunktype=numpy.ndarray>\n",
       " Coordinates:\n",
       "     lon      (N, E) float32 392kB dask.array<chunksize=(265, 370), meta=np.ndarray>\n",
       "     lat      (N, E) float32 392kB dask.array<chunksize=(265, 370), meta=np.ndarray>\n",
       "   * E        (E) float64 3kB 2.474e+06 2.476e+06 ... 2.842e+06 2.844e+06\n",
       "   * N        (N) float64 2kB 1.06e+06 1.06e+06 1.062e+06 ... 1.322e+06 1.324e+06,\n",
       " <xarray.DataArray 'RhiresD' (N: 265, E: 370)> Size: 392kB\n",
       " dask.array<_nanmax_skip-aggregate, shape=(265, 370), dtype=float32, chunksize=(265, 370), chunktype=numpy.ndarray>\n",
       " Coordinates:\n",
       "     lon      (N, E) float32 392kB dask.array<chunksize=(265, 370), meta=np.ndarray>\n",
       "     lat      (N, E) float32 392kB dask.array<chunksize=(265, 370), meta=np.ndarray>\n",
       "   * E        (E) float64 3kB 2.474e+06 2.476e+06 ... 2.842e+06 2.844e+06\n",
       "   * N        (N) float64 2kB 1.06e+06 1.06e+06 1.062e+06 ... 1.322e+06 1.324e+06)"
      ]
     },
     "execution_count": 14,
     "metadata": {},
     "output_type": "execute_result"
    }
   ],
   "source": [
    "\n",
    "# Validation targets:  Precip\n",
    "input_path = \"../../data/processed/Bicubic/Val/targets_precip_masked_val.nc\"\n",
    "output_path = \"../../data/processed/Bicubic/Val/SCALED_targets_precip_masked_val.nc\"\n",
    "var = \"RhiresD\"\n",
    "standardise(input_path, output_path, var, min=target_min, max=target_max)"
   ]
  },
  {
   "cell_type": "code",
   "execution_count": null,
   "id": "f552a2fa",
   "metadata": {},
   "outputs": [
    {
     "name": "stderr",
     "output_type": "stream",
     "text": [
      "/work/FAC/FGSE/IDYST/tbeucler/downscaling/sasthana/MyPythonEnvironment/lib/python3.12/site-packages/dask/_task_spec.py:758: RuntimeWarning: invalid value encountered in divide\n",
      "  return self.func(*new_argspec)\n",
      "/work/FAC/FGSE/IDYST/tbeucler/downscaling/sasthana/MyPythonEnvironment/lib/python3.12/site-packages/dask/_task_spec.py:758: RuntimeWarning: invalid value encountered in divide\n",
      "  return self.func(*new_argspec)\n",
      "/work/FAC/FGSE/IDYST/tbeucler/downscaling/sasthana/MyPythonEnvironment/lib/python3.12/site-packages/dask/_task_spec.py:758: RuntimeWarning: invalid value encountered in divide\n",
      "  return self.func(*new_argspec)\n",
      "/work/FAC/FGSE/IDYST/tbeucler/downscaling/sasthana/MyPythonEnvironment/lib/python3.12/site-packages/dask/_task_spec.py:758: RuntimeWarning: invalid value encountered in divide\n",
      "  return self.func(*new_argspec)\n"
     ]
    },
    {
     "name": "stdout",
     "output_type": "stream",
     "text": [
      "Normalised/scaled variable saved to /work/FAC/FGSE/IDYST/tbeucler/downscaling/sasthana/Downscaling/Downscaling/data/processed/Bicubic/Test/SCALED_features_precip_masked_bicubic_test.nc\n"
     ]
    },
    {
     "data": {
      "text/plain": [
       "(<xarray.DataArray 'pr' (N: 265, E: 370)> Size: 784kB\n",
       " dask.array<_nanmin_skip-aggregate, shape=(265, 370), dtype=float64, chunksize=(265, 370), chunktype=numpy.ndarray>\n",
       " Coordinates:\n",
       "     lon      (N, E) float32 392kB dask.array<chunksize=(265, 370), meta=np.ndarray>\n",
       "     lat      (N, E) float32 392kB dask.array<chunksize=(265, 370), meta=np.ndarray>\n",
       "   * E        (E) float64 3kB 2.474e+06 2.476e+06 ... 2.842e+06 2.844e+06\n",
       "   * N        (N) float64 2kB 1.06e+06 1.06e+06 1.062e+06 ... 1.322e+06 1.324e+06,\n",
       " <xarray.DataArray 'pr' (N: 265, E: 370)> Size: 784kB\n",
       " dask.array<_nanmax_skip-aggregate, shape=(265, 370), dtype=float64, chunksize=(265, 370), chunktype=numpy.ndarray>\n",
       " Coordinates:\n",
       "     lon      (N, E) float32 392kB dask.array<chunksize=(265, 370), meta=np.ndarray>\n",
       "     lat      (N, E) float32 392kB dask.array<chunksize=(265, 370), meta=np.ndarray>\n",
       "   * E        (E) float64 3kB 2.474e+06 2.476e+06 ... 2.842e+06 2.844e+06\n",
       "   * N        (N) float64 2kB 1.06e+06 1.06e+06 1.062e+06 ... 1.322e+06 1.324e+06)"
      ]
     },
     "execution_count": 15,
     "metadata": {},
     "output_type": "execute_result"
    }
   ],
   "source": [
    "# Precipitation test features\n",
    "input_path = \"../../data/processed/Bicubic/Test/features_precip_masked_bicubic_test.nc\"\n",
    "output_path = \"../../data/processed/Bicubic/Test/SCALED_features_precip_masked_bicubic_test.nc\"\n",
    "var = \"pr\"\n",
    "standardise(input_path, output_path, var, min=precip_min, max=precip_max)"
   ]
  },
  {
   "cell_type": "code",
   "execution_count": null,
   "id": "799a0855",
   "metadata": {},
   "outputs": [
    {
     "name": "stdout",
     "output_type": "stream",
     "text": [
      "Normalised/scaled variable saved to /work/FAC/FGSE/IDYST/tbeucler/downscaling/sasthana/Downscaling/Downscaling/data/processed/Bicubic/Test/SCALED_targets_precip_masked_test.nc\n"
     ]
    },
    {
     "data": {
      "text/plain": [
       "(<xarray.DataArray 'RhiresD' (N: 265, E: 370)> Size: 392kB\n",
       " dask.array<_nanmin_skip-aggregate, shape=(265, 370), dtype=float32, chunksize=(265, 370), chunktype=numpy.ndarray>\n",
       " Coordinates:\n",
       "     lon      (N, E) float32 392kB dask.array<chunksize=(265, 370), meta=np.ndarray>\n",
       "     lat      (N, E) float32 392kB dask.array<chunksize=(265, 370), meta=np.ndarray>\n",
       "   * E        (E) float64 3kB 2.474e+06 2.476e+06 ... 2.842e+06 2.844e+06\n",
       "   * N        (N) float64 2kB 1.06e+06 1.06e+06 1.062e+06 ... 1.322e+06 1.324e+06,\n",
       " <xarray.DataArray 'RhiresD' (N: 265, E: 370)> Size: 392kB\n",
       " dask.array<_nanmax_skip-aggregate, shape=(265, 370), dtype=float32, chunksize=(265, 370), chunktype=numpy.ndarray>\n",
       " Coordinates:\n",
       "     lon      (N, E) float32 392kB dask.array<chunksize=(265, 370), meta=np.ndarray>\n",
       "     lat      (N, E) float32 392kB dask.array<chunksize=(265, 370), meta=np.ndarray>\n",
       "   * E        (E) float64 3kB 2.474e+06 2.476e+06 ... 2.842e+06 2.844e+06\n",
       "   * N        (N) float64 2kB 1.06e+06 1.06e+06 1.062e+06 ... 1.322e+06 1.324e+06)"
      ]
     },
     "execution_count": 16,
     "metadata": {},
     "output_type": "execute_result"
    }
   ],
   "source": [
    "# Precipitation test targets\n",
    "input_path = \"../../data/processed/Bicubic/Test/targets_precip_masked_test.nc\"\n",
    "output_path = \"../../data/processed/Bicubic/Test/SCALED_targets_precip_masked_test.nc\"\n",
    "var = \"RhiresD\"\n",
    "standardise(input_path, output_path, var, min=target_min, max=target_max)"
   ]
  },
  {
   "cell_type": "markdown",
   "id": "df9d3dd4",
   "metadata": {},
   "source": [
    "xxxxxxxxxxxxxxxxxxxxxxxxxxxxxxxxxxxxxxxxTEMPERATURE : Val and test targets and features standardisationxxxxxxxxxxxxxxxx\n"
   ]
  },
  {
   "cell_type": "markdown",
   "id": "f2ad21c6",
   "metadata": {},
   "source": [
    "Training features "
   ]
  },
  {
   "cell_type": "code",
   "execution_count": null,
   "id": "20838af0",
   "metadata": {},
   "outputs": [
    {
     "name": "stderr",
     "output_type": "stream",
     "text": [
      "/work/FAC/FGSE/IDYST/tbeucler/downscaling/sasthana/MyPythonEnvironment/lib/python3.12/site-packages/dask/_task_spec.py:758: RuntimeWarning: invalid value encountered in divide\n",
      "  return self.func(*new_argspec)\n",
      "/work/FAC/FGSE/IDYST/tbeucler/downscaling/sasthana/MyPythonEnvironment/lib/python3.12/site-packages/dask/_task_spec.py:758: RuntimeWarning: invalid value encountered in divide\n",
      "  return self.func(*new_argspec)\n",
      "/work/FAC/FGSE/IDYST/tbeucler/downscaling/sasthana/MyPythonEnvironment/lib/python3.12/site-packages/dask/_task_spec.py:758: RuntimeWarning: invalid value encountered in divide\n",
      "  return self.func(*new_argspec)\n",
      "/work/FAC/FGSE/IDYST/tbeucler/downscaling/sasthana/MyPythonEnvironment/lib/python3.12/site-packages/dask/_task_spec.py:758: RuntimeWarning: invalid value encountered in divide\n",
      "  return self.func(*new_argspec)\n"
     ]
    },
    {
     "name": "stdout",
     "output_type": "stream",
     "text": [
      "Normalised/scaled variable saved to /work/FAC/FGSE/IDYST/tbeucler/downscaling/sasthana/Downscaling/Downscaling/data/processed/Bicubic/Train/SCALED_features_tas_masked_bicubic_train.nc\n"
     ]
    }
   ],
   "source": [
    "tas_mean, tas_std = standardise(\n",
    "    input_path=\"../../data/processed/Bicubic/Train/features_tas_masked_bicubic_train.nc\",\n",
    "    output_path=\"../../data/processed/Bicubic/Train/SCALED_features_tas_masked_bicubic_train.nc\",\n",
    "    var=\"tas\"\n",
    ")"
   ]
  },
  {
   "cell_type": "markdown",
   "id": "d5fce326",
   "metadata": {},
   "source": [
    "Training targets "
   ]
  },
  {
   "cell_type": "code",
   "execution_count": null,
   "id": "7172f65a",
   "metadata": {},
   "outputs": [
    {
     "name": "stderr",
     "output_type": "stream",
     "text": [
      "/work/FAC/FGSE/IDYST/tbeucler/downscaling/sasthana/MyPythonEnvironment/lib/python3.12/site-packages/dask/array/numpy_compat.py:57: RuntimeWarning: invalid value encountered in divide\n",
      "  x = np.divide(x1, x2, out)\n"
     ]
    },
    {
     "name": "stdout",
     "output_type": "stream",
     "text": [
      "Normalised/scaled variable saved to /work/FAC/FGSE/IDYST/tbeucler/downscaling/sasthana/Downscaling/Downscaling/data/processed/Bicubic/Train/SCALED_targets_tas_masked_train.nc\n"
     ]
    }
   ],
   "source": [
    "tabsd_mean, tabsd_std = standardise(\n",
    "    input_path=\"../../data/processed/Bicubic/Train/targets_tas_masked_train.nc\",\n",
    "    output_path=\"../../data/processed/Bicubic/Train/SCALED_targets_tas_masked_train.nc\",\n",
    "    var=\"TabsD\"\n",
    ")"
   ]
  },
  {
   "cell_type": "markdown",
   "id": "2aa02a8d",
   "metadata": {},
   "source": [
    "Now we have the parameters from the training set for temperature, the same will be used to scale the featurea and targets of the Val and Test set"
   ]
  },
  {
   "cell_type": "markdown",
   "id": "b0fa7b63",
   "metadata": {},
   "source": [
    "Validation standardisation"
   ]
  },
  {
   "cell_type": "code",
   "execution_count": null,
   "id": "ff408e1a",
   "metadata": {},
   "outputs": [
    {
     "name": "stdout",
     "output_type": "stream",
     "text": [
      "Normalised/scaled variable saved to /work/FAC/FGSE/IDYST/tbeucler/downscaling/sasthana/Downscaling/Downscaling/data/processed/Bicubic/Val/SCALED_features_tas_masked_bicubic_val.nc\n"
     ]
    },
    {
     "data": {
      "text/plain": [
       "(<xarray.DataArray 'tas' (N: 265, E: 370)> Size: 784kB\n",
       " dask.array<mean_agg-aggregate, shape=(265, 370), dtype=float64, chunksize=(265, 370), chunktype=numpy.ndarray>\n",
       " Coordinates:\n",
       "     lon      (N, E) float32 392kB dask.array<chunksize=(265, 370), meta=np.ndarray>\n",
       "     lat      (N, E) float32 392kB dask.array<chunksize=(265, 370), meta=np.ndarray>\n",
       "   * E        (E) float64 3kB 2.474e+06 2.476e+06 ... 2.842e+06 2.844e+06\n",
       "   * N        (N) float64 2kB 1.06e+06 1.06e+06 1.062e+06 ... 1.322e+06 1.324e+06,\n",
       " <xarray.DataArray 'tas' (N: 265, E: 370)> Size: 784kB\n",
       " dask.array<_sqrt, shape=(265, 370), dtype=float64, chunksize=(265, 370), chunktype=numpy.ndarray>\n",
       " Coordinates:\n",
       "     lon      (N, E) float32 392kB dask.array<chunksize=(265, 370), meta=np.ndarray>\n",
       "     lat      (N, E) float32 392kB dask.array<chunksize=(265, 370), meta=np.ndarray>\n",
       "   * E        (E) float64 3kB 2.474e+06 2.476e+06 ... 2.842e+06 2.844e+06\n",
       "   * N        (N) float64 2kB 1.06e+06 1.06e+06 1.062e+06 ... 1.322e+06 1.324e+06)"
      ]
     },
     "execution_count": 20,
     "metadata": {},
     "output_type": "execute_result"
    }
   ],
   "source": [
    "standardise(\n",
    "    input_path=\"../../data/processed/Bicubic/Val/features_tas_masked_bicubic_val.nc\",\n",
    "    output_path=\"../../data/processed/Bicubic/Val/SCALED_features_tas_masked_bicubic_val.nc\",\n",
    "    var=\"tas\",\n",
    "    mean=tas_mean,\n",
    "    std=tas_std\n",
    ")"
   ]
  },
  {
   "cell_type": "code",
   "execution_count": null,
   "id": "7fcc6b00",
   "metadata": {},
   "outputs": [
    {
     "name": "stderr",
     "output_type": "stream",
     "text": [
      "/work/FAC/FGSE/IDYST/tbeucler/downscaling/sasthana/MyPythonEnvironment/lib/python3.12/site-packages/dask/array/numpy_compat.py:57: RuntimeWarning: invalid value encountered in divide\n",
      "  x = np.divide(x1, x2, out)\n"
     ]
    },
    {
     "name": "stdout",
     "output_type": "stream",
     "text": [
      "Normalised/scaled variable saved to /work/FAC/FGSE/IDYST/tbeucler/downscaling/sasthana/Downscaling/Downscaling/data/processed/Bicubic/Val/SCALED_targets_tas_masked_val.nc\n"
     ]
    },
    {
     "data": {
      "text/plain": [
       "(<xarray.DataArray 'TabsD' (N: 265, E: 370)> Size: 392kB\n",
       " dask.array<mean_agg-aggregate, shape=(265, 370), dtype=float32, chunksize=(265, 370), chunktype=numpy.ndarray>\n",
       " Coordinates:\n",
       "     lon      (N, E) float32 392kB dask.array<chunksize=(265, 370), meta=np.ndarray>\n",
       "     lat      (N, E) float32 392kB dask.array<chunksize=(265, 370), meta=np.ndarray>\n",
       "   * E        (E) float64 3kB 2.474e+06 2.476e+06 ... 2.842e+06 2.844e+06\n",
       "   * N        (N) float64 2kB 1.06e+06 1.06e+06 1.062e+06 ... 1.322e+06 1.324e+06,\n",
       " <xarray.DataArray 'TabsD' (N: 265, E: 370)> Size: 392kB\n",
       " dask.array<_sqrt, shape=(265, 370), dtype=float32, chunksize=(265, 370), chunktype=numpy.ndarray>\n",
       " Coordinates:\n",
       "     lon      (N, E) float32 392kB dask.array<chunksize=(265, 370), meta=np.ndarray>\n",
       "     lat      (N, E) float32 392kB dask.array<chunksize=(265, 370), meta=np.ndarray>\n",
       "   * E        (E) float64 3kB 2.474e+06 2.476e+06 ... 2.842e+06 2.844e+06\n",
       "   * N        (N) float64 2kB 1.06e+06 1.06e+06 1.062e+06 ... 1.322e+06 1.324e+06)"
      ]
     },
     "execution_count": 21,
     "metadata": {},
     "output_type": "execute_result"
    }
   ],
   "source": [
    "standardise(\n",
    "    input_path=\"../../data/processed/Bicubic/Val/targets_tas_masked_val.nc\",\n",
    "    output_path=\"../../data/processed/Bicubic/Val/SCALED_targets_tas_masked_val.nc\",\n",
    "    var=\"TabsD\",\n",
    "    mean=tabsd_mean,\n",
    "    std=tabsd_std\n",
    ")"
   ]
  },
  {
   "cell_type": "markdown",
   "id": "c5e02b86",
   "metadata": {},
   "source": [
    "Testing datasets for temepratures : standardisation of features and targets "
   ]
  },
  {
   "cell_type": "code",
   "execution_count": null,
   "id": "ea24cb0b",
   "metadata": {},
   "outputs": [
    {
     "name": "stdout",
     "output_type": "stream",
     "text": [
      "Normalised/scaled variable saved to /work/FAC/FGSE/IDYST/tbeucler/downscaling/sasthana/Downscaling/Downscaling/data/processed/Bicubic/Test/SCALED_features_tas_masked_bicubic_test.nc\n"
     ]
    },
    {
     "data": {
      "text/plain": [
       "(<xarray.DataArray 'tas' (N: 265, E: 370)> Size: 784kB\n",
       " dask.array<mean_agg-aggregate, shape=(265, 370), dtype=float64, chunksize=(265, 370), chunktype=numpy.ndarray>\n",
       " Coordinates:\n",
       "     lon      (N, E) float32 392kB dask.array<chunksize=(265, 370), meta=np.ndarray>\n",
       "     lat      (N, E) float32 392kB dask.array<chunksize=(265, 370), meta=np.ndarray>\n",
       "   * E        (E) float64 3kB 2.474e+06 2.476e+06 ... 2.842e+06 2.844e+06\n",
       "   * N        (N) float64 2kB 1.06e+06 1.06e+06 1.062e+06 ... 1.322e+06 1.324e+06,\n",
       " <xarray.DataArray 'tas' (N: 265, E: 370)> Size: 784kB\n",
       " dask.array<_sqrt, shape=(265, 370), dtype=float64, chunksize=(265, 370), chunktype=numpy.ndarray>\n",
       " Coordinates:\n",
       "     lon      (N, E) float32 392kB dask.array<chunksize=(265, 370), meta=np.ndarray>\n",
       "     lat      (N, E) float32 392kB dask.array<chunksize=(265, 370), meta=np.ndarray>\n",
       "   * E        (E) float64 3kB 2.474e+06 2.476e+06 ... 2.842e+06 2.844e+06\n",
       "   * N        (N) float64 2kB 1.06e+06 1.06e+06 1.062e+06 ... 1.322e+06 1.324e+06)"
      ]
     },
     "execution_count": 22,
     "metadata": {},
     "output_type": "execute_result"
    }
   ],
   "source": [
    "standardise(\n",
    "    input_path=\"../../data/processed/Bicubic/Test/features_tas_masked_bicubic_test.nc\",\n",
    "    output_path=\"/work/FAC/FGSE/IDYST/tbeucler/downscaling/sasthana/Downscaling/Downscaling/data/processed/Bicubic/Test/SCALED_features_tas_masked_bicubic_test.nc\",\n",
    "    var=\"tas\",\n",
    "    mean=tas_mean,\n",
    "    std=tas_std\n",
    ")"
   ]
  },
  {
   "cell_type": "code",
   "execution_count": null,
   "id": "a77f36aa",
   "metadata": {},
   "outputs": [
    {
     "name": "stdout",
     "output_type": "stream",
     "text": [
      "Normalised/scaled variable saved to /work/FAC/FGSE/IDYST/tbeucler/downscaling/sasthana/Downscaling/Downscaling/data/processed/Bicubic/Test/SCALED_targets_tas_masked_test.nc\n"
     ]
    },
    {
     "data": {
      "text/plain": [
       "(<xarray.DataArray 'TabsD' (N: 265, E: 370)> Size: 392kB\n",
       " dask.array<mean_agg-aggregate, shape=(265, 370), dtype=float32, chunksize=(265, 370), chunktype=numpy.ndarray>\n",
       " Coordinates:\n",
       "     lon      (N, E) float32 392kB dask.array<chunksize=(265, 370), meta=np.ndarray>\n",
       "     lat      (N, E) float32 392kB dask.array<chunksize=(265, 370), meta=np.ndarray>\n",
       "   * E        (E) float64 3kB 2.474e+06 2.476e+06 ... 2.842e+06 2.844e+06\n",
       "   * N        (N) float64 2kB 1.06e+06 1.06e+06 1.062e+06 ... 1.322e+06 1.324e+06,\n",
       " <xarray.DataArray 'TabsD' (N: 265, E: 370)> Size: 392kB\n",
       " dask.array<_sqrt, shape=(265, 370), dtype=float32, chunksize=(265, 370), chunktype=numpy.ndarray>\n",
       " Coordinates:\n",
       "     lon      (N, E) float32 392kB dask.array<chunksize=(265, 370), meta=np.ndarray>\n",
       "     lat      (N, E) float32 392kB dask.array<chunksize=(265, 370), meta=np.ndarray>\n",
       "   * E        (E) float64 3kB 2.474e+06 2.476e+06 ... 2.842e+06 2.844e+06\n",
       "   * N        (N) float64 2kB 1.06e+06 1.06e+06 1.062e+06 ... 1.322e+06 1.324e+06)"
      ]
     },
     "execution_count": 23,
     "metadata": {},
     "output_type": "execute_result"
    }
   ],
   "source": [
    "standardise(\n",
    "    input_path=\"../../data/processed/Bicubic/Test/targets_tas_masked_test.nc\",\n",
    "    output_path=\"../../data/processed/Bicubic/Test/SCALED_targets_tas_masked_test.nc\",\n",
    "    var=\"TabsD\",\n",
    "    mean=tabsd_mean,\n",
    "    std=tabsd_std\n",
    ")"
   ]
  }
 ],
 "metadata": {
  "kernelspec": {
   "display_name": "Python 3",
   "language": "python",
   "name": "python3"
  },
  "language_info": {
   "codemirror_mode": {
    "name": "ipython",
    "version": 3
   },
   "file_extension": ".py",
   "mimetype": "text/x-python",
   "name": "python",
   "nbconvert_exporter": "python",
   "pygments_lexer": "ipython3",
   "version": "3.10.17"
  }
 },
 "nbformat": 4,
 "nbformat_minor": 5
}
