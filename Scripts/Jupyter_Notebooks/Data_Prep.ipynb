{
 "cells": [
  {
   "cell_type": "markdown",
   "id": "59cbadfd",
   "metadata": {},
   "source": [
    "!!!!!!!!!!!!!!!!!!!!!!!!!!!!!!!!!This script contains maskign code before standardisation. however standardisation of inputs and targets was performed before the interpoléated baselines were generated via CDO for bilinear and bicubic and then masked so that they only retain the Swiss Domain"
   ]
  },
  {
   "cell_type": "markdown",
   "id": "3f882966",
   "metadata": {},
   "source": [
    "Workflow : Bilinear interpolation, bicubic interpolation, Masking to retain only the swiss domain, splitting into train, test val, gridded RMSE R2, pooled RMSE, R2"
   ]
  },
  {
   "cell_type": "code",
   "execution_count": 1,
   "id": "a0cc5ad9",
   "metadata": {},
   "outputs": [],
   "source": [
    "from dependencies import *\n",
    "import sys\n",
    "sys.path.append(\"/work/FAC/FGSE/IDYST/tbeucler/downscaling/sasthana/Downscaling/Downscaling/Scripts/Functions\")"
   ]
  },
  {
   "cell_type": "code",
   "execution_count": null,
   "id": "974f0555",
   "metadata": {},
   "outputs": [
    {
     "name": "stdout",
     "output_type": "stream",
     "text": [
      "<Client: 'tcp://127.0.0.1:32941' processes=1 threads=1, memory=503.49 GiB>\n"
     ]
    },
    {
     "name": "stderr",
     "output_type": "stream",
     "text": [
      "2025-05-01 16:15:04,727 - distributed.scheduler - WARNING - Removing worker 'tcp://127.0.0.1:44389' caused the cluster to lose already computed task(s), which will be recomputed elsewhere: {('open_dataset-pr-97d0eba163aba6bc1367edc4fc42ac4f', 12, 0, 0), ('shuffle-split-1a776084eb444a52be381d594c9cc658', 82), ('open_dataset-pr-97d0eba163aba6bc1367edc4fc42ac4f', 10, 0, 0), 'shuffle-taker-9492e4b78523c7fc04aa4e2c834e44bf', ('open_dataset-pr-97d0eba163aba6bc1367edc4fc42ac4f', 21, 0, 0), ('shuffle-split-1a776084eb444a52be381d594c9cc658', 85), ('shuffle-split-1a776084eb444a52be381d594c9cc658', 88), ('open_dataset-pr-97d0eba163aba6bc1367edc4fc42ac4f', 9, 0, 0), ('open_dataset-pr-97d0eba163aba6bc1367edc4fc42ac4f', 18, 0, 0), ('open_dataset-pr-97d0eba163aba6bc1367edc4fc42ac4f', 6, 0, 0), ('shuffle-split-1a776084eb444a52be381d594c9cc658', 75), ('shuffle-split-1a776084eb444a52be381d594c9cc658', 78), ('shuffle-split-1a776084eb444a52be381d594c9cc658', 84), ('shuffle-split-1a776084eb444a52be381d594c9cc658', 81), ('shuffle-split-1a776084eb444a52be381d594c9cc658', 87), ('open_dataset-pr-97d0eba163aba6bc1367edc4fc42ac4f', 15, 0, 0), ('open_dataset-pr-97d0eba163aba6bc1367edc4fc42ac4f', 20, 0, 0), ('open_dataset-pr-97d0eba163aba6bc1367edc4fc42ac4f', 14, 0, 0), ('open_dataset-pr-97d0eba163aba6bc1367edc4fc42ac4f', 17, 0, 0), 'original-open_dataset-pr-97d0eba163aba6bc1367edc4fc42ac4f', ('open_dataset-pr-97d0eba163aba6bc1367edc4fc42ac4f', 16, 0, 0), ('shuffle-split-1a776084eb444a52be381d594c9cc658', 77), ('shuffle-split-1a776084eb444a52be381d594c9cc658', 74), ('shuffle-split-1a776084eb444a52be381d594c9cc658', 80), ('shuffle-split-1a776084eb444a52be381d594c9cc658', 86), ('shuffle-split-1a776084eb444a52be381d594c9cc658', 83), 'shuffle-sorter-1f0d595332f5708607914f2d0a6c2d2b', ('shuffle-split-1a776084eb444a52be381d594c9cc658', 89), ('open_dataset-pr-97d0eba163aba6bc1367edc4fc42ac4f', 13, 0, 0), ('open_dataset-pr-97d0eba163aba6bc1367edc4fc42ac4f', 7, 0, 0), ('open_dataset-pr-97d0eba163aba6bc1367edc4fc42ac4f', 19, 0, 0)} (stimulus_id='handle-worker-cleanup-1746108904.7272377')\n",
      "2025-05-01 16:15:04,734 - distributed.nanny - WARNING - Restarting worker\n",
      "2025-05-01 16:15:09,681 - distributed.scheduler - WARNING - Removing worker 'tcp://127.0.0.1:34237' caused the cluster to lose already computed task(s), which will be recomputed elsewhere: {('open_dataset-pr-97d0eba163aba6bc1367edc4fc42ac4f', 12, 0, 0), ('shuffle-split-1a776084eb444a52be381d594c9cc658', 82), ('open_dataset-pr-97d0eba163aba6bc1367edc4fc42ac4f', 10, 0, 0), 'shuffle-taker-9492e4b78523c7fc04aa4e2c834e44bf', ('open_dataset-pr-97d0eba163aba6bc1367edc4fc42ac4f', 21, 0, 0), ('shuffle-split-1a776084eb444a52be381d594c9cc658', 85), ('shuffle-split-1a776084eb444a52be381d594c9cc658', 88), ('open_dataset-pr-97d0eba163aba6bc1367edc4fc42ac4f', 9, 0, 0), ('open_dataset-pr-97d0eba163aba6bc1367edc4fc42ac4f', 18, 0, 0), ('open_dataset-pr-97d0eba163aba6bc1367edc4fc42ac4f', 6, 0, 0), ('shuffle-split-1a776084eb444a52be381d594c9cc658', 75), ('shuffle-split-1a776084eb444a52be381d594c9cc658', 78), ('shuffle-split-1a776084eb444a52be381d594c9cc658', 84), ('shuffle-split-1a776084eb444a52be381d594c9cc658', 81), ('shuffle-split-1a776084eb444a52be381d594c9cc658', 87), ('open_dataset-pr-97d0eba163aba6bc1367edc4fc42ac4f', 15, 0, 0), ('open_dataset-pr-97d0eba163aba6bc1367edc4fc42ac4f', 20, 0, 0), ('open_dataset-pr-97d0eba163aba6bc1367edc4fc42ac4f', 14, 0, 0), ('open_dataset-pr-97d0eba163aba6bc1367edc4fc42ac4f', 17, 0, 0), 'original-open_dataset-pr-97d0eba163aba6bc1367edc4fc42ac4f', ('open_dataset-pr-97d0eba163aba6bc1367edc4fc42ac4f', 16, 0, 0), ('shuffle-split-1a776084eb444a52be381d594c9cc658', 77), ('shuffle-split-1a776084eb444a52be381d594c9cc658', 74), ('shuffle-split-1a776084eb444a52be381d594c9cc658', 80), ('shuffle-split-1a776084eb444a52be381d594c9cc658', 86), ('shuffle-split-1a776084eb444a52be381d594c9cc658', 83), 'shuffle-sorter-1f0d595332f5708607914f2d0a6c2d2b', ('shuffle-split-1a776084eb444a52be381d594c9cc658', 89), ('open_dataset-pr-97d0eba163aba6bc1367edc4fc42ac4f', 13, 0, 0), ('open_dataset-pr-97d0eba163aba6bc1367edc4fc42ac4f', 7, 0, 0), ('open_dataset-pr-97d0eba163aba6bc1367edc4fc42ac4f', 19, 0, 0)} (stimulus_id='handle-worker-cleanup-1746108909.6809165')\n",
      "2025-05-01 16:15:09,686 - distributed.nanny - WARNING - Restarting worker\n",
      "2025-05-01 16:15:15,168 - distributed.scheduler - WARNING - Removing worker 'tcp://127.0.0.1:46037' caused the cluster to lose already computed task(s), which will be recomputed elsewhere: {('open_dataset-pr-97d0eba163aba6bc1367edc4fc42ac4f', 12, 0, 0), ('shuffle-split-1a776084eb444a52be381d594c9cc658', 82), ('open_dataset-pr-97d0eba163aba6bc1367edc4fc42ac4f', 10, 0, 0), 'shuffle-taker-9492e4b78523c7fc04aa4e2c834e44bf', ('open_dataset-pr-97d0eba163aba6bc1367edc4fc42ac4f', 21, 0, 0), ('shuffle-split-1a776084eb444a52be381d594c9cc658', 85), ('shuffle-split-1a776084eb444a52be381d594c9cc658', 88), ('open_dataset-pr-97d0eba163aba6bc1367edc4fc42ac4f', 9, 0, 0), ('open_dataset-pr-97d0eba163aba6bc1367edc4fc42ac4f', 18, 0, 0), ('open_dataset-pr-97d0eba163aba6bc1367edc4fc42ac4f', 6, 0, 0), ('shuffle-split-1a776084eb444a52be381d594c9cc658', 75), ('shuffle-split-1a776084eb444a52be381d594c9cc658', 78), ('shuffle-split-1a776084eb444a52be381d594c9cc658', 84), ('shuffle-split-1a776084eb444a52be381d594c9cc658', 81), ('shuffle-split-1a776084eb444a52be381d594c9cc658', 87), ('open_dataset-pr-97d0eba163aba6bc1367edc4fc42ac4f', 15, 0, 0), ('open_dataset-pr-97d0eba163aba6bc1367edc4fc42ac4f', 20, 0, 0), ('open_dataset-pr-97d0eba163aba6bc1367edc4fc42ac4f', 14, 0, 0), ('open_dataset-pr-97d0eba163aba6bc1367edc4fc42ac4f', 17, 0, 0), 'original-open_dataset-pr-97d0eba163aba6bc1367edc4fc42ac4f', ('open_dataset-pr-97d0eba163aba6bc1367edc4fc42ac4f', 16, 0, 0), ('shuffle-split-1a776084eb444a52be381d594c9cc658', 77), ('shuffle-split-1a776084eb444a52be381d594c9cc658', 74), ('shuffle-split-1a776084eb444a52be381d594c9cc658', 80), ('shuffle-split-1a776084eb444a52be381d594c9cc658', 86), ('shuffle-split-1a776084eb444a52be381d594c9cc658', 83), 'shuffle-sorter-1f0d595332f5708607914f2d0a6c2d2b', ('shuffle-split-1a776084eb444a52be381d594c9cc658', 89), ('open_dataset-pr-97d0eba163aba6bc1367edc4fc42ac4f', 13, 0, 0), ('open_dataset-pr-97d0eba163aba6bc1367edc4fc42ac4f', 7, 0, 0), ('open_dataset-pr-97d0eba163aba6bc1367edc4fc42ac4f', 19, 0, 0)} (stimulus_id='handle-worker-cleanup-1746108915.1678975')\n",
      "2025-05-01 16:15:15,173 - distributed.nanny - WARNING - Restarting worker\n",
      "2025-05-01 16:15:21,175 - distributed.scheduler - ERROR - Task shuffle-taker-37582cd403aaf30596336b4e877fd76e marked as failed because 4 workers died while trying to run it\n",
      "2025-05-01 16:15:21,177 - distributed.scheduler - ERROR - Task ('open_dataset-pr-97d0eba163aba6bc1367edc4fc42ac4f', 8, 0, 0) marked as failed because 4 workers died while trying to run it\n",
      "2025-05-01 16:15:21,177 - distributed.scheduler - WARNING - Removing worker 'tcp://127.0.0.1:33677' caused the cluster to lose already computed task(s), which will be recomputed elsewhere: {('open_dataset-pr-97d0eba163aba6bc1367edc4fc42ac4f', 12, 0, 0), ('shuffle-split-1a776084eb444a52be381d594c9cc658', 82), ('open_dataset-pr-97d0eba163aba6bc1367edc4fc42ac4f', 10, 0, 0), 'shuffle-taker-9492e4b78523c7fc04aa4e2c834e44bf', ('open_dataset-pr-97d0eba163aba6bc1367edc4fc42ac4f', 21, 0, 0), ('shuffle-split-1a776084eb444a52be381d594c9cc658', 85), ('shuffle-split-1a776084eb444a52be381d594c9cc658', 88), ('open_dataset-pr-97d0eba163aba6bc1367edc4fc42ac4f', 9, 0, 0), ('open_dataset-pr-97d0eba163aba6bc1367edc4fc42ac4f', 18, 0, 0), ('open_dataset-pr-97d0eba163aba6bc1367edc4fc42ac4f', 6, 0, 0), ('shuffle-split-1a776084eb444a52be381d594c9cc658', 75), ('shuffle-split-1a776084eb444a52be381d594c9cc658', 78), ('shuffle-split-1a776084eb444a52be381d594c9cc658', 84), ('shuffle-split-1a776084eb444a52be381d594c9cc658', 81), ('shuffle-split-1a776084eb444a52be381d594c9cc658', 87), ('open_dataset-pr-97d0eba163aba6bc1367edc4fc42ac4f', 15, 0, 0), ('open_dataset-pr-97d0eba163aba6bc1367edc4fc42ac4f', 20, 0, 0), ('open_dataset-pr-97d0eba163aba6bc1367edc4fc42ac4f', 14, 0, 0), ('open_dataset-pr-97d0eba163aba6bc1367edc4fc42ac4f', 17, 0, 0), 'original-open_dataset-pr-97d0eba163aba6bc1367edc4fc42ac4f', ('open_dataset-pr-97d0eba163aba6bc1367edc4fc42ac4f', 16, 0, 0), ('shuffle-split-1a776084eb444a52be381d594c9cc658', 77), ('shuffle-split-1a776084eb444a52be381d594c9cc658', 74), ('shuffle-split-1a776084eb444a52be381d594c9cc658', 80), ('shuffle-split-1a776084eb444a52be381d594c9cc658', 86), ('shuffle-split-1a776084eb444a52be381d594c9cc658', 83), 'shuffle-sorter-1f0d595332f5708607914f2d0a6c2d2b', ('shuffle-split-1a776084eb444a52be381d594c9cc658', 89), ('open_dataset-pr-97d0eba163aba6bc1367edc4fc42ac4f', 13, 0, 0), ('open_dataset-pr-97d0eba163aba6bc1367edc4fc42ac4f', 7, 0, 0), ('open_dataset-pr-97d0eba163aba6bc1367edc4fc42ac4f', 19, 0, 0)} (stimulus_id='handle-worker-cleanup-1746108921.1748922')\n",
      "2025-05-01 16:15:21,228 - distributed.nanny - WARNING - Restarting worker\n",
      "2025-05-01 16:16:26,883 - distributed.scheduler - WARNING - Removing worker 'tcp://127.0.0.1:38267' caused the cluster to lose already computed task(s), which will be recomputed elsewhere: {('open_dataset-pr-97d0eba163aba6bc1367edc4fc42ac4f', 12, 0, 0), ('shuffle-split-1a776084eb444a52be381d594c9cc658', 82), ('open_dataset-pr-97d0eba163aba6bc1367edc4fc42ac4f', 10, 0, 0), 'shuffle-taker-9492e4b78523c7fc04aa4e2c834e44bf', ('open_dataset-pr-97d0eba163aba6bc1367edc4fc42ac4f', 21, 0, 0), ('shuffle-split-1a776084eb444a52be381d594c9cc658', 85), ('shuffle-split-1a776084eb444a52be381d594c9cc658', 88), ('open_dataset-pr-97d0eba163aba6bc1367edc4fc42ac4f', 9, 0, 0), ('open_dataset-pr-97d0eba163aba6bc1367edc4fc42ac4f', 18, 0, 0), ('open_dataset-pr-97d0eba163aba6bc1367edc4fc42ac4f', 6, 0, 0), ('shuffle-split-1a776084eb444a52be381d594c9cc658', 75), ('shuffle-split-1a776084eb444a52be381d594c9cc658', 78), ('shuffle-split-1a776084eb444a52be381d594c9cc658', 84), ('shuffle-split-1a776084eb444a52be381d594c9cc658', 81), ('shuffle-split-1a776084eb444a52be381d594c9cc658', 87), ('open_dataset-pr-97d0eba163aba6bc1367edc4fc42ac4f', 15, 0, 0), ('open_dataset-pr-97d0eba163aba6bc1367edc4fc42ac4f', 20, 0, 0), ('open_dataset-pr-97d0eba163aba6bc1367edc4fc42ac4f', 14, 0, 0), ('open_dataset-pr-97d0eba163aba6bc1367edc4fc42ac4f', 17, 0, 0), 'original-open_dataset-pr-97d0eba163aba6bc1367edc4fc42ac4f', ('open_dataset-pr-97d0eba163aba6bc1367edc4fc42ac4f', 16, 0, 0), ('shuffle-split-1a776084eb444a52be381d594c9cc658', 77), ('shuffle-split-1a776084eb444a52be381d594c9cc658', 74), ('shuffle-split-1a776084eb444a52be381d594c9cc658', 80), ('shuffle-split-1a776084eb444a52be381d594c9cc658', 86), ('shuffle-split-1a776084eb444a52be381d594c9cc658', 83), 'shuffle-sorter-1f0d595332f5708607914f2d0a6c2d2b', ('shuffle-split-1a776084eb444a52be381d594c9cc658', 89), ('open_dataset-pr-97d0eba163aba6bc1367edc4fc42ac4f', 13, 0, 0), ('open_dataset-pr-97d0eba163aba6bc1367edc4fc42ac4f', 7, 0, 0), ('open_dataset-pr-97d0eba163aba6bc1367edc4fc42ac4f', 19, 0, 0)} (stimulus_id='handle-worker-cleanup-1746108986.8835173')\n",
      "2025-05-01 16:16:26,890 - distributed.nanny - WARNING - Restarting worker\n",
      "2025-05-01 16:16:33,822 - distributed.scheduler - WARNING - Removing worker 'tcp://127.0.0.1:42633' caused the cluster to lose already computed task(s), which will be recomputed elsewhere: {('open_dataset-pr-97d0eba163aba6bc1367edc4fc42ac4f', 12, 0, 0), ('shuffle-split-1a776084eb444a52be381d594c9cc658', 82), ('open_dataset-pr-97d0eba163aba6bc1367edc4fc42ac4f', 10, 0, 0), 'shuffle-taker-9492e4b78523c7fc04aa4e2c834e44bf', ('open_dataset-pr-97d0eba163aba6bc1367edc4fc42ac4f', 21, 0, 0), ('shuffle-split-1a776084eb444a52be381d594c9cc658', 85), ('shuffle-split-1a776084eb444a52be381d594c9cc658', 88), ('open_dataset-pr-97d0eba163aba6bc1367edc4fc42ac4f', 9, 0, 0), ('open_dataset-pr-97d0eba163aba6bc1367edc4fc42ac4f', 18, 0, 0), ('open_dataset-pr-97d0eba163aba6bc1367edc4fc42ac4f', 6, 0, 0), ('shuffle-split-1a776084eb444a52be381d594c9cc658', 75), ('shuffle-split-1a776084eb444a52be381d594c9cc658', 78), ('shuffle-split-1a776084eb444a52be381d594c9cc658', 84), ('shuffle-split-1a776084eb444a52be381d594c9cc658', 81), ('shuffle-split-1a776084eb444a52be381d594c9cc658', 87), ('open_dataset-pr-97d0eba163aba6bc1367edc4fc42ac4f', 15, 0, 0), ('open_dataset-pr-97d0eba163aba6bc1367edc4fc42ac4f', 20, 0, 0), ('open_dataset-pr-97d0eba163aba6bc1367edc4fc42ac4f', 14, 0, 0), ('open_dataset-pr-97d0eba163aba6bc1367edc4fc42ac4f', 17, 0, 0), 'original-open_dataset-pr-97d0eba163aba6bc1367edc4fc42ac4f', ('open_dataset-pr-97d0eba163aba6bc1367edc4fc42ac4f', 16, 0, 0), ('shuffle-split-1a776084eb444a52be381d594c9cc658', 77), ('shuffle-split-1a776084eb444a52be381d594c9cc658', 74), ('shuffle-split-1a776084eb444a52be381d594c9cc658', 80), ('shuffle-split-1a776084eb444a52be381d594c9cc658', 86), ('shuffle-split-1a776084eb444a52be381d594c9cc658', 83), 'shuffle-sorter-1f0d595332f5708607914f2d0a6c2d2b', ('shuffle-split-1a776084eb444a52be381d594c9cc658', 89), ('open_dataset-pr-97d0eba163aba6bc1367edc4fc42ac4f', 13, 0, 0), ('open_dataset-pr-97d0eba163aba6bc1367edc4fc42ac4f', 7, 0, 0), ('open_dataset-pr-97d0eba163aba6bc1367edc4fc42ac4f', 19, 0, 0)} (stimulus_id='handle-worker-cleanup-1746108993.8218737')\n",
      "2025-05-01 16:16:33,827 - distributed.nanny - WARNING - Restarting worker\n",
      "2025-05-01 16:16:39,272 - distributed.scheduler - WARNING - Removing worker 'tcp://127.0.0.1:45049' caused the cluster to lose already computed task(s), which will be recomputed elsewhere: {('open_dataset-pr-97d0eba163aba6bc1367edc4fc42ac4f', 12, 0, 0), ('shuffle-split-1a776084eb444a52be381d594c9cc658', 82), ('open_dataset-pr-97d0eba163aba6bc1367edc4fc42ac4f', 10, 0, 0), 'shuffle-taker-9492e4b78523c7fc04aa4e2c834e44bf', ('open_dataset-pr-97d0eba163aba6bc1367edc4fc42ac4f', 21, 0, 0), ('shuffle-split-1a776084eb444a52be381d594c9cc658', 85), ('shuffle-split-1a776084eb444a52be381d594c9cc658', 88), ('open_dataset-pr-97d0eba163aba6bc1367edc4fc42ac4f', 9, 0, 0), ('open_dataset-pr-97d0eba163aba6bc1367edc4fc42ac4f', 18, 0, 0), ('open_dataset-pr-97d0eba163aba6bc1367edc4fc42ac4f', 6, 0, 0), ('shuffle-split-1a776084eb444a52be381d594c9cc658', 75), ('shuffle-split-1a776084eb444a52be381d594c9cc658', 78), ('shuffle-split-1a776084eb444a52be381d594c9cc658', 84), ('shuffle-split-1a776084eb444a52be381d594c9cc658', 81), ('shuffle-split-1a776084eb444a52be381d594c9cc658', 87), ('open_dataset-pr-97d0eba163aba6bc1367edc4fc42ac4f', 15, 0, 0), ('open_dataset-pr-97d0eba163aba6bc1367edc4fc42ac4f', 20, 0, 0), ('open_dataset-pr-97d0eba163aba6bc1367edc4fc42ac4f', 14, 0, 0), ('open_dataset-pr-97d0eba163aba6bc1367edc4fc42ac4f', 17, 0, 0), 'original-open_dataset-pr-97d0eba163aba6bc1367edc4fc42ac4f', ('open_dataset-pr-97d0eba163aba6bc1367edc4fc42ac4f', 16, 0, 0), ('shuffle-split-1a776084eb444a52be381d594c9cc658', 77), ('shuffle-split-1a776084eb444a52be381d594c9cc658', 74), ('shuffle-split-1a776084eb444a52be381d594c9cc658', 80), ('shuffle-split-1a776084eb444a52be381d594c9cc658', 86), ('shuffle-split-1a776084eb444a52be381d594c9cc658', 83), 'shuffle-sorter-1f0d595332f5708607914f2d0a6c2d2b', ('shuffle-split-1a776084eb444a52be381d594c9cc658', 89), ('open_dataset-pr-97d0eba163aba6bc1367edc4fc42ac4f', 13, 0, 0), ('open_dataset-pr-97d0eba163aba6bc1367edc4fc42ac4f', 7, 0, 0), ('open_dataset-pr-97d0eba163aba6bc1367edc4fc42ac4f', 19, 0, 0)} (stimulus_id='handle-worker-cleanup-1746108999.2727237')\n",
      "2025-05-01 16:16:39,277 - distributed.nanny - WARNING - Restarting worker\n",
      "2025-05-01 16:16:45,669 - distributed.scheduler - ERROR - Task shuffle-taker-37582cd403aaf30596336b4e877fd76e marked as failed because 4 workers died while trying to run it\n",
      "2025-05-01 16:16:45,671 - distributed.scheduler - ERROR - Task ('open_dataset-pr-97d0eba163aba6bc1367edc4fc42ac4f', 8, 0, 0) marked as failed because 4 workers died while trying to run it\n",
      "2025-05-01 16:16:45,671 - distributed.scheduler - WARNING - Removing worker 'tcp://127.0.0.1:41333' caused the cluster to lose already computed task(s), which will be recomputed elsewhere: {('open_dataset-pr-97d0eba163aba6bc1367edc4fc42ac4f', 12, 0, 0), ('shuffle-split-1a776084eb444a52be381d594c9cc658', 82), ('open_dataset-pr-97d0eba163aba6bc1367edc4fc42ac4f', 10, 0, 0), 'shuffle-taker-9492e4b78523c7fc04aa4e2c834e44bf', ('open_dataset-pr-97d0eba163aba6bc1367edc4fc42ac4f', 21, 0, 0), ('shuffle-split-1a776084eb444a52be381d594c9cc658', 85), ('shuffle-split-1a776084eb444a52be381d594c9cc658', 88), ('open_dataset-pr-97d0eba163aba6bc1367edc4fc42ac4f', 9, 0, 0), ('open_dataset-pr-97d0eba163aba6bc1367edc4fc42ac4f', 18, 0, 0), ('open_dataset-pr-97d0eba163aba6bc1367edc4fc42ac4f', 6, 0, 0), ('shuffle-split-1a776084eb444a52be381d594c9cc658', 75), ('shuffle-split-1a776084eb444a52be381d594c9cc658', 78), ('shuffle-split-1a776084eb444a52be381d594c9cc658', 84), ('shuffle-split-1a776084eb444a52be381d594c9cc658', 81), ('shuffle-split-1a776084eb444a52be381d594c9cc658', 87), ('open_dataset-pr-97d0eba163aba6bc1367edc4fc42ac4f', 15, 0, 0), ('open_dataset-pr-97d0eba163aba6bc1367edc4fc42ac4f', 20, 0, 0), ('open_dataset-pr-97d0eba163aba6bc1367edc4fc42ac4f', 14, 0, 0), ('open_dataset-pr-97d0eba163aba6bc1367edc4fc42ac4f', 17, 0, 0), 'original-open_dataset-pr-97d0eba163aba6bc1367edc4fc42ac4f', ('open_dataset-pr-97d0eba163aba6bc1367edc4fc42ac4f', 16, 0, 0), ('shuffle-split-1a776084eb444a52be381d594c9cc658', 77), ('shuffle-split-1a776084eb444a52be381d594c9cc658', 74), ('shuffle-split-1a776084eb444a52be381d594c9cc658', 80), ('shuffle-split-1a776084eb444a52be381d594c9cc658', 86), ('shuffle-split-1a776084eb444a52be381d594c9cc658', 83), 'shuffle-sorter-1f0d595332f5708607914f2d0a6c2d2b', ('shuffle-split-1a776084eb444a52be381d594c9cc658', 89), ('open_dataset-pr-97d0eba163aba6bc1367edc4fc42ac4f', 13, 0, 0), ('open_dataset-pr-97d0eba163aba6bc1367edc4fc42ac4f', 7, 0, 0), ('open_dataset-pr-97d0eba163aba6bc1367edc4fc42ac4f', 19, 0, 0)} (stimulus_id='handle-worker-cleanup-1746109005.6689777')\n",
      "2025-05-01 16:16:45,719 - distributed.nanny - WARNING - Restarting worker\n",
      "2025-05-01 16:17:57,702 - distributed.scheduler - WARNING - Removing worker 'tcp://127.0.0.1:42889' caused the cluster to lose already computed task(s), which will be recomputed elsewhere: {('open_dataset-pr-97d0eba163aba6bc1367edc4fc42ac4f', 21, 0, 0), ('shuffle-split-4ddcf9bd72f93281ba9633846195a7d7', 57), ('shuffle-split-4ddcf9bd72f93281ba9633846195a7d7', 54), ('shuffle-split-4ddcf9bd72f93281ba9633846195a7d7', 60), ('open_dataset-pr-97d0eba163aba6bc1367edc4fc42ac4f', 24, 0, 0), ('open_dataset-pr-97d0eba163aba6bc1367edc4fc42ac4f', 27, 0, 0), ('shuffle-split-4ddcf9bd72f93281ba9633846195a7d7', 50), ('shuffle-split-4ddcf9bd72f93281ba9633846195a7d7', 47), ('shuffle-split-4ddcf9bd72f93281ba9633846195a7d7', 53), ('open_dataset-pr-97d0eba163aba6bc1367edc4fc42ac4f', 20, 0, 0), ('shuffle-split-4ddcf9bd72f93281ba9633846195a7d7', 56), ('open_dataset-pr-97d0eba163aba6bc1367edc4fc42ac4f', 14, 0, 0), ('open_dataset-pr-97d0eba163aba6bc1367edc4fc42ac4f', 17, 0, 0), 'shuffle-taker-72221d972267cc267fd73e537d19c188', ('open_dataset-pr-97d0eba163aba6bc1367edc4fc42ac4f', 23, 0, 0), 'original-open_dataset-pr-97d0eba163aba6bc1367edc4fc42ac4f', ('open_dataset-pr-97d0eba163aba6bc1367edc4fc42ac4f', 28, 0, 0), ('open_dataset-pr-97d0eba163aba6bc1367edc4fc42ac4f', 16, 0, 0), ('shuffle-split-4ddcf9bd72f93281ba9633846195a7d7', 46), ('shuffle-split-4ddcf9bd72f93281ba9633846195a7d7', 52), ('open_dataset-pr-97d0eba163aba6bc1367edc4fc42ac4f', 13, 0, 0), ('shuffle-split-4ddcf9bd72f93281ba9633846195a7d7', 49), ('shuffle-split-4ddcf9bd72f93281ba9633846195a7d7', 55), ('shuffle-split-4ddcf9bd72f93281ba9633846195a7d7', 58), ('shuffle-split-4ddcf9bd72f93281ba9633846195a7d7', 61), ('open_dataset-pr-97d0eba163aba6bc1367edc4fc42ac4f', 25, 0, 0), 'shuffle-sorter-6defcd25360ae8044d0e5036503704b6', ('open_dataset-pr-97d0eba163aba6bc1367edc4fc42ac4f', 19, 0, 0), ('open_dataset-pr-97d0eba163aba6bc1367edc4fc42ac4f', 22, 0, 0)} (stimulus_id='handle-worker-cleanup-1746109077.7027016')\n",
      "2025-05-01 16:17:57,708 - distributed.nanny - WARNING - Restarting worker\n",
      "2025-05-01 16:18:02,737 - distributed.scheduler - WARNING - Removing worker 'tcp://127.0.0.1:32807' caused the cluster to lose already computed task(s), which will be recomputed elsewhere: {('open_dataset-pr-97d0eba163aba6bc1367edc4fc42ac4f', 21, 0, 0), ('shuffle-split-4ddcf9bd72f93281ba9633846195a7d7', 57), ('shuffle-split-4ddcf9bd72f93281ba9633846195a7d7', 54), ('shuffle-split-4ddcf9bd72f93281ba9633846195a7d7', 60), ('open_dataset-pr-97d0eba163aba6bc1367edc4fc42ac4f', 24, 0, 0), ('open_dataset-pr-97d0eba163aba6bc1367edc4fc42ac4f', 27, 0, 0), ('shuffle-split-4ddcf9bd72f93281ba9633846195a7d7', 50), ('shuffle-split-4ddcf9bd72f93281ba9633846195a7d7', 47), ('shuffle-split-4ddcf9bd72f93281ba9633846195a7d7', 53), ('open_dataset-pr-97d0eba163aba6bc1367edc4fc42ac4f', 20, 0, 0), ('shuffle-split-4ddcf9bd72f93281ba9633846195a7d7', 56), ('open_dataset-pr-97d0eba163aba6bc1367edc4fc42ac4f', 14, 0, 0), ('open_dataset-pr-97d0eba163aba6bc1367edc4fc42ac4f', 17, 0, 0), 'shuffle-taker-72221d972267cc267fd73e537d19c188', ('open_dataset-pr-97d0eba163aba6bc1367edc4fc42ac4f', 23, 0, 0), 'original-open_dataset-pr-97d0eba163aba6bc1367edc4fc42ac4f', ('open_dataset-pr-97d0eba163aba6bc1367edc4fc42ac4f', 28, 0, 0), ('open_dataset-pr-97d0eba163aba6bc1367edc4fc42ac4f', 16, 0, 0), ('shuffle-split-4ddcf9bd72f93281ba9633846195a7d7', 46), ('shuffle-split-4ddcf9bd72f93281ba9633846195a7d7', 52), ('open_dataset-pr-97d0eba163aba6bc1367edc4fc42ac4f', 13, 0, 0), ('shuffle-split-4ddcf9bd72f93281ba9633846195a7d7', 49), ('shuffle-split-4ddcf9bd72f93281ba9633846195a7d7', 55), ('shuffle-split-4ddcf9bd72f93281ba9633846195a7d7', 58), ('shuffle-split-4ddcf9bd72f93281ba9633846195a7d7', 61), ('open_dataset-pr-97d0eba163aba6bc1367edc4fc42ac4f', 25, 0, 0), 'shuffle-sorter-6defcd25360ae8044d0e5036503704b6', ('open_dataset-pr-97d0eba163aba6bc1367edc4fc42ac4f', 19, 0, 0), ('open_dataset-pr-97d0eba163aba6bc1367edc4fc42ac4f', 22, 0, 0)} (stimulus_id='handle-worker-cleanup-1746109082.7368793')\n",
      "2025-05-01 16:18:02,742 - distributed.nanny - WARNING - Restarting worker\n",
      "2025-05-01 16:18:07,358 - distributed.scheduler - WARNING - Removing worker 'tcp://127.0.0.1:46253' caused the cluster to lose already computed task(s), which will be recomputed elsewhere: {('open_dataset-pr-97d0eba163aba6bc1367edc4fc42ac4f', 21, 0, 0), ('shuffle-split-4ddcf9bd72f93281ba9633846195a7d7', 57), ('shuffle-split-4ddcf9bd72f93281ba9633846195a7d7', 54), ('shuffle-split-4ddcf9bd72f93281ba9633846195a7d7', 60), ('open_dataset-pr-97d0eba163aba6bc1367edc4fc42ac4f', 24, 0, 0), ('open_dataset-pr-97d0eba163aba6bc1367edc4fc42ac4f', 27, 0, 0), ('shuffle-split-4ddcf9bd72f93281ba9633846195a7d7', 50), ('shuffle-split-4ddcf9bd72f93281ba9633846195a7d7', 47), ('shuffle-split-4ddcf9bd72f93281ba9633846195a7d7', 53), ('open_dataset-pr-97d0eba163aba6bc1367edc4fc42ac4f', 20, 0, 0), ('shuffle-split-4ddcf9bd72f93281ba9633846195a7d7', 56), ('open_dataset-pr-97d0eba163aba6bc1367edc4fc42ac4f', 14, 0, 0), ('open_dataset-pr-97d0eba163aba6bc1367edc4fc42ac4f', 17, 0, 0), 'shuffle-taker-72221d972267cc267fd73e537d19c188', ('open_dataset-pr-97d0eba163aba6bc1367edc4fc42ac4f', 23, 0, 0), 'original-open_dataset-pr-97d0eba163aba6bc1367edc4fc42ac4f', ('open_dataset-pr-97d0eba163aba6bc1367edc4fc42ac4f', 28, 0, 0), ('open_dataset-pr-97d0eba163aba6bc1367edc4fc42ac4f', 16, 0, 0), ('shuffle-split-4ddcf9bd72f93281ba9633846195a7d7', 46), ('shuffle-split-4ddcf9bd72f93281ba9633846195a7d7', 52), ('open_dataset-pr-97d0eba163aba6bc1367edc4fc42ac4f', 13, 0, 0), ('shuffle-split-4ddcf9bd72f93281ba9633846195a7d7', 49), ('shuffle-split-4ddcf9bd72f93281ba9633846195a7d7', 55), ('shuffle-split-4ddcf9bd72f93281ba9633846195a7d7', 58), ('shuffle-split-4ddcf9bd72f93281ba9633846195a7d7', 61), ('open_dataset-pr-97d0eba163aba6bc1367edc4fc42ac4f', 25, 0, 0), 'shuffle-sorter-6defcd25360ae8044d0e5036503704b6', ('open_dataset-pr-97d0eba163aba6bc1367edc4fc42ac4f', 19, 0, 0), ('open_dataset-pr-97d0eba163aba6bc1367edc4fc42ac4f', 22, 0, 0)} (stimulus_id='handle-worker-cleanup-1746109087.3583336')\n",
      "2025-05-01 16:18:07,364 - distributed.nanny - WARNING - Restarting worker\n",
      "2025-05-01 16:18:12,019 - distributed.scheduler - ERROR - Task shuffle-taker-171467f6a346fc98b4800674a2da2356 marked as failed because 4 workers died while trying to run it\n",
      "2025-05-01 16:18:12,021 - distributed.scheduler - ERROR - Task ('open_dataset-pr-97d0eba163aba6bc1367edc4fc42ac4f', 18, 0, 0) marked as failed because 4 workers died while trying to run it\n",
      "2025-05-01 16:18:12,022 - distributed.scheduler - WARNING - Removing worker 'tcp://127.0.0.1:42097' caused the cluster to lose already computed task(s), which will be recomputed elsewhere: {('open_dataset-pr-97d0eba163aba6bc1367edc4fc42ac4f', 21, 0, 0), ('shuffle-split-4ddcf9bd72f93281ba9633846195a7d7', 57), ('shuffle-split-4ddcf9bd72f93281ba9633846195a7d7', 54), ('shuffle-split-4ddcf9bd72f93281ba9633846195a7d7', 60), ('open_dataset-pr-97d0eba163aba6bc1367edc4fc42ac4f', 24, 0, 0), ('open_dataset-pr-97d0eba163aba6bc1367edc4fc42ac4f', 27, 0, 0), ('shuffle-split-4ddcf9bd72f93281ba9633846195a7d7', 50), ('shuffle-split-4ddcf9bd72f93281ba9633846195a7d7', 47), ('shuffle-split-4ddcf9bd72f93281ba9633846195a7d7', 53), ('open_dataset-pr-97d0eba163aba6bc1367edc4fc42ac4f', 20, 0, 0), ('shuffle-split-4ddcf9bd72f93281ba9633846195a7d7', 56), ('open_dataset-pr-97d0eba163aba6bc1367edc4fc42ac4f', 14, 0, 0), ('open_dataset-pr-97d0eba163aba6bc1367edc4fc42ac4f', 17, 0, 0), 'shuffle-taker-72221d972267cc267fd73e537d19c188', ('open_dataset-pr-97d0eba163aba6bc1367edc4fc42ac4f', 23, 0, 0), 'original-open_dataset-pr-97d0eba163aba6bc1367edc4fc42ac4f', ('open_dataset-pr-97d0eba163aba6bc1367edc4fc42ac4f', 28, 0, 0), ('open_dataset-pr-97d0eba163aba6bc1367edc4fc42ac4f', 16, 0, 0), ('shuffle-split-4ddcf9bd72f93281ba9633846195a7d7', 46), ('shuffle-split-4ddcf9bd72f93281ba9633846195a7d7', 52), ('open_dataset-pr-97d0eba163aba6bc1367edc4fc42ac4f', 13, 0, 0), ('shuffle-split-4ddcf9bd72f93281ba9633846195a7d7', 49), ('shuffle-split-4ddcf9bd72f93281ba9633846195a7d7', 55), ('shuffle-split-4ddcf9bd72f93281ba9633846195a7d7', 58), ('shuffle-split-4ddcf9bd72f93281ba9633846195a7d7', 61), ('open_dataset-pr-97d0eba163aba6bc1367edc4fc42ac4f', 25, 0, 0), 'shuffle-sorter-6defcd25360ae8044d0e5036503704b6', ('open_dataset-pr-97d0eba163aba6bc1367edc4fc42ac4f', 19, 0, 0), ('open_dataset-pr-97d0eba163aba6bc1367edc4fc42ac4f', 22, 0, 0)} (stimulus_id='handle-worker-cleanup-1746109092.0192382')\n",
      "2025-05-01 16:18:12,053 - distributed.nanny - WARNING - Restarting worker\n",
      "Task exception was never retrieved\n",
      "future: <Task finished name='Task-55342' coro=<Client._gather.<locals>.wait() done, defined at /users/sasthana/.local/lib/python3.12/site-packages/distributed/client.py:2371> exception=AllExit()>\n",
      "Traceback (most recent call last):\n",
      "  File \"/users/sasthana/.local/lib/python3.12/site-packages/distributed/client.py\", line 2380, in wait\n",
      "    raise AllExit()\n",
      "distributed.client.AllExit\n",
      "Task exception was never retrieved\n",
      "future: <Task finished name='Task-55343' coro=<Client._gather.<locals>.wait() done, defined at /users/sasthana/.local/lib/python3.12/site-packages/distributed/client.py:2371> exception=AllExit()>\n",
      "Traceback (most recent call last):\n",
      "  File \"/users/sasthana/.local/lib/python3.12/site-packages/distributed/client.py\", line 2380, in wait\n",
      "    raise AllExit()\n",
      "distributed.client.AllExit\n",
      "Task exception was never retrieved\n",
      "future: <Task finished name='Task-55344' coro=<Client._gather.<locals>.wait() done, defined at /users/sasthana/.local/lib/python3.12/site-packages/distributed/client.py:2371> exception=AllExit()>\n",
      "Traceback (most recent call last):\n",
      "  File \"/users/sasthana/.local/lib/python3.12/site-packages/distributed/client.py\", line 2380, in wait\n",
      "    raise AllExit()\n",
      "distributed.client.AllExit\n",
      "Task exception was never retrieved\n",
      "future: <Task finished name='Task-55341' coro=<Client._gather.<locals>.wait() done, defined at /users/sasthana/.local/lib/python3.12/site-packages/distributed/client.py:2371> exception=AllExit()>\n",
      "Traceback (most recent call last):\n",
      "  File \"/users/sasthana/.local/lib/python3.12/site-packages/distributed/client.py\", line 2380, in wait\n",
      "    raise AllExit()\n",
      "distributed.client.AllExit\n"
     ]
    }
   ],
   "source": [
    "from dask.distributed import Client\n",
    "client= Client()\n",
    "print(client)"
   ]
  },
  {
   "cell_type": "markdown",
   "id": "e16a4bb6",
   "metadata": {},
   "source": [
    "bilinear interpolation to the 1 km grid was performed using CDO remapbil with RhiresD/TabsD as reference files. Same for remapbic (Bicubic interpolation) Now they will be masked in this script so that it only retains the Swiss domain and not entire Europe"
   ]
  },
  {
   "cell_type": "markdown",
   "id": "d7ec0120",
   "metadata": {},
   "source": [
    "#For precipitation mask"
   ]
  },
  {
   "cell_type": "code",
   "execution_count": 3,
   "id": "cae0b59e",
   "metadata": {},
   "outputs": [
    {
     "name": "stdout",
     "output_type": "stream",
     "text": [
      "Mask saved at /work/FAC/FGSE/IDYST/tbeucler/downscaling/sasthana/Downscaling/Downscaling/data/processed/RhiresD_mask.nc\n"
     ]
    }
   ],
   "source": [
    "hr_path = \"/work/FAC/FGSE/IDYST/tbeucler/downscaling/sasthana/Downscaling/Downscaling/data/raw/RhiresD_1971_2022.nc\"\n",
    "mask_output_path = \"/work/FAC/FGSE/IDYST/tbeucler/downscaling/sasthana/Downscaling/Downscaling/data/processed/RhiresD_mask.nc\"\n",
    "\n",
    "ds_hr = xr.open_dataset(hr_path)\n",
    "\n",
    "varname = \"RhiresD\" \n",
    "\n",
    "mask_rhiresd = xr.where(~np.isnan(ds_hr[varname].isel(time=0)), 1, 0)\n",
    "\n",
    "mask_rhiresd = mask_rhiresd.squeeze(drop=True)\n",
    "\n",
    "mask_rhiresd.to_netcdf(mask_output_path)\n",
    "\n",
    "print(f\"Mask saved at {mask_output_path}\")\n"
   ]
  },
  {
   "cell_type": "markdown",
   "id": "10c46114",
   "metadata": {},
   "source": [
    "#For temperature mask!"
   ]
  },
  {
   "cell_type": "code",
   "execution_count": 6,
   "id": "1101c2a1",
   "metadata": {},
   "outputs": [],
   "source": [
    "hr_path = \"/work/FAC/FGSE/IDYST/tbeucler/downscaling/sasthana/Downscaling/Downscaling/data/raw/TabsD_1971_2022.nc\"\n",
    "mask_output_path = \"/work/FAC/FGSE/IDYST/tbeucler/downscaling/sasthana/Downscaling/Downscaling/data/processed/TabsD_mask.nc\"\n",
    "\n",
    "ds_hr = xr.open_dataset(hr_path)\n",
    "\n",
    "varname = \"TabsD\" \n",
    "\n",
    "mask_tabsd = xr.where(~np.isnan(ds_hr[varname].isel(time=0)), 1, 0)\n",
    "\n",
    "mask_tabsd = mask_tabsd.squeeze(drop=True)\n",
    "\n"
   ]
  },
  {
   "cell_type": "code",
   "execution_count": 7,
   "id": "aa82d86b",
   "metadata": {},
   "outputs": [
    {
     "name": "stdout",
     "output_type": "stream",
     "text": [
      "Mask saved at /work/FAC/FGSE/IDYST/tbeucler/downscaling/sasthana/Downscaling/Downscaling/data/processed/TabsD_mask.nc\n"
     ]
    }
   ],
   "source": [
    "mask_tabsd.to_netcdf(mask_output_path)\n",
    "\n",
    "print(f\"Mask saved at {mask_output_path}\")"
   ]
  },
  {
   "cell_type": "markdown",
   "id": "20bbad85",
   "metadata": {},
   "source": [
    "#Application of the mask to the two datasets : RhiresD and TabsD masks (1km) to the bicubically interpolated 1 km datasets features from Sven`s files so that it only retains the Swiss Domain\n"
   ]
  },
  {
   "cell_type": "markdown",
   "id": "3d8b6128",
   "metadata": {},
   "source": [
    "Lazy loading was used below to allow for parallel computation. The data was not loading due to xarray loading everything at once and the kernel was crashing"
   ]
  },
  {
   "cell_type": "code",
   "execution_count": 11,
   "id": "b3c8af39",
   "metadata": {},
   "outputs": [],
   "source": [
    "bicubic_ds_precip = xr.open_dataset(\"/work/FAC/FGSE/IDYST/tbeucler/downscaling/sasthana/Downscaling/Downscaling/data/processing/features_precip_bicubic.nc\",chunks={\"time\": 500})\n",
    "\n",
    "# Masking the features to retain the swiss domain\n",
    "masked_bicubic_rhiresd = bicubic_ds_precip * mask_rhiresd\n",
    "\n",
    "masked_bicubic_rhiresd.to_netcdf(\"/work/FAC/FGSE/IDYST/tbeucler/downscaling/sasthana/Downscaling/Downscaling/data/processed/Bicubic/features_precip_masked_bicubic.nc\",\n",
    "                                 engine=\"netcdf4\",\n",
    "                                    compute=True)"
   ]
  },
  {
   "cell_type": "code",
   "execution_count": 12,
   "id": "f703d330",
   "metadata": {},
   "outputs": [],
   "source": [
    "bicubic_ds_temp = xr.open_dataset(\"/work/FAC/FGSE/IDYST/tbeucler/downscaling/sasthana/Downscaling/Downscaling/data/processing/features_tas_bicubic.nc\",chunks={\"time\": 500})\n",
    "\n",
    "# Masking the features to retain the swiss domain\n",
    "masked_bicubic_temp = bicubic_ds_temp * mask_tabsd\n",
    "\n",
    "masked_bicubic_temp.to_netcdf(\"/work/FAC/FGSE/IDYST/tbeucler/downscaling/sasthana/Downscaling/Downscaling/data/processed/Bicubic/features_tas_masked_bicubic.nc\",\n",
    "                                 engine=\"netcdf4\",\n",
    "                                    compute=True)"
   ]
  },
  {
   "cell_type": "markdown",
   "id": "226f3458",
   "metadata": {},
   "source": [
    "For reducing computation time\n",
    "#Could have used h5netcdf for faster computation\n",
    "#Could have asked for more resources installed dask distributed, and used all 4 CPU cores, computing time reduced to 30 seconds!!!"
   ]
  },
  {
   "cell_type": "markdown",
   "id": "f84a259b",
   "metadata": {},
   "source": [
    "Bilinear interpolated outputs : Maskign with the 1 km RhiresD and TabsD mask"
   ]
  },
  {
   "cell_type": "code",
   "execution_count": 13,
   "id": "c47fc5d6",
   "metadata": {},
   "outputs": [],
   "source": [
    "bilinear_ds_precip = xr.open_dataset(\"/work/FAC/FGSE/IDYST/tbeucler/downscaling/sasthana/Downscaling/Downscaling/data/processing/features_precip_biliear.nc\",chunks={\"time\": 500})\n",
    "\n",
    "# Masking\n",
    "masked_bilinear_precip = bilinear_ds_precip * mask_rhiresd\n",
    "\n",
    "masked_bilinear_precip.to_netcdf(\"/work/FAC/FGSE/IDYST/tbeucler/downscaling/sasthana/Downscaling/Downscaling/data/processed/Bilinear/features_precip_masked_bilinear.nc\",\n",
    "                                 engine=\"netcdf4\",\n",
    "                                    compute=True)"
   ]
  },
  {
   "cell_type": "code",
   "execution_count": 14,
   "id": "5a5d7c33",
   "metadata": {},
   "outputs": [],
   "source": [
    "bilinear_ds_temp = xr.open_dataset(\"/work/FAC/FGSE/IDYST/tbeucler/downscaling/sasthana/Downscaling/Downscaling/data/processing/features_tas_biliear.nc\",chunks={\"time\": 500})\n",
    "\n",
    "# Masking\n",
    "masked_bilinear_temp = bilinear_ds_temp * mask_tabsd\n",
    "\n",
    "masked_bilinear_temp.to_netcdf(\"/work/FAC/FGSE/IDYST/tbeucler/downscaling/sasthana/Downscaling/Downscaling/data/processed/Bilinear/features_tas_masked_bilinear.nc\",\n",
    "                                 engine=\"netcdf4\",\n",
    "                                    compute=True)"
   ]
  },
  {
   "cell_type": "markdown",
   "id": "ea1e2d8e",
   "metadata": {},
   "source": [
    "xxxxxxxxxxxxxxxxxxxxxxxxxxxxxxxxxxxCHECKING SHAPExxxxxxxxxxxxxxxxxxxxxxxxxxxxxxxxxx"
   ]
  },
  {
   "cell_type": "code",
   "execution_count": 15,
   "id": "5b6d6b92",
   "metadata": {},
   "outputs": [],
   "source": [
    "\n",
    "features_ds_precip = xr.open_dataset(\"/work/FAC/FGSE/IDYST/tbeucler/downscaling/sasthana/Downscaling/Downscaling/data/processed/Bicubic/features_precip_masked_bicubic.nc\")[\"pr\"]"
   ]
  },
  {
   "cell_type": "code",
   "execution_count": 16,
   "id": "1525a3b0",
   "metadata": {},
   "outputs": [],
   "source": [
    "features_ds_temp= xr.open_dataset(\"/work/FAC/FGSE/IDYST/tbeucler/downscaling/sasthana/Downscaling/Downscaling/data/processed/Bicubic/features_tas_masked_bicubic.nc\")[\"tas\"]"
   ]
  },
  {
   "cell_type": "code",
   "execution_count": 17,
   "id": "28c68e7a",
   "metadata": {},
   "outputs": [
    {
     "data": {
      "text/plain": [
       "(18993, 265, 370)"
      ]
     },
     "execution_count": 17,
     "metadata": {},
     "output_type": "execute_result"
    }
   ],
   "source": [
    "features_ds_precip.shape"
   ]
  },
  {
   "cell_type": "code",
   "execution_count": 18,
   "id": "f086c302",
   "metadata": {},
   "outputs": [
    {
     "data": {
      "text/plain": [
       "(18993, 265, 370)"
      ]
     },
     "execution_count": 18,
     "metadata": {},
     "output_type": "execute_result"
    }
   ],
   "source": [
    "features_ds_temp.shape"
   ]
  },
  {
   "cell_type": "code",
   "execution_count": 19,
   "id": "83e99157",
   "metadata": {},
   "outputs": [
    {
     "data": {
      "text/plain": [
       "(18993, 265, 370)"
      ]
     },
     "execution_count": 19,
     "metadata": {},
     "output_type": "execute_result"
    }
   ],
   "source": [
    "targets_precip= xr.open_dataset(\"/work/FAC/FGSE/IDYST/tbeucler/downscaling/sasthana/Downscaling/Downscaling/data/raw/RhiresD_1971_2022.nc\")[\"RhiresD\"]\n",
    "targets_precip.shape"
   ]
  },
  {
   "cell_type": "code",
   "execution_count": 20,
   "id": "51df3de8",
   "metadata": {},
   "outputs": [
    {
     "data": {
      "text/plain": [
       "(18993, 265, 370)"
      ]
     },
     "execution_count": 20,
     "metadata": {},
     "output_type": "execute_result"
    }
   ],
   "source": [
    "targets_temp= xr.open_dataset(\"/work/FAC/FGSE/IDYST/tbeucler/downscaling/sasthana/Downscaling/Downscaling/data/raw/TabsD_1971_2022.nc\")[\"TabsD\"]\n",
    "targets_temp.shape"
   ]
  },
  {
   "cell_type": "markdown",
   "id": "fce5d13c",
   "metadata": {},
   "source": [
    "SHAPES MATCH!!!!!!"
   ]
  },
  {
   "cell_type": "markdown",
   "id": "89cff50f",
   "metadata": {},
   "source": [
    "The entire dataset will be divided into tain, test val for both bilinear and bicubic interpolation for calculating standardisation metric etc\n"
   ]
  },
  {
   "cell_type": "markdown",
   "id": "f2daae10",
   "metadata": {},
   "source": [
    "Split will be performed on one dataset, then replicated for the other\n"
   ]
  },
  {
   "cell_type": "code",
   "execution_count": 28,
   "id": "e7d960fc",
   "metadata": {},
   "outputs": [],
   "source": [
    "import sys\n",
    "sys.path.append(\"/work/FAC/FGSE/IDYST/tbeucler/downscaling/sasthana/Downscaling/Downscaling/ML_models\")\n",
    "\n",
    "from Train_Test_Val import split_by_decade\n"
   ]
  },
  {
   "cell_type": "code",
   "execution_count": 29,
   "id": "1714fc53",
   "metadata": {},
   "outputs": [],
   "source": [
    "precip_path = \"/work/FAC/FGSE/IDYST/tbeucler/downscaling/sasthana/Downscaling/Downscaling/data/processed/Bicubic/features_precip_masked_bicubic.nc\"\n",
    "tas_path = \"/work/FAC/FGSE/IDYST/tbeucler/downscaling/sasthana/Downscaling/Downscaling/data/processed/Bicubic/features_tas_masked_bicubic.nc\"\n",
    "\n",
    "output_base = \"/work/FAC/FGSE/IDYST/tbeucler/downscaling/sasthana/Downscaling/Downscaling/data/processed/Bicubic\"\n",
    "ds_precip = xr.open_dataset(precip_path, chunks={\"time\": 50})\n",
    "ds_tas = xr.open_dataset(tas_path, chunks={\"time\": 50})\n",
    "\n",
    "times = ds_precip['time'].values  # Assumes both datasets have matching time axis, one of the time coordinates from both datasets extracted\n"
   ]
  },
  {
   "cell_type": "code",
   "execution_count": 30,
   "id": "4606125d",
   "metadata": {},
   "outputs": [],
   "source": [
    "train_idx, val_idx, test_idx = split_by_decade(times, seed=42)  # See has been fixed for reproducibility"
   ]
  },
  {
   "cell_type": "code",
   "execution_count": 31,
   "id": "33683b4c",
   "metadata": {},
   "outputs": [],
   "source": [
    "import os"
   ]
  },
  {
   "cell_type": "code",
   "execution_count": 32,
   "id": "c478c69b",
   "metadata": {},
   "outputs": [
    {
     "data": {
      "text/plain": [
       "(tensor([ 2751,  2462,  2313,  ..., 18657, 18129, 18958]),\n",
       " tensor([  486,  1772,  1052,  ..., 18762, 18652, 18403]),\n",
       " tensor([ 2936,   400,  3011,  ..., 18911, 18736, 18547]))"
      ]
     },
     "execution_count": 32,
     "metadata": {},
     "output_type": "execute_result"
    }
   ],
   "source": [
    "train_idx, val_idx, test_idx"
   ]
  },
  {
   "cell_type": "code",
   "execution_count": 33,
   "id": "e20a74ac",
   "metadata": {},
   "outputs": [
    {
     "name": "stdout",
     "output_type": "stream",
     "text": [
      "torch.Size([13293])\n",
      "torch.Size([3796])\n",
      "torch.Size([1904])\n"
     ]
    }
   ],
   "source": [
    "print(train_idx.shape)\n",
    "print(val_idx.shape)\n",
    "print(test_idx.shape)"
   ]
  },
  {
   "cell_type": "code",
   "execution_count": 34,
   "id": "394e13ce",
   "metadata": {},
   "outputs": [],
   "source": [
    "def save_splits(ds, indices, subset_folder, filename):\n",
    "    subset = ds.isel(time=indices)\n",
    "    subset = subset.chunk({\"time\": 50}) \n",
    "    save_dir = os.path.join(output_base, subset_folder)\n",
    "    os.makedirs(save_dir, exist_ok=True)\n",
    "    save_path = os.path.join(save_dir, filename)\n",
    "    \n",
    "    delayed_obj = subset.to_netcdf(save_path, engine=\"netcdf4\", compute=True)\n",
    "    delayed_obj.compute()\n",
    "    \n",
    "    print(f\"Saved {filename}\")\n"
   ]
  },
  {
   "cell_type": "code",
   "execution_count": 35,
   "id": "6dcf610c",
   "metadata": {},
   "outputs": [
    {
     "ename": "KeyboardInterrupt",
     "evalue": "",
     "output_type": "error",
     "traceback": [
      "\u001b[31m---------------------------------------------------------------------------\u001b[39m",
      "\u001b[31mKeyboardInterrupt\u001b[39m                         Traceback (most recent call last)",
      "\u001b[36mCell\u001b[39m\u001b[36m \u001b[39m\u001b[32mIn[35]\u001b[39m\u001b[32m, line 2\u001b[39m\n\u001b[32m      1\u001b[39m \u001b[38;5;66;03m# Precipitation dataset for bicubic interpolation split into three categories\u001b[39;00m\n\u001b[32m----> \u001b[39m\u001b[32m2\u001b[39m \u001b[43msave_splits\u001b[49m\u001b[43m(\u001b[49m\u001b[43mds_precip\u001b[49m\u001b[43m,\u001b[49m\u001b[43m \u001b[49m\u001b[43mtrain_idx\u001b[49m\u001b[43m,\u001b[49m\u001b[43m \u001b[49m\u001b[33;43m\"\u001b[39;49m\u001b[33;43mTrain\u001b[39;49m\u001b[33;43m\"\u001b[39;49m\u001b[43m,\u001b[49m\u001b[43m \u001b[49m\u001b[33;43m\"\u001b[39;49m\u001b[33;43mfeatures_precip_masked_bicubic_train.nc\u001b[39;49m\u001b[33;43m\"\u001b[39;49m\u001b[43m)\u001b[49m\n\u001b[32m      3\u001b[39m save_splits(ds_precip, val_idx, \u001b[33m\"\u001b[39m\u001b[33mVal\u001b[39m\u001b[33m\"\u001b[39m, \u001b[33m\"\u001b[39m\u001b[33mfeatures_precip_masked_bicubic_val.nc\u001b[39m\u001b[33m\"\u001b[39m)\n\u001b[32m      4\u001b[39m save_splits(ds_precip, test_idx, \u001b[33m\"\u001b[39m\u001b[33mTest\u001b[39m\u001b[33m\"\u001b[39m, \u001b[33m\"\u001b[39m\u001b[33mfeatures_precip_masked_bicubic_test.nc\u001b[39m\u001b[33m\"\u001b[39m)\n",
      "\u001b[36mCell\u001b[39m\u001b[36m \u001b[39m\u001b[32mIn[34]\u001b[39m\u001b[32m, line 8\u001b[39m, in \u001b[36msave_splits\u001b[39m\u001b[34m(ds, indices, subset_folder, filename)\u001b[39m\n\u001b[32m      5\u001b[39m os.makedirs(save_dir, exist_ok=\u001b[38;5;28;01mTrue\u001b[39;00m)\n\u001b[32m      6\u001b[39m save_path = os.path.join(save_dir, filename)\n\u001b[32m----> \u001b[39m\u001b[32m8\u001b[39m delayed_obj = \u001b[43msubset\u001b[49m\u001b[43m.\u001b[49m\u001b[43mto_netcdf\u001b[49m\u001b[43m(\u001b[49m\u001b[43msave_path\u001b[49m\u001b[43m,\u001b[49m\u001b[43m \u001b[49m\u001b[43mengine\u001b[49m\u001b[43m=\u001b[49m\u001b[33;43m\"\u001b[39;49m\u001b[33;43mnetcdf4\u001b[39;49m\u001b[33;43m\"\u001b[39;49m\u001b[43m,\u001b[49m\u001b[43m \u001b[49m\u001b[43mcompute\u001b[49m\u001b[43m=\u001b[49m\u001b[38;5;28;43;01mTrue\u001b[39;49;00m\u001b[43m)\u001b[49m\n\u001b[32m      9\u001b[39m delayed_obj.compute()\n\u001b[32m     11\u001b[39m \u001b[38;5;28mprint\u001b[39m(\u001b[33mf\u001b[39m\u001b[33m\"\u001b[39m\u001b[33mSaved \u001b[39m\u001b[38;5;132;01m{\u001b[39;00mfilename\u001b[38;5;132;01m}\u001b[39;00m\u001b[33m\"\u001b[39m)\n",
      "\u001b[36mFile \u001b[39m\u001b[32m~/.local/lib/python3.12/site-packages/xarray/core/dataset.py:2074\u001b[39m, in \u001b[36mDataset.to_netcdf\u001b[39m\u001b[34m(self, path, mode, format, group, engine, encoding, unlimited_dims, compute, invalid_netcdf, auto_complex)\u001b[39m\n\u001b[32m   2071\u001b[39m     encoding = {}\n\u001b[32m   2072\u001b[39m \u001b[38;5;28;01mfrom\u001b[39;00m\u001b[38;5;250m \u001b[39m\u001b[34;01mxarray\u001b[39;00m\u001b[34;01m.\u001b[39;00m\u001b[34;01mbackends\u001b[39;00m\u001b[34;01m.\u001b[39;00m\u001b[34;01mapi\u001b[39;00m\u001b[38;5;250m \u001b[39m\u001b[38;5;28;01mimport\u001b[39;00m to_netcdf\n\u001b[32m-> \u001b[39m\u001b[32m2074\u001b[39m \u001b[38;5;28;01mreturn\u001b[39;00m \u001b[43mto_netcdf\u001b[49m\u001b[43m(\u001b[49m\u001b[43m  \u001b[49m\u001b[38;5;66;43;03m# type: ignore[return-value]  # mypy cannot resolve the overloads:(\u001b[39;49;00m\n\u001b[32m   2075\u001b[39m \u001b[43m    \u001b[49m\u001b[38;5;28;43mself\u001b[39;49m\u001b[43m,\u001b[49m\n\u001b[32m   2076\u001b[39m \u001b[43m    \u001b[49m\u001b[43mpath\u001b[49m\u001b[43m,\u001b[49m\n\u001b[32m   2077\u001b[39m \u001b[43m    \u001b[49m\u001b[43mmode\u001b[49m\u001b[43m=\u001b[49m\u001b[43mmode\u001b[49m\u001b[43m,\u001b[49m\n\u001b[32m   2078\u001b[39m \u001b[43m    \u001b[49m\u001b[38;5;28;43mformat\u001b[39;49m\u001b[43m=\u001b[49m\u001b[38;5;28;43mformat\u001b[39;49m\u001b[43m,\u001b[49m\n\u001b[32m   2079\u001b[39m \u001b[43m    \u001b[49m\u001b[43mgroup\u001b[49m\u001b[43m=\u001b[49m\u001b[43mgroup\u001b[49m\u001b[43m,\u001b[49m\n\u001b[32m   2080\u001b[39m \u001b[43m    \u001b[49m\u001b[43mengine\u001b[49m\u001b[43m=\u001b[49m\u001b[43mengine\u001b[49m\u001b[43m,\u001b[49m\n\u001b[32m   2081\u001b[39m \u001b[43m    \u001b[49m\u001b[43mencoding\u001b[49m\u001b[43m=\u001b[49m\u001b[43mencoding\u001b[49m\u001b[43m,\u001b[49m\n\u001b[32m   2082\u001b[39m \u001b[43m    \u001b[49m\u001b[43munlimited_dims\u001b[49m\u001b[43m=\u001b[49m\u001b[43munlimited_dims\u001b[49m\u001b[43m,\u001b[49m\n\u001b[32m   2083\u001b[39m \u001b[43m    \u001b[49m\u001b[43mcompute\u001b[49m\u001b[43m=\u001b[49m\u001b[43mcompute\u001b[49m\u001b[43m,\u001b[49m\n\u001b[32m   2084\u001b[39m \u001b[43m    \u001b[49m\u001b[43mmultifile\u001b[49m\u001b[43m=\u001b[49m\u001b[38;5;28;43;01mFalse\u001b[39;49;00m\u001b[43m,\u001b[49m\n\u001b[32m   2085\u001b[39m \u001b[43m    \u001b[49m\u001b[43minvalid_netcdf\u001b[49m\u001b[43m=\u001b[49m\u001b[43minvalid_netcdf\u001b[49m\u001b[43m,\u001b[49m\n\u001b[32m   2086\u001b[39m \u001b[43m    \u001b[49m\u001b[43mauto_complex\u001b[49m\u001b[43m=\u001b[49m\u001b[43mauto_complex\u001b[49m\u001b[43m,\u001b[49m\n\u001b[32m   2087\u001b[39m \u001b[43m\u001b[49m\u001b[43m)\u001b[49m\n",
      "\u001b[36mFile \u001b[39m\u001b[32m~/.local/lib/python3.12/site-packages/xarray/backends/api.py:1937\u001b[39m, in \u001b[36mto_netcdf\u001b[39m\u001b[34m(dataset, path_or_file, mode, format, group, engine, encoding, unlimited_dims, compute, multifile, invalid_netcdf, auto_complex)\u001b[39m\n\u001b[32m   1934\u001b[39m \u001b[38;5;28;01mif\u001b[39;00m multifile:\n\u001b[32m   1935\u001b[39m     \u001b[38;5;28;01mreturn\u001b[39;00m writer, store\n\u001b[32m-> \u001b[39m\u001b[32m1937\u001b[39m writes = \u001b[43mwriter\u001b[49m\u001b[43m.\u001b[49m\u001b[43msync\u001b[49m\u001b[43m(\u001b[49m\u001b[43mcompute\u001b[49m\u001b[43m=\u001b[49m\u001b[43mcompute\u001b[49m\u001b[43m)\u001b[49m\n\u001b[32m   1939\u001b[39m \u001b[38;5;28;01mif\u001b[39;00m \u001b[38;5;28misinstance\u001b[39m(target, BytesIO):\n\u001b[32m   1940\u001b[39m     store.sync()\n",
      "\u001b[36mFile \u001b[39m\u001b[32m~/.local/lib/python3.12/site-packages/xarray/backends/common.py:358\u001b[39m, in \u001b[36mArrayWriter.sync\u001b[39m\u001b[34m(self, compute, chunkmanager_store_kwargs)\u001b[39m\n\u001b[32m    355\u001b[39m \u001b[38;5;28;01mif\u001b[39;00m chunkmanager_store_kwargs \u001b[38;5;129;01mis\u001b[39;00m \u001b[38;5;28;01mNone\u001b[39;00m:\n\u001b[32m    356\u001b[39m     chunkmanager_store_kwargs = {}\n\u001b[32m--> \u001b[39m\u001b[32m358\u001b[39m delayed_store = \u001b[43mchunkmanager\u001b[49m\u001b[43m.\u001b[49m\u001b[43mstore\u001b[49m\u001b[43m(\u001b[49m\n\u001b[32m    359\u001b[39m \u001b[43m    \u001b[49m\u001b[38;5;28;43mself\u001b[39;49m\u001b[43m.\u001b[49m\u001b[43msources\u001b[49m\u001b[43m,\u001b[49m\n\u001b[32m    360\u001b[39m \u001b[43m    \u001b[49m\u001b[38;5;28;43mself\u001b[39;49m\u001b[43m.\u001b[49m\u001b[43mtargets\u001b[49m\u001b[43m,\u001b[49m\n\u001b[32m    361\u001b[39m \u001b[43m    \u001b[49m\u001b[43mlock\u001b[49m\u001b[43m=\u001b[49m\u001b[38;5;28;43mself\u001b[39;49m\u001b[43m.\u001b[49m\u001b[43mlock\u001b[49m\u001b[43m,\u001b[49m\n\u001b[32m    362\u001b[39m \u001b[43m    \u001b[49m\u001b[43mcompute\u001b[49m\u001b[43m=\u001b[49m\u001b[43mcompute\u001b[49m\u001b[43m,\u001b[49m\n\u001b[32m    363\u001b[39m \u001b[43m    \u001b[49m\u001b[43mflush\u001b[49m\u001b[43m=\u001b[49m\u001b[38;5;28;43;01mTrue\u001b[39;49;00m\u001b[43m,\u001b[49m\n\u001b[32m    364\u001b[39m \u001b[43m    \u001b[49m\u001b[43mregions\u001b[49m\u001b[43m=\u001b[49m\u001b[38;5;28;43mself\u001b[39;49m\u001b[43m.\u001b[49m\u001b[43mregions\u001b[49m\u001b[43m,\u001b[49m\n\u001b[32m    365\u001b[39m \u001b[43m    \u001b[49m\u001b[43m*\u001b[49m\u001b[43m*\u001b[49m\u001b[43mchunkmanager_store_kwargs\u001b[49m\u001b[43m,\u001b[49m\n\u001b[32m    366\u001b[39m \u001b[43m\u001b[49m\u001b[43m)\u001b[49m\n\u001b[32m    367\u001b[39m \u001b[38;5;28mself\u001b[39m.sources = []\n\u001b[32m    368\u001b[39m \u001b[38;5;28mself\u001b[39m.targets = []\n",
      "\u001b[36mFile \u001b[39m\u001b[32m~/.local/lib/python3.12/site-packages/xarray/namedarray/daskmanager.py:247\u001b[39m, in \u001b[36mDaskManager.store\u001b[39m\u001b[34m(self, sources, targets, **kwargs)\u001b[39m\n\u001b[32m    239\u001b[39m \u001b[38;5;28;01mdef\u001b[39;00m\u001b[38;5;250m \u001b[39m\u001b[34mstore\u001b[39m(\n\u001b[32m    240\u001b[39m     \u001b[38;5;28mself\u001b[39m,\n\u001b[32m    241\u001b[39m     sources: Any | Sequence[Any],\n\u001b[32m    242\u001b[39m     targets: Any,\n\u001b[32m    243\u001b[39m     **kwargs: Any,\n\u001b[32m    244\u001b[39m ) -> Any:\n\u001b[32m    245\u001b[39m     \u001b[38;5;28;01mfrom\u001b[39;00m\u001b[38;5;250m \u001b[39m\u001b[34;01mdask\u001b[39;00m\u001b[34;01m.\u001b[39;00m\u001b[34;01marray\u001b[39;00m\u001b[38;5;250m \u001b[39m\u001b[38;5;28;01mimport\u001b[39;00m store\n\u001b[32m--> \u001b[39m\u001b[32m247\u001b[39m     \u001b[38;5;28;01mreturn\u001b[39;00m \u001b[43mstore\u001b[49m\u001b[43m(\u001b[49m\n\u001b[32m    248\u001b[39m \u001b[43m        \u001b[49m\u001b[43msources\u001b[49m\u001b[43m=\u001b[49m\u001b[43msources\u001b[49m\u001b[43m,\u001b[49m\n\u001b[32m    249\u001b[39m \u001b[43m        \u001b[49m\u001b[43mtargets\u001b[49m\u001b[43m=\u001b[49m\u001b[43mtargets\u001b[49m\u001b[43m,\u001b[49m\n\u001b[32m    250\u001b[39m \u001b[43m        \u001b[49m\u001b[43m*\u001b[49m\u001b[43m*\u001b[49m\u001b[43mkwargs\u001b[49m\u001b[43m,\u001b[49m\n\u001b[32m    251\u001b[39m \u001b[43m    \u001b[49m\u001b[43m)\u001b[49m\n",
      "\u001b[36mFile \u001b[39m\u001b[32m~/.local/lib/python3.12/site-packages/dask/array/core.py:1227\u001b[39m, in \u001b[36mstore\u001b[39m\u001b[34m(***failed resolving arguments***)\u001b[39m\n\u001b[32m   1224\u001b[39m \u001b[38;5;28;01mif\u001b[39;00m \u001b[38;5;129;01mnot\u001b[39;00m return_stored:\n\u001b[32m   1225\u001b[39m     \u001b[38;5;28;01mimport\u001b[39;00m\u001b[38;5;250m \u001b[39m\u001b[34;01mdask\u001b[39;00m\n\u001b[32m-> \u001b[39m\u001b[32m1227\u001b[39m     \u001b[43mdask\u001b[49m\u001b[43m.\u001b[49m\u001b[43mcompute\u001b[49m\u001b[43m(\u001b[49m\u001b[43marrays\u001b[49m\u001b[43m,\u001b[49m\u001b[43m \u001b[49m\u001b[43m*\u001b[49m\u001b[43m*\u001b[49m\u001b[43mkwargs\u001b[49m\u001b[43m)\u001b[49m\n\u001b[32m   1228\u001b[39m     \u001b[38;5;28;01mreturn\u001b[39;00m \u001b[38;5;28;01mNone\u001b[39;00m\n\u001b[32m   1229\u001b[39m \u001b[38;5;28;01melse\u001b[39;00m:\n",
      "\u001b[36mFile \u001b[39m\u001b[32m~/.local/lib/python3.12/site-packages/dask/base.py:681\u001b[39m, in \u001b[36mcompute\u001b[39m\u001b[34m(traverse, optimize_graph, scheduler, get, *args, **kwargs)\u001b[39m\n\u001b[32m    678\u001b[39m     expr = expr.optimize()\n\u001b[32m    679\u001b[39m     keys = \u001b[38;5;28mlist\u001b[39m(flatten(expr.__dask_keys__()))\n\u001b[32m--> \u001b[39m\u001b[32m681\u001b[39m     results = \u001b[43mschedule\u001b[49m\u001b[43m(\u001b[49m\u001b[43mexpr\u001b[49m\u001b[43m,\u001b[49m\u001b[43m \u001b[49m\u001b[43mkeys\u001b[49m\u001b[43m,\u001b[49m\u001b[43m \u001b[49m\u001b[43m*\u001b[49m\u001b[43m*\u001b[49m\u001b[43mkwargs\u001b[49m\u001b[43m)\u001b[49m\n\u001b[32m    683\u001b[39m \u001b[38;5;28;01mreturn\u001b[39;00m repack(results)\n",
      "\u001b[36mFile \u001b[39m\u001b[32m/usr/lib64/python3.12/threading.py:655\u001b[39m, in \u001b[36mEvent.wait\u001b[39m\u001b[34m(self, timeout)\u001b[39m\n\u001b[32m    653\u001b[39m signaled = \u001b[38;5;28mself\u001b[39m._flag\n\u001b[32m    654\u001b[39m \u001b[38;5;28;01mif\u001b[39;00m \u001b[38;5;129;01mnot\u001b[39;00m signaled:\n\u001b[32m--> \u001b[39m\u001b[32m655\u001b[39m     signaled = \u001b[38;5;28;43mself\u001b[39;49m\u001b[43m.\u001b[49m\u001b[43m_cond\u001b[49m\u001b[43m.\u001b[49m\u001b[43mwait\u001b[49m\u001b[43m(\u001b[49m\u001b[43mtimeout\u001b[49m\u001b[43m)\u001b[49m\n\u001b[32m    656\u001b[39m \u001b[38;5;28;01mreturn\u001b[39;00m signaled\n",
      "\u001b[36mFile \u001b[39m\u001b[32m/usr/lib64/python3.12/threading.py:359\u001b[39m, in \u001b[36mCondition.wait\u001b[39m\u001b[34m(self, timeout)\u001b[39m\n\u001b[32m    357\u001b[39m \u001b[38;5;28;01melse\u001b[39;00m:\n\u001b[32m    358\u001b[39m     \u001b[38;5;28;01mif\u001b[39;00m timeout > \u001b[32m0\u001b[39m:\n\u001b[32m--> \u001b[39m\u001b[32m359\u001b[39m         gotit = \u001b[43mwaiter\u001b[49m\u001b[43m.\u001b[49m\u001b[43macquire\u001b[49m\u001b[43m(\u001b[49m\u001b[38;5;28;43;01mTrue\u001b[39;49;00m\u001b[43m,\u001b[49m\u001b[43m \u001b[49m\u001b[43mtimeout\u001b[49m\u001b[43m)\u001b[49m\n\u001b[32m    360\u001b[39m     \u001b[38;5;28;01melse\u001b[39;00m:\n\u001b[32m    361\u001b[39m         gotit = waiter.acquire(\u001b[38;5;28;01mFalse\u001b[39;00m)\n",
      "\u001b[31mKeyboardInterrupt\u001b[39m: "
     ]
    }
   ],
   "source": [
    "# Precipitation input dataset for bicubic interpolation split into three categories\n",
    "save_splits(ds_precip, train_idx, \"Train\", \"features_precip_masked_bicubic_train.nc\")\n",
    "save_splits(ds_precip, val_idx, \"Val\", \"features_precip_masked_bicubic_val.nc\")\n",
    "save_splits(ds_precip, test_idx, \"Test\", \"features_precip_masked_bicubic_test.nc\")"
   ]
  },
  {
   "cell_type": "code",
   "execution_count": null,
   "id": "0b88a939",
   "metadata": {},
   "outputs": [],
   "source": [
    "# Temperature input dataset for bicubic interpolation split into three categories\n",
    "save_splits(ds_tas, train_idx, \"Train\", \"features_tas_masked_bicubic_train.nc\")\n",
    "save_splits(ds_tas, val_idx, \"Val\", \"features_tas_masked_bicubic_val.nc\")\n",
    "save_splits(ds_tas, test_idx, \"Test\", \"features_tas_masked_bicubic_test.nc\")"
   ]
  },
  {
   "cell_type": "markdown",
   "id": "168f33e5",
   "metadata": {},
   "source": [
    "Also splittign the targets along the very same lines usign the reproducible split"
   ]
  },
  {
   "cell_type": "code",
   "execution_count": null,
   "id": "1e98a511",
   "metadata": {},
   "outputs": [],
   "source": [
    "precip_target = \"/work/FAC/FGSE/IDYST/tbeucler/downscaling/sasthana/Downscaling/Downscaling/data/raw/RhiresD_1971_2022.nc\"\n",
    "tas_target = \"/work/FAC/FGSE/IDYST/tbeucler/downscaling/sasthana/Downscaling/Downscaling/data/raw/TabsD_1971_2022.nc\"\n",
    "\n",
    "output_base = \"/work/FAC/FGSE/IDYST/tbeucler/downscaling/sasthana/Downscaling/Downscaling/data/processed/Bicubic\"\n",
    "ds_precip = xr.open_dataset(precip_path, chunks={\"time\": 50})\n",
    "ds_tas = xr.open_dataset(tas_path, chunks={\"time\": 50})\n",
    "\n",
    "times = ds_precip['time'].values  # Assumes both datasets have matching time axis, one of the time coordinates from both datasets extracted\n"
   ]
  },
  {
   "cell_type": "code",
   "execution_count": null,
   "id": "4eb0bd97",
   "metadata": {},
   "outputs": [],
   "source": [
    "# Precipitation input dataset for bicubic interpolation split into three categories\n",
    "save_splits(precip_target, train_idx, \"Train\", \"targets_precip_masked_bicubic_train.nc\")\n",
    "save_splits(precip_target, val_idx, \"Val\", \"targets_precip_masked_bicubic_val.nc\")\n",
    "save_splits(precip_target, test_idx, \"Test\", \"targets_precip_masked_bicubic_test.nc\")"
   ]
  },
  {
   "cell_type": "code",
   "execution_count": null,
   "id": "4740b5db",
   "metadata": {},
   "outputs": [],
   "source": [
    "# Precipitation input dataset for bicubic interpolation split into three categories\n",
    "save_splits(tas_target, train_idx, \"Train\", \"targets_tas_masked_bicubic_train.nc\")\n",
    "save_splits(tas_target, val_idx, \"Val\", \"targets_tas_masked_bicubic_val.nc\")\n",
    "save_splits(tas_target, test_idx, \"Test\", \"targets_tas_masked_bicubic_test.nc\")"
   ]
  },
  {
   "cell_type": "markdown",
   "id": "b3ef2b37",
   "metadata": {},
   "source": [
    "                                                  xxxxxxxxxxStandardisation code  xxxxxxxxxxxxxxxxxxxxxxxxxx"
   ]
  },
  {
   "cell_type": "code",
   "execution_count": 5,
   "id": "3a128293",
   "metadata": {},
   "outputs": [],
   "source": [
    "from Standardise import standardise"
   ]
  },
  {
   "cell_type": "code",
   "execution_count": 5,
   "id": "a1f70601",
   "metadata": {},
   "outputs": [
    {
     "name": "stderr",
     "output_type": "stream",
     "text": [
      "/users/sasthana/.local/lib/python3.12/site-packages/numpy/lib/_nanfunctions_impl.py:2053: RuntimeWarning: Degrees of freedom <= 0 for slice.\n",
      "  var = nanvar(a, axis=axis, dtype=dtype, out=out, ddof=ddof,\n"
     ]
    },
    {
     "name": "stdout",
     "output_type": "stream",
     "text": [
      "Normalised/min max scaled variable saved to /work/FAC/FGSE/IDYST/tbeucler/downscaling/sasthana/Downscaling/Downscaling/data/processed/TabsD_scaled_1971_2022.nc\n"
     ]
    }
   ],
   "source": [
    "input_path = '/work/FAC/FGSE/IDYST/tbeucler/downscaling/sasthana/Downscaling/Downscaling/data/raw/TabsD_1971_2022.nc'\n",
    "output_path = '/work/FAC/FGSE/IDYST/tbeucler/downscaling/sasthana/Downscaling/Downscaling/data/processed/TabsD_scaled_1971_2022.nc'\n",
    "var = 'TabsD'\n",
    "\n",
    "standardise(input_path, output_path, var)\n"
   ]
  },
  {
   "cell_type": "code",
   "execution_count": 6,
   "id": "0fcc5d9d",
   "metadata": {},
   "outputs": [
    {
     "name": "stdout",
     "output_type": "stream",
     "text": [
      "Normalised/min max scaled variable saved to /work/FAC/FGSE/IDYST/tbeucler/downscaling/sasthana/Downscaling/Downscaling/data/processed/RhiresD_scaled_1971_2022.nc\n"
     ]
    }
   ],
   "source": [
    "input_path = '/work/FAC/FGSE/IDYST/tbeucler/downscaling/sasthana/Downscaling/Downscaling/data/raw/RhiresD_1971_2022.nc'\n",
    "output_path = '/work/FAC/FGSE/IDYST/tbeucler/downscaling/sasthana/Downscaling/Downscaling/data/processed/RhiresD_scaled_1971_2022.nc'\n",
    "var = 'RhiresD'\n",
    "\n",
    "standardise(input_path, output_path, var)"
   ]
  },
  {
   "cell_type": "code",
   "execution_count": 3,
   "id": "6ef3d9f4",
   "metadata": {},
   "outputs": [],
   "source": [
    "#standardiigng features as well"
   ]
  },
  {
   "cell_type": "code",
   "execution_count": 6,
   "id": "f7d52f5e",
   "metadata": {},
   "outputs": [
    {
     "name": "stderr",
     "output_type": "stream",
     "text": [
      "/users/sasthana/.local/lib/python3.12/site-packages/numpy/lib/_nanfunctions_impl.py:2053: RuntimeWarning: Degrees of freedom <= 0 for slice.\n",
      "  var = nanvar(a, axis=axis, dtype=dtype, out=out, ddof=ddof,\n"
     ]
    },
    {
     "name": "stdout",
     "output_type": "stream",
     "text": [
      "Normalised/min max scaled variable saved to /work/FAC/FGSE/IDYST/tbeucler/downscaling/sasthana/Downscaling/Downscaling/data/processed/tas_daily_cropped_scaled_1971_2022.nc\n"
     ]
    }
   ],
   "source": [
    "input_path = '/work/FAC/FGSE/IDYST/tbeucler/downscaling/sasthana/Downscaling/Downscaling/data/raw/tas_daily_1971_2022_cropped.nc'\n",
    "output_path = '/work/FAC/FGSE/IDYST/tbeucler/downscaling/sasthana/Downscaling/Downscaling/data/processed/tas_daily_cropped_scaled_1971_2022.nc'\n",
    "var = 'tas'\n",
    "\n",
    "standardise(input_path, output_path, var)"
   ]
  },
  {
   "cell_type": "code",
   "execution_count": 7,
   "id": "882543e5",
   "metadata": {},
   "outputs": [
    {
     "name": "stdout",
     "output_type": "stream",
     "text": [
      "Normalised/min max scaled variable saved to /work/FAC/FGSE/IDYST/tbeucler/downscaling/sasthana/Downscaling/Downscaling/data/processed/precip_daily_cropped_scaled_1971_2022.nc\n"
     ]
    }
   ],
   "source": [
    "input_path = '/work/FAC/FGSE/IDYST/tbeucler/downscaling/sasthana/Downscaling/Downscaling/data/raw/precip_daily_1971_2022_cropped.nc'\n",
    "output_path = '/work/FAC/FGSE/IDYST/tbeucler/downscaling/sasthana/Downscaling/Downscaling/data/processed/precip_daily_cropped_scaled_1971_2022.nc'\n",
    "var = 'pr'\n",
    "\n",
    "standardise(input_path, output_path, var)"
   ]
  }
 ],
 "metadata": {
  "kernelspec": {
   "display_name": "Python 3",
   "language": "python",
   "name": "python3"
  },
  "language_info": {
   "codemirror_mode": {
    "name": "ipython",
    "version": 3
   },
   "file_extension": ".py",
   "mimetype": "text/x-python",
   "name": "python",
   "nbconvert_exporter": "python",
   "pygments_lexer": "ipython3",
   "version": "3.12.1"
  }
 },
 "nbformat": 4,
 "nbformat_minor": 5
}
