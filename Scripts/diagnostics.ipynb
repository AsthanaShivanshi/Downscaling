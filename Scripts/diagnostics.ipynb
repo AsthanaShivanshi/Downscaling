{
 "cells": [
  {
   "cell_type": "code",
   "execution_count": null,
   "id": "54cee83b",
   "metadata": {},
   "outputs": [],
   "source": [
    "#Functions\n",
    "#qqplot function\n",
    "#seasons function\n",
    "#KSTest function\n",
    "#Seasonwise Pearson function\n",
    "#Plot function"
   ]
  },
  {
   "cell_type": "code",
   "execution_count": 4,
   "id": "cd7fa8e7",
   "metadata": {},
   "outputs": [],
   "source": [
    "import xarray as xr\n",
    "import numpy as np\n",
    "from scipy.stats import spearmanr\n",
    "import matplotlib.pyplot as plt\n",
    "from scipy.stats import kstest\n",
    "import seaborn as sns\n",
    "import pandas as pd\n",
    "import numpy as np"
   ]
  },
  {
   "cell_type": "code",
   "execution_count": 5,
   "id": "403ff35c",
   "metadata": {},
   "outputs": [],
   "source": [
    "def plot_spearman(file1, var1, file2,var2,title=None, cmap=\"coolwarm\"):\n",
    "    \"\"\"This is a function written to plot spearman correlation between two input files wehre:\n",
    "    file1:input file1 , eg TabsD for average daily temperature data\n",
    "    file2: input file2, eg RhyresD for  daily precipitation sum data\n",
    "    var1: variable extracted from file1\n",
    "    var2: variable extracted from file2\n",
    "    title: title of the plot\n",
    "    cmap: colormap for the plot\n",
    "    \"\"\"\n",
    "    #Loading datasets\n",
    "    ds1= xr.open_dataset(file1)\n",
    "    ds2= xr.open_dataset(file2)\n",
    "\n",
    "    #Variables extraction from two files\n",
    "    var1 = ds1[var1]\n",
    "    var2 = ds2[var2]\n",
    "\n",
    "    #Taking care of grid issues in case var1 and var2 dont lie on the same grid\n",
    "    #Regridding var2 to the grid of var1 (might not be needed)\n",
    "    if var1.shape != var2.shape:\n",
    "        var2=var2.interp(lat=var1.lat, lon =var1.lon, method=\"nearest\")\n",
    "\n",
    "        #Calculating SpearmanR\n",
    "\n",
    "        def spearman (x,y):\n",
    "\n",
    "            \"\"\"This function returns spearman correlation between two variables if they are not NaNs and returns a NaN if either of them is a NaN\"\"\"\n",
    "            mask = ~np.isnan(x) & ~np.isnan(y)\n",
    "            if mask.sum() > 1:\n",
    "                return spearmanr(x[mask], y[mask])[0]\n",
    "            else:\n",
    "                return np.nan\n",
    "            \n",
    "    #Now the spearman function is applied to the two variables\n",
    "        spearman_corr= xr.apply_ufunc(spearman, var1, var2,\n",
    "                                        input_core_dims=[['time'], ['time']],\n",
    "                                        vectorize=True,\n",
    "                                        dask='allowed',\n",
    "                                        output_dtypes=[np.float64])\n",
    "    #Plotting results obtained from the gridwise calculation\n",
    "        plt.figure(figsize=(10, 6))\n",
    "        spearman_corr.plot(cmap=cmap, add_colorbar=True)\n",
    "        plt.title(title if title else f\"Spearman Correlation between {var1.name} and {var2.name}\")\n",
    "        plt.xlabel(\"Longitude\")\n",
    "        plt.ylabel(\"Latitude\")\n",
    "        plt.show()"
   ]
  },
  {
   "cell_type": "code",
   "execution_count": null,
   "id": "2b93fab4",
   "metadata": {},
   "outputs": [],
   "source": []
  }
 ],
 "metadata": {
  "kernelspec": {
   "display_name": "Python 3",
   "language": "python",
   "name": "python3"
  },
  "language_info": {
   "codemirror_mode": {
    "name": "ipython",
    "version": 3
   },
   "file_extension": ".py",
   "mimetype": "text/x-python",
   "name": "python",
   "nbconvert_exporter": "python",
   "pygments_lexer": "ipython3",
   "version": "3.12.9"
  }
 },
 "nbformat": 4,
 "nbformat_minor": 5
}
