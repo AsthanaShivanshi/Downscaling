{
 "cells": [
  {
   "cell_type": "code",
   "execution_count": 15,
   "id": "54cee83b",
   "metadata": {},
   "outputs": [],
   "source": [
    "#Functions\n",
    "#Spearman correlation function\n",
    "#qqplot function\n",
    "#KSTest function"
   ]
  },
  {
   "cell_type": "code",
   "execution_count": 38,
   "id": "cd7fa8e7",
   "metadata": {},
   "outputs": [],
   "source": [
    "import xarray as xr\n",
    "import numpy as np\n",
    "from scipy.stats import spearmanr\n",
    "import matplotlib.pyplot as plt\n",
    "from scipy.stats import kstest\n",
    "import pandas as pd\n",
    "import numpy as np\n",
    "from statsmodels.graphics.gofplots import qqplot_2samples\n",
    "from scipy.stats import linregress\n",
    "from scipy.stats import stats\n",
    "import pyproj"
   ]
  },
  {
   "cell_type": "code",
   "execution_count": null,
   "id": "7fdfadf9",
   "metadata": {},
   "outputs": [],
   "source": []
  },
  {
   "cell_type": "markdown",
   "id": "12b85740",
   "metadata": {},
   "source": [
    "Calculating Spearman Correlation Between two times series (Eg TabsD and RhiresD)"
   ]
  },
  {
   "cell_type": "code",
   "execution_count": 1,
   "id": "df690d11",
   "metadata": {},
   "outputs": [],
   "source": [
    "#Plotting the resulting file \n"
   ]
  },
  {
   "cell_type": "markdown",
   "id": "ec17a212",
   "metadata": {},
   "source": [
    "QQPlot for spatially averaged "
   ]
  },
  {
   "cell_type": "code",
   "execution_count": 12,
   "id": "5d456ce9",
   "metadata": {},
   "outputs": [],
   "source": [
    "from qqplot import qqplot\n"
   ]
  },
  {
   "cell_type": "code",
   "execution_count": null,
   "id": "630c01ac",
   "metadata": {},
   "outputs": [],
   "source": [
    "title= \"QQPlot between Daily Temperature and Precipitation\"\n",
    "qqplot(file1, var1, file2, var2, title=title)"
   ]
  },
  {
   "cell_type": "markdown",
   "id": "1cae5e64",
   "metadata": {},
   "source": [
    "Calculating and displaying the gridded QQ slope (slope of the regression line) for enabling gridded representation of QQPlot metrics"
   ]
  },
  {
   "cell_type": "code",
   "execution_count": 13,
   "id": "04fd67ce",
   "metadata": {},
   "outputs": [],
   "source": [
    "from qqslope import qq_slope"
   ]
  },
  {
   "cell_type": "code",
   "execution_count": null,
   "id": "474e2b10",
   "metadata": {},
   "outputs": [],
   "source": [
    "title = 'Grid-wise QQ Slope between Daily Temperature and Precipitation'\n",
    "cmap = 'coolwarm'\n",
    "quantiles = np.linspace(0.05, 0.95, 19)\n",
    "center_colorbar = True \n",
    "\n",
    "slope_map = qq_slope(file1, var1, file2, var2, title=title, cmap=cmap, quantiles=quantiles, center_colorbar=center_colorbar)"
   ]
  },
  {
   "cell_type": "markdown",
   "id": "1f8ede08",
   "metadata": {},
   "source": [
    "The Kalmogorov Smirnov Test statistic compares two distributions (RhiresD and TabsD for example) to determine how similar or different they are based on the largest distance between the Empirical CDFs (the step function) of the two distributions\n",
    "\n",
    "In this case, the Null hypothesis: two datasets come from the same underlying distributions\n",
    "\n",
    "Alternative Hypothesis : both datasets come from different underlying distributions"
   ]
  },
  {
   "cell_type": "markdown",
   "id": "c079b774",
   "metadata": {},
   "source": [
    "Implementation in Python : with the scipy.stats.ks_2samp() , which calculates KS statistic and also the p value for statistical significance"
   ]
  },
  {
   "cell_type": "markdown",
   "id": "6181886d",
   "metadata": {},
   "source": [
    "#Implementing KS statistic gridwise and also p value calculation"
   ]
  },
  {
   "cell_type": "code",
   "execution_count": 14,
   "id": "f8f71e4c",
   "metadata": {},
   "outputs": [],
   "source": [
    "from Kalmogorov_Smirnov import kalmogorov_smirnov"
   ]
  },
  {
   "cell_type": "code",
   "execution_count": null,
   "id": "97ca46a0",
   "metadata": {},
   "outputs": [],
   "source": [
    "title = 'KS Test between Daily Temperature and Precipitation'  \n",
    "ks_statistic, p_value = kalmogorov_smirnov(file1, var1, file2, var2, title=title)"
   ]
  }
 ],
 "metadata": {
  "kernelspec": {
   "display_name": "Python 3",
   "language": "python",
   "name": "python3"
  },
  "language_info": {
   "codemirror_mode": {
    "name": "ipython",
    "version": 3
   },
   "file_extension": ".py",
   "mimetype": "text/x-python",
   "name": "python",
   "nbconvert_exporter": "python",
   "pygments_lexer": "ipython3",
   "version": "3.12.9"
  }
 },
 "nbformat": 4,
 "nbformat_minor": 5
}
