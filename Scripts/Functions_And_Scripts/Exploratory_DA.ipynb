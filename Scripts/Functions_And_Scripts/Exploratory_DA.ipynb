{
 "cells": [
  {
   "cell_type": "code",
   "execution_count": 1,
   "id": "54cee83b",
   "metadata": {},
   "outputs": [],
   "source": [
    "#Functions\n",
    "#Spearman correlation function\n",
    "#qqplot function\n",
    "#KSTest function"
   ]
  },
  {
   "cell_type": "code",
   "execution_count": 7,
   "id": "cd7fa8e7",
   "metadata": {},
   "outputs": [],
   "source": [
    "import xarray as xr\n",
    "import numpy as np\n",
    "from scipy.stats import spearmanr\n",
    "import matplotlib.pyplot as plt\n",
    "from scipy.stats import kstest\n",
    "import pandas as pd\n",
    "import numpy as np\n",
    "from statsmodels.graphics.gofplots import qqplot_2samples\n",
    "from scipy.stats import linregress\n",
    "from scipy.stats import stats"
   ]
  },
  {
   "cell_type": "markdown",
   "id": "12b85740",
   "metadata": {},
   "source": [
    "Calculating Spearman Correlation Between two times series (Eg TabsD and RhiresD)"
   ]
  },
  {
   "cell_type": "code",
   "execution_count": null,
   "id": "21198419",
   "metadata": {},
   "outputs": [],
   "source": [
    "import "
   ]
  },
  {
   "cell_type": "markdown",
   "id": "1cae5e64",
   "metadata": {},
   "source": [
    "Calculating and displaying the gridded QQ slope (slope of the regression line) for enabling gridded representation of QQPlot metrics"
   ]
  },
  {
   "cell_type": "markdown",
   "id": "1f8ede08",
   "metadata": {},
   "source": [
    "The Kalmogorov Smirnov Test statistic compares two distributions (RhiresD and TabsD for example) to determine how similar or different they are based on the largest distance between the Empirical CDFs (the step function) of the two distributions\n",
    "\n",
    "In this case, the Null hypothesis: two datasets come from the same underlying distributions\n",
    "\n",
    "Alternative Hypothesis : both datasets come from different underlying distributions"
   ]
  },
  {
   "cell_type": "markdown",
   "id": "c079b774",
   "metadata": {},
   "source": [
    "Implementation in Python : with the scipy.stats.ks_2samp() , which calculates KS statistic and also the p value for statistical significance"
   ]
  },
  {
   "cell_type": "markdown",
   "id": "6181886d",
   "metadata": {},
   "source": [
    "#Implementing KS statistic gridwise and also p value calculation"
   ]
  },
  {
   "cell_type": "code",
   "execution_count": null,
   "id": "f8f71e4c",
   "metadata": {},
   "outputs": [],
   "source": []
  }
 ],
 "metadata": {
  "kernelspec": {
   "display_name": "Python 3",
   "language": "python",
   "name": "python3"
  },
  "language_info": {
   "codemirror_mode": {
    "name": "ipython",
    "version": 3
   },
   "file_extension": ".py",
   "mimetype": "text/x-python",
   "name": "python",
   "nbconvert_exporter": "python",
   "pygments_lexer": "ipython3",
   "version": "3.12.9"
  }
 },
 "nbformat": 4,
 "nbformat_minor": 5
}
