{
 "cells": [
  {
   "cell_type": "code",
   "execution_count": 15,
   "id": "54cee83b",
   "metadata": {},
   "outputs": [],
   "source": [
    "#Functions\n",
    "#Spearman correlation function\n",
    "#qqplot function\n",
    "#KSTest function"
   ]
  },
  {
   "cell_type": "code",
   "execution_count": null,
   "id": "cd7fa8e7",
   "metadata": {},
   "outputs": [],
   "source": [
    "import xarray as xr\n",
    "import numpy as np\n",
    "from scipy.stats import spearmanr\n",
    "import matplotlib.pyplot as plt\n",
    "from scipy.stats import kstest\n",
    "import pandas as pd\n",
    "import numpy as np\n",
    "from statsmodels.graphics.gofplots import qqplot_2samples\n",
    "from scipy.stats import linregress\n",
    "from scipy.stats import stats\n",
    "import pyproj"
   ]
  },
  {
   "cell_type": "markdown",
   "id": "12b85740",
   "metadata": {},
   "source": [
    "Calculating Spearman Correlation Between two times series (Eg TabsD and RhiresD)"
   ]
  },
  {
   "cell_type": "code",
   "execution_count": 34,
   "id": "21198419",
   "metadata": {},
   "outputs": [
    {
     "ename": "ImportError",
     "evalue": "cannot import name 'project_curvilinear_to_latlon' from 'plot_spearman' (/work/FAC/FGSE/IDYST/tbeucler/downscaling/sasthana/Downscaling/Downscaling/Scripts/Functions_And_Scripts/plot_spearman.py)",
     "output_type": "error",
     "traceback": [
      "\u001b[31m---------------------------------------------------------------------------\u001b[39m",
      "\u001b[31mImportError\u001b[39m                               Traceback (most recent call last)",
      "\u001b[36mCell\u001b[39m\u001b[36m \u001b[39m\u001b[32mIn[34]\u001b[39m\u001b[32m, line 1\u001b[39m\n\u001b[32m----> \u001b[39m\u001b[32m1\u001b[39m \u001b[38;5;28;01mfrom\u001b[39;00m\u001b[38;5;250m \u001b[39m\u001b[34;01mplot_spearman\u001b[39;00m\u001b[38;5;250m \u001b[39m\u001b[38;5;28;01mimport\u001b[39;00m plot_spearman, project_curvilinear_to_latlon, regrid_to_regular_grid\n",
      "\u001b[31mImportError\u001b[39m: cannot import name 'project_curvilinear_to_latlon' from 'plot_spearman' (/work/FAC/FGSE/IDYST/tbeucler/downscaling/sasthana/Downscaling/Downscaling/Scripts/Functions_And_Scripts/plot_spearman.py)"
     ]
    }
   ],
   "source": [
    "from plot_spearman import plot_spearman, project_curvilinear_to_latlon, regrid_to_regular_grid\n"
   ]
  },
  {
   "cell_type": "code",
   "execution_count": null,
   "id": "735f3732",
   "metadata": {},
   "outputs": [
    {
     "ename": "ValueError",
     "evalue": "Unable to regrid: coordinate names not recognized",
     "output_type": "error",
     "traceback": [
      "\u001b[31m---------------------------------------------------------------------------\u001b[39m",
      "\u001b[31mValueError\u001b[39m                                Traceback (most recent call last)",
      "\u001b[36mCell\u001b[39m\u001b[36m \u001b[39m\u001b[32mIn[30]\u001b[39m\u001b[32m, line 8\u001b[39m\n\u001b[32m      5\u001b[39m var1 = \u001b[33m\"\u001b[39m\u001b[33mTabsD\u001b[39m\u001b[33m\"\u001b[39m\n\u001b[32m      6\u001b[39m var2 = \u001b[33m\"\u001b[39m\u001b[33mRhiresD\u001b[39m\u001b[33m\"\u001b[39m\n\u001b[32m----> \u001b[39m\u001b[32m8\u001b[39m \u001b[43mplot_spearman\u001b[49m\u001b[43m(\u001b[49m\u001b[43mfile1\u001b[49m\u001b[43m,\u001b[49m\u001b[43m \u001b[49m\u001b[43mvar1\u001b[49m\u001b[43m,\u001b[49m\u001b[43m \u001b[49m\u001b[43mfile2\u001b[49m\u001b[43m,\u001b[49m\u001b[43m \u001b[49m\u001b[43mvar2\u001b[49m\u001b[43m,\u001b[49m\u001b[43m \u001b[49m\u001b[43mtitle\u001b[49m\u001b[43m=\u001b[49m\u001b[43mtitle\u001b[49m\u001b[43m,\u001b[49m\u001b[43m \u001b[49m\u001b[43mcmap\u001b[49m\u001b[43m=\u001b[49m\u001b[43mcmap\u001b[49m\u001b[43m)\u001b[49m\n",
      "\u001b[36mFile \u001b[39m\u001b[32m/work/FAC/FGSE/IDYST/tbeucler/downscaling/sasthana/Downscaling/Downscaling/Scripts/Functions_And_Scripts/plot_spearman.py:34\u001b[39m, in \u001b[36mplot_spearman\u001b[39m\u001b[34m(file1, var1, file2, var2, title, cmap)\u001b[39m\n\u001b[32m     32\u001b[39m     var2 = var2.interp(y=var1.y, x=var1.x, method=\u001b[33m\"\u001b[39m\u001b[33mnearest\u001b[39m\u001b[33m\"\u001b[39m)\n\u001b[32m     33\u001b[39m \u001b[38;5;28;01melse\u001b[39;00m:\n\u001b[32m---> \u001b[39m\u001b[32m34\u001b[39m     \u001b[38;5;28;01mraise\u001b[39;00m \u001b[38;5;167;01mValueError\u001b[39;00m(\u001b[33m\"\u001b[39m\u001b[33mUnable to regrid: coordinate names not recognized\u001b[39m\u001b[33m\"\u001b[39m)\n\u001b[32m     36\u001b[39m \u001b[38;5;66;03m#Calculating SpearmanR\u001b[39;00m\n\u001b[32m     38\u001b[39m \u001b[38;5;28;01mdef\u001b[39;00m\u001b[38;5;250m \u001b[39m\u001b[34mspearman\u001b[39m (x,y):\n",
      "\u001b[31mValueError\u001b[39m: Unable to regrid: coordinate names not recognized"
     ]
    }
   ],
   "source": [
    "# Example usage\n",
    "file1 = \"/path/to/TabsD_1961_2023.nc\"\n",
    "file2 = \"/path/to/RhiresD_1961_2023.nc\"\n",
    "var1_name = \"TabsD\"\n",
    "var2_name = \"RhiresD\"\n",
    "title = \"Spearman's Correlation between Daily Temperature and Precipitation\"\n",
    "cmap = \"coolwarm\"\n",
    "\n",
    "plot_spearman(file1, var1_name, file2, var2_name, title=title, cmap=cmap)"
   ]
  },
  {
   "cell_type": "markdown",
   "id": "ec17a212",
   "metadata": {},
   "source": [
    "QQPlot for spatially averaged "
   ]
  },
  {
   "cell_type": "code",
   "execution_count": 12,
   "id": "5d456ce9",
   "metadata": {},
   "outputs": [],
   "source": [
    "from qqplot import qqplot\n"
   ]
  },
  {
   "cell_type": "code",
   "execution_count": null,
   "id": "630c01ac",
   "metadata": {},
   "outputs": [],
   "source": [
    "title= \"QQPlot between Daily Temperature and Precipitation\"\n",
    "qqplot(file1, var1, file2, var2, title=title)"
   ]
  },
  {
   "cell_type": "markdown",
   "id": "1cae5e64",
   "metadata": {},
   "source": [
    "Calculating and displaying the gridded QQ slope (slope of the regression line) for enabling gridded representation of QQPlot metrics"
   ]
  },
  {
   "cell_type": "code",
   "execution_count": 13,
   "id": "04fd67ce",
   "metadata": {},
   "outputs": [],
   "source": [
    "from qqslope import qq_slope"
   ]
  },
  {
   "cell_type": "code",
   "execution_count": null,
   "id": "474e2b10",
   "metadata": {},
   "outputs": [],
   "source": [
    "title = 'Grid-wise QQ Slope between Daily Temperature and Precipitation'\n",
    "cmap = 'coolwarm'\n",
    "quantiles = np.linspace(0.05, 0.95, 19)\n",
    "center_colorbar = True \n",
    "\n",
    "slope_map = qq_slope(file1, var1, file2, var2, title=title, cmap=cmap, quantiles=quantiles, center_colorbar=center_colorbar)"
   ]
  },
  {
   "cell_type": "markdown",
   "id": "1f8ede08",
   "metadata": {},
   "source": [
    "The Kalmogorov Smirnov Test statistic compares two distributions (RhiresD and TabsD for example) to determine how similar or different they are based on the largest distance between the Empirical CDFs (the step function) of the two distributions\n",
    "\n",
    "In this case, the Null hypothesis: two datasets come from the same underlying distributions\n",
    "\n",
    "Alternative Hypothesis : both datasets come from different underlying distributions"
   ]
  },
  {
   "cell_type": "markdown",
   "id": "c079b774",
   "metadata": {},
   "source": [
    "Implementation in Python : with the scipy.stats.ks_2samp() , which calculates KS statistic and also the p value for statistical significance"
   ]
  },
  {
   "cell_type": "markdown",
   "id": "6181886d",
   "metadata": {},
   "source": [
    "#Implementing KS statistic gridwise and also p value calculation"
   ]
  },
  {
   "cell_type": "code",
   "execution_count": 14,
   "id": "f8f71e4c",
   "metadata": {},
   "outputs": [],
   "source": [
    "from Kalmogorov_Smirnov import kalmogorov_smirnov"
   ]
  },
  {
   "cell_type": "code",
   "execution_count": null,
   "id": "97ca46a0",
   "metadata": {},
   "outputs": [],
   "source": [
    "title = 'KS Test between Daily Temperature and Precipitation'  \n",
    "ks_statistic, p_value = kalmogorov_smirnov(file1, var1, file2, var2, title=title)"
   ]
  }
 ],
 "metadata": {
  "kernelspec": {
   "display_name": "Python 3",
   "language": "python",
   "name": "python3"
  },
  "language_info": {
   "codemirror_mode": {
    "name": "ipython",
    "version": 3
   },
   "file_extension": ".py",
   "mimetype": "text/x-python",
   "name": "python",
   "nbconvert_exporter": "python",
   "pygments_lexer": "ipython3",
   "version": "3.12.9"
  }
 },
 "nbformat": 4,
 "nbformat_minor": 5
}
