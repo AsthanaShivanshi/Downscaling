{
 "cells": [
  {
   "cell_type": "code",
   "execution_count": null,
   "metadata": {},
   "outputs": [
    {
     "ename": "Exception",
     "evalue": "Missing/incomplete configuration file: /users/sasthana/.cdsapirc",
     "output_type": "error",
     "traceback": [
      "\u001b[31m---------------------------------------------------------------------------\u001b[39m",
      "\u001b[31mException\u001b[39m                                 Traceback (most recent call last)",
      "\u001b[36mCell\u001b[39m\u001b[36m \u001b[39m\u001b[32mIn[17]\u001b[39m\u001b[32m, line 15\u001b[39m\n\u001b[32m      6\u001b[39m dataset = \u001b[33m\"\u001b[39m\u001b[33mprojections-cordex-domains-single-levels\u001b[39m\u001b[33m\"\u001b[39m\n\u001b[32m      7\u001b[39m request = {\n\u001b[32m      8\u001b[39m     \u001b[33m\"\u001b[39m\u001b[33mdomain\u001b[39m\u001b[33m\"\u001b[39m: \u001b[33m\"\u001b[39m\u001b[33meurope\u001b[39m\u001b[33m\"\u001b[39m,\n\u001b[32m      9\u001b[39m     \u001b[33m\"\u001b[39m\u001b[33mexperiment\u001b[39m\u001b[33m\"\u001b[39m: \u001b[33m\"\u001b[39m\u001b[33mhistorical\u001b[39m\u001b[33m\"\u001b[39m,\n\u001b[32m   (...)\u001b[39m\u001b[32m     12\u001b[39m     \u001b[33m\"\u001b[39m\u001b[33mend_year\u001b[39m\u001b[33m\"\u001b[39m: [\u001b[33m\"\u001b[39m\u001b[33m1995\u001b[39m\u001b[33m\"\u001b[39m]\n\u001b[32m     13\u001b[39m }\n\u001b[32m---> \u001b[39m\u001b[32m15\u001b[39m client = \u001b[43mcdsapi\u001b[49m\u001b[43m.\u001b[49m\u001b[43mClient\u001b[49m\u001b[43m(\u001b[49m\u001b[43m)\u001b[49m\n\u001b[32m     17\u001b[39m file_path = \u001b[33m\"\u001b[39m\u001b[33m/work/FAC/FGSE/IDYST/tbeucler/downscaling/sasthana/Downscaling/Downscaling/data/RCM_historical\u001b[39m\u001b[33m\"\u001b[39m\n\u001b[32m     18\u001b[39m client.retrieve(dataset, request, target=\u001b[33mf\u001b[39m\u001b[33m\"\u001b[39m\u001b[38;5;132;01m{\u001b[39;00mfile_path\u001b[38;5;132;01m}\u001b[39;00m\u001b[33m/RCM_Batch_1.nc\u001b[39m\u001b[33m\"\u001b[39m)\n",
      "\u001b[36mFile \u001b[39m\u001b[32m~/.local/lib/python3.12/site-packages/cdsapi/api.py:281\u001b[39m, in \u001b[36mClient.__new__\u001b[39m\u001b[34m(cls, url, key, *args, **kwargs)\u001b[39m\n\u001b[32m    280\u001b[39m \u001b[38;5;28;01mdef\u001b[39;00m\u001b[38;5;250m \u001b[39m\u001b[34m__new__\u001b[39m(\u001b[38;5;28mcls\u001b[39m, url=\u001b[38;5;28;01mNone\u001b[39;00m, key=\u001b[38;5;28;01mNone\u001b[39;00m, *args, **kwargs):\n\u001b[32m--> \u001b[39m\u001b[32m281\u001b[39m     _, token, _ = \u001b[43mget_url_key_verify\u001b[49m\u001b[43m(\u001b[49m\u001b[43murl\u001b[49m\u001b[43m,\u001b[49m\u001b[43m \u001b[49m\u001b[43mkey\u001b[49m\u001b[43m,\u001b[49m\u001b[43m \u001b[49m\u001b[38;5;28;43;01mNone\u001b[39;49;00m\u001b[43m)\u001b[49m\n\u001b[32m    282\u001b[39m     \u001b[38;5;28;01mif\u001b[39;00m \u001b[33m\"\u001b[39m\u001b[33m:\u001b[39m\u001b[33m\"\u001b[39m \u001b[38;5;129;01min\u001b[39;00m token:\n\u001b[32m    283\u001b[39m         \u001b[38;5;28;01mreturn\u001b[39;00m \u001b[38;5;28msuper\u001b[39m().\u001b[34m__new__\u001b[39m(\u001b[38;5;28mcls\u001b[39m)\n",
      "\u001b[36mFile \u001b[39m\u001b[32m~/.local/lib/python3.12/site-packages/cdsapi/api.py:69\u001b[39m, in \u001b[36mget_url_key_verify\u001b[39m\u001b[34m(url, key, verify)\u001b[39m\n\u001b[32m     66\u001b[39m             verify = \u001b[38;5;28mbool\u001b[39m(\u001b[38;5;28mint\u001b[39m(config.get(\u001b[33m\"\u001b[39m\u001b[33mverify\u001b[39m\u001b[33m\"\u001b[39m, \u001b[32m1\u001b[39m)))\n\u001b[32m     68\u001b[39m \u001b[38;5;28;01mif\u001b[39;00m url \u001b[38;5;129;01mis\u001b[39;00m \u001b[38;5;28;01mNone\u001b[39;00m \u001b[38;5;129;01mor\u001b[39;00m key \u001b[38;5;129;01mis\u001b[39;00m \u001b[38;5;28;01mNone\u001b[39;00m \u001b[38;5;129;01mor\u001b[39;00m key \u001b[38;5;129;01mis\u001b[39;00m \u001b[38;5;28;01mNone\u001b[39;00m:\n\u001b[32m---> \u001b[39m\u001b[32m69\u001b[39m     \u001b[38;5;28;01mraise\u001b[39;00m \u001b[38;5;167;01mException\u001b[39;00m(\u001b[33m\"\u001b[39m\u001b[33mMissing/incomplete configuration file: \u001b[39m\u001b[38;5;132;01m%s\u001b[39;00m\u001b[33m\"\u001b[39m % (dotrc))\n\u001b[32m     71\u001b[39m \u001b[38;5;66;03m# If verify is still None, then we set to default value of True\u001b[39;00m\n\u001b[32m     72\u001b[39m \u001b[38;5;28;01mif\u001b[39;00m verify \u001b[38;5;129;01mis\u001b[39;00m \u001b[38;5;28;01mNone\u001b[39;00m:\n",
      "\u001b[31mException\u001b[39m: Missing/incomplete configuration file: /users/sasthana/.cdsapirc"
     ]
    }
   ],
   "source": [
    "import cdsapi\n",
    "\n",
    "# Define the dataset and request parameters\n",
    "dataset = \"projections-cordex-domains-single-levels\"\n",
    "request = {\n",
    "    \"domain\": \"europe\",\n",
    "    \"experiment\": \"historical\",\n",
    "    \"horizontal_resolution\": \"0_11_degree_x_0_11_degree\",  # Horizontal resolution\n",
    "    \"temporal_resolution\": \"daily_mean\",  # Temporal resolution (daily mean)\n",
    "    \"variable\": [\n",
    "        \"2m_air_temperature\",  # 2m air temperature\n",
    "        \"mean_precipitation_flux\",  # Mean precipitation flux\n",
    "    ],\n",
    "    \"gcm_model\": \"mpi_m_mpi_esm_lr\",  # GCM model\n",
    "    \"rcm_model\": \"clmcom_eth_cosmo_crclim\",  # RCM model\n",
    "    \"ensemble_member\": \"r1i1p1\",  # Ensemble member\n",
    "    \"start_year\": [\"1991\"],  # Start year\n",
    "    \"end_year\": [\"1995\"],  # End year\n",
    "}\n",
    "\n",
    "# Initialize the CDS API client\n",
    "client = cdsapi.Client()\n",
    "\n",
    "# Specify the path and filename where you want to save the downloaded data\n",
    "file_path = \"/work/FAC/FGSE/IDYST/tbeucler/downscaling/sasthana/Downscaling/Downscaling/data/RCM_historical\"\n",
    "file_name = f\"{file_path}/RCM_historical_data_1991-1995.nc\"  # Define your output file name\n",
    "\n",
    "# Retrieve the data and save it to the specified file\n",
    "client.retrieve(dataset, request, target=file_name)\n",
    "\n",
    "print(\"Download completed! Data saved to:\", file_name)\n"
   ]
  },
  {
   "cell_type": "code",
   "execution_count": null,
   "metadata": {},
   "outputs": [],
   "source": []
  }
 ],
 "metadata": {
  "kernelspec": {
   "display_name": "Python 3",
   "language": "python",
   "name": "python3"
  },
  "language_info": {
   "codemirror_mode": {
    "name": "ipython",
    "version": 3
   },
   "file_extension": ".py",
   "mimetype": "text/x-python",
   "name": "python",
   "nbconvert_exporter": "python",
   "pygments_lexer": "ipython3",
   "version": "3.12.1"
  }
 },
 "nbformat": 4,
 "nbformat_minor": 2
}
