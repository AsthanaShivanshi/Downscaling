import cdsapi

dataset = "projections-cordex-domains-single-levels"
request = {
    "domain": "europe",
    "experiment": "historical",
    "horizontal_resolution": "0_11_degree_x_0_11_degree",
    "temporal_resolution": "daily_mean",
    "variable": [
        "2m_air_temperature",
        "mean_precipitation_flux"
    ],
    "gcm_model": "mpi_m_mpi_esm_lr",
    "rcm_model": "clmcom_eth_cosmo_crclim",
    "ensemble_member": "r1i1p1",
    "start_year": ["1991"],
    "end_year": ["1995"]
}

client = cdsapi.Client()
client.retrieve(dataset, request).download()
